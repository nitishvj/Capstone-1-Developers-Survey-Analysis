{
 "cells": [
  {
   "cell_type": "markdown",
   "metadata": {},
   "source": [
    "<font size=\"5\"> Capstone Project: 2018 Stackoverflow Developer Survey analysis<br> "
   ]
  },
  {
   "cell_type": "markdown",
   "metadata": {},
   "source": [
    "<font size=\"4\">Table of Contents <br> \n",
    " <font size=\"2.5\">\n",
    "[1 DataWrangling](#DataWrangling)<br> \n",
    "[2 Data Preprocessing](#DataPreprocessing) <br> \n",
    "[3 Data Exploration/ Statistical Analysis](#DataExploration) <br> \n",
    "[3.1 Correlation between variables](#Correlation) <br>\n",
    "[3.2 T-test between populations](#T-test) <br>\n",
    "[3.3 Data by Country/Continent](#DatabyCountry/Continent) <br>\n",
    "[4 Data Visualization](#DataViz) <br> \n",
    "[4.1 Variables affecting Career Satisfaction](#Carsatvsother) <br> \n",
    "[5 Machine Learning (In progress)](#MachineLearning)\n"
   ]
  },
  {
   "cell_type": "code",
   "execution_count": 1,
   "metadata": {
    "scrolled": true
   },
   "outputs": [
    {
     "data": {
      "application/javascript": [
       "IPython.notebook.set_autosave_interval(30000)"
      ]
     },
     "metadata": {},
     "output_type": "display_data"
    },
    {
     "name": "stdout",
     "output_type": "stream",
     "text": [
      "Autosaving every 30 seconds\n"
     ]
    }
   ],
   "source": [
    "#https://www.kaggle.com/stackoverflow/stack-overflow-2018-developer-survey\n",
    "%matplotlib inline\n",
    "%autosave 30\n",
    "import pandas as pd;import numpy as np;import seaborn as sns;import researchpy as rp;from scipy import stats;import matplotlib.pyplot as plt\n",
    "from sklearn import preprocessing;from sklearn.preprocessing import MultiLabelBinarizer;from sklearn.preprocessing import MinMaxScaler;from sklearn.linear_model import SGDClassifier\n",
    "from sklearn.model_selection import train_test_split;from sklearn.linear_model import LinearRegression;from sklearn.model_selection import cross_val_score\n",
    "from sklearn.model_selection import ParameterGrid;from sklearn.metrics import roc_auc_score;import parfit.parfit as pf;from sklearn import metrics\n",
    "from itertools import cycle;from sklearn.linear_model import ElasticNet;from sklearn.model_selection import GridSearchCV;from sklearn.metrics import confusion_matrix;\n",
    "from sklearn.metrics import mean_squared_error;from sklearn.neighbors import KNeighborsClassifier;from sklearn.metrics import r2_score\n",
    "from sklearn import linear_model;from sklearn.linear_model import Lasso;from sklearn.linear_model import LogisticRegression;\n",
    "from sklearn import svm;from sklearn.svm import LinearSVR;from sklearn.datasets import make_regression;from sklearn.ensemble import RandomForestRegressor\n",
    "from sklearn.ensemble import RandomForestClassifier;from sklearn.naive_bayes import MultinomialNB;from sklearn.preprocessing import LabelEncoder;\n",
    "from sklearn.preprocessing import OneHotEncoder;import sklearn.feature_selection ;import warnings;from pandas.core.common import SettingWithCopyWarning\n",
    "from sklearn.ensemble import GradientBoostingRegressor; from statsmodels.stats.proportion import proportions_ztest;#from xgboost import XGBClassifier\n",
    "from patsy import dmatrices;import statsmodels.api as sm;from statsmodels.stats.outliers_influence import variance_inflation_factor;\n",
    "warnings.simplefilter(action=\"ignore\")"
   ]
  },
  {
   "cell_type": "code",
   "execution_count": 2,
   "metadata": {},
   "outputs": [],
   "source": [
    "############################## FUNCTIONS TO NUMERICIZE VARIABLES #################################\n",
    "def seriesify(df,strd,numd,colname):\n",
    "    ziptemp = zip(strd,numd)\n",
    "    dictemp = dict(ziptemp)\n",
    "    return df[colname].replace(dictemp)\n",
    "def dummify(df,colname,ser):\n",
    "    ser = ser.rename(colname+'_n')\n",
    "    df = pd.concat([df,ser],axis=1)\n",
    "    df = df.drop(colname,axis=1)\n",
    "    return df\n",
    "def satisfaction_perc(df_c):\n",
    "    df_c['Total'] = df_c[['Extremely satisfied','Moderately satisfied','Slightly satisfied','Neither satisfied nor dissatisfied','Slightly dissatisfied', 'Moderately dissatisfied','Extremely dissatisfied']].sum(axis=1)\n",
    "    df_c['Satisfied']=df_c[['Extremely satisfied','Moderately satisfied','Slightly satisfied']].sum(axis=1)\n",
    "    df_c['% Satisfied'] =  df_c['Satisfied']*100/df_c['Total']  \n",
    "    df_c['% Extremely Satisfied'] =  df_c['Extremely satisfied']*100/df_c['Total']  \n",
    "    df_c['% Moderately Satisfied'] =  df_c['Moderately satisfied']*100/df_c['Total'] \n",
    "    df_c['% Slightly Satisfied'] =  df_c['Slightly satisfied']*100/df_c['Total'] \n",
    "    df_c['% Dissatisfied'] = 100-df_c['% Satisfied']-(df_c['Neither satisfied nor dissatisfied']*100/df_c['Total'])\n",
    "    return df_c"
   ]
  },
  {
   "cell_type": "markdown",
   "metadata": {},
   "source": [
    "<a id='DataWrangling'></a> <font size=\"5\"><b>Data Wrangling</b>"
   ]
  },
  {
   "cell_type": "code",
   "execution_count": 3,
   "metadata": {
    "scrolled": false
   },
   "outputs": [
    {
     "name": "stdout",
     "output_type": "stream",
     "text": [
      "Wall time: 38.3 s\n"
     ]
    }
   ],
   "source": [
    "%%time\n",
    "survey_questions = pd.read_csv('survey_results_schema.csv')\n",
    "data = pd.read_excel('survey_results_public_filtered.xlsx')"
   ]
  },
  {
   "cell_type": "code",
   "execution_count": 160,
   "metadata": {
    "scrolled": true
   },
   "outputs": [
    {
     "name": "stdout",
     "output_type": "stream",
     "text": [
      "Total responses: 98855\n",
      "Total features/questions: 40\n"
     ]
    }
   ],
   "source": [
    "print('Total responses: ' + str(data.shape[0]));print('Total features/questions: ' + str(data.shape[1]))"
   ]
  },
  {
   "cell_type": "code",
   "execution_count": 161,
   "metadata": {
    "scrolled": false
   },
   "outputs": [
    {
     "data": {
      "text/html": [
       "<style  type=\"text/css\" >\n",
       "</style><table id=\"T_2ed6021c_9963_11ea_b34a_001a7dda7113\" ><caption>Features and number of null values for each feature</caption><thead>    <tr>        <th class=\"blank level0\" ></th>        <th class=\"col_heading level0 col0\" >0</th>    </tr></thead><tbody>\n",
       "                <tr>\n",
       "                        <th id=\"T_2ed6021c_9963_11ea_b34a_001a7dda7113level0_row0\" class=\"row_heading level0 row0\" >ConvertedSalary</th>\n",
       "                        <td id=\"T_2ed6021c_9963_11ea_b34a_001a7dda7113row0_col0\" class=\"data row0 col0\" >51153</td>\n",
       "            </tr>\n",
       "            <tr>\n",
       "                        <th id=\"T_2ed6021c_9963_11ea_b34a_001a7dda7113level0_row1\" class=\"row_heading level0 row1\" >FrameworkWorkedWith</th>\n",
       "                        <td id=\"T_2ed6021c_9963_11ea_b34a_001a7dda7113row1_col0\" class=\"data row1 col0\" >47235</td>\n",
       "            </tr>\n",
       "            <tr>\n",
       "                        <th id=\"T_2ed6021c_9963_11ea_b34a_001a7dda7113level0_row2\" class=\"row_heading level0 row2\" >TimeFullyProductive</th>\n",
       "                        <td id=\"T_2ed6021c_9963_11ea_b34a_001a7dda7113row2_col0\" class=\"data row2 col0\" >46983</td>\n",
       "            </tr>\n",
       "            <tr>\n",
       "                        <th id=\"T_2ed6021c_9963_11ea_b34a_001a7dda7113level0_row3\" class=\"row_heading level0 row3\" >CommunicationTools</th>\n",
       "                        <td id=\"T_2ed6021c_9963_11ea_b34a_001a7dda7113row3_col0\" class=\"data row3 col0\" >41885</td>\n",
       "            </tr>\n",
       "            <tr>\n",
       "                        <th id=\"T_2ed6021c_9963_11ea_b34a_001a7dda7113level0_row4\" class=\"row_heading level0 row4\" >SelfTaughtTypes</th>\n",
       "                        <td id=\"T_2ed6021c_9963_11ea_b34a_001a7dda7113row4_col0\" class=\"data row4 col0\" >41501</td>\n",
       "            </tr>\n",
       "            <tr>\n",
       "                        <th id=\"T_2ed6021c_9963_11ea_b34a_001a7dda7113level0_row5\" class=\"row_heading level0 row5\" >Gender</th>\n",
       "                        <td id=\"T_2ed6021c_9963_11ea_b34a_001a7dda7113row5_col0\" class=\"data row5 col0\" >34386</td>\n",
       "            </tr>\n",
       "            <tr>\n",
       "                        <th id=\"T_2ed6021c_9963_11ea_b34a_001a7dda7113level0_row6\" class=\"row_heading level0 row6\" >Age</th>\n",
       "                        <td id=\"T_2ed6021c_9963_11ea_b34a_001a7dda7113row6_col0\" class=\"data row6 col0\" >34281</td>\n",
       "            </tr>\n",
       "            <tr>\n",
       "                        <th id=\"T_2ed6021c_9963_11ea_b34a_001a7dda7113level0_row7\" class=\"row_heading level0 row7\" >UpdateCV</th>\n",
       "                        <td id=\"T_2ed6021c_9963_11ea_b34a_001a7dda7113row7_col0\" class=\"data row7 col0\" >33316</td>\n",
       "            </tr>\n",
       "            <tr>\n",
       "                        <th id=\"T_2ed6021c_9963_11ea_b34a_001a7dda7113level0_row8\" class=\"row_heading level0 row8\" >PlatformWorkedWith</th>\n",
       "                        <td id=\"T_2ed6021c_9963_11ea_b34a_001a7dda7113row8_col0\" class=\"data row8 col0\" >32856</td>\n",
       "            </tr>\n",
       "            <tr>\n",
       "                        <th id=\"T_2ed6021c_9963_11ea_b34a_001a7dda7113level0_row9\" class=\"row_heading level0 row9\" >DatabaseWorkedWith</th>\n",
       "                        <td id=\"T_2ed6021c_9963_11ea_b34a_001a7dda7113row9_col0\" class=\"data row9 col0\" >32585</td>\n",
       "            </tr>\n",
       "            <tr>\n",
       "                        <th id=\"T_2ed6021c_9963_11ea_b34a_001a7dda7113level0_row10\" class=\"row_heading level0 row10\" >EducationTypes</th>\n",
       "                        <td id=\"T_2ed6021c_9963_11ea_b34a_001a7dda7113row10_col0\" class=\"data row10 col0\" >30895</td>\n",
       "            </tr>\n",
       "            <tr>\n",
       "                        <th id=\"T_2ed6021c_9963_11ea_b34a_001a7dda7113level0_row11\" class=\"row_heading level0 row11\" >JobSatisfaction</th>\n",
       "                        <td id=\"T_2ed6021c_9963_11ea_b34a_001a7dda7113row11_col0\" class=\"data row11 col0\" >29579</td>\n",
       "            </tr>\n",
       "            <tr>\n",
       "                        <th id=\"T_2ed6021c_9963_11ea_b34a_001a7dda7113level0_row12\" class=\"row_heading level0 row12\" >EthicalImplications</th>\n",
       "                        <td id=\"T_2ed6021c_9963_11ea_b34a_001a7dda7113row12_col0\" class=\"data row12 col0\" >29546</td>\n",
       "            </tr>\n",
       "            <tr>\n",
       "                        <th id=\"T_2ed6021c_9963_11ea_b34a_001a7dda7113level0_row13\" class=\"row_heading level0 row13\" >AIFuture</th>\n",
       "                        <td id=\"T_2ed6021c_9963_11ea_b34a_001a7dda7113row13_col0\" class=\"data row13 col0\" >29127</td>\n",
       "            </tr>\n",
       "            <tr>\n",
       "                        <th id=\"T_2ed6021c_9963_11ea_b34a_001a7dda7113level0_row14\" class=\"row_heading level0 row14\" >EthicsReport</th>\n",
       "                        <td id=\"T_2ed6021c_9963_11ea_b34a_001a7dda7113row14_col0\" class=\"data row14 col0\" >28429</td>\n",
       "            </tr>\n",
       "            <tr>\n",
       "                        <th id=\"T_2ed6021c_9963_11ea_b34a_001a7dda7113level0_row15\" class=\"row_heading level0 row15\" >EthicsChoice</th>\n",
       "                        <td id=\"T_2ed6021c_9963_11ea_b34a_001a7dda7113row15_col0\" class=\"data row15 col0\" >28073</td>\n",
       "            </tr>\n",
       "            <tr>\n",
       "                        <th id=\"T_2ed6021c_9963_11ea_b34a_001a7dda7113level0_row16\" class=\"row_heading level0 row16\" >CompanySize</th>\n",
       "                        <td id=\"T_2ed6021c_9963_11ea_b34a_001a7dda7113row16_col0\" class=\"data row16 col0\" >27324</td>\n",
       "            </tr>\n",
       "            <tr>\n",
       "                        <th id=\"T_2ed6021c_9963_11ea_b34a_001a7dda7113level0_row17\" class=\"row_heading level0 row17\" >SkipMeals</th>\n",
       "                        <td id=\"T_2ed6021c_9963_11ea_b34a_001a7dda7113row17_col0\" class=\"data row17 col0\" >26909</td>\n",
       "            </tr>\n",
       "            <tr>\n",
       "                        <th id=\"T_2ed6021c_9963_11ea_b34a_001a7dda7113level0_row18\" class=\"row_heading level0 row18\" >HoursOutside</th>\n",
       "                        <td id=\"T_2ed6021c_9963_11ea_b34a_001a7dda7113row18_col0\" class=\"data row18 col0\" >26831</td>\n",
       "            </tr>\n",
       "            <tr>\n",
       "                        <th id=\"T_2ed6021c_9963_11ea_b34a_001a7dda7113level0_row19\" class=\"row_heading level0 row19\" >Exercise</th>\n",
       "                        <td id=\"T_2ed6021c_9963_11ea_b34a_001a7dda7113row19_col0\" class=\"data row19 col0\" >26747</td>\n",
       "            </tr>\n",
       "            <tr>\n",
       "                        <th id=\"T_2ed6021c_9963_11ea_b34a_001a7dda7113level0_row20\" class=\"row_heading level0 row20\" >HoursComputer</th>\n",
       "                        <td id=\"T_2ed6021c_9963_11ea_b34a_001a7dda7113row20_col0\" class=\"data row20 col0\" >26722</td>\n",
       "            </tr>\n",
       "            <tr>\n",
       "                        <th id=\"T_2ed6021c_9963_11ea_b34a_001a7dda7113level0_row21\" class=\"row_heading level0 row21\" >WakeTime</th>\n",
       "                        <td id=\"T_2ed6021c_9963_11ea_b34a_001a7dda7113row21_col0\" class=\"data row21 col0\" >26709</td>\n",
       "            </tr>\n",
       "            <tr>\n",
       "                        <th id=\"T_2ed6021c_9963_11ea_b34a_001a7dda7113level0_row22\" class=\"row_heading level0 row22\" >LanguageDesireNextYear</th>\n",
       "                        <td id=\"T_2ed6021c_9963_11ea_b34a_001a7dda7113row22_col0\" class=\"data row22 col0\" >25611</td>\n",
       "            </tr>\n",
       "            <tr>\n",
       "                        <th id=\"T_2ed6021c_9963_11ea_b34a_001a7dda7113level0_row23\" class=\"row_heading level0 row23\" >IDE</th>\n",
       "                        <td id=\"T_2ed6021c_9963_11ea_b34a_001a7dda7113row23_col0\" class=\"data row23 col0\" >23457</td>\n",
       "            </tr>\n",
       "            <tr>\n",
       "                        <th id=\"T_2ed6021c_9963_11ea_b34a_001a7dda7113level0_row24\" class=\"row_heading level0 row24\" >HopeFiveYears</th>\n",
       "                        <td id=\"T_2ed6021c_9963_11ea_b34a_001a7dda7113row24_col0\" class=\"data row24 col0\" >23137</td>\n",
       "            </tr>\n",
       "            <tr>\n",
       "                        <th id=\"T_2ed6021c_9963_11ea_b34a_001a7dda7113level0_row25\" class=\"row_heading level0 row25\" >OperatingSystem</th>\n",
       "                        <td id=\"T_2ed6021c_9963_11ea_b34a_001a7dda7113row25_col0\" class=\"data row25 col0\" >22676</td>\n",
       "            </tr>\n",
       "            <tr>\n",
       "                        <th id=\"T_2ed6021c_9963_11ea_b34a_001a7dda7113level0_row26\" class=\"row_heading level0 row26\" >CareerSatisfaction</th>\n",
       "                        <td id=\"T_2ed6021c_9963_11ea_b34a_001a7dda7113row26_col0\" class=\"data row26 col0\" >22351</td>\n",
       "            </tr>\n",
       "            <tr>\n",
       "                        <th id=\"T_2ed6021c_9963_11ea_b34a_001a7dda7113level0_row27\" class=\"row_heading level0 row27\" >YearsCodingProf</th>\n",
       "                        <td id=\"T_2ed6021c_9963_11ea_b34a_001a7dda7113row27_col0\" class=\"data row27 col0\" >20952</td>\n",
       "            </tr>\n",
       "            <tr>\n",
       "                        <th id=\"T_2ed6021c_9963_11ea_b34a_001a7dda7113level0_row28\" class=\"row_heading level0 row28\" >LanguageWorkedWith</th>\n",
       "                        <td id=\"T_2ed6021c_9963_11ea_b34a_001a7dda7113row28_col0\" class=\"data row28 col0\" >20521</td>\n",
       "            </tr>\n",
       "            <tr>\n",
       "                        <th id=\"T_2ed6021c_9963_11ea_b34a_001a7dda7113level0_row29\" class=\"row_heading level0 row29\" >LastNewJob</th>\n",
       "                        <td id=\"T_2ed6021c_9963_11ea_b34a_001a7dda7113row29_col0\" class=\"data row29 col0\" >19966</td>\n",
       "            </tr>\n",
       "            <tr>\n",
       "                        <th id=\"T_2ed6021c_9963_11ea_b34a_001a7dda7113level0_row30\" class=\"row_heading level0 row30\" >UndergradMajor</th>\n",
       "                        <td id=\"T_2ed6021c_9963_11ea_b34a_001a7dda7113row30_col0\" class=\"data row30 col0\" >19819</td>\n",
       "            </tr>\n",
       "            <tr>\n",
       "                        <th id=\"T_2ed6021c_9963_11ea_b34a_001a7dda7113level0_row31\" class=\"row_heading level0 row31\" >JobSearchStatus</th>\n",
       "                        <td id=\"T_2ed6021c_9963_11ea_b34a_001a7dda7113row31_col0\" class=\"data row31 col0\" >19367</td>\n",
       "            </tr>\n",
       "            <tr>\n",
       "                        <th id=\"T_2ed6021c_9963_11ea_b34a_001a7dda7113level0_row32\" class=\"row_heading level0 row32\" >DevType</th>\n",
       "                        <td id=\"T_2ed6021c_9963_11ea_b34a_001a7dda7113row32_col0\" class=\"data row32 col0\" >6757</td>\n",
       "            </tr>\n",
       "            <tr>\n",
       "                        <th id=\"T_2ed6021c_9963_11ea_b34a_001a7dda7113level0_row33\" class=\"row_heading level0 row33\" >YearsCoding</th>\n",
       "                        <td id=\"T_2ed6021c_9963_11ea_b34a_001a7dda7113row33_col0\" class=\"data row33 col0\" >5020</td>\n",
       "            </tr>\n",
       "            <tr>\n",
       "                        <th id=\"T_2ed6021c_9963_11ea_b34a_001a7dda7113level0_row34\" class=\"row_heading level0 row34\" >FormalEducation</th>\n",
       "                        <td id=\"T_2ed6021c_9963_11ea_b34a_001a7dda7113row34_col0\" class=\"data row34 col0\" >4152</td>\n",
       "            </tr>\n",
       "            <tr>\n",
       "                        <th id=\"T_2ed6021c_9963_11ea_b34a_001a7dda7113level0_row35\" class=\"row_heading level0 row35\" >Student</th>\n",
       "                        <td id=\"T_2ed6021c_9963_11ea_b34a_001a7dda7113row35_col0\" class=\"data row35 col0\" >3954</td>\n",
       "            </tr>\n",
       "            <tr>\n",
       "                        <th id=\"T_2ed6021c_9963_11ea_b34a_001a7dda7113level0_row36\" class=\"row_heading level0 row36\" >Employment</th>\n",
       "                        <td id=\"T_2ed6021c_9963_11ea_b34a_001a7dda7113row36_col0\" class=\"data row36 col0\" >3534</td>\n",
       "            </tr>\n",
       "            <tr>\n",
       "                        <th id=\"T_2ed6021c_9963_11ea_b34a_001a7dda7113level0_row37\" class=\"row_heading level0 row37\" >Country</th>\n",
       "                        <td id=\"T_2ed6021c_9963_11ea_b34a_001a7dda7113row37_col0\" class=\"data row37 col0\" >412</td>\n",
       "            </tr>\n",
       "            <tr>\n",
       "                        <th id=\"T_2ed6021c_9963_11ea_b34a_001a7dda7113level0_row38\" class=\"row_heading level0 row38\" >OpenSource</th>\n",
       "                        <td id=\"T_2ed6021c_9963_11ea_b34a_001a7dda7113row38_col0\" class=\"data row38 col0\" >0</td>\n",
       "            </tr>\n",
       "            <tr>\n",
       "                        <th id=\"T_2ed6021c_9963_11ea_b34a_001a7dda7113level0_row39\" class=\"row_heading level0 row39\" >Hobby</th>\n",
       "                        <td id=\"T_2ed6021c_9963_11ea_b34a_001a7dda7113row39_col0\" class=\"data row39 col0\" >0</td>\n",
       "            </tr>\n",
       "    </tbody></table>"
      ],
      "text/plain": [
       "<pandas.io.formats.style.Styler at 0x19e92442748>"
      ]
     },
     "execution_count": 161,
     "metadata": {},
     "output_type": "execute_result"
    }
   ],
   "source": [
    "pd.DataFrame(data.isnull().sum().sort_values(ascending=False)).style.set_caption(\"Features and number of null values for each feature\") # Num of null values in each column"
   ]
  },
  {
   "cell_type": "markdown",
   "metadata": {},
   "source": [
    "<div class=\"span5 alert alert-success\">\n",
    "22,000 missing CareerSatisfaction responses and 51,153 missing ConvertedSalary responses are some of the biggest features with missing variables.    \n",
    "</div> "
   ]
  },
  {
   "cell_type": "code",
   "execution_count": 162,
   "metadata": {},
   "outputs": [],
   "source": [
    "data.columns;"
   ]
  },
  {
   "cell_type": "code",
   "execution_count": 163,
   "metadata": {},
   "outputs": [
    {
     "data": {
      "text/plain": [
       "(22968, 40)"
      ]
     },
     "execution_count": 163,
     "metadata": {},
     "output_type": "execute_result"
    }
   ],
   "source": [
    "clean_df1 = data.dropna(subset=['EthicalImplications','AIFuture','YearsCoding','EthicsReport','EthicsChoice',\\\n",
    "        'CompanySize','HoursOutside','Exercise','CareerSatisfaction','DevType','FormalEducation', 'YearsCodingProf',\n",
    "       'HopeFiveYears', 'LastNewJob', 'JobSearchStatus','CommunicationTools','TimeFullyProductive','LanguageWorkedWith','UpdateCV',\n",
    "        'CommunicationTools', 'TimeFullyProductive', 'LanguageWorkedWith','LanguageDesireNextYear', 'DatabaseWorkedWith', 'PlatformWorkedWith','FrameworkWorkedWith', 'IDE', 'OperatingSystem', 'HoursComputer',\n",
    "       'SkipMeals', 'Gender', 'Age'])\n",
    "clean_df1.shape"
   ]
  },
  {
   "cell_type": "code",
   "execution_count": 164,
   "metadata": {
    "scrolled": true
   },
   "outputs": [
    {
     "data": {
      "text/plain": [
       "(32359, 40)"
      ]
     },
     "execution_count": 164,
     "metadata": {},
     "output_type": "execute_result"
    }
   ],
   "source": [
    "## Drop NaN values from certain columns\n",
    "clean_df2 = data.dropna(subset=['ConvertedSalary','EthicalImplications','AIFuture','YearsCoding','EthicsReport','EthicsChoice',\\\n",
    "        'CompanySize','HoursOutside','Exercise','CareerSatisfaction','DevType','FormalEducation', 'YearsCodingProf',\n",
    "       'HopeFiveYears', 'LastNewJob', 'JobSearchStatus','CommunicationTools','TimeFullyProductive','LanguageWorkedWith','UpdateCV',\n",
    "       'OperatingSystem', 'HoursComputer','SkipMeals', 'Gender', 'Age'])\n",
    "clean_df2.shape"
   ]
  },
  {
   "cell_type": "code",
   "execution_count": 165,
   "metadata": {
    "scrolled": true
   },
   "outputs": [
    {
     "data": {
      "text/plain": [
       "(32421, 40)"
      ]
     },
     "execution_count": 165,
     "metadata": {},
     "output_type": "execute_result"
    }
   ],
   "source": [
    "## Drop NaN values from certain columns\n",
    "clean_df = data.dropna(subset=['ConvertedSalary','EthicalImplications','AIFuture','YearsCoding','EthicsReport','EthicsChoice',\\\n",
    "        'CompanySize','HoursOutside','Exercise','CareerSatisfaction','DevType','FormalEducation', 'YearsCodingProf',\n",
    "       'HopeFiveYears', 'LastNewJob', 'JobSearchStatus','CommunicationTools','TimeFullyProductive','UpdateCV',\n",
    "       'OperatingSystem', 'HoursComputer','SkipMeals', 'Gender', 'Age'])\n",
    "clean_df.shape"
   ]
  },
  {
   "cell_type": "code",
   "execution_count": 166,
   "metadata": {},
   "outputs": [],
   "source": [
    "#Dropping LanguageDesireNextYear (losing 500 datapoints),database(-1k),PlatformWorkedWith (-1k),[data.Country=='United States']"
   ]
  },
  {
   "cell_type": "code",
   "execution_count": 167,
   "metadata": {},
   "outputs": [
    {
     "data": {
      "text/plain": [
       "(30465, 40)"
      ]
     },
     "execution_count": 167,
     "metadata": {},
     "output_type": "execute_result"
    }
   ],
   "source": [
    "clean_df_ml = data.dropna(subset=['Employment','ConvertedSalary','EthicalImplications','AIFuture','YearsCoding','EthicsReport','EthicsChoice',\\\n",
    "        'CompanySize','HoursOutside','Exercise','CareerSatisfaction','DevType','FormalEducation', 'YearsCodingProf',\n",
    "       'HopeFiveYears', 'LastNewJob', 'JobSearchStatus','CommunicationTools','TimeFullyProductive','UpdateCV',\n",
    "       'OperatingSystem', 'HoursComputer','SkipMeals', 'Gender', 'Age','Country','LanguageWorkedWith','LanguageDesireNextYear','IDE']);clean_df_ml.shape"
   ]
  },
  {
   "cell_type": "code",
   "execution_count": 168,
   "metadata": {},
   "outputs": [
    {
     "data": {
      "text/plain": [
       "Index(['Hobby', 'OpenSource', 'Country', 'Employment', 'UndergradMajor',\n",
       "       'CompanySize', 'DevType', 'YearsCoding', 'ConvertedSalary',\n",
       "       'EducationTypes', 'SelfTaughtTypes', 'AIFuture', 'EthicsChoice',\n",
       "       'EthicsReport', 'EthicalImplications', 'WakeTime', 'HoursOutside',\n",
       "       'Exercise', 'Student', 'FormalEducation', 'YearsCodingProf',\n",
       "       'HopeFiveYears', 'LastNewJob', 'JobSearchStatus', 'UpdateCV',\n",
       "       'CommunicationTools', 'TimeFullyProductive', 'LanguageWorkedWith',\n",
       "       'LanguageDesireNextYear', 'DatabaseWorkedWith', 'PlatformWorkedWith',\n",
       "       'FrameworkWorkedWith', 'IDE', 'OperatingSystem', 'HoursComputer',\n",
       "       'SkipMeals', 'Gender', 'Age', 'JobSatisfaction', 'CareerSatisfaction'],\n",
       "      dtype='object')"
      ]
     },
     "execution_count": 168,
     "metadata": {},
     "output_type": "execute_result"
    }
   ],
   "source": [
    "clean_df_ml.columns"
   ]
  },
  {
   "cell_type": "code",
   "execution_count": 169,
   "metadata": {
    "scrolled": true
   },
   "outputs": [],
   "source": [
    "# Num of null values in each column where salary is not Null\n",
    "pd.DataFrame(data[data.ConvertedSalary.isnull()==False].isnull().sum().sort_values(ascending=False)).head(10);"
   ]
  },
  {
   "cell_type": "code",
   "execution_count": 170,
   "metadata": {},
   "outputs": [
    {
     "name": "stdout",
     "output_type": "stream",
     "text": [
      "Number of datapoints: 32,421\n"
     ]
    }
   ],
   "source": [
    "print('Number of datapoints: {:,}'.format(clean_df.shape[0]))"
   ]
  },
  {
   "cell_type": "code",
   "execution_count": 171,
   "metadata": {},
   "outputs": [
    {
     "data": {
      "text/html": [
       "<div>\n",
       "<style scoped>\n",
       "    .dataframe tbody tr th:only-of-type {\n",
       "        vertical-align: middle;\n",
       "    }\n",
       "\n",
       "    .dataframe tbody tr th {\n",
       "        vertical-align: top;\n",
       "    }\n",
       "\n",
       "    .dataframe thead th {\n",
       "        text-align: right;\n",
       "    }\n",
       "</style>\n",
       "<table border=\"1\" class=\"dataframe\">\n",
       "  <thead>\n",
       "    <tr style=\"text-align: right;\">\n",
       "      <th></th>\n",
       "      <th>Hobby</th>\n",
       "      <th>OpenSource</th>\n",
       "      <th>Country</th>\n",
       "      <th>Employment</th>\n",
       "      <th>UndergradMajor</th>\n",
       "      <th>CompanySize</th>\n",
       "      <th>DevType</th>\n",
       "      <th>YearsCoding</th>\n",
       "      <th>ConvertedSalary</th>\n",
       "      <th>EducationTypes</th>\n",
       "      <th>...</th>\n",
       "      <th>PlatformWorkedWith</th>\n",
       "      <th>FrameworkWorkedWith</th>\n",
       "      <th>IDE</th>\n",
       "      <th>OperatingSystem</th>\n",
       "      <th>HoursComputer</th>\n",
       "      <th>SkipMeals</th>\n",
       "      <th>Gender</th>\n",
       "      <th>Age</th>\n",
       "      <th>JobSatisfaction</th>\n",
       "      <th>CareerSatisfaction</th>\n",
       "    </tr>\n",
       "  </thead>\n",
       "  <tbody>\n",
       "    <tr>\n",
       "      <td>1</td>\n",
       "      <td>Yes</td>\n",
       "      <td>Yes</td>\n",
       "      <td>United Kingdom</td>\n",
       "      <td>Employed full-time</td>\n",
       "      <td>A natural science (ex. biology, chemistry, phy...</td>\n",
       "      <td>10,000 or more employees</td>\n",
       "      <td>Database administrator;DevOps specialist;Full-...</td>\n",
       "      <td>30 or more years</td>\n",
       "      <td>70841.0</td>\n",
       "      <td>Taught yourself a new language, framework, or ...</td>\n",
       "      <td>...</td>\n",
       "      <td>Linux</td>\n",
       "      <td>Django</td>\n",
       "      <td>IPython / Jupyter;Sublime Text;Vim</td>\n",
       "      <td>Linux-based</td>\n",
       "      <td>5 - 8 hours</td>\n",
       "      <td>Never</td>\n",
       "      <td>Male</td>\n",
       "      <td>35 - 44 years old</td>\n",
       "      <td>Moderately dissatisfied</td>\n",
       "      <td>Neither satisfied nor dissatisfied</td>\n",
       "    </tr>\n",
       "  </tbody>\n",
       "</table>\n",
       "<p>1 rows × 40 columns</p>\n",
       "</div>"
      ],
      "text/plain": [
       "  Hobby OpenSource         Country          Employment  \\\n",
       "1   Yes        Yes  United Kingdom  Employed full-time   \n",
       "\n",
       "                                      UndergradMajor  \\\n",
       "1  A natural science (ex. biology, chemistry, phy...   \n",
       "\n",
       "                CompanySize  \\\n",
       "1  10,000 or more employees   \n",
       "\n",
       "                                             DevType       YearsCoding  \\\n",
       "1  Database administrator;DevOps specialist;Full-...  30 or more years   \n",
       "\n",
       "   ConvertedSalary                                     EducationTypes  ...  \\\n",
       "1          70841.0  Taught yourself a new language, framework, or ...  ...   \n",
       "\n",
       "  PlatformWorkedWith FrameworkWorkedWith                                 IDE  \\\n",
       "1              Linux              Django  IPython / Jupyter;Sublime Text;Vim   \n",
       "\n",
       "  OperatingSystem HoursComputer SkipMeals Gender                Age  \\\n",
       "1     Linux-based   5 - 8 hours     Never   Male  35 - 44 years old   \n",
       "\n",
       "           JobSatisfaction                  CareerSatisfaction  \n",
       "1  Moderately dissatisfied  Neither satisfied nor dissatisfied  \n",
       "\n",
       "[1 rows x 40 columns]"
      ]
     },
     "execution_count": 171,
     "metadata": {},
     "output_type": "execute_result"
    }
   ],
   "source": [
    "clean_df.head(1) #columns"
   ]
  },
  {
   "cell_type": "code",
   "execution_count": 172,
   "metadata": {
    "scrolled": true
   },
   "outputs": [],
   "source": [
    "countries = clean_df['Country'].value_counts();\n",
    "top_countries = countries[0:10] #top 10 countries with most respondents; \n",
    "top_20_countries = countries[0:20];last_20_countries=countries[-20:];countries_100_resp = countries[0:55]#top 20 countries with most respondents;"
   ]
  },
  {
   "cell_type": "markdown",
   "metadata": {},
   "source": [
    "<font size=\"5\"><a id='DataPreprocessing'></a> <b>Data Preprocessing</b>"
   ]
  },
  {
   "cell_type": "code",
   "execution_count": 173,
   "metadata": {},
   "outputs": [],
   "source": [
    "df = clean_df_ml.copy()\n",
    "dfd = clean_df.copy() #dataframe for dissatisfaction\n",
    "dflr = clean_df.copy() #dataframe for logreg\n",
    "dflrd = clean_df.copy() #dataframe for logreg dissatisfaction"
   ]
  },
  {
   "cell_type": "code",
   "execution_count": 174,
   "metadata": {},
   "outputs": [],
   "source": [
    "dflrd.groupby('FormalEducation')['Hobby'].count(); # Grouped by Formal Education (number in each categoty) "
   ]
  },
  {
   "cell_type": "code",
   "execution_count": 175,
   "metadata": {},
   "outputs": [],
   "source": [
    "#Replace AIFuture values with shorter terms\n",
    "clean_df['AIFuture'].replace([\"I'm excited about the possibilities more than worried about the dangers.\",\"I'm worried about the dangers more than I'm excited about the possibilities.\",\"I don't care about it, or I haven't thought about it.\"],['Excited','Worried','DontCare'],inplace=True)"
   ]
  },
  {
   "cell_type": "code",
   "execution_count": 176,
   "metadata": {},
   "outputs": [],
   "source": [
    "clean_df.columns;"
   ]
  },
  {
   "cell_type": "code",
   "execution_count": 177,
   "metadata": {
    "scrolled": false
   },
   "outputs": [
    {
     "name": "stdout",
     "output_type": "stream",
     "text": [
      "Number of datapoints for the US: 9,808\n"
     ]
    }
   ],
   "source": [
    "usdata_ml = clean_df[clean_df.Country=='United States']; print('Number of datapoints for the US: {:,}'.format(usdata_ml.shape[0]))"
   ]
  },
  {
   "cell_type": "code",
   "execution_count": 180,
   "metadata": {},
   "outputs": [],
   "source": [
    "#Explore JobSearchStatus\n",
    "df_cj =clean_df.groupby(['JobSearchStatus', 'CareerSatisfaction'])['JobSearchStatus'].count().unstack('CareerSatisfaction').fillna(0);\n",
    "df_cj = satisfaction_perc(df_cj)\n",
    "df_cj_sat = df_cj.sort_values(by='% Satisfied',ascending=False).head(15)\n",
    "#fig =df_cj_sat[['JobSearchStatus','% Satisfied']].sort_values('% Satisfied',ascending=False).plot(kind='bar');\n",
    "#df_cj.plot(kind='bar')"
   ]
  },
  {
   "cell_type": "code",
   "execution_count": 23,
   "metadata": {},
   "outputs": [],
   "source": [
    "#NUMERICIZE VARIABLES\n",
    "#Numericize JobSearchStatus\n",
    "if 'JobSearchStatus' in df.columns:\n",
    "    jss_str=df['JobSearchStatus'].unique()\n",
    "    jss_num = [0,-1,1] \n",
    "    jss_ser = seriesify(df,jss_str,jss_num,'JobSearchStatus')\n",
    "    df=dummify(df,'JobSearchStatus',jss_ser)\n",
    "#Numericize lastnewjob\n",
    "if 'LastNewJob' in df.columns:\n",
    "    lsn_str=df['LastNewJob'].unique()\n",
    "    lsn_num = [.5,5,1.5,3,0] \n",
    "    lsn_ser = seriesify(df,lsn_str,lsn_num,'LastNewJob')\n",
    "    df=dummify(df,'LastNewJob',lsn_ser)\n",
    "#Numericize CompanySize\n",
    "if 'CompanySize' in df.columns:\n",
    "    comp_str=df['CompanySize'].unique()\n",
    "    comp_num = [10000,15,300,1250,60,750,7500,5]\n",
    "    comp_ser = seriesify(df,comp_str,comp_num,'CompanySize')\n",
    "    df=dummify(df,'CompanySize',comp_ser)\n",
    "#Convert Years of Coding to numeric variable\n",
    "if 'YearsCoding' in df.columns:\n",
    "    years = df['YearsCoding'].unique()\n",
    "    yrs_num =[30,7,10,16,13,4,1,19,25,22,28]\n",
    "    yrs_cod_ser = seriesify(df,years,yrs_num,'YearsCoding')\n",
    "    df=dummify(df,'YearsCoding',yrs_cod_ser)\n",
    "#Convert Years of Coding Professionally to numeric variable\n",
    "if 'YearsCodingProf' in df.columns:\n",
    "    years = df['YearsCodingProf'].unique()\n",
    "    yrs_num =[30,7,10,16,13,4,1,19,25,22,284,19,13,1,22,25,7,10,16,28,30]\n",
    "    yrs_cod_ser = seriesify(df,years,yrs_num,'YearsCodingProf')\n",
    "    df=dummify(df,'YearsCodingProf',yrs_cod_ser)\n",
    "#Numericize HoursOutside\n",
    "if 'HoursOutside' in df.columns:\n",
    "    hrsout_str = df['HoursOutside'].unique()\n",
    "    hrsout_num = [.75,1.5,.25,3.5,4.5]\n",
    "    hrsout_ser = seriesify(df,hrsout_str,hrsout_num,'HoursOutside')\n",
    "    df=dummify(df,'HoursOutside',hrsout_ser)\n",
    "#Numericize Exercise\n",
    "if 'Exercise' in df.columns:\n",
    "    ex_str=df['Exercise'].unique()\n",
    "    ex_num = [6,3.5,1.5,0]\n",
    "    ex_ser = seriesify(df,ex_str,ex_num,'Exercise')\n",
    "    df=dummify(df,'Exercise',ex_ser)\n",
    "#Numericize AIFuture\n",
    "if 'AIFuture' in df.columns:\n",
    "    aifuturestr=df['AIFuture'].unique()\n",
    "    aifuturenum = [1,-1,0]\n",
    "    ai_ser = seriesify(df,aifuturestr,aifuturenum,'AIFuture')\n",
    "    df=dummify(df,'AIFuture',ai_ser)\n",
    "#Numericize waketime\n",
    "if 'WakeTime' in df.columns:\n",
    "    wtstr=df['WakeTime'].unique()\n",
    "    wtnum = [530,630,430,730,930,0,830,1030,1130,1230,0,-1]\n",
    "    wt_ser = seriesify(df,wtstr,wtnum,'WakeTime')\n",
    "    df=dummify(df,'WakeTime',wt_ser)\n",
    "#Numericize TimeFullyProductive\n",
    "if 'TimeFullyProductive' in df.columns:\n",
    "    tfpstr=df['TimeFullyProductive'].unique()\n",
    "    tfpnum = [7.5,4.5,.5,2,10.5,13]\n",
    "    tfp_ser = seriesify(df,tfpstr,tfpnum,'TimeFullyProductive')\n",
    "    df=dummify(df,'TimeFullyProductive',tfp_ser)\n",
    "#Numericize HoursComputer\n",
    "if 'HoursComputer' in df.columns:\n",
    "    hcstr=df['HoursComputer'].unique()\n",
    "    hcnum = [13,10.5,6.5,2.5,.5]\n",
    "    hc_ser = seriesify(df,hcstr,hcnum,'HoursComputer')\n",
    "    df=dummify(df,'HoursComputer',hc_ser)\n",
    "#Replace employed full time/part time with FT/PT\n",
    "df['Employment'].replace(['Employed full-time','Employed part-time'],['FT','PT'],inplace=True) \n",
    "df['Employment'].replace(['Employed full-time','Employed part-time'],['FT','PT'],inplace=True) "
   ]
  },
  {
   "cell_type": "code",
   "execution_count": 24,
   "metadata": {},
   "outputs": [],
   "source": [
    "#DUMMIFY VARIABLES\n",
    "#Dummify Hobby columns\n",
    "if 'Hobby' in df.columns:\n",
    "    df = pd.get_dummies(data=df, columns=['Hobby'])\n",
    "    df = df.drop('Hobby_No',axis=1)\n",
    "#Dummify OpenSource\n",
    "if 'OpenSource' in df.columns:\n",
    "    df = pd.get_dummies(data=df, columns=['OpenSource'])\n",
    "    df = df.drop('OpenSource_No',axis=1)\n",
    "#Dummify EthicalImplications\n",
    "if 'EthicalImplications' in df.columns:\n",
    "    ethimpstr=df['EthicalImplications'].unique()\n",
    "    ethimpnum=[3,2,1]\n",
    "    ethimp_ser = seriesify(df,ethimpstr,ethimpnum,'EthicalImplications')\n",
    "    df=dummify(df,'EthicalImplications',ethimp_ser)\n",
    "#Dummify EthicsReport\n",
    "if 'EthicsReport' in df.columns:\n",
    "    ethrepstr=df['EthicsReport'].unique()\n",
    "    ethrepnum=[0,1,2,-1]\n",
    "    ethrep_ser = seriesify(df,ethrepstr,ethrepnum,'EthicsReport')\n",
    "    df=dummify(df,'EthicsReport',ethrep_ser)"
   ]
  },
  {
   "cell_type": "code",
   "execution_count": 25,
   "metadata": {
    "scrolled": true
   },
   "outputs": [],
   "source": [
    "#Dummify UpdateCV\n",
    "mlb = MultiLabelBinarizer()\n",
    "if 'UpdateCV' in df.columns:\n",
    "    cv_types = clean_df['UpdateCV'].unique()\n",
    "    UpdateCVlist = df['UpdateCV'].str.split(';')\n",
    "    UpdateCVlist.rename('NewUpdateCV',inplace=True)\n",
    "    df_cv_type = pd.concat([df,UpdateCVlist],axis=1)\n",
    "    df_cv_type = df_cv_type.drop('UpdateCV',axis=1)\n",
    "    cv_type_num=pd.DataFrame(mlb.fit_transform(df_cv_type['NewUpdateCV']),columns=mlb.classes_, index=df_cv_type.index)#.head()\n",
    "    df = pd.concat([df,cv_type_num],axis=1);df['UpdateCV'].replace(['I saw an employerâ€™s advertisement'],['I saw an employers advertisement'],inplace=True)    \n",
    "if 'UpdateCV' in df.columns:   #concatenate UpdateCV dummified to df\n",
    "    df = df.drop('UpdateCV',axis=1);df = df.drop('I received negative feedback on my job performance',axis=1)   "
   ]
  },
  {
   "cell_type": "code",
   "execution_count": 26,
   "metadata": {
    "scrolled": true
   },
   "outputs": [],
   "source": [
    "#Dummify DevType\n",
    "mlb = MultiLabelBinarizer()\n",
    "if 'DevType' in df.columns:\n",
    "    dev_types = clean_df['DevType'].unique()\n",
    "    devtypelist = df['DevType'].str.split(';')\n",
    "    devtypelist.rename('NewDevType',inplace=True)\n",
    "    df_dev_type = pd.concat([df,devtypelist],axis=1)\n",
    "    df_dev_type = df_dev_type.drop('DevType',axis=1)\n",
    "    dev_type_num=pd.DataFrame(mlb.fit_transform(df_dev_type['NewDevType']),columns=mlb.classes_, index=df_dev_type.index)#.head()\n",
    "    df = pd.concat([df,dev_type_num],axis=1)\n",
    "if 'DevType' in df.columns:  #concatenate DevType dummified to df\n",
    "    df = df.drop('DevType',axis=1)"
   ]
  },
  {
   "cell_type": "code",
   "execution_count": 27,
   "metadata": {},
   "outputs": [],
   "source": [
    "#Dummify LanguageWorkedWith\n",
    "mlb = MultiLabelBinarizer()\n",
    "if 'LanguageWorkedWith' in df.columns:\n",
    "    tfp_types = clean_df['LanguageWorkedWith'].unique()\n",
    "    LanguageWorkedWithlist = df['LanguageWorkedWith'].str.split(';')\n",
    "    LanguageWorkedWithlist.rename('NewLanguageWorkedWith',inplace=True)\n",
    "    df_tfp_type = pd.concat([df,LanguageWorkedWithlist],axis=1)\n",
    "    df_tfp_type = df_tfp_type.drop('LanguageWorkedWith',axis=1)\n",
    "    tfp_type_num=pd.DataFrame(mlb.fit_transform(df_tfp_type['NewLanguageWorkedWith']),columns=mlb.classes_, index=df_tfp_type.index)#.head()\n",
    "if 'LanguageWorkedWith' in df.columns:   #concatenate LanguageWorkedWith dummified to df\n",
    "    df = df.drop('LanguageWorkedWith',axis=1)\n",
    "    df = pd.concat([df,tfp_type_num],axis=1)"
   ]
  },
  {
   "cell_type": "code",
   "execution_count": 28,
   "metadata": {},
   "outputs": [],
   "source": [
    "#dummify formaleducation\n",
    "if 'FormalEducation' in df.columns:\n",
    "    # Get one hot encoding of columns FormalEducation\n",
    "    one_hot = pd.get_dummies(df['FormalEducation'])\n",
    "    # Drop column FormalEducation as it is now encoded\n",
    "    df = df.drop(['FormalEducation'],axis = 1);\n",
    "    # Join the encoded df\n",
    "    df = df.join(one_hot)\n",
    "    df = df.drop(['I never completed any formal education'],axis = 1)"
   ]
  },
  {
   "cell_type": "code",
   "execution_count": 29,
   "metadata": {},
   "outputs": [],
   "source": [
    "#dummify HopeFiveYears\n",
    "if 'HopeFiveYears' in df.columns:\n",
    "    # Get one hot encoding of columns FormalEducation\n",
    "    one_hot = pd.get_dummies(df['HopeFiveYears'])\n",
    "    # Drop column FormalEducation as it is now encoded\n",
    "    df = df.drop(['HopeFiveYears'],axis = 1);\n",
    "    # Join the encoded df\n",
    "    df = df.join(one_hot);df = df.drop([\"Retirement\"],axis = 1)"
   ]
  },
  {
   "cell_type": "code",
   "execution_count": 30,
   "metadata": {},
   "outputs": [],
   "source": [
    "#dummify UpdateCV\n",
    "if 'UpdateCV' in df.columns:\n",
    "    # Get one hot encoding of columns FormalEducation\n",
    "    one_hot = pd.get_dummies(df['UpdateCV'])\n",
    "    # Drop column FormalEducation as it is now encoded\n",
    "    df = df.drop(['UpdateCV'],axis = 1);\n",
    "    # Join the encoded df\n",
    "    df = df.join(one_hot)\n",
    "#df = df.drop([\"I received negative feedback on my job performance\"],axis = 1)"
   ]
  },
  {
   "cell_type": "code",
   "execution_count": 31,
   "metadata": {
    "scrolled": true
   },
   "outputs": [],
   "source": [
    "#dummify Gender\n",
    "if 'Gender' in df.columns:\n",
    "    df = df[(df.Gender=='Male') | (df.Gender=='Female')]\n",
    "    # Get one hot encoding of columns Gender\n",
    "    one_hot = pd.get_dummies(df['Gender'])\n",
    "    # Drop column Gender as it is now encoded\n",
    "    df = df.drop(['Gender'],axis = 1);#df = df.drop(['Female'],axis = 1)\n",
    "    # Join the encoded df\n",
    "    df = df.join(one_hot)"
   ]
  },
  {
   "cell_type": "code",
   "execution_count": 32,
   "metadata": {},
   "outputs": [],
   "source": [
    "if 'Female' in df.columns:\n",
    "    df = df.drop(['Female'],axis = 1);"
   ]
  },
  {
   "cell_type": "code",
   "execution_count": 33,
   "metadata": {},
   "outputs": [],
   "source": [
    "#Numericize CareerSatisfaction\n",
    "if 'CareerSatisfaction' in df.columns:\n",
    "    cs_str=df['CareerSatisfaction'].unique()\n",
    "    cs_num = [3,0,-1,2,1,-2,-3] \n",
    "    cs_ser = seriesify(df,cs_str,cs_num,'CareerSatisfaction')\n",
    "    df=dummify(df,'CareerSatisfaction',cs_ser)"
   ]
  },
  {
   "cell_type": "code",
   "execution_count": 182,
   "metadata": {
    "scrolled": false
   },
   "outputs": [
    {
     "name": "stdout",
     "output_type": "stream",
     "text": [
      "Number of ML datapoints for the US: 9,159\n"
     ]
    }
   ],
   "source": [
    "#Machine learning data (only US)****\n",
    "usdata_ml = df[df.Country == 'United States']\n",
    "print('Number of ML datapoints for the US: {:,}'.format(usdata_ml.shape[0]))"
   ]
  },
  {
   "cell_type": "code",
   "execution_count": 35,
   "metadata": {},
   "outputs": [],
   "source": [
    "#Add continents to the DF\n",
    "continents =pd.read_csv('Countries-Continents.csv')\n",
    "continents['Country'].replace(['Burma (Myanmar)','Iran','Venezuela',\n",
    "                               'Congo, Democratic Republic of','Congo','Ivory Coast','US','Vietnam','Korea, South','Macedonia',\n",
    "                              'Tanzania','Syria','Moldova'],\n",
    "                              ['Myanmar','Iran','Venezuela, Bolivarian Republic of...',\n",
    "                               'Democratic Republic of the Congo','Congo, Republic of the...',\"CÃ´te d'Ivoire\",'United States',\n",
    "                               'Viet Nam','South Korea','The former Yugoslav Republic of Macedonia',\n",
    "                              'United Republic of Tanzania','Syrian Arab Republic','Republic of Moldova'],inplace=True) \n",
    "added = pd.DataFrame({'Continent':['Asia','Asia','Asia','Europe'],'Country':['Hong Kong (S.A.R.)','Taiwan','Republic of Korea','Czech Republic']})\n",
    "continents = continents.append(added,ignore_index = True);"
   ]
  },
  {
   "cell_type": "code",
   "execution_count": 36,
   "metadata": {},
   "outputs": [
    {
     "name": "stdout",
     "output_type": "stream",
     "text": [
      "Wall time: 13.9 s\n"
     ]
    }
   ],
   "source": [
    "%%time\n",
    "african = continents[continents.Continent =='Africa']#.loc[:,'Country']\n",
    "asian = continents[continents.Continent =='Asia']\n",
    "NAmerican = continents[continents.Continent =='North America']\n",
    "SAmerican = continents[continents.Continent =='South America']\n",
    "oceania = continents[continents.Continent =='Oceania']\n",
    "european = continents[continents.Continent =='Europe']\n",
    "countries=(pd.DataFrame(countries))\n",
    "def get_continent(d):\n",
    "    continent = []\n",
    "    for row in d:\n",
    "        if row in asian.Country.unique():\n",
    "            continent.append('Asia') \n",
    "        elif row in NAmerican.Country.unique():\n",
    "            continent.append('North America') \n",
    "        elif row in (SAmerican.Country).unique():\n",
    "            continent.append('Sount America') \n",
    "        elif row in (oceania.Country.unique()):\n",
    "            continent.append('Oceania') \n",
    "        elif row in (european.Country.unique()):\n",
    "            continent.append('Europe') \n",
    "        elif row in (african.Country.unique()):  \n",
    "            continent.append('Africa')\n",
    "        else:\n",
    "            continent.append('Other')\n",
    "    return continent\n",
    "\n",
    "continent = get_continent(df['Country'])\n",
    "df['Continent'] = continent"
   ]
  },
  {
   "cell_type": "markdown",
   "metadata": {},
   "source": [
    "<a id='DataExploration'></a> <font size=\"5\"><b>Data Exploration/Statistical Analysis</b>"
   ]
  },
  {
   "cell_type": "markdown",
   "metadata": {},
   "source": [
    "<a id='Correlation'></a> <font size=\"4\"><b>Correlation</b>"
   ]
  },
  {
   "cell_type": "code",
   "execution_count": 37,
   "metadata": {
    "scrolled": true
   },
   "outputs": [
    {
     "data": {
      "image/png": "[encoded data removed]",
      "text/plain": [
       "<Figure size 432x288 with 2 Axes>"
      ]
     },
     "metadata": {
      "needs_background": "light"
     },
     "output_type": "display_data"
    }
   ],
   "source": [
    "corr = df.iloc[:,9:19].corr()\n",
    "ax = sns.heatmap(\n",
    "    corr, \n",
    "    vmin=-1, vmax=1, center=0,\n",
    "    cmap=sns.diverging_palette(20, 220, n=200),\n",
    "    square=True\n",
    ")\n",
    "ax.set_xticklabels(\n",
    "    ax.get_xticklabels(),\n",
    "    rotation=45,\n",
    "    horizontalalignment='right'\n",
    ");"
   ]
  },
  {
   "cell_type": "code",
   "execution_count": 38,
   "metadata": {},
   "outputs": [],
   "source": [
    "df.iloc[:,8:19].corr();"
   ]
  },
  {
   "cell_type": "markdown",
   "metadata": {},
   "source": [
    "<div class=\"span5 alert alert-success\">\n",
    "None of the variables seem to be correlated strongly. The only 2 variables which are at least slightly correlated (0.26) are \"Open source\" and \"Hobby\". This makes sense because people who program as a hobby are also more likely to contribute to open source projects as a part of that hobby.\n",
    " </div> "
   ]
  },
  {
   "cell_type": "markdown",
   "metadata": {},
   "source": [
    "<a id='T-test'></a> <font size=\"4\"><b>T-test</b> <br>\n",
    "<font size=\"3\">T-test to see if populations who filled out all of the survey vs who left some fields blank are different. "
   ]
  },
  {
   "cell_type": "code",
   "execution_count": 39,
   "metadata": {},
   "outputs": [],
   "source": [
    "df_empty_cs = data[(data.ConvertedSalary.isnull()) & (data.CareerSatisfaction.isnull()==False)]; #dataframe with empty salary\n",
    "df_not_empty_cs =  data[(data.ConvertedSalary.isnull() == False) & (data.CareerSatisfaction.isnull()==False)];#dataframe with filled salary"
   ]
  },
  {
   "cell_type": "code",
   "execution_count": 40,
   "metadata": {},
   "outputs": [],
   "source": [
    "df_not_empty_cs.shape;"
   ]
  },
  {
   "cell_type": "code",
   "execution_count": 41,
   "metadata": {},
   "outputs": [],
   "source": [
    "df_empty_cs.shape;"
   ]
  },
  {
   "cell_type": "code",
   "execution_count": 42,
   "metadata": {
    "scrolled": true
   },
   "outputs": [],
   "source": [
    "df_not_empty_cs.shape;"
   ]
  },
  {
   "cell_type": "code",
   "execution_count": 43,
   "metadata": {},
   "outputs": [],
   "source": [
    "data.dropna().shape;"
   ]
  },
  {
   "cell_type": "code",
   "execution_count": 44,
   "metadata": {
    "scrolled": true
   },
   "outputs": [
    {
     "data": {
      "text/plain": [
       "array(['Extremely satisfied', 'Neither satisfied nor dissatisfied',\n",
       "       'Moderately satisfied', 'Slightly dissatisfied',\n",
       "       'Slightly satisfied', 'Moderately dissatisfied',\n",
       "       'Extremely dissatisfied'], dtype=object)"
      ]
     },
     "execution_count": 44,
     "metadata": {},
     "output_type": "execute_result"
    }
   ],
   "source": [
    "data_ttest = data.copy()\n",
    "data_ttest.dropna(subset=['CareerSatisfaction'],inplace=True)\n",
    "data_ttest.CareerSatisfaction.unique()"
   ]
  },
  {
   "cell_type": "code",
   "execution_count": 45,
   "metadata": {},
   "outputs": [],
   "source": [
    "if 'CareerSatisfaction' in df_empty_cs.columns:\n",
    "    cs_str=df_empty_cs['CareerSatisfaction'].unique()\n",
    "    cs_num = [3,2,-1,-2,-3,0,1]\n",
    "    cs_ser = seriesify(df_empty_cs,cs_str,cs_num,'CareerSatisfaction')\n",
    "    df_empty_cs=dummify(df_empty_cs,'CareerSatisfaction',cs_ser)\n",
    "if 'CareerSatisfaction' in df_not_empty_cs.columns:\n",
    "    cs_str=df_not_empty_cs['CareerSatisfaction'].unique()\n",
    "    cs_num = [0,2,1,-2,-1,3,-3] \n",
    "    cs_ser = seriesify(df_not_empty_cs,cs_str,cs_num,'CareerSatisfaction')\n",
    "    df_not_empty_cs=dummify(df_not_empty_cs,'CareerSatisfaction',cs_ser)\n",
    "if 'CareerSatisfaction' in data_ttest.columns:\n",
    "    cs_str=data_ttest['CareerSatisfaction'].unique()\n",
    "    cs_num = [3,0,2,-1,1,-2,-3] \n",
    "    cs_ser = seriesify(data_ttest,cs_str,cs_num,'CareerSatisfaction')\n",
    "    data_ttest=dummify(data_ttest,'CareerSatisfaction',cs_ser)"
   ]
  },
  {
   "cell_type": "markdown",
   "metadata": {},
   "source": [
    "Career Sat. on a scale from -3 to 3."
   ]
  },
  {
   "cell_type": "code",
   "execution_count": 46,
   "metadata": {
    "scrolled": true
   },
   "outputs": [
    {
     "name": "stdout",
     "output_type": "stream",
     "text": [
      "Mean Career Sat. of people with empty Salary: 1.00 \n"
     ]
    }
   ],
   "source": [
    "print('Mean Career Sat. of people with empty Salary: {:0.2f} '.format(df_empty_cs.CareerSatisfaction_n.mean())) "
   ]
  },
  {
   "cell_type": "code",
   "execution_count": 47,
   "metadata": {},
   "outputs": [
    {
     "name": "stdout",
     "output_type": "stream",
     "text": [
      "Mean Career Sat. of people with filled Salary: 1.23 \n"
     ]
    }
   ],
   "source": [
    "print('Mean Career Sat. of people with filled Salary: {:0.2f} '.format(df_not_empty_cs.CareerSatisfaction_n.mean()))"
   ]
  },
  {
   "cell_type": "code",
   "execution_count": 48,
   "metadata": {},
   "outputs": [
    {
     "name": "stdout",
     "output_type": "stream",
     "text": [
      "Mean Career Sat. of people with multiple empty responses: 0.15 \n"
     ]
    }
   ],
   "source": [
    "print('Mean Career Sat. of people with multiple empty responses: {:0.2f} '.format(df.CareerSatisfaction_n.mean()))"
   ]
  },
  {
   "cell_type": "code",
   "execution_count": 49,
   "metadata": {},
   "outputs": [
    {
     "name": "stdout",
     "output_type": "stream",
     "text": [
      "Mean Career Sat. of people with all filled responses: 1.14 \n"
     ]
    }
   ],
   "source": [
    "print('Mean Career Sat. of people with all filled responses: {:0.2f} '.format(data_ttest.CareerSatisfaction_n.mean()))"
   ]
  },
  {
   "cell_type": "code",
   "execution_count": 50,
   "metadata": {},
   "outputs": [
    {
     "data": {
      "text/plain": [
       "1.6814715696253375"
      ]
     },
     "execution_count": 50,
     "metadata": {},
     "output_type": "execute_result"
    }
   ],
   "source": [
    "np.std(df_empty_cs.CareerSatisfaction_n)"
   ]
  },
  {
   "cell_type": "code",
   "execution_count": 51,
   "metadata": {},
   "outputs": [
    {
     "data": {
      "text/plain": [
       "1.6051041035377622"
      ]
     },
     "execution_count": 51,
     "metadata": {},
     "output_type": "execute_result"
    }
   ],
   "source": [
    "np.std(df_not_empty_cs.CareerSatisfaction_n)"
   ]
  },
  {
   "cell_type": "code",
   "execution_count": 52,
   "metadata": {},
   "outputs": [
    {
     "data": {
      "text/plain": [
       "1.6388906979881948"
      ]
     },
     "execution_count": 52,
     "metadata": {},
     "output_type": "execute_result"
    }
   ],
   "source": [
    "np.std(data_ttest.CareerSatisfaction_n)"
   ]
  },
  {
   "cell_type": "code",
   "execution_count": 53,
   "metadata": {
    "scrolled": true
   },
   "outputs": [
    {
     "data": {
      "image/png": "[encoded data removed]",
      "text/plain": [
       "<Figure size 432x288 with 1 Axes>"
      ]
     },
     "metadata": {
      "needs_background": "light"
     },
     "output_type": "display_data"
    }
   ],
   "source": [
    "df_not_empty_cs.CareerSatisfaction_n.plot(kind='hist',bins=7);\n",
    "plt.title('Career Sat. of respondents with filled in Salary responses');"
   ]
  },
  {
   "cell_type": "code",
   "execution_count": 54,
   "metadata": {
    "scrolled": true
   },
   "outputs": [
    {
     "data": {
      "image/png": "[encoded data removed]",
      "text/plain": [
       "<Figure size 432x288 with 1 Axes>"
      ]
     },
     "metadata": {
      "needs_background": "light"
     },
     "output_type": "display_data"
    }
   ],
   "source": [
    "df_empty_cs.CareerSatisfaction_n.plot(kind='hist',bins=7);\n",
    "plt.title('Career Sat. of respondents with empty Salary responses');"
   ]
  },
  {
   "cell_type": "code",
   "execution_count": 55,
   "metadata": {},
   "outputs": [
    {
     "name": "stdout",
     "output_type": "stream",
     "text": [
      "Stats for population with filled vs empty salary response: \n",
      "Ttest_indResult(statistic=-19.060104640254124, pvalue=8.345891344835878e-81)\n"
     ]
    }
   ],
   "source": [
    "print('Stats for population with filled vs empty salary response: ')\n",
    "print(stats.ttest_ind(df_empty_cs.CareerSatisfaction_n, df_not_empty_cs.CareerSatisfaction_n))"
   ]
  },
  {
   "cell_type": "code",
   "execution_count": 56,
   "metadata": {},
   "outputs": [
    {
     "name": "stdout",
     "output_type": "stream",
     "text": [
      "Stats for population with everything filled vs multiple unfilled responses: \n",
      "Ttest_indResult(statistic=-93.90510944591647, pvalue=0.0)\n"
     ]
    }
   ],
   "source": [
    "print('Stats for population with everything filled vs multiple unfilled responses: ')\n",
    "print(stats.ttest_ind(df.CareerSatisfaction_n, data_ttest.CareerSatisfaction_n)) "
   ]
  },
  {
   "cell_type": "markdown",
   "metadata": {},
   "source": [
    "<div class=\"span5 alert alert-success\">\n",
    "Using the T-Test, we can say that among the populations, ones who didn't reply to the salary or other questions and the ones who did, are different. The ones who answer more questions tend to be more satisfied with their career on average. </div>"
   ]
  },
  {
   "cell_type": "markdown",
   "metadata": {},
   "source": [
    "<a id='DatabyCountry/Continent'></a> <font size=\"3\"><b>Data by Country/Continent</b> <br>\n",
    "<font size=\"2\">"
   ]
  },
  {
   "cell_type": "code",
   "execution_count": 57,
   "metadata": {
    "scrolled": false
   },
   "outputs": [],
   "source": [
    "data.shape;"
   ]
  },
  {
   "cell_type": "code",
   "execution_count": 58,
   "metadata": {
    "scrolled": true
   },
   "outputs": [
    {
     "name": "stdout",
     "output_type": "stream",
     "text": [
      "Total responses from 10 most respresented countries: 22486\n"
     ]
    }
   ],
   "source": [
    "#Number of respondents from each country\n",
    "counts = clean_df.Country.value_counts().reset_index(name='NumResponses') #Number of responses by country\n",
    "continent_c= get_continent(counts.iloc[:,0]);\n",
    "counts['Continent'] = continent_c\n",
    "print('Total responses from 10 most respresented countries: '+ str(counts.iloc[:10,1:2].sum()[0]))"
   ]
  },
  {
   "cell_type": "markdown",
   "metadata": {},
   "source": [
    "<div class=\"span5 alert alert-success\">\n",
    "    Two thirds of the responses come from the 10 most represented countries</div>"
   ]
  },
  {
   "cell_type": "code",
   "execution_count": 183,
   "metadata": {},
   "outputs": [
    {
     "data": {
      "text/html": [
       "<style  type=\"text/css\" >\n",
       "</style><table id=\"T_0022d294_9964_11ea_8de8_001a7dda7113\" ><caption>Number of responses by Continent</caption><thead>    <tr>        <th class=\"blank level0\" ></th>        <th class=\"col_heading level0 col0\" >NumResponses</th>    </tr>    <tr>        <th class=\"index_name level0\" >Continent</th>        <th class=\"blank\" ></th>    </tr></thead><tbody>\n",
       "                <tr>\n",
       "                        <th id=\"T_0022d294_9964_11ea_8de8_001a7dda7113level0_row0\" class=\"row_heading level0 row0\" >Europe</th>\n",
       "                        <td id=\"T_0022d294_9964_11ea_8de8_001a7dda7113row0_col0\" class=\"data row0 col0\" >12680</td>\n",
       "            </tr>\n",
       "            <tr>\n",
       "                        <th id=\"T_0022d294_9964_11ea_8de8_001a7dda7113level0_row1\" class=\"row_heading level0 row1\" >North America</th>\n",
       "                        <td id=\"T_0022d294_9964_11ea_8de8_001a7dda7113row1_col0\" class=\"data row1 col0\" >11521</td>\n",
       "            </tr>\n",
       "            <tr>\n",
       "                        <th id=\"T_0022d294_9964_11ea_8de8_001a7dda7113level0_row2\" class=\"row_heading level0 row2\" >Asia</th>\n",
       "                        <td id=\"T_0022d294_9964_11ea_8de8_001a7dda7113row2_col0\" class=\"data row2 col0\" >5206</td>\n",
       "            </tr>\n",
       "            <tr>\n",
       "                        <th id=\"T_0022d294_9964_11ea_8de8_001a7dda7113level0_row3\" class=\"row_heading level0 row3\" >Sount America</th>\n",
       "                        <td id=\"T_0022d294_9964_11ea_8de8_001a7dda7113row3_col0\" class=\"data row3 col0\" >1237</td>\n",
       "            </tr>\n",
       "            <tr>\n",
       "                        <th id=\"T_0022d294_9964_11ea_8de8_001a7dda7113level0_row4\" class=\"row_heading level0 row4\" >Oceania</th>\n",
       "                        <td id=\"T_0022d294_9964_11ea_8de8_001a7dda7113row4_col0\" class=\"data row4 col0\" >1065</td>\n",
       "            </tr>\n",
       "            <tr>\n",
       "                        <th id=\"T_0022d294_9964_11ea_8de8_001a7dda7113level0_row5\" class=\"row_heading level0 row5\" >Africa</th>\n",
       "                        <td id=\"T_0022d294_9964_11ea_8de8_001a7dda7113row5_col0\" class=\"data row5 col0\" >541</td>\n",
       "            </tr>\n",
       "            <tr>\n",
       "                        <th id=\"T_0022d294_9964_11ea_8de8_001a7dda7113level0_row6\" class=\"row_heading level0 row6\" >Other</th>\n",
       "                        <td id=\"T_0022d294_9964_11ea_8de8_001a7dda7113row6_col0\" class=\"data row6 col0\" >171</td>\n",
       "            </tr>\n",
       "    </tbody></table>"
      ],
      "text/plain": [
       "<pandas.io.formats.style.Styler at 0x19e91535488>"
      ]
     },
     "execution_count": 183,
     "metadata": {},
     "output_type": "execute_result"
    }
   ],
   "source": [
    "pd.DataFrame(counts.groupby('Continent')['NumResponses'].sum().sort_values(ascending=False)).style.set_caption(\"Number of responses by Continent\")"
   ]
  },
  {
   "cell_type": "code",
   "execution_count": 60,
   "metadata": {
    "scrolled": false
   },
   "outputs": [
    {
     "data": {
      "text/html": [
       "<style  type=\"text/css\" >\n",
       "</style><table id=\"T_7313a850_9961_11ea_8220_001a7dda7113\" ><caption>10 most represented countries</caption><thead>    <tr>        <th class=\"blank level0\" ></th>        <th class=\"col_heading level0 col0\" >Country</th>        <th class=\"col_heading level0 col1\" >NumResponses</th>        <th class=\"col_heading level0 col2\" >Continent</th>    </tr></thead><tbody>\n",
       "                <tr>\n",
       "                        <th id=\"T_7313a850_9961_11ea_8220_001a7dda7113level0_row0\" class=\"row_heading level0 row0\" >1</th>\n",
       "                        <td id=\"T_7313a850_9961_11ea_8220_001a7dda7113row0_col0\" class=\"data row0 col0\" >United States</td>\n",
       "                        <td id=\"T_7313a850_9961_11ea_8220_001a7dda7113row0_col1\" class=\"data row0 col1\" >9808</td>\n",
       "                        <td id=\"T_7313a850_9961_11ea_8220_001a7dda7113row0_col2\" class=\"data row0 col2\" >North America</td>\n",
       "            </tr>\n",
       "            <tr>\n",
       "                        <th id=\"T_7313a850_9961_11ea_8220_001a7dda7113level0_row1\" class=\"row_heading level0 row1\" >2</th>\n",
       "                        <td id=\"T_7313a850_9961_11ea_8220_001a7dda7113row1_col0\" class=\"data row1 col0\" >United Kingdom</td>\n",
       "                        <td id=\"T_7313a850_9961_11ea_8220_001a7dda7113row1_col1\" class=\"data row1 col1\" >2694</td>\n",
       "                        <td id=\"T_7313a850_9961_11ea_8220_001a7dda7113row1_col2\" class=\"data row1 col2\" >Europe</td>\n",
       "            </tr>\n",
       "            <tr>\n",
       "                        <th id=\"T_7313a850_9961_11ea_8220_001a7dda7113level0_row2\" class=\"row_heading level0 row2\" >3</th>\n",
       "                        <td id=\"T_7313a850_9961_11ea_8220_001a7dda7113row2_col0\" class=\"data row2 col0\" >India</td>\n",
       "                        <td id=\"T_7313a850_9961_11ea_8220_001a7dda7113row2_col1\" class=\"data row2 col1\" >2392</td>\n",
       "                        <td id=\"T_7313a850_9961_11ea_8220_001a7dda7113row2_col2\" class=\"data row2 col2\" >Asia</td>\n",
       "            </tr>\n",
       "            <tr>\n",
       "                        <th id=\"T_7313a850_9961_11ea_8220_001a7dda7113level0_row3\" class=\"row_heading level0 row3\" >4</th>\n",
       "                        <td id=\"T_7313a850_9961_11ea_8220_001a7dda7113row3_col0\" class=\"data row3 col0\" >Germany</td>\n",
       "                        <td id=\"T_7313a850_9961_11ea_8220_001a7dda7113row3_col1\" class=\"data row3 col1\" >2213</td>\n",
       "                        <td id=\"T_7313a850_9961_11ea_8220_001a7dda7113row3_col2\" class=\"data row3 col2\" >Europe</td>\n",
       "            </tr>\n",
       "            <tr>\n",
       "                        <th id=\"T_7313a850_9961_11ea_8220_001a7dda7113level0_row4\" class=\"row_heading level0 row4\" >5</th>\n",
       "                        <td id=\"T_7313a850_9961_11ea_8220_001a7dda7113row4_col0\" class=\"data row4 col0\" >Canada</td>\n",
       "                        <td id=\"T_7313a850_9961_11ea_8220_001a7dda7113row4_col1\" class=\"data row4 col1\" >1385</td>\n",
       "                        <td id=\"T_7313a850_9961_11ea_8220_001a7dda7113row4_col2\" class=\"data row4 col2\" >North America</td>\n",
       "            </tr>\n",
       "            <tr>\n",
       "                        <th id=\"T_7313a850_9961_11ea_8220_001a7dda7113level0_row5\" class=\"row_heading level0 row5\" >6</th>\n",
       "                        <td id=\"T_7313a850_9961_11ea_8220_001a7dda7113row5_col0\" class=\"data row5 col0\" >France</td>\n",
       "                        <td id=\"T_7313a850_9961_11ea_8220_001a7dda7113row5_col1\" class=\"data row5 col1\" >945</td>\n",
       "                        <td id=\"T_7313a850_9961_11ea_8220_001a7dda7113row5_col2\" class=\"data row5 col2\" >Europe</td>\n",
       "            </tr>\n",
       "            <tr>\n",
       "                        <th id=\"T_7313a850_9961_11ea_8220_001a7dda7113level0_row6\" class=\"row_heading level0 row6\" >7</th>\n",
       "                        <td id=\"T_7313a850_9961_11ea_8220_001a7dda7113row6_col0\" class=\"data row6 col0\" >Australia</td>\n",
       "                        <td id=\"T_7313a850_9961_11ea_8220_001a7dda7113row6_col1\" class=\"data row6 col1\" >841</td>\n",
       "                        <td id=\"T_7313a850_9961_11ea_8220_001a7dda7113row6_col2\" class=\"data row6 col2\" >Oceania</td>\n",
       "            </tr>\n",
       "            <tr>\n",
       "                        <th id=\"T_7313a850_9961_11ea_8220_001a7dda7113level0_row7\" class=\"row_heading level0 row7\" >8</th>\n",
       "                        <td id=\"T_7313a850_9961_11ea_8220_001a7dda7113row7_col0\" class=\"data row7 col0\" >Russian Federation</td>\n",
       "                        <td id=\"T_7313a850_9961_11ea_8220_001a7dda7113row7_col1\" class=\"data row7 col1\" >755</td>\n",
       "                        <td id=\"T_7313a850_9961_11ea_8220_001a7dda7113row7_col2\" class=\"data row7 col2\" >Asia</td>\n",
       "            </tr>\n",
       "            <tr>\n",
       "                        <th id=\"T_7313a850_9961_11ea_8220_001a7dda7113level0_row8\" class=\"row_heading level0 row8\" >9</th>\n",
       "                        <td id=\"T_7313a850_9961_11ea_8220_001a7dda7113row8_col0\" class=\"data row8 col0\" >Brazil</td>\n",
       "                        <td id=\"T_7313a850_9961_11ea_8220_001a7dda7113row8_col1\" class=\"data row8 col1\" >748</td>\n",
       "                        <td id=\"T_7313a850_9961_11ea_8220_001a7dda7113row8_col2\" class=\"data row8 col2\" >Sount America</td>\n",
       "            </tr>\n",
       "            <tr>\n",
       "                        <th id=\"T_7313a850_9961_11ea_8220_001a7dda7113level0_row9\" class=\"row_heading level0 row9\" >10</th>\n",
       "                        <td id=\"T_7313a850_9961_11ea_8220_001a7dda7113row9_col0\" class=\"data row9 col0\" >Spain</td>\n",
       "                        <td id=\"T_7313a850_9961_11ea_8220_001a7dda7113row9_col1\" class=\"data row9 col1\" >705</td>\n",
       "                        <td id=\"T_7313a850_9961_11ea_8220_001a7dda7113row9_col2\" class=\"data row9 col2\" >Europe</td>\n",
       "            </tr>\n",
       "    </tbody></table>"
      ],
      "text/plain": [
       "<pandas.io.formats.style.Styler at 0x19e8f314288>"
      ]
     },
     "execution_count": 60,
     "metadata": {},
     "output_type": "execute_result"
    }
   ],
   "source": [
    "counts.columns = ['Country', 'NumResponses', 'Continent'];\n",
    "counts.index = range(1,len(counts)+1);\n",
    "counts.head(10);counts.head(10).style.set_caption(\"10 most represented countries\")"
   ]
  },
  {
   "cell_type": "code",
   "execution_count": 61,
   "metadata": {
    "scrolled": true
   },
   "outputs": [
    {
     "name": "stdout",
     "output_type": "stream",
     "text": [
      "Number of countries with at least 100 responses: 40\n"
     ]
    }
   ],
   "source": [
    "#Num countries with at least 100 respondents\n",
    "print('Number of countries with at least 100 responses: '+str(counts[counts.NumResponses>=100].shape[0]))"
   ]
  },
  {
   "cell_type": "code",
   "execution_count": 62,
   "metadata": {},
   "outputs": [
    {
     "data": {
      "text/html": [
       "<style  type=\"text/css\" >\n",
       "</style><table id=\"T_73179df4_9961_11ea_8692_001a7dda7113\" ><caption>% of countries by continent</caption><thead>    <tr>        <th class=\"blank level0\" ></th>        <th class=\"col_heading level0 col0\" >NumResponses</th>        <th class=\"col_heading level0 col1\" >%</th>    </tr>    <tr>        <th class=\"index_name level0\" >Continent</th>        <th class=\"blank\" ></th>        <th class=\"blank\" ></th>    </tr></thead><tbody>\n",
       "                <tr>\n",
       "                        <th id=\"T_73179df4_9961_11ea_8692_001a7dda7113level0_row0\" class=\"row_heading level0 row0\" >Africa</th>\n",
       "                        <td id=\"T_73179df4_9961_11ea_8692_001a7dda7113row0_col0\" class=\"data row0 col0\" >30</td>\n",
       "                        <td id=\"T_73179df4_9961_11ea_8692_001a7dda7113row0_col1\" class=\"data row0 col1\" >20.8333</td>\n",
       "            </tr>\n",
       "            <tr>\n",
       "                        <th id=\"T_73179df4_9961_11ea_8692_001a7dda7113level0_row1\" class=\"row_heading level0 row1\" >Asia</th>\n",
       "                        <td id=\"T_73179df4_9961_11ea_8692_001a7dda7113row1_col0\" class=\"data row1 col0\" >41</td>\n",
       "                        <td id=\"T_73179df4_9961_11ea_8692_001a7dda7113row1_col1\" class=\"data row1 col1\" >28.4722</td>\n",
       "            </tr>\n",
       "            <tr>\n",
       "                        <th id=\"T_73179df4_9961_11ea_8692_001a7dda7113level0_row2\" class=\"row_heading level0 row2\" >Europe</th>\n",
       "                        <td id=\"T_73179df4_9961_11ea_8692_001a7dda7113row2_col0\" class=\"data row2 col0\" >44</td>\n",
       "                        <td id=\"T_73179df4_9961_11ea_8692_001a7dda7113row2_col1\" class=\"data row2 col1\" >30.5556</td>\n",
       "            </tr>\n",
       "            <tr>\n",
       "                        <th id=\"T_73179df4_9961_11ea_8692_001a7dda7113level0_row3\" class=\"row_heading level0 row3\" >North America</th>\n",
       "                        <td id=\"T_73179df4_9961_11ea_8692_001a7dda7113row3_col0\" class=\"data row3 col0\" >13</td>\n",
       "                        <td id=\"T_73179df4_9961_11ea_8692_001a7dda7113row3_col1\" class=\"data row3 col1\" >9.02778</td>\n",
       "            </tr>\n",
       "            <tr>\n",
       "                        <th id=\"T_73179df4_9961_11ea_8692_001a7dda7113level0_row4\" class=\"row_heading level0 row4\" >Oceania</th>\n",
       "                        <td id=\"T_73179df4_9961_11ea_8692_001a7dda7113row4_col0\" class=\"data row4 col0\" >3</td>\n",
       "                        <td id=\"T_73179df4_9961_11ea_8692_001a7dda7113row4_col1\" class=\"data row4 col1\" >2.08333</td>\n",
       "            </tr>\n",
       "            <tr>\n",
       "                        <th id=\"T_73179df4_9961_11ea_8692_001a7dda7113level0_row5\" class=\"row_heading level0 row5\" >Other</th>\n",
       "                        <td id=\"T_73179df4_9961_11ea_8692_001a7dda7113row5_col0\" class=\"data row5 col0\" >2</td>\n",
       "                        <td id=\"T_73179df4_9961_11ea_8692_001a7dda7113row5_col1\" class=\"data row5 col1\" >1.38889</td>\n",
       "            </tr>\n",
       "            <tr>\n",
       "                        <th id=\"T_73179df4_9961_11ea_8692_001a7dda7113level0_row6\" class=\"row_heading level0 row6\" >Sount America</th>\n",
       "                        <td id=\"T_73179df4_9961_11ea_8692_001a7dda7113row6_col0\" class=\"data row6 col0\" >11</td>\n",
       "                        <td id=\"T_73179df4_9961_11ea_8692_001a7dda7113row6_col1\" class=\"data row6 col1\" >7.63889</td>\n",
       "            </tr>\n",
       "    </tbody></table>"
      ],
      "text/plain": [
       "<pandas.io.formats.style.Styler at 0x19e8f31d548>"
      ]
     },
     "execution_count": 62,
     "metadata": {},
     "output_type": "execute_result"
    }
   ],
   "source": [
    "counts_perc = pd.DataFrame(counts.groupby('Continent').count()['NumResponses']);counts_perc['%']= counts_perc['NumResponses']*100/counts_perc['NumResponses'].sum()\n",
    "counts_perc;counts_perc.style.set_caption(\"% of countries by continent\")"
   ]
  },
  {
   "cell_type": "code",
   "execution_count": 63,
   "metadata": {
    "scrolled": true
   },
   "outputs": [
    {
     "data": {
      "text/html": [
       "<style  type=\"text/css\" >\n",
       "</style><table id=\"T_731aceec_9961_11ea_95dc_001a7dda7113\" ><caption>% of countries (with at least 100 respondents) by continent</caption><thead>    <tr>        <th class=\"blank level0\" ></th>        <th class=\"col_heading level0 col0\" >NumResponses</th>        <th class=\"col_heading level0 col1\" >%</th>    </tr>    <tr>        <th class=\"index_name level0\" >Continent</th>        <th class=\"blank\" ></th>        <th class=\"blank\" ></th>    </tr></thead><tbody>\n",
       "                <tr>\n",
       "                        <th id=\"T_731aceec_9961_11ea_95dc_001a7dda7113level0_row0\" class=\"row_heading level0 row0\" >Africa</th>\n",
       "                        <td id=\"T_731aceec_9961_11ea_95dc_001a7dda7113row0_col0\" class=\"data row0 col0\" >1</td>\n",
       "                        <td id=\"T_731aceec_9961_11ea_95dc_001a7dda7113row0_col1\" class=\"data row0 col1\" >2.5</td>\n",
       "            </tr>\n",
       "            <tr>\n",
       "                        <th id=\"T_731aceec_9961_11ea_95dc_001a7dda7113level0_row1\" class=\"row_heading level0 row1\" >Asia</th>\n",
       "                        <td id=\"T_731aceec_9961_11ea_95dc_001a7dda7113row1_col0\" class=\"data row1 col0\" >8</td>\n",
       "                        <td id=\"T_731aceec_9961_11ea_95dc_001a7dda7113row1_col1\" class=\"data row1 col1\" >20</td>\n",
       "            </tr>\n",
       "            <tr>\n",
       "                        <th id=\"T_731aceec_9961_11ea_95dc_001a7dda7113level0_row2\" class=\"row_heading level0 row2\" >Europe</th>\n",
       "                        <td id=\"T_731aceec_9961_11ea_95dc_001a7dda7113row2_col0\" class=\"data row2 col0\" >22</td>\n",
       "                        <td id=\"T_731aceec_9961_11ea_95dc_001a7dda7113row2_col1\" class=\"data row2 col1\" >55</td>\n",
       "            </tr>\n",
       "            <tr>\n",
       "                        <th id=\"T_731aceec_9961_11ea_95dc_001a7dda7113level0_row3\" class=\"row_heading level0 row3\" >North America</th>\n",
       "                        <td id=\"T_731aceec_9961_11ea_95dc_001a7dda7113row3_col0\" class=\"data row3 col0\" >3</td>\n",
       "                        <td id=\"T_731aceec_9961_11ea_95dc_001a7dda7113row3_col1\" class=\"data row3 col1\" >7.5</td>\n",
       "            </tr>\n",
       "            <tr>\n",
       "                        <th id=\"T_731aceec_9961_11ea_95dc_001a7dda7113level0_row4\" class=\"row_heading level0 row4\" >Oceania</th>\n",
       "                        <td id=\"T_731aceec_9961_11ea_95dc_001a7dda7113row4_col0\" class=\"data row4 col0\" >2</td>\n",
       "                        <td id=\"T_731aceec_9961_11ea_95dc_001a7dda7113row4_col1\" class=\"data row4 col1\" >5</td>\n",
       "            </tr>\n",
       "            <tr>\n",
       "                        <th id=\"T_731aceec_9961_11ea_95dc_001a7dda7113level0_row5\" class=\"row_heading level0 row5\" >Other</th>\n",
       "                        <td id=\"T_731aceec_9961_11ea_95dc_001a7dda7113row5_col0\" class=\"data row5 col0\" >1</td>\n",
       "                        <td id=\"T_731aceec_9961_11ea_95dc_001a7dda7113row5_col1\" class=\"data row5 col1\" >2.5</td>\n",
       "            </tr>\n",
       "            <tr>\n",
       "                        <th id=\"T_731aceec_9961_11ea_95dc_001a7dda7113level0_row6\" class=\"row_heading level0 row6\" >Sount America</th>\n",
       "                        <td id=\"T_731aceec_9961_11ea_95dc_001a7dda7113row6_col0\" class=\"data row6 col0\" >3</td>\n",
       "                        <td id=\"T_731aceec_9961_11ea_95dc_001a7dda7113row6_col1\" class=\"data row6 col1\" >7.5</td>\n",
       "            </tr>\n",
       "    </tbody></table>"
      ],
      "text/plain": [
       "<pandas.io.formats.style.Styler at 0x19e8f322e48>"
      ]
     },
     "execution_count": 63,
     "metadata": {},
     "output_type": "execute_result"
    }
   ],
   "source": [
    "count100 = counts[(counts.NumResponses>=100)]#Num of countries with more than 100 respondents\n",
    "count100_perc = pd.DataFrame(count100.groupby('Continent').count()['NumResponses'])\n",
    "count100_perc['%']= count100_perc['NumResponses']*100/count100_perc['NumResponses'].sum() #% of countries (with at least 100 respondents) by continent\n",
    "count100_perc.style.set_caption(\"% of countries (with at least 100 respondents) by continent\")#***fix"
   ]
  },
  {
   "cell_type": "markdown",
   "metadata": {},
   "source": [
    "<div class=\"span5 alert alert-success\">\n",
    "After comparing the 2 tables above, we can see that Asian, African and poorer North American countries are underrespresented in the data. </div>"
   ]
  },
  {
   "cell_type": "code",
   "execution_count": 64,
   "metadata": {
    "scrolled": false
   },
   "outputs": [
    {
     "data": {
      "text/html": [
       "<style  type=\"text/css\" >\n",
       "</style><table id=\"T_7326d49e_9961_11ea_b448_001a7dda7113\" ><caption>Countries with highest salary</caption><thead>    <tr>        <th class=\"blank level0\" ></th>        <th class=\"col_heading level0 col0\" >ConvertedSalary</th>    </tr>    <tr>        <th class=\"index_name level0\" >Country</th>        <th class=\"blank\" ></th>    </tr></thead><tbody>\n",
       "                <tr>\n",
       "                        <th id=\"T_7326d49e_9961_11ea_b448_001a7dda7113level0_row0\" class=\"row_heading level0 row0\" >Liechtenstein</th>\n",
       "                        <td id=\"T_7326d49e_9961_11ea_b448_001a7dda7113row0_col0\" class=\"data row0 col0\" >426042</td>\n",
       "            </tr>\n",
       "            <tr>\n",
       "                        <th id=\"T_7326d49e_9961_11ea_b448_001a7dda7113level0_row1\" class=\"row_heading level0 row1\" >Botswana</th>\n",
       "                        <td id=\"T_7326d49e_9961_11ea_b448_001a7dda7113row1_col0\" class=\"data row1 col0\" >140000</td>\n",
       "            </tr>\n",
       "            <tr>\n",
       "                        <th id=\"T_7326d49e_9961_11ea_b448_001a7dda7113level0_row2\" class=\"row_heading level0 row2\" >Sierra Leone</th>\n",
       "                        <td id=\"T_7326d49e_9961_11ea_b448_001a7dda7113row2_col0\" class=\"data row2 col0\" >120000</td>\n",
       "            </tr>\n",
       "            <tr>\n",
       "                        <th id=\"T_7326d49e_9961_11ea_b448_001a7dda7113level0_row3\" class=\"row_heading level0 row3\" >United States</th>\n",
       "                        <td id=\"T_7326d49e_9961_11ea_b448_001a7dda7113row3_col0\" class=\"data row3 col0\" >100000</td>\n",
       "            </tr>\n",
       "            <tr>\n",
       "                        <th id=\"T_7326d49e_9961_11ea_b448_001a7dda7113level0_row4\" class=\"row_heading level0 row4\" >Switzerland</th>\n",
       "                        <td id=\"T_7326d49e_9961_11ea_b448_001a7dda7113row4_col0\" class=\"data row4 col0\" >98534.5</td>\n",
       "            </tr>\n",
       "            <tr>\n",
       "                        <th id=\"T_7326d49e_9961_11ea_b448_001a7dda7113level0_row5\" class=\"row_heading level0 row5\" >Israel</th>\n",
       "                        <td id=\"T_7326d49e_9961_11ea_b448_001a7dda7113row5_col0\" class=\"data row5 col0\" >94788</td>\n",
       "            </tr>\n",
       "            <tr>\n",
       "                        <th id=\"T_7326d49e_9961_11ea_b448_001a7dda7113level0_row6\" class=\"row_heading level0 row6\" >Bahamas</th>\n",
       "                        <td id=\"T_7326d49e_9961_11ea_b448_001a7dda7113row6_col0\" class=\"data row6 col0\" >88500</td>\n",
       "            </tr>\n",
       "            <tr>\n",
       "                        <th id=\"T_7326d49e_9961_11ea_b448_001a7dda7113level0_row7\" class=\"row_heading level0 row7\" >Norway</th>\n",
       "                        <td id=\"T_7326d49e_9961_11ea_b448_001a7dda7113row7_col0\" class=\"data row7 col0\" >85185</td>\n",
       "            </tr>\n",
       "            <tr>\n",
       "                        <th id=\"T_7326d49e_9961_11ea_b448_001a7dda7113level0_row8\" class=\"row_heading level0 row8\" >Denmark</th>\n",
       "                        <td id=\"T_7326d49e_9961_11ea_b448_001a7dda7113row8_col0\" class=\"data row8 col0\" >82836</td>\n",
       "            </tr>\n",
       "            <tr>\n",
       "                        <th id=\"T_7326d49e_9961_11ea_b448_001a7dda7113level0_row9\" class=\"row_heading level0 row9\" >Australia</th>\n",
       "                        <td id=\"T_7326d49e_9961_11ea_b448_001a7dda7113row9_col0\" class=\"data row9 col0\" >79973</td>\n",
       "            </tr>\n",
       "    </tbody></table>"
      ],
      "text/plain": [
       "<pandas.io.formats.style.Styler at 0x19e8f309d08>"
      ]
     },
     "execution_count": 64,
     "metadata": {},
     "output_type": "execute_result"
    }
   ],
   "source": [
    "salaries_median = clean_df.groupby('Country')['ConvertedSalary'].median() #Median salary by country. # for specific: [clean_df['Country'].isin(last_20_countries.index)]\n",
    "salaries_mean = pd.DataFrame(clean_df.groupby('Country')['ConvertedSalary'].mean()) #Mean of salaries by country\n",
    "salaries_diff = salaries_median - salaries_mean;salaries_mean = pd.DataFrame(salaries_mean)\n",
    "salaries_median = pd.DataFrame(salaries_median.sort_values(ascending=False));\n",
    "if 'Continent' in df.columns:\n",
    "    df.drop(columns=['Continent'],inplace=True);\n",
    "salaries_median.head(10).style.set_caption(\"Countries with highest salary\")"
   ]
  },
  {
   "cell_type": "markdown",
   "metadata": {},
   "source": [
    "<div class=\"span5 alert alert-success\">\n",
    "Checking the countries with the highest salary, we can see that there are definitely a few countries with poor or non-existing data. </div>"
   ]
  },
  {
   "cell_type": "code",
   "execution_count": 65,
   "metadata": {
    "scrolled": true
   },
   "outputs": [
    {
     "data": {
      "text/html": [
       "<div>\n",
       "<style scoped>\n",
       "    .dataframe tbody tr th:only-of-type {\n",
       "        vertical-align: middle;\n",
       "    }\n",
       "\n",
       "    .dataframe tbody tr th {\n",
       "        vertical-align: top;\n",
       "    }\n",
       "\n",
       "    .dataframe thead th {\n",
       "        text-align: right;\n",
       "    }\n",
       "</style>\n",
       "<table border=\"1\" class=\"dataframe\">\n",
       "  <thead>\n",
       "    <tr style=\"text-align: right;\">\n",
       "      <th></th>\n",
       "      <th>ConvertedSalary</th>\n",
       "    </tr>\n",
       "    <tr>\n",
       "      <th>Country</th>\n",
       "      <th></th>\n",
       "    </tr>\n",
       "  </thead>\n",
       "  <tbody>\n",
       "    <tr>\n",
       "      <td>United States</td>\n",
       "      <td>100000.0</td>\n",
       "    </tr>\n",
       "    <tr>\n",
       "      <td>Australia</td>\n",
       "      <td>79973.0</td>\n",
       "    </tr>\n",
       "    <tr>\n",
       "      <td>Canada</td>\n",
       "      <td>64417.0</td>\n",
       "    </tr>\n",
       "    <tr>\n",
       "      <td>Germany</td>\n",
       "      <td>63642.0</td>\n",
       "    </tr>\n",
       "    <tr>\n",
       "      <td>United Kingdom</td>\n",
       "      <td>62507.0</td>\n",
       "    </tr>\n",
       "    <tr>\n",
       "      <td>France</td>\n",
       "      <td>50179.0</td>\n",
       "    </tr>\n",
       "    <tr>\n",
       "      <td>Spain</td>\n",
       "      <td>39164.0</td>\n",
       "    </tr>\n",
       "    <tr>\n",
       "      <td>Russian Federation</td>\n",
       "      <td>23352.0</td>\n",
       "    </tr>\n",
       "    <tr>\n",
       "      <td>Brazil</td>\n",
       "      <td>20592.0</td>\n",
       "    </tr>\n",
       "    <tr>\n",
       "      <td>India</td>\n",
       "      <td>11268.0</td>\n",
       "    </tr>\n",
       "  </tbody>\n",
       "</table>\n",
       "</div>"
      ],
      "text/plain": [
       "                    ConvertedSalary\n",
       "Country                            \n",
       "United States              100000.0\n",
       "Australia                   79973.0\n",
       "Canada                      64417.0\n",
       "Germany                     63642.0\n",
       "United Kingdom              62507.0\n",
       "France                      50179.0\n",
       "Spain                       39164.0\n",
       "Russian Federation          23352.0\n",
       "Brazil                      20592.0\n",
       "India                       11268.0"
      ]
     },
     "execution_count": 65,
     "metadata": {},
     "output_type": "execute_result"
    }
   ],
   "source": [
    "#Median salary in countries with at lease 100  respondents\n",
    "pd.DataFrame(clean_df[clean_df['Country'].isin(top_countries.index)].groupby('Country')['ConvertedSalary'].median().sort_values(ascending=False))"
   ]
  },
  {
   "cell_type": "markdown",
   "metadata": {},
   "source": [
    "<div class=\"span5 alert alert-success\">\n",
    "After removing countries with less than 100 datapoints, we find cleaner data. Not surprisingly, western countries have a much higher median income than developing countries. Developers in the US make 9X as much as those in India (where many IT jobs are outsourced). </div>"
   ]
  },
  {
   "cell_type": "code",
   "execution_count": 66,
   "metadata": {},
   "outputs": [
    {
     "data": {
      "text/plain": [
       "(32421, 40)"
      ]
     },
     "execution_count": 66,
     "metadata": {},
     "output_type": "execute_result"
    }
   ],
   "source": [
    "clean_df.shape"
   ]
  },
  {
   "cell_type": "markdown",
   "metadata": {},
   "source": [
    "<a id='DataViz'></a> <font size=\"5\"><b>Data Visualization</b>"
   ]
  },
  {
   "cell_type": "code",
   "execution_count": 67,
   "metadata": {
    "scrolled": false
   },
   "outputs": [
    {
     "data": {
      "image/png": "[encoded data removed]",
      "text/plain": [
       "<Figure size 360x360 with 1 Axes>"
      ]
     },
     "metadata": {},
     "output_type": "display_data"
    }
   ],
   "source": [
    "df_dropped_majors = data.dropna(subset=['UndergradMajor'])\n",
    "ugrad_majors = pd.DataFrame(df_dropped_majors['UndergradMajor'].value_counts(normalize=True)*100).round(1)\n",
    "ugrad_majors.columns=['Percentage'];\n",
    "frame1 =ugrad_majors.plot.pie(y='Percentage', figsize=(5, 5),startangle=0,legend=None, autopct='%1.1f%%', pctdistance=0.9, radius=2);\n",
    "frame1.axes.get_yaxis().set_visible(False)"
   ]
  },
  {
   "cell_type": "markdown",
   "metadata": {},
   "source": [
    "<div class=\"span5 alert alert-success\">\n",
    "A lot of people from non-CS related backgrounds tend to switch to programming as a career. About 36% of developers didn't major in CS as undergraduates. With the rise of programming bootcamps, it is getting easier to switch to programming regardless of your background. Health science majors are least likely to switch to programming whereas STEM majors were much more likely to do the same. </div> "
   ]
  },
  {
   "cell_type": "code",
   "execution_count": 68,
   "metadata": {
    "scrolled": false
   },
   "outputs": [
    {
     "data": {
      "image/png": "[encoded data removed]",
      "text/plain": [
       "<Figure size 432x288 with 1 Axes>"
      ]
     },
     "metadata": {
      "needs_background": "light"
     },
     "output_type": "display_data"
    }
   ],
   "source": [
    "clean_df[clean_df['Country'].isin(top_countries.index)]['Country'].value_counts().plot(kind='bar');\n",
    "_=plt.ylabel('Number of respondents');_=plt.xlabel('Country');_=plt.title('No. of respondednts by country',fontsize=16);"
   ]
  },
  {
   "cell_type": "markdown",
   "metadata": {},
   "source": [
    "<div class=\"span5 alert alert-success\">\n",
    "Most of the respondents are from the US and many of the rest are from other western countries so we'd expect this dataset to heavily represent people living in Western democracies.</div>"
   ]
  },
  {
   "cell_type": "markdown",
   "metadata": {},
   "source": [
    "<a id='Carsatvsother'></a> <font size=\"4\"><b>Variables affecting Career Satisfaction </b>"
   ]
  },
  {
   "cell_type": "code",
   "execution_count": 69,
   "metadata": {
    "scrolled": false
   },
   "outputs": [
    {
     "data": {
      "image/png": "[encoded data removed]",
      "text/plain": [
       "<Figure size 432x288 with 1 Axes>"
      ]
     },
     "metadata": {
      "needs_background": "light"
     },
     "output_type": "display_data"
    }
   ],
   "source": [
    "df_car_sat = pd.DataFrame(clean_df['CareerSatisfaction'].value_counts())\n",
    "df_car_sat['% of Respondents'] = df_car_sat['CareerSatisfaction']*100/df_car_sat['CareerSatisfaction'].sum()\n",
    "career_sat_order = ['Extremely satisfied','Moderately satisfied','Slightly satisfied','Neither satisfied nor dissatisfied','Slightly dissatisfied', 'Moderately dissatisfied','Extremely dissatisfied']#replace by car sat list\n",
    "career_sat_order_short = [ 'Extremely satisfied','Moderately satisfied','Slightly satisfied','Neither','Slightly dissatisfied', 'Moderately dissatisfied','Extremely dissatisfied']#replace by car sat list\n",
    "dict_car_sat = {'Extremely satisfied':'Extremely satisfied','Moderately satisfied':'Moderately satisfied','Slightly satisfied':'Slightly satisfied','Neither satisfied nor dissatisfied':'Neither','Slightly dissatisfied':'Slightly dissatisfied', 'Moderately dissatisfied':'Moderately dissatisfied','Extremely dissatisfied':'Extremely dissatisfied'}\n",
    "df_car_sat = df_car_sat.reindex(career_sat_order)\n",
    "df_car_sat.rename(index=dict_car_sat,inplace=True)\n",
    "df_car_sat_perc = df_car_sat[['% of Respondents']]\n",
    "fig = df_car_sat_perc.plot(kind='bar');\n",
    "plt.ylabel('% of Respondents');plt.xlabel('Career Satisfaction');\n",
    "fig.get_legend().remove()\n",
    "plt.title('% of Respondents by Career Satisfaction');"
   ]
  },
  {
   "cell_type": "markdown",
   "metadata": {},
   "source": [
    "<div class=\"span5 alert alert-success\">\n",
    "About 40% of the people surveyed were moderately satisfied, and on a whole, about 75% of the people were satisfied to some extent with their jobs. About 17% were dissatisfied and the rest were neither. </div>"
   ]
  },
  {
   "cell_type": "code",
   "execution_count": 70,
   "metadata": {
    "scrolled": false
   },
   "outputs": [
    {
     "data": {
      "image/png": "[encoded data removed]",
      "text/plain": [
       "<Figure size 432x288 with 1 Axes>"
      ]
     },
     "metadata": {
      "needs_background": "light"
     },
     "output_type": "display_data"
    }
   ],
   "source": [
    "df_c = clean_df[clean_df['Country'].isin(countries_100_resp.index)];\n",
    "df_c =df_c.groupby(['Country', 'CareerSatisfaction'])['Country'].count().unstack('CareerSatisfaction').fillna(0);df_c = satisfaction_perc(df_c);df_c['Country1']=df_c.index\n",
    "df_c_sat = df_c.sort_values(by='% Satisfied',ascending=False).head(15);df_c_dis = df_c.sort_values(by='% Satisfied',ascending=False).tail(15)\n",
    "fig =df_c_sat[['Country1','% Satisfied']].sort_values('% Satisfied',ascending=False).plot(kind='bar');fig.get_legend().remove();plt.ylabel('% Satisfied');plt.title('Most satisfied Developers by Country');"
   ]
  },
  {
   "cell_type": "code",
   "execution_count": 72,
   "metadata": {
    "scrolled": false
   },
   "outputs": [
    {
     "data": {
      "image/png": "[encoded data removed]",
      "text/plain": [
       "<Figure size 432x288 with 1 Axes>"
      ]
     },
     "metadata": {
      "needs_background": "light"
     },
     "output_type": "display_data"
    }
   ],
   "source": [
    "fig =df_c_dis[['Country1','% Satisfied']].sort_values('% Satisfied',ascending=False).plot(kind='bar');\n",
    "fig.get_legend().remove();plt.ylabel('% Satisfied'); plt.title('Least satisfied Developers by Country');"
   ]
  },
  {
   "cell_type": "code",
   "execution_count": 73,
   "metadata": {
    "scrolled": false
   },
   "outputs": [
    {
     "data": {
      "image/png": "[encoded data removed]",
      "text/plain": [
       "<Figure size 432x288 with 1 Axes>"
      ]
     },
     "metadata": {
      "needs_background": "light"
     },
     "output_type": "display_data"
    }
   ],
   "source": [
    "df_c_sorted =df_c.sort_values('% Extremely Satisfied',ascending=False);\n",
    "fig = df_c_sorted[['% Moderately Satisfied','% Extremely Satisfied', '% Slightly Satisfied']].sort_values('% Extremely Satisfied',ascending=True).head(10).plot(kind='bar',width=.75) ;\n",
    "box = fig.get_position();fig.set_position([box.x0, box.y0, box.width * 0.8, box.height]);fig.legend(loc='center left', bbox_to_anchor=(1, 0.5));plt.title('Extent of satisfaction by Country');"
   ]
  },
  {
   "cell_type": "markdown",
   "metadata": {},
   "source": [
    "<div class=\"span5 alert alert-success\">\n",
    "Developers from non-western countries like Russia, Brazil and India are more likely to be sliglty satisfied whereas developers in western countries tend to be moderately or extremely satisfied by their jobs. We see an inverse relationship with Slight satisfaction and extreme satisfaction with the job. </div>"
   ]
  },
  {
   "cell_type": "code",
   "execution_count": 74,
   "metadata": {
    "scrolled": false
   },
   "outputs": [
    {
     "data": {
      "image/png": "[encoded data removed]",
      "text/plain": [
       "<Figure size 432x288 with 1 Axes>"
      ]
     },
     "metadata": {
      "needs_background": "light"
     },
     "output_type": "display_data"
    }
   ],
   "source": [
    "#Plotting satisfaction in BRICS countries\n",
    "df_brics = clean_df[clean_df['Country'].isin(['Brazil','Russian Federation','India','China','South Africa'])]\n",
    "df_brics =df_brics.groupby(['Country', 'CareerSatisfaction'])['Country'].count().unstack('CareerSatisfaction').fillna(0)\n",
    "df_brics['Total'] = df_brics[['Extremely satisfied','Moderately satisfied','Slightly satisfied','Neither satisfied nor dissatisfied','Slightly dissatisfied', 'Moderately dissatisfied','Extremely dissatisfied']].sum(axis=1)\n",
    "df_brics['Satisfied']=df_brics[['Extremely satisfied','Moderately satisfied','Slightly satisfied']].sum(axis=1)\n",
    "df_brics['% Satisfied'] =  df_brics['Satisfied']*100/df_brics['Total'];df_brics['Country1']=df_brics.index\n",
    "fig =df_brics[['Country1','% Satisfied']].sort_values('% Satisfied',ascending=False).plot(kind='bar');\n",
    "fig.get_legend().remove();plt.ylabel('% Satisfied');plt.title('% Satisfaction in BRICS countries');"
   ]
  },
  {
   "cell_type": "markdown",
   "metadata": {},
   "source": [
    "<div class=\"span5 alert alert-success\">\n",
    "China has a much lower career satisfaction compared to other BRICS countries. </div>"
   ]
  },
  {
   "cell_type": "code",
   "execution_count": 75,
   "metadata": {},
   "outputs": [],
   "source": [
    "df_c_100 = clean_df[clean_df['Country'].isin(countries_100_resp.index)];\n",
    "df_c_100 =df_c_100.groupby(['Country', 'CareerSatisfaction'])['Country'].count().unstack('CareerSatisfaction').fillna(0);\n",
    "df_c_100 = satisfaction_perc(df_c_100)\n",
    "pd.DataFrame(df_c_100.iloc[:,9].sort_values(ascending=False)).head(10);"
   ]
  },
  {
   "cell_type": "code",
   "execution_count": 76,
   "metadata": {
    "scrolled": false
   },
   "outputs": [
    {
     "data": {
      "text/html": [
       "<div>\n",
       "<style scoped>\n",
       "    .dataframe tbody tr th:only-of-type {\n",
       "        vertical-align: middle;\n",
       "    }\n",
       "\n",
       "    .dataframe tbody tr th {\n",
       "        vertical-align: top;\n",
       "    }\n",
       "\n",
       "    .dataframe thead th {\n",
       "        text-align: right;\n",
       "    }\n",
       "</style>\n",
       "<table border=\"1\" class=\"dataframe\">\n",
       "  <thead>\n",
       "    <tr style=\"text-align: right;\">\n",
       "      <th></th>\n",
       "      <th>% Satisfied</th>\n",
       "    </tr>\n",
       "    <tr>\n",
       "      <th>Country</th>\n",
       "      <th></th>\n",
       "    </tr>\n",
       "  </thead>\n",
       "  <tbody>\n",
       "    <tr>\n",
       "      <td>Pakistan</td>\n",
       "      <td>69.633508</td>\n",
       "    </tr>\n",
       "    <tr>\n",
       "      <td>Iran, Islamic Republic of...</td>\n",
       "      <td>69.594595</td>\n",
       "    </tr>\n",
       "    <tr>\n",
       "      <td>Colombia</td>\n",
       "      <td>69.421488</td>\n",
       "    </tr>\n",
       "    <tr>\n",
       "      <td>Hong Kong (S.A.R.)</td>\n",
       "      <td>64.406780</td>\n",
       "    </tr>\n",
       "    <tr>\n",
       "      <td>Turkey</td>\n",
       "      <td>63.281250</td>\n",
       "    </tr>\n",
       "    <tr>\n",
       "      <td>Italy</td>\n",
       "      <td>63.146998</td>\n",
       "    </tr>\n",
       "    <tr>\n",
       "      <td>Japan</td>\n",
       "      <td>63.114754</td>\n",
       "    </tr>\n",
       "    <tr>\n",
       "      <td>Indonesia</td>\n",
       "      <td>61.458333</td>\n",
       "    </tr>\n",
       "    <tr>\n",
       "      <td>Malaysia</td>\n",
       "      <td>60.810811</td>\n",
       "    </tr>\n",
       "    <tr>\n",
       "      <td>China</td>\n",
       "      <td>48.936170</td>\n",
       "    </tr>\n",
       "  </tbody>\n",
       "</table>\n",
       "</div>"
      ],
      "text/plain": [
       "                              % Satisfied\n",
       "Country                                  \n",
       "Pakistan                        69.633508\n",
       "Iran, Islamic Republic of...    69.594595\n",
       "Colombia                        69.421488\n",
       "Hong Kong (S.A.R.)              64.406780\n",
       "Turkey                          63.281250\n",
       "Italy                           63.146998\n",
       "Japan                           63.114754\n",
       "Indonesia                       61.458333\n",
       "Malaysia                        60.810811\n",
       "China                           48.936170"
      ]
     },
     "execution_count": 76,
     "metadata": {},
     "output_type": "execute_result"
    }
   ],
   "source": [
    "pd.DataFrame(df_c_100.iloc[:,9].sort_values(ascending=False)).tail(10)"
   ]
  },
  {
   "cell_type": "markdown",
   "metadata": {},
   "source": [
    "<a id='Carsatvsother'></a> <font size=\"4\"><b>Formal Education </b>"
   ]
  },
  {
   "cell_type": "code",
   "execution_count": 77,
   "metadata": {
    "scrolled": false
   },
   "outputs": [
    {
     "data": {
      "image/png": "[encoded data removed]",
      "text/plain": [
       "<Figure size 432x288 with 1 Axes>"
      ]
     },
     "metadata": {
      "needs_background": "light"
     },
     "output_type": "display_data"
    }
   ],
   "source": [
    "clean_df['FormalEducation'].replace(['Bachelors', 'Some college', 'Masters', 'Associate degree',       'Secondary school (e.g. American high school, German Realschule or Gymnasium, etc.)',       'Professional degree (JD, MD, etc.)',       'Other doctoral degree (Ph.D, Ed.D., etc.)','Primary/elementary school','I never completed any formal education'],['Bachelors', 'Some college', 'Masters', 'Associate degree',       'Secondary school',       'Professional degree (JD, MD, etc.)',       'Other doctoral degree (Ph.D, Ed.D., etc.)',       'Primary/elementary school',       'I never completed any formal education'],inplace=True)\n",
    "df_c = clean_df.copy()\n",
    "df_c =df_c.groupby(['FormalEducation', 'CareerSatisfaction'])['FormalEducation'].count().unstack('CareerSatisfaction').fillna(0);\n",
    "df_c = satisfaction_perc(df_c);df_c['FormalEducation1']=df_c.index\n",
    "df_c_sat = df_c.sort_values(by='% Satisfied',ascending=False).head(15)\n",
    "df_c_dis = df_c.sort_values(by='% Satisfied',ascending=False).tail(15)\n",
    "fig =df_c_sat[['FormalEducation1','% Satisfied']].sort_values('% Satisfied',ascending=False).plot(kind='bar');\n",
    "fig.get_legend().remove();plt.ylabel('% Satisfied');plt.title('Most satisfied Developers by Formal Education');plt.xlabel('Formal Education');"
   ]
  },
  {
   "cell_type": "markdown",
   "metadata": {},
   "source": [
    "<a id='Carsatvsother'></a> <font size=\"4\"><b>Exercise </b>"
   ]
  },
  {
   "cell_type": "code",
   "execution_count": 78,
   "metadata": {
    "scrolled": false
   },
   "outputs": [
    {
     "data": {
      "image/png": "[encoded data removed]",
      "text/plain": [
       "<Figure size 432x288 with 1 Axes>"
      ]
     },
     "metadata": {
      "needs_background": "light"
     },
     "output_type": "display_data"
    }
   ],
   "source": [
    "df_hr = clean_df.groupby(['Exercise', 'CareerSatisfaction'])['Exercise'].count().unstack('CareerSatisfaction').fillna(0);\n",
    "df_hr = satisfaction_perc(df_hr)\n",
    "df_hr = satisfaction_perc(df_hr);df_hr['Exercise1']=df_hr.index\n",
    "fig =df_hr[['% Satisfied']].sort_values('% Satisfied',ascending=False).plot(kind='bar');\n",
    "fig.get_legend().remove();plt.ylabel('% Satisfied');plt.xlabel('Exercise Frequency');plt.title('Satisfaction vs Exercise Frequency');"
   ]
  },
  {
   "cell_type": "code",
   "execution_count": 79,
   "metadata": {},
   "outputs": [
    {
     "data": {
      "text/plain": [
       "0.21330930508341653"
      ]
     },
     "execution_count": 79,
     "metadata": {},
     "output_type": "execute_result"
    }
   ],
   "source": [
    "#Extremely Satisfied vs the rest for all categories of exercise\n",
    "crosstab = pd.crosstab(df_hr['Extremely satisfied'], df_hr['Total']-df_hr['Extremely satisfied'])\n",
    "stats.chi2_contingency(crosstab)[1]"
   ]
  },
  {
   "cell_type": "code",
   "execution_count": 80,
   "metadata": {
    "scrolled": true
   },
   "outputs": [
    {
     "data": {
      "text/plain": [
       "0.0"
      ]
     },
     "execution_count": 80,
     "metadata": {},
     "output_type": "execute_result"
    }
   ],
   "source": [
    "#% who are Extremely Satisfied with 3-4 days of exercise vs % who are Extremely Satisfied with no exercise\n",
    "satisfied = np.array([[10006,2039], [18319, 15019]]) #??? which numbers should I use\n",
    "#[total_3-4_exercise,total_3-4_exercise_satisfied],[total_no_exercise,total_no_exercise_extremely satisfied]\n",
    "stats.chi2_contingency(satisfied)[1]"
   ]
  },
  {
   "cell_type": "code",
   "execution_count": 81,
   "metadata": {
    "scrolled": true
   },
   "outputs": [
    {
     "data": {
      "text/plain": [
       "6.598107110821082e-05"
      ]
     },
     "execution_count": 81,
     "metadata": {},
     "output_type": "execute_result"
    }
   ],
   "source": [
    "#% who are Extremely dissatisfied with 3-4 days of exercise vs % who are Extremely dissatisfied with no exercise\n",
    "dissatisfied = np.array([[10006,2039], [18319, 3300]])\n",
    "#[total_dissatisfied,total_dissatisfied_excited],[total_other,total_not_dissatisfied_notexcited]\n",
    "stats.chi2_contingency(dissatisfied)[1]\n",
    "#*** bonferoni corection"
   ]
  },
  {
   "cell_type": "code",
   "execution_count": 82,
   "metadata": {
    "scrolled": false
   },
   "outputs": [
    {
     "name": "stdout",
     "output_type": "stream",
     "text": [
      "P-values between satisfaction of people who work out and those who don't (after applying Bonferroni Correction):0.07\n"
     ]
    }
   ],
   "source": [
    "print(\"P-values between satisfaction of people who work out and those who don't (after applying Bonferroni Correction):{:0.2f}\".format((6.598e-5+0+.21)/3))"
   ]
  },
  {
   "cell_type": "markdown",
   "metadata": {},
   "source": [
    "P-values between % of people who work out 3-4 times a day and are Extremely Satisfied and those who don't work out who are Extremely Satisfied is 6.5e-5 which is evidence that they are different populations and the relationship shown by the charts is meaningful."
   ]
  },
  {
   "cell_type": "markdown",
   "metadata": {},
   "source": [
    "<a id='Carsatvsother'></a> <font size=\"4\"><b>Undergrad Major </b>"
   ]
  },
  {
   "cell_type": "code",
   "execution_count": 83,
   "metadata": {
    "scrolled": false
   },
   "outputs": [
    {
     "data": {
      "text/html": [
       "<div>\n",
       "<style scoped>\n",
       "    .dataframe tbody tr th:only-of-type {\n",
       "        vertical-align: middle;\n",
       "    }\n",
       "\n",
       "    .dataframe tbody tr th {\n",
       "        vertical-align: top;\n",
       "    }\n",
       "\n",
       "    .dataframe thead th {\n",
       "        text-align: right;\n",
       "    }\n",
       "</style>\n",
       "<table border=\"1\" class=\"dataframe\">\n",
       "  <thead>\n",
       "    <tr style=\"text-align: right;\">\n",
       "      <th>CareerSatisfaction</th>\n",
       "      <th>% Satisfied</th>\n",
       "    </tr>\n",
       "    <tr>\n",
       "      <th>UndergradMajor</th>\n",
       "      <th></th>\n",
       "    </tr>\n",
       "  </thead>\n",
       "  <tbody>\n",
       "    <tr>\n",
       "      <td>A social science (ex. anthropology, psychology, political science)</td>\n",
       "      <td>85.816876</td>\n",
       "    </tr>\n",
       "    <tr>\n",
       "      <td>A humanities discipline (ex. literature, history, philosophy)</td>\n",
       "      <td>84.890966</td>\n",
       "    </tr>\n",
       "    <tr>\n",
       "      <td>I never declared a major</td>\n",
       "      <td>83.333333</td>\n",
       "    </tr>\n",
       "    <tr>\n",
       "      <td>A health science (ex. nursing, pharmacy, radiology)</td>\n",
       "      <td>81.538462</td>\n",
       "    </tr>\n",
       "    <tr>\n",
       "      <td>Fine arts or performing arts (ex. graphic design, music, studio art)</td>\n",
       "      <td>81.120332</td>\n",
       "    </tr>\n",
       "    <tr>\n",
       "      <td>A business discipline (ex. accounting, finance, marketing)</td>\n",
       "      <td>80.827068</td>\n",
       "    </tr>\n",
       "    <tr>\n",
       "      <td>A natural science (ex. biology, chemistry, physics)</td>\n",
       "      <td>79.840142</td>\n",
       "    </tr>\n",
       "    <tr>\n",
       "      <td>Mathematics or statistics</td>\n",
       "      <td>79.513185</td>\n",
       "    </tr>\n",
       "    <tr>\n",
       "      <td>Web development or web design</td>\n",
       "      <td>78.283713</td>\n",
       "    </tr>\n",
       "    <tr>\n",
       "      <td>Computer science, computer engineering, or software engineering</td>\n",
       "      <td>78.171702</td>\n",
       "    </tr>\n",
       "    <tr>\n",
       "      <td>Information systems, information technology, or system administration</td>\n",
       "      <td>77.857537</td>\n",
       "    </tr>\n",
       "    <tr>\n",
       "      <td>Another engineering discipline (ex. civil, electrical, mechanical)</td>\n",
       "      <td>76.200000</td>\n",
       "    </tr>\n",
       "  </tbody>\n",
       "</table>\n",
       "</div>"
      ],
      "text/plain": [
       "CareerSatisfaction                                  % Satisfied\n",
       "UndergradMajor                                                 \n",
       "A social science (ex. anthropology, psychology,...    85.816876\n",
       "A humanities discipline (ex. literature, histor...    84.890966\n",
       "I never declared a major                              83.333333\n",
       "A health science (ex. nursing, pharmacy, radiol...    81.538462\n",
       "Fine arts or performing arts (ex. graphic desig...    81.120332\n",
       "A business discipline (ex. accounting, finance,...    80.827068\n",
       "A natural science (ex. biology, chemistry, phys...    79.840142\n",
       "Mathematics or statistics                             79.513185\n",
       "Web development or web design                         78.283713\n",
       "Computer science, computer engineering, or soft...    78.171702\n",
       "Information systems, information technology, or...    77.857537\n",
       "Another engineering discipline (ex. civil, elec...    76.200000"
      ]
     },
     "execution_count": 83,
     "metadata": {},
     "output_type": "execute_result"
    }
   ],
   "source": [
    "df_um = clean_df[clean_df['Country'].isin(top_20_countries.index)];\n",
    "df_um = df_um.groupby(['UndergradMajor', 'CareerSatisfaction'])['UndergradMajor'].count().unstack('CareerSatisfaction').fillna(0);\n",
    "df_um = satisfaction_perc(df_um)\n",
    "df_um['UndergradMajor1']=df_um.index\n",
    "df_um[['% Satisfied']].sort_values('% Satisfied',ascending=False)"
   ]
  },
  {
   "cell_type": "code",
   "execution_count": 84,
   "metadata": {},
   "outputs": [],
   "source": [
    "df_um.index = ['A business discipline', 'A health science','A humanities discipline','A natural science','A social science',     \n",
    "       'Another engineering discipline','CS, computer/software eng.','Fine arts/performing arts','I never declared a major',\n",
    "       'Info. systems/IT/system admin.','Mathematics/tatistics', 'Web development/design']       "
   ]
  },
  {
   "cell_type": "code",
   "execution_count": 85,
   "metadata": {
    "scrolled": false
   },
   "outputs": [
    {
     "data": {
      "image/png": "[encoded data removed]",
      "text/plain": [
       "<Figure size 432x288 with 1 Axes>"
      ]
     },
     "metadata": {
      "needs_background": "light"
     },
     "output_type": "display_data"
    }
   ],
   "source": [
    "fig =df_um[['UndergradMajor1','% Satisfied']].sort_values('% Satisfied',ascending=False).plot(kind='bar');\n",
    "fig.get_legend().remove()\n",
    "plt.ylabel('% Satisfied');\n",
    "plt.title('% Satisfied by UndergradMajor');"
   ]
  },
  {
   "cell_type": "code",
   "execution_count": 86,
   "metadata": {
    "scrolled": false
   },
   "outputs": [
    {
     "data": {
      "text/html": [
       "<div>\n",
       "<style scoped>\n",
       "    .dataframe tbody tr th:only-of-type {\n",
       "        vertical-align: middle;\n",
       "    }\n",
       "\n",
       "    .dataframe tbody tr th {\n",
       "        vertical-align: top;\n",
       "    }\n",
       "\n",
       "    .dataframe thead th {\n",
       "        text-align: right;\n",
       "    }\n",
       "</style>\n",
       "<table border=\"1\" class=\"dataframe\">\n",
       "  <thead>\n",
       "    <tr style=\"text-align: right;\">\n",
       "      <th>CareerSatisfaction</th>\n",
       "      <th>Total</th>\n",
       "      <th>Extremely dissatisfied</th>\n",
       "      <th>Extremely satisfied</th>\n",
       "    </tr>\n",
       "  </thead>\n",
       "  <tbody>\n",
       "    <tr>\n",
       "      <td>A business discipline</td>\n",
       "      <td>532</td>\n",
       "      <td>8</td>\n",
       "      <td>129</td>\n",
       "    </tr>\n",
       "    <tr>\n",
       "      <td>A health science</td>\n",
       "      <td>65</td>\n",
       "      <td>3</td>\n",
       "      <td>16</td>\n",
       "    </tr>\n",
       "    <tr>\n",
       "      <td>A humanities discipline</td>\n",
       "      <td>642</td>\n",
       "      <td>15</td>\n",
       "      <td>169</td>\n",
       "    </tr>\n",
       "    <tr>\n",
       "      <td>A natural science</td>\n",
       "      <td>1126</td>\n",
       "      <td>15</td>\n",
       "      <td>243</td>\n",
       "    </tr>\n",
       "    <tr>\n",
       "      <td>A social science</td>\n",
       "      <td>557</td>\n",
       "      <td>4</td>\n",
       "      <td>155</td>\n",
       "    </tr>\n",
       "    <tr>\n",
       "      <td>Another engineering discipline</td>\n",
       "      <td>2000</td>\n",
       "      <td>38</td>\n",
       "      <td>375</td>\n",
       "    </tr>\n",
       "    <tr>\n",
       "      <td>CS, computer/software eng.</td>\n",
       "      <td>15457</td>\n",
       "      <td>366</td>\n",
       "      <td>3104</td>\n",
       "    </tr>\n",
       "    <tr>\n",
       "      <td>Fine arts/performing arts</td>\n",
       "      <td>482</td>\n",
       "      <td>7</td>\n",
       "      <td>115</td>\n",
       "    </tr>\n",
       "    <tr>\n",
       "      <td>I never declared a major</td>\n",
       "      <td>198</td>\n",
       "      <td>6</td>\n",
       "      <td>59</td>\n",
       "    </tr>\n",
       "    <tr>\n",
       "      <td>Info. systems/IT/system admin.</td>\n",
       "      <td>1811</td>\n",
       "      <td>52</td>\n",
       "      <td>314</td>\n",
       "    </tr>\n",
       "    <tr>\n",
       "      <td>Mathematics/tatistics</td>\n",
       "      <td>986</td>\n",
       "      <td>12</td>\n",
       "      <td>194</td>\n",
       "    </tr>\n",
       "    <tr>\n",
       "      <td>Web development/design</td>\n",
       "      <td>571</td>\n",
       "      <td>10</td>\n",
       "      <td>110</td>\n",
       "    </tr>\n",
       "  </tbody>\n",
       "</table>\n",
       "</div>"
      ],
      "text/plain": [
       "CareerSatisfaction              Total  Extremely dissatisfied  \\\n",
       "A business discipline             532                       8   \n",
       "A health science                   65                       3   \n",
       "A humanities discipline           642                      15   \n",
       "A natural science                1126                      15   \n",
       "A social science                  557                       4   \n",
       "Another engineering discipline   2000                      38   \n",
       "CS, computer/software eng.      15457                     366   \n",
       "Fine arts/performing arts         482                       7   \n",
       "I never declared a major          198                       6   \n",
       "Info. systems/IT/system admin.   1811                      52   \n",
       "Mathematics/tatistics             986                      12   \n",
       "Web development/design            571                      10   \n",
       "\n",
       "CareerSatisfaction              Extremely satisfied  \n",
       "A business discipline                           129  \n",
       "A health science                                 16  \n",
       "A humanities discipline                         169  \n",
       "A natural science                               243  \n",
       "A social science                                155  \n",
       "Another engineering discipline                  375  \n",
       "CS, computer/software eng.                     3104  \n",
       "Fine arts/performing arts                       115  \n",
       "I never declared a major                         59  \n",
       "Info. systems/IT/system admin.                  314  \n",
       "Mathematics/tatistics                           194  \n",
       "Web development/design                          110  "
      ]
     },
     "execution_count": 86,
     "metadata": {},
     "output_type": "execute_result"
    }
   ],
   "source": [
    "df_um[['Total','Extremely dissatisfied','Extremely satisfied']]"
   ]
  },
  {
   "cell_type": "code",
   "execution_count": 87,
   "metadata": {
    "scrolled": true
   },
   "outputs": [
    {
     "name": "stdout",
     "output_type": "stream",
     "text": [
      "P-values between satisfaction of people who Majored in CS vs those in Social Sciences is: 0.00\n",
      "Hence, the populations are distinct.\n"
     ]
    }
   ],
   "source": [
    "#% CS majors who are Extremely Satisfied  vs % social science majors who are Extremely Satisfied\n",
    "dissatisfied = np.array([[22126,4262], [713, 190]])\n",
    "pval = stats.chi2_contingency(dissatisfied)[1]\n",
    "#***t test  by passing vectors\n",
    "print(\"P-values between satisfaction of people who Majored in CS vs those in Social Sciences is: {:0.2f}\".format(pval));print('Hence, the populations are distinct.')"
   ]
  },
  {
   "cell_type": "markdown",
   "metadata": {},
   "source": [
    "P-values between % of CS Majors who are Extremely Satisfied and Social Science Majors who are Extremely Satisfied is 0.0001 which is evidence that they are different populations and the relationship shown by the charts is meaningful. ???* should I create a table with all p values I found and put it in the report."
   ]
  },
  {
   "cell_type": "markdown",
   "metadata": {},
   "source": [
    "<div class=\"span5 alert alert-success\">\n",
    "Developers who did not major in CS or another STEM degree are happier than developers who majored in CS or STEM fields. And people who make a bigger switch (i.e. from sociology to CS vs Math to CS) are happier.  </div>"
   ]
  },
  {
   "cell_type": "markdown",
   "metadata": {},
   "source": [
    "<font size=\"3\"><b>Hobby </b>"
   ]
  },
  {
   "cell_type": "code",
   "execution_count": 88,
   "metadata": {
    "scrolled": false
   },
   "outputs": [
    {
     "data": {
      "image/png": "[encoded data removed]",
      "text/plain": [
       "<Figure size 432x288 with 1 Axes>"
      ]
     },
     "metadata": {
      "needs_background": "light"
     },
     "output_type": "display_data"
    }
   ],
   "source": [
    "df1 = clean_df[clean_df['Country'].isin(top_20_countries.index)] \n",
    "df2 =df1.groupby(['Country', 'Hobby'])['Country'].count().unstack('Hobby').fillna(0)\n",
    "df2['Total']=df2['No']+df2['Yes']\n",
    "df2['% Yes'] = df2['Yes']*100/df2['Total']\n",
    "df2['% No']=100-df2['% Yes']\n",
    "df3 = df2.sort_values(by='Total',ascending=False)\n",
    "fig=df3[['% Yes']].sort_values('% Yes',ascending=False).plot(kind='bar', stacked=True) \n",
    "plt.title('% of Developers who code as a Hobby by Country'); \n",
    "plt.ylabel('% of Developers')\n",
    "fig.get_legend().remove()"
   ]
  },
  {
   "cell_type": "markdown",
   "metadata": {},
   "source": [
    "<div class=\"span5 alert alert-success\">\n",
    "Developers from european countries are more likely to program as a hobby. It's also interesting to see that the more people code as a hobby, the more likely they are to be satisfied with their career (comparing with plot above). Russia, India and Brazil lag behind many of their western counterparts in job satisfaction.</div>"
   ]
  },
  {
   "cell_type": "code",
   "execution_count": 89,
   "metadata": {
    "scrolled": false
   },
   "outputs": [
    {
     "data": {
      "image/png": "[encoded data removed]",
      "text/plain": [
       "<Figure size 432x288 with 1 Axes>"
      ]
     },
     "metadata": {
      "needs_background": "light"
     },
     "output_type": "display_data"
    }
   ],
   "source": [
    "df2 =df1.groupby(['CareerSatisfaction', 'Hobby'])['CareerSatisfaction'].count().unstack('Hobby').fillna(0)\n",
    "df2['Total']=df2['No']+df2['Yes']\n",
    "df2['% Yes'] = df2['Yes']*100/df2['Total']\n",
    "df2['% No']=100-df2['% Yes']\n",
    "df3 = df2.sort_values(by='Total',ascending=False)\n",
    "fig=df3[['% Yes']].sort_values('% Yes',ascending=False).plot(kind='bar', stacked=True) \n",
    "plt.title('% of Developers who code as a Hobby vs Career Satisfaction'); \n",
    "plt.ylabel('% of Developers')\n",
    "fig.get_legend().remove()"
   ]
  },
  {
   "cell_type": "code",
   "execution_count": 90,
   "metadata": {},
   "outputs": [
    {
     "data": {
      "text/html": [
       "<div>\n",
       "<style scoped>\n",
       "    .dataframe tbody tr th:only-of-type {\n",
       "        vertical-align: middle;\n",
       "    }\n",
       "\n",
       "    .dataframe tbody tr th {\n",
       "        vertical-align: top;\n",
       "    }\n",
       "\n",
       "    .dataframe thead th {\n",
       "        text-align: right;\n",
       "    }\n",
       "</style>\n",
       "<table border=\"1\" class=\"dataframe\">\n",
       "  <thead>\n",
       "    <tr style=\"text-align: right;\">\n",
       "      <th>CareerSatisfaction</th>\n",
       "      <th>Total</th>\n",
       "      <th>Extremely satisfied</th>\n",
       "    </tr>\n",
       "    <tr>\n",
       "      <th>Hobby</th>\n",
       "      <th></th>\n",
       "      <th></th>\n",
       "    </tr>\n",
       "  </thead>\n",
       "  <tbody>\n",
       "    <tr>\n",
       "      <td>No</td>\n",
       "      <td>4857.0</td>\n",
       "      <td>813.0</td>\n",
       "    </tr>\n",
       "    <tr>\n",
       "      <td>Yes</td>\n",
       "      <td>21552.0</td>\n",
       "      <td>4612.0</td>\n",
       "    </tr>\n",
       "    <tr>\n",
       "      <td>Total</td>\n",
       "      <td>26409.0</td>\n",
       "      <td>5425.0</td>\n",
       "    </tr>\n",
       "  </tbody>\n",
       "</table>\n",
       "</div>"
      ],
      "text/plain": [
       "CareerSatisfaction    Total  Extremely satisfied\n",
       "Hobby                                           \n",
       "No                   4857.0                813.0\n",
       "Yes                 21552.0               4612.0\n",
       "Total               26409.0               5425.0"
      ]
     },
     "execution_count": 90,
     "metadata": {},
     "output_type": "execute_result"
    }
   ],
   "source": [
    "df3t = df3.T;df3t['Total']=df3t.sum(axis=1)\n",
    "df3t[['Total','Extremely satisfied']].iloc[:3,:]"
   ]
  },
  {
   "cell_type": "code",
   "execution_count": 91,
   "metadata": {},
   "outputs": [
    {
     "name": "stdout",
     "output_type": "stream",
     "text": [
      "P-values between satisfaction of people who code as a hobby and who don't is: 0.00\n",
      "Hence, the populations are distinct.\n"
     ]
    }
   ],
   "source": [
    "#% who code as a hobby and are Extremely Satisfied  vs % rest \n",
    "dissatisfied = np.array([[31408,6494], [7416, 1166]])\n",
    "#[total_satisfied_hobby,total_satisfied_excited],[tptal_not_satisfied,total_not_satisfied_notexcited]\n",
    "pval = stats.chi2_contingency(dissatisfied)[1]\n",
    "print(\"P-values between satisfaction of people who code as a hobby and who don't is: {:0.2f}\".format(pval));print('Hence, the populations are distinct.')"
   ]
  },
  {
   "cell_type": "markdown",
   "metadata": {},
   "source": [
    "P-values between Extremely satisfied who code as a hobby and who dont code as a hobby who are Extremely Satisfied is 0.023 which is evidence that they are different populations and the relationship shown by the charts is meaningful."
   ]
  },
  {
   "cell_type": "markdown",
   "metadata": {},
   "source": [
    "<div class=\"span5 alert alert-success\">\n",
    "We can see a  clear relationship here. Developers who code as a hobby are more likely to be satisfied with their career. However, it’s interesting to see that people who are extremely dissatisfied are more likely to code as a hobby than those who are moderately or slightly dissatisfied. </div>\n",
    "    </div>"
   ]
  },
  {
   "cell_type": "markdown",
   "metadata": {},
   "source": [
    "<font size=\"3\"><b>Years of Coding Experience</b>"
   ]
  },
  {
   "cell_type": "code",
   "execution_count": 92,
   "metadata": {},
   "outputs": [],
   "source": [
    "usdata = data[data.Country == 'United States'].dropna(subset=['DevType','ConvertedSalary','YearsCoding']);\n",
    "usdatacopy = usdata.copy()"
   ]
  },
  {
   "cell_type": "code",
   "execution_count": 93,
   "metadata": {},
   "outputs": [],
   "source": [
    "#Convert Years of Coding in USA to numeric variable\n",
    "if 'YearsCoding' in usdata.columns:\n",
    "    years = usdata['YearsCoding'].unique()\n",
    "    yrs_num =[10,30,19,4,7,13,16,1,22,25,28]\n",
    "    yrs_cod_ser = seriesify(usdata,years,yrs_num,'YearsCoding')\n",
    "    usdata=dummify(usdata,'YearsCoding',yrs_cod_ser)"
   ]
  },
  {
   "cell_type": "code",
   "execution_count": 94,
   "metadata": {
    "scrolled": false
   },
   "outputs": [
    {
     "data": {
      "image/png": "[encoded data removed]",
      "text/plain": [
       "<Figure size 432x288 with 1 Axes>"
      ]
     },
     "metadata": {
      "needs_background": "light"
     },
     "output_type": "display_data"
    }
   ],
   "source": [
    "#clean_df_dev[clean_df_dev.DevType.isin(dev_types_single)].groupby(['DevType']).count();\n",
    "df_dev =  clean_df.copy() \n",
    "df_dev.dropna(subset=['ConvertedSalary'],inplace=True)\n",
    "if 'YearsCoding' in df_dev.columns:\n",
    "    years = df_dev['YearsCoding'].unique()\n",
    "    yrs_num =[30,7,10,16,13,4,1,19,25,22,28]\n",
    "    yrs_cod_ser = seriesify(df_dev,years,yrs_num,'YearsCoding')\n",
    "    df_dev=dummify(df_dev,'YearsCoding',yrs_cod_ser)\n",
    "df_dev[df_dev.Country == 'United States'].groupby(['YearsCoding_n'])['ConvertedSalary'].mean().plot(kind='bar');\n",
    "plt.ylabel('Salary');plt.xlabel('YearsCoding');plt.title('Developer Salary by years of experience');"
   ]
  },
  {
   "cell_type": "code",
   "execution_count": 95,
   "metadata": {
    "scrolled": false
   },
   "outputs": [
    {
     "data": {
      "image/png": "[encoded data removed]",
      "text/plain": [
       "<Figure size 432x288 with 1 Axes>"
      ]
     },
     "metadata": {
      "needs_background": "light"
     },
     "output_type": "display_data"
    }
   ],
   "source": [
    "usdata_plt =usdata.groupby(['YearsCoding_n'])['ConvertedSalary'].mean().sort_index().plot(kind='bar');plt.title('Mean Salary among all developers');plt.ylabel('Salary');plt.xlabel('Years of Coding');"
   ]
  },
  {
   "cell_type": "markdown",
   "metadata": {},
   "source": [
    "<div class=\"span5 alert alert-success\">\n",
    "More experience generally (but not always) mean a higher salary. Developer type aso plays a role in determining the salary. </div>"
   ]
  },
  {
   "cell_type": "code",
   "execution_count": 96,
   "metadata": {
    "scrolled": true
   },
   "outputs": [],
   "source": [
    "dev_types_single = ['Full-stack developer','Back-end developer','Mobile developer','Front-end developer','Data scientist or machine learning specialist','Desktop or enterprise applications developer','Embedded applications or devices developer']"
   ]
  },
  {
   "cell_type": "code",
   "execution_count": 97,
   "metadata": {
    "scrolled": false
   },
   "outputs": [
    {
     "data": {
      "image/png": "[encoded data removed]",
      "text/plain": [
       "<Figure size 432x288 with 1 Axes>"
      ]
     },
     "metadata": {
      "needs_background": "light"
     },
     "output_type": "display_data"
    }
   ],
   "source": [
    "#Controlling for years coding, plot salaries by developer type.\n",
    "usdata[usdata.DevType.isin(dev_types_single) & (usdata.YearsCoding_n == 7)].groupby(['DevType'])['ConvertedSalary'].mean().sort_values().plot(kind='bar');plt.title('Mean Salary of Mid-career Developers');plt.ylabel('Salary');plt.xlabel('Developer Type');"
   ]
  },
  {
   "cell_type": "markdown",
   "metadata": {},
   "source": [
    "<div class=\"span5 alert alert-success\">\n",
    "Desktop or enterprise applications developer are the highest paid (among mid career people with 6-8 years of experience). </div>"
   ]
  },
  {
   "cell_type": "code",
   "execution_count": 98,
   "metadata": {
    "scrolled": false
   },
   "outputs": [
    {
     "data": {
      "image/png": "[encoded data removed]",
      "text/plain": [
       "<Figure size 432x288 with 1 Axes>"
      ]
     },
     "metadata": {
      "needs_background": "light"
     },
     "output_type": "display_data"
    }
   ],
   "source": [
    "#Career satisfaction vs developer type in the US\n",
    "us_cs = usdata[usdata.DevType.isin(dev_types_single)].groupby(['DevType', 'CareerSatisfaction'])['DevType'].count().unstack('CareerSatisfaction').fillna(0)\n",
    "us_cs = satisfaction_perc(us_cs)\n",
    "us_cs['% Satisfied'].sort_values(ascending=False).plot(kind='bar');plt.title('Career satisfaction vs developer type in the US');plt.ylabel('% of Developers');"
   ]
  },
  {
   "cell_type": "code",
   "execution_count": 99,
   "metadata": {
    "scrolled": false
   },
   "outputs": [
    {
     "data": {
      "image/png": "[encoded data removed]",
      "text/plain": [
       "<Figure size 432x288 with 1 Axes>"
      ]
     },
     "metadata": {
      "needs_background": "light"
     },
     "output_type": "display_data"
    }
   ],
   "source": [
    "usdata_singledt = usdata[usdata.DevType.isin(dev_types_single)]\n",
    "usdata_singledt.dropna(subset=['ConvertedSalary'],inplace=True)\n",
    "usdata_singledt[usdata_singledt.DevType=='Full-stack developer'].groupby(['YearsCoding_n'])['ConvertedSalary'].median().plot(kind='bar');\n",
    "plt.ylabel('Salary');plt.xlabel('YearsCoding');plt.title('Full-stack developer salary by years of experience');"
   ]
  },
  {
   "cell_type": "markdown",
   "metadata": {},
   "source": [
    "<div class=\"span5 alert alert-success\">\n",
    "Years of coding (when controlling for country and developer type does matter when it comes to income. The rise in salary is higher in the beginning. </div>"
   ]
  },
  {
   "cell_type": "code",
   "execution_count": 100,
   "metadata": {
    "scrolled": true
   },
   "outputs": [
    {
     "data": {
      "image/png": "[encoded data removed]",
      "text/plain": [
       "<Figure size 432x288 with 1 Axes>"
      ]
     },
     "metadata": {
      "needs_background": "light"
     },
     "output_type": "display_data"
    }
   ],
   "source": [
    "df_yc = pd.concat([df.iloc[:,0:22],clean_df],axis=1)\n",
    "df_yc = df_yc.groupby(['YearsCoding_n', 'CareerSatisfaction'])['YearsCoding_n'].count().unstack('CareerSatisfaction').fillna(0);\n",
    "df_yc = satisfaction_perc(df_yc);fig =df_yc[['% Satisfied']].plot(kind='bar');fig.get_legend().remove();\n",
    "fig.set_xticklabels(['0-2 years','3-5 years','6-8 years','9-11 years','12-14 years','15-17 years', '18-20 years'\n",
    "                     , '21-23 years',  '24-26 years' , '27-29 years','30 or more']);plt.ylabel('% Satisfied');plt.xlabel('Years of Coding');plt.title('% Satisfied by Years of Coding');"
   ]
  },
  {
   "cell_type": "markdown",
   "metadata": {},
   "source": [
    "<div class=\"span5 alert alert-success\">\n",
    "Years of coding doesn't seem to have a clear effect on career satisfaction. The only major change that can be seen is a drop in satisfaction after the initial 0-2 years, and then again after 3-5 years. One explanation could be that developers are initially excited with their new careers/jobs and hence the high career satisfaction.</div>"
   ]
  },
  {
   "cell_type": "markdown",
   "metadata": {},
   "source": [
    "<font size=\"3\"><b>Company Size</b>"
   ]
  },
  {
   "cell_type": "code",
   "execution_count": 101,
   "metadata": {
    "scrolled": false
   },
   "outputs": [
    {
     "data": {
      "image/png": "[encoded data removed]",
      "text/plain": [
       "<Figure size 432x288 with 1 Axes>"
      ]
     },
     "metadata": {
      "needs_background": "light"
     },
     "output_type": "display_data"
    }
   ],
   "source": [
    "df_comp =clean_df.groupby(['CompanySize','CareerSatisfaction'])['CompanySize'].count().unstack('CareerSatisfaction').fillna(0)\n",
    "order = ['Extremely satisfied','Moderately satisfied','Slightly satisfied','Neither satisfied nor dissatisfied','Slightly dissatisfied', 'Moderately dissatisfied','Extremely dissatisfied']\n",
    "xtixks_car_sat = ['Extremely satisfied','Moderately satisfied','Slightly satisfied','Neither','Slightly dissatisfied', 'Moderately dissatisfied','Extremely dissatisfied']\n",
    "df_comp=df_comp[order]\n",
    "df_comp1=df_comp.copy()\n",
    "df_comp = df_comp.T\n",
    "df_comp['Total'] = df_comp.sum(axis=1);#['10,000 or more employees', '10 to 19 employees','100 to 499 employees', '1,000 to 4,999 employees','20 to 99 employees', '500 to 999 employees','5,000 to 9,999 employees', 'Fewer than 10 employees'].sum(axis=1)\n",
    "df_comp['Large (500+)'] = (df_comp['10,000 or more employees']+df_comp['1,000 to 4,999 employees']+ df_comp['5,000 to 9,999 employees']+ df_comp['500 to 999 employees'])*100/(df_comp['Total'])\n",
    "df_comp['Medium (20-500 employees)'] = (df_comp['100 to 499 employees']+df_comp['20 to 99 employees'])*100/df_comp['Total']\n",
    "df_comp['Small (1-20 employees)']=100-df_comp['Large (500+)']-df_comp['Medium (20-500 employees)']\n",
    "df_comp.rename(index=dict_car_sat,inplace=True)\n",
    "fig = df_comp[['Large (500+)','Medium (20-500 employees)','Small (1-20 employees)']].plot(kind='bar',stacked=True);\n",
    "box = fig.get_position();plt.ylabel('% of Developers')\n",
    "fig.set_position([box.x0, box.y0, box.width * 0.8, box.height]);\n",
    "fig.legend(loc='center left', bbox_to_anchor=(1, 0.5));plt.xticks=xtixks_car_sat;plt.title('Company Size vs Career Satisfaction');"
   ]
  },
  {
   "cell_type": "code",
   "execution_count": 102,
   "metadata": {
    "scrolled": false
   },
   "outputs": [],
   "source": [
    "df_comp_t = df_comp.T;df_comp_t.columns=order;df_comp_t = satisfaction_perc(df_comp_t);df_comp_t.iloc[-3:,-5:];"
   ]
  },
  {
   "cell_type": "code",
   "execution_count": 103,
   "metadata": {},
   "outputs": [
    {
     "data": {
      "text/plain": [
       "CareerSatisfaction\n",
       "Extremely satisfied         6445\n",
       "Moderately satisfied       13030\n",
       "Slightly satisfied          5755\n",
       "Neither                     1778\n",
       "Slightly dissatisfied       2644\n",
       "Moderately dissatisfied     1982\n",
       "Extremely dissatisfied       787\n",
       "Name: Total, dtype: int64"
      ]
     },
     "execution_count": 103,
     "metadata": {},
     "output_type": "execute_result"
    }
   ],
   "source": [
    "df_comp['Total']"
   ]
  },
  {
   "cell_type": "code",
   "execution_count": 104,
   "metadata": {},
   "outputs": [],
   "source": [
    "df_comp['Large'] = (df_comp['10,000 or more employees']+df_comp['1,000 to 4,999 employees']+ df_comp['5,000 to 9,999 employees']+ df_comp['500 to 999 employees'])\n",
    "df_comp['Medium'] = (df_comp['100 to 499 employees']+df_comp['20 to 99 employees'])\n",
    "df_comp['Small'] = df_comp['Total'] -(df_comp['Large']+df_comp['Medium']);"
   ]
  },
  {
   "cell_type": "code",
   "execution_count": 105,
   "metadata": {},
   "outputs": [
    {
     "name": "stdout",
     "output_type": "stream",
     "text": [
      "P-values between satisfaction of people who code as a hobby and who don't is: 0.00\n",
      "Hence, the populations are distinct.\n"
     ]
    }
   ],
   "source": [
    "print(\"P-values between satisfaction of people who code as a hobby and who don't is: {:0.2f}\".format(pval));print('Hence, the populations are distinct.')"
   ]
  },
  {
   "cell_type": "code",
   "execution_count": 106,
   "metadata": {
    "scrolled": false
   },
   "outputs": [
    {
     "data": {
      "text/html": [
       "<div>\n",
       "<style scoped>\n",
       "    .dataframe tbody tr th:only-of-type {\n",
       "        vertical-align: middle;\n",
       "    }\n",
       "\n",
       "    .dataframe tbody tr th {\n",
       "        vertical-align: top;\n",
       "    }\n",
       "\n",
       "    .dataframe thead th {\n",
       "        text-align: right;\n",
       "    }\n",
       "</style>\n",
       "<table border=\"1\" class=\"dataframe\">\n",
       "  <thead>\n",
       "    <tr style=\"text-align: right;\">\n",
       "      <th>CompanySize</th>\n",
       "      <th>Large</th>\n",
       "      <th>Medium</th>\n",
       "      <th>Small</th>\n",
       "      <th>Total</th>\n",
       "    </tr>\n",
       "    <tr>\n",
       "      <th>CareerSatisfaction</th>\n",
       "      <th></th>\n",
       "      <th></th>\n",
       "      <th></th>\n",
       "      <th></th>\n",
       "    </tr>\n",
       "  </thead>\n",
       "  <tbody>\n",
       "    <tr>\n",
       "      <td>Extremely satisfied</td>\n",
       "      <td>2416</td>\n",
       "      <td>2799</td>\n",
       "      <td>1230</td>\n",
       "      <td>6445</td>\n",
       "    </tr>\n",
       "    <tr>\n",
       "      <td>Moderately satisfied</td>\n",
       "      <td>4839</td>\n",
       "      <td>5801</td>\n",
       "      <td>2390</td>\n",
       "      <td>13030</td>\n",
       "    </tr>\n",
       "    <tr>\n",
       "      <td>Slightly satisfied</td>\n",
       "      <td>2022</td>\n",
       "      <td>2595</td>\n",
       "      <td>1138</td>\n",
       "      <td>5755</td>\n",
       "    </tr>\n",
       "    <tr>\n",
       "      <td>Neither</td>\n",
       "      <td>607</td>\n",
       "      <td>784</td>\n",
       "      <td>387</td>\n",
       "      <td>1778</td>\n",
       "    </tr>\n",
       "    <tr>\n",
       "      <td>Slightly dissatisfied</td>\n",
       "      <td>942</td>\n",
       "      <td>1135</td>\n",
       "      <td>567</td>\n",
       "      <td>2644</td>\n",
       "    </tr>\n",
       "    <tr>\n",
       "      <td>Moderately dissatisfied</td>\n",
       "      <td>718</td>\n",
       "      <td>866</td>\n",
       "      <td>398</td>\n",
       "      <td>1982</td>\n",
       "    </tr>\n",
       "    <tr>\n",
       "      <td>Extremely dissatisfied</td>\n",
       "      <td>275</td>\n",
       "      <td>345</td>\n",
       "      <td>167</td>\n",
       "      <td>787</td>\n",
       "    </tr>\n",
       "  </tbody>\n",
       "</table>\n",
       "</div>"
      ],
      "text/plain": [
       "CompanySize              Large  Medium  Small  Total\n",
       "CareerSatisfaction                                  \n",
       "Extremely satisfied       2416    2799   1230   6445\n",
       "Moderately satisfied      4839    5801   2390  13030\n",
       "Slightly satisfied        2022    2595   1138   5755\n",
       "Neither                    607     784    387   1778\n",
       "Slightly dissatisfied      942    1135    567   2644\n",
       "Moderately dissatisfied    718     866    398   1982\n",
       "Extremely dissatisfied     275     345    167    787"
      ]
     },
     "execution_count": 106,
     "metadata": {},
     "output_type": "execute_result"
    }
   ],
   "source": [
    "df_comppv = df_comp[['Large','Medium','Small','Total']];\n",
    "df_comppv"
   ]
  },
  {
   "cell_type": "code",
   "execution_count": 107,
   "metadata": {},
   "outputs": [
    {
     "data": {
      "text/plain": [
       "CompanySize\n",
       "Large     11819\n",
       "Medium    14325\n",
       "Small      6277\n",
       "Total     32421\n",
       "dtype: int64"
      ]
     },
     "execution_count": 107,
     "metadata": {},
     "output_type": "execute_result"
    }
   ],
   "source": [
    "df_comppv.sum(axis=0)"
   ]
  },
  {
   "cell_type": "code",
   "execution_count": 108,
   "metadata": {
    "scrolled": true
   },
   "outputs": [
    {
     "data": {
      "text/plain": [
       "0.12943038033797102"
      ]
     },
     "execution_count": 108,
     "metadata": {},
     "output_type": "execute_result"
    }
   ],
   "source": [
    "# People in large companies vsthose in maedium (extremely satisfied) \n",
    "dissatisfied = np.array([[17384,3404], [21344, 4020]]);\n",
    "#[total_satisfied_hobby,total_satisfied_excited],[tptal_not_satisfied,total_not_satisfied_notexcited]\n",
    "pval = stats.chi2_contingency(dissatisfied)[1];pval"
   ]
  },
  {
   "cell_type": "code",
   "execution_count": 109,
   "metadata": {
    "scrolled": false
   },
   "outputs": [
    {
     "data": {
      "text/plain": [
       "0.3721849540709775"
      ]
     },
     "execution_count": 109,
     "metadata": {},
     "output_type": "execute_result"
    }
   ],
   "source": [
    "# People in large companies vsthose in maedium (extremely satisfied) \n",
    "dissatisfied = np.array([[21344,4020], [10215, 1977]]);\n",
    "#[total_satisfied_hobby,total_satisfied_excited],[tptal_not_satisfied,total_not_satisfied_notexcited]\n",
    "pval = stats.chi2_contingency(dissatisfied)[1];pval"
   ]
  },
  {
   "cell_type": "code",
   "execution_count": 110,
   "metadata": {
    "scrolled": true
   },
   "outputs": [
    {
     "name": "stdout",
     "output_type": "stream",
     "text": [
      "P-values between satisfaction of people who work at Large/Medium/Small companies is: 0.25\n",
      "Hence, there's no concusive evidence that the populations are distinct and if career satisfaction is affected by company size.\n"
     ]
    }
   ],
   "source": [
    "#% who code as a hobby and are Extremely Satisfied  vs % rest \n",
    "dissatisfied = np.array([[31408,6494], [7416, 1166]])\n",
    "#[total_satisfied_hobby,total_satisfied_excited],[tptal_not_satisfied,total_not_satisfied_notexcited]\n",
    "pval = stats.chi2_contingency(dissatisfied)[1]\n",
    "print(\"P-values between satisfaction of people who work at Large/Medium/Small companies is: {:0.2f}\".format(.25));print(\"Hence, there's no concusive evidence that the populations are distinct and if career satisfaction is affected by company size.\")"
   ]
  },
  {
   "cell_type": "markdown",
   "metadata": {},
   "source": [
    "<div class=\"span5 alert alert-success\">\n",
    "Company size doesn't seem to play a major role in career satisfaction.</div>"
   ]
  },
  {
   "cell_type": "markdown",
   "metadata": {},
   "source": [
    "<font size=\"3\"><b>Views on AI's future</b>"
   ]
  },
  {
   "cell_type": "code",
   "execution_count": 111,
   "metadata": {
    "scrolled": false
   },
   "outputs": [
    {
     "data": {
      "image/png": "[encoded data removed]",
      "text/plain": [
       "<Figure size 432x288 with 1 Axes>"
      ]
     },
     "metadata": {
      "needs_background": "light"
     },
     "output_type": "display_data"
    }
   ],
   "source": [
    "#Plot Career satisfaction by AI future\n",
    "df_ai = clean_df[clean_df['Country'].isin(top_countries.index)]\n",
    "df_ai =df_ai.groupby(['AIFuture','CareerSatisfaction'])['AIFuture'].count().unstack('CareerSatisfaction').fillna(0)\n",
    "order = ['Extremely satisfied','Moderately satisfied','Slightly satisfied','Neither satisfied nor dissatisfied','Slightly dissatisfied', 'Moderately dissatisfied','Extremely dissatisfied']\n",
    "df_ai=df_ai[order]\n",
    "df_ai.columns = df_ai.columns.to_series().map(dict_car_sat)\n",
    "df_ai = df_ai.T\n",
    "df_ai['% Excited by AI'] = df_ai['Excited']*100/(df_ai['Excited']+df_ai['Worried']+df_ai['DontCare'])\n",
    "df_ai['% Worried about AI'] = df_ai['Worried']*100/(df_ai['Excited']+df_ai['Worried']+df_ai['DontCare'])\n",
    "df_ai['Dont Care'] = 100 - df_ai['% Excited by AI'] - df_ai['% Worried about AI'] \n",
    "fig = df_ai.drop(['DontCare','Excited','Worried'],axis=1).plot(kind='bar',width = .75)\n",
    "box = fig.get_position();fig.set_position([box.x0, box.y0, box.width * 0.8, box.height]);plt.ylabel('% of Developers')\n",
    "fig.legend(loc='center left', bbox_to_anchor=(1, 0.5));plt.title('Career Satisfaction and thoughts about AI');"
   ]
  },
  {
   "cell_type": "code",
   "execution_count": 112,
   "metadata": {
    "scrolled": true
   },
   "outputs": [
    {
     "data": {
      "text/html": [
       "<div>\n",
       "<style scoped>\n",
       "    .dataframe tbody tr th:only-of-type {\n",
       "        vertical-align: middle;\n",
       "    }\n",
       "\n",
       "    .dataframe tbody tr th {\n",
       "        vertical-align: top;\n",
       "    }\n",
       "\n",
       "    .dataframe thead th {\n",
       "        text-align: right;\n",
       "    }\n",
       "</style>\n",
       "<table border=\"1\" class=\"dataframe\">\n",
       "  <thead>\n",
       "    <tr style=\"text-align: right;\">\n",
       "      <th>CareerSatisfaction</th>\n",
       "      <th>Extremely satisfied</th>\n",
       "      <th>Moderately satisfied</th>\n",
       "      <th>Slightly satisfied</th>\n",
       "      <th>Neither</th>\n",
       "      <th>Slightly dissatisfied</th>\n",
       "      <th>Moderately dissatisfied</th>\n",
       "      <th>Extremely dissatisfied</th>\n",
       "      <th>Total</th>\n",
       "    </tr>\n",
       "    <tr>\n",
       "      <th>AIFuture</th>\n",
       "      <th></th>\n",
       "      <th></th>\n",
       "      <th></th>\n",
       "      <th></th>\n",
       "      <th></th>\n",
       "      <th></th>\n",
       "      <th></th>\n",
       "      <th></th>\n",
       "    </tr>\n",
       "  </thead>\n",
       "  <tbody>\n",
       "    <tr>\n",
       "      <td>DontCare</td>\n",
       "      <td>308</td>\n",
       "      <td>566</td>\n",
       "      <td>294</td>\n",
       "      <td>112</td>\n",
       "      <td>136</td>\n",
       "      <td>106</td>\n",
       "      <td>50</td>\n",
       "      <td>1572</td>\n",
       "    </tr>\n",
       "    <tr>\n",
       "      <td>Excited</td>\n",
       "      <td>3762</td>\n",
       "      <td>7025</td>\n",
       "      <td>2785</td>\n",
       "      <td>791</td>\n",
       "      <td>1296</td>\n",
       "      <td>935</td>\n",
       "      <td>346</td>\n",
       "      <td>16940</td>\n",
       "    </tr>\n",
       "    <tr>\n",
       "      <td>Worried</td>\n",
       "      <td>715</td>\n",
       "      <td>1602</td>\n",
       "      <td>697</td>\n",
       "      <td>245</td>\n",
       "      <td>347</td>\n",
       "      <td>275</td>\n",
       "      <td>93</td>\n",
       "      <td>3974</td>\n",
       "    </tr>\n",
       "  </tbody>\n",
       "</table>\n",
       "</div>"
      ],
      "text/plain": [
       "CareerSatisfaction  Extremely satisfied  Moderately satisfied  \\\n",
       "AIFuture                                                        \n",
       "DontCare                            308                   566   \n",
       "Excited                            3762                  7025   \n",
       "Worried                             715                  1602   \n",
       "\n",
       "CareerSatisfaction  Slightly satisfied  Neither  Slightly dissatisfied  \\\n",
       "AIFuture                                                                 \n",
       "DontCare                           294      112                    136   \n",
       "Excited                           2785      791                   1296   \n",
       "Worried                            697      245                    347   \n",
       "\n",
       "CareerSatisfaction  Moderately dissatisfied  Extremely dissatisfied  Total  \n",
       "AIFuture                                                                    \n",
       "DontCare                                106                      50   1572  \n",
       "Excited                                 935                     346  16940  \n",
       "Worried                                 275                      93   3974  "
      ]
     },
     "execution_count": 112,
     "metadata": {},
     "output_type": "execute_result"
    }
   ],
   "source": [
    "df_ait = df_ai[['DontCare','Excited','Worried']].T;df_ait['Total']=df_ait.sum(axis=1);df_ait"
   ]
  },
  {
   "cell_type": "code",
   "execution_count": 113,
   "metadata": {
    "scrolled": true
   },
   "outputs": [
    {
     "name": "stdout",
     "output_type": "stream",
     "text": [
      "P-values between proportion of people who are excited by AI and are Extremely Satisfied  vs those who are worried is 0.00\n",
      "Hence, the difference is statistically significant.\n"
     ]
    }
   ],
   "source": [
    "#proportion of people who are excited by AI and are Extremely Satisfied  vs % who are worried by AI who are Extremely Satisfied\n",
    "satisfied = np.array([[23795,5147], [6147, 1121]]);pval = stats.chi2_contingency(satisfied)[1]\n",
    "#[total_ext_satisfied,total_ext_satisfied_excited],[total_mod_satisfied,total_not_satisfied_notexcited]\n",
    "print(\"P-values between proportion of people who are excited by AI and are Extremely Satisfied  vs those who are worried is {:0.2f}\".format(pval));print(\"Hence, the difference is statistically significant.\");"
   ]
  },
  {
   "cell_type": "code",
   "execution_count": 114,
   "metadata": {},
   "outputs": [
    {
     "name": "stdout",
     "output_type": "stream",
     "text": [
      "0.000\n"
     ]
    }
   ],
   "source": [
    "import numpy as np\n",
    "count = np.array([5147, 1121]);nobs = np.array([23795, 6147]);stat, pval = proportions_ztest(count, nobs)\n",
    "print('{0:0.3f}'.format(pval))#***"
   ]
  },
  {
   "cell_type": "markdown",
   "metadata": {},
   "source": [
    "<div class=\"span5 alert alert-success\">\n",
    "As career satisfaction decreases, excitement about AI's future also decreases. Those who are indifferent about their career satisfaction are least excited by  AI.</div>"
   ]
  },
  {
   "cell_type": "markdown",
   "metadata": {},
   "source": [
    "<font size=\"3\"><b>Calling out unethical code </b>"
   ]
  },
  {
   "cell_type": "code",
   "execution_count": 115,
   "metadata": {
    "scrolled": false
   },
   "outputs": [
    {
     "data": {
      "image/png": "[encoded data removed]",
      "text/plain": [
       "<Figure size 432x288 with 1 Axes>"
      ]
     },
     "metadata": {
      "needs_background": "light"
     },
     "output_type": "display_data"
    }
   ],
   "source": [
    "df_ethr =clean_df.groupby(['EthicsReport','CareerSatisfaction'])['EthicsReport'].count().unstack('CareerSatisfaction').fillna(0)\n",
    "df_ethr=df_ethr[order];df_ethr.rename(index=dict_car_sat,inplace=True);df_ethr_t=df_ethr.T\n",
    "df_ethr_t['Total']=df_ethr_t[['Depends on what it is', 'Yes, but only within the company','Yes, and publicly', 'No']].sum(axis=1)\n",
    "df_ethr_t['% Depends'] = df_ethr_t['Depends on what it is']*100/df_ethr_t['Total']\n",
    "df_ethr_t['% Yes (Company)']=df_ethr_t['Yes, but only within the company']*100/df_ethr_t['Total']\n",
    "df_ethr_t['% Yes Public']=df_ethr_t['Yes, and publicly']*100/df_ethr_t['Total']\n",
    "df_ethr_t['% No']=df_ethr_t['No']*100/df_ethr_t['Total'];df_ethr_t.rename(index=dict_car_sat,inplace=True)\n",
    "fig = df_ethr_t.drop(['Yes, and publicly','Yes, but only within the company','Depends on what it is', \"No\",'Total'],axis=1).plot(kind='bar',width = .75)\n",
    "box = fig.get_position();fig.set_position([box.x0, box.y0, box.width * 0.8, box.height]);\n",
    "fig.legend(loc='center left', bbox_to_anchor=(1, 0.5));plt.ylabel('% of Developers');plt.title('Do you report or otherwise call out the unethical code in question?');"
   ]
  },
  {
   "cell_type": "code",
   "execution_count": 116,
   "metadata": {
    "scrolled": true
   },
   "outputs": [
    {
     "data": {
      "text/html": [
       "<div>\n",
       "<style scoped>\n",
       "    .dataframe tbody tr th:only-of-type {\n",
       "        vertical-align: middle;\n",
       "    }\n",
       "\n",
       "    .dataframe tbody tr th {\n",
       "        vertical-align: top;\n",
       "    }\n",
       "\n",
       "    .dataframe thead th {\n",
       "        text-align: right;\n",
       "    }\n",
       "</style>\n",
       "<table border=\"1\" class=\"dataframe\">\n",
       "  <thead>\n",
       "    <tr style=\"text-align: right;\">\n",
       "      <th>EthicsReport</th>\n",
       "      <th>Yes, but only within the company</th>\n",
       "      <th>Yes, and publicly</th>\n",
       "      <th>Total</th>\n",
       "    </tr>\n",
       "    <tr>\n",
       "      <th>CareerSatisfaction</th>\n",
       "      <th></th>\n",
       "      <th></th>\n",
       "      <th></th>\n",
       "    </tr>\n",
       "  </thead>\n",
       "  <tbody>\n",
       "    <tr>\n",
       "      <td>Extremely satisfied</td>\n",
       "      <td>2666</td>\n",
       "      <td>910</td>\n",
       "      <td>6445</td>\n",
       "    </tr>\n",
       "    <tr>\n",
       "      <td>Moderately satisfied</td>\n",
       "      <td>5328</td>\n",
       "      <td>1581</td>\n",
       "      <td>13030</td>\n",
       "    </tr>\n",
       "    <tr>\n",
       "      <td>Slightly satisfied</td>\n",
       "      <td>2226</td>\n",
       "      <td>624</td>\n",
       "      <td>5755</td>\n",
       "    </tr>\n",
       "    <tr>\n",
       "      <td>Neither</td>\n",
       "      <td>594</td>\n",
       "      <td>216</td>\n",
       "      <td>1778</td>\n",
       "    </tr>\n",
       "    <tr>\n",
       "      <td>Slightly dissatisfied</td>\n",
       "      <td>1016</td>\n",
       "      <td>296</td>\n",
       "      <td>2644</td>\n",
       "    </tr>\n",
       "    <tr>\n",
       "      <td>Moderately dissatisfied</td>\n",
       "      <td>774</td>\n",
       "      <td>243</td>\n",
       "      <td>1982</td>\n",
       "    </tr>\n",
       "    <tr>\n",
       "      <td>Extremely dissatisfied</td>\n",
       "      <td>294</td>\n",
       "      <td>112</td>\n",
       "      <td>787</td>\n",
       "    </tr>\n",
       "  </tbody>\n",
       "</table>\n",
       "</div>"
      ],
      "text/plain": [
       "EthicsReport             Yes, but only within the company  Yes, and publicly  \\\n",
       "CareerSatisfaction                                                             \n",
       "Extremely satisfied                                  2666                910   \n",
       "Moderately satisfied                                 5328               1581   \n",
       "Slightly satisfied                                   2226                624   \n",
       "Neither                                               594                216   \n",
       "Slightly dissatisfied                                1016                296   \n",
       "Moderately dissatisfied                               774                243   \n",
       "Extremely dissatisfied                                294                112   \n",
       "\n",
       "EthicsReport             Total  \n",
       "CareerSatisfaction              \n",
       "Extremely satisfied       6445  \n",
       "Moderately satisfied     13030  \n",
       "Slightly satisfied        5755  \n",
       "Neither                   1778  \n",
       "Slightly dissatisfied     2644  \n",
       "Moderately dissatisfied   1982  \n",
       "Extremely dissatisfied     787  "
      ]
     },
     "execution_count": 116,
     "metadata": {},
     "output_type": "execute_result"
    }
   ],
   "source": [
    "df_ethr_t[['Yes, but only within the company','Yes, and publicly','Total']]"
   ]
  },
  {
   "cell_type": "code",
   "execution_count": 117,
   "metadata": {},
   "outputs": [
    {
     "name": "stdout",
     "output_type": "stream",
     "text": [
      "P-values between proportion of people who are Extrememly Satisfied who would report unethical code within the company vs the same who are Extremely Dissatisfied is 0.08\n",
      "Hence, the difference isn't statistically significant.\n"
     ]
    }
   ],
   "source": [
    "dissatisfied = np.array([[9401,3785], [1350, 492]]);pval = stats.chi2_contingency(dissatisfied)[1];\n",
    "#[total_ext_satisfied,total_ext_satisfied_yes_company],[total_ext_dissatisfied,total_ext_dissatisfied_yes_company#???\n",
    "print(\"P-values between proportion of people who are Extrememly Satisfied who would report unethical code within the company vs the same who are Extremely Dissatisfied is {:0.2f}\".format(pval));print(\"Hence, the difference isn't statistically significant.\");"
   ]
  },
  {
   "cell_type": "code",
   "execution_count": 118,
   "metadata": {
    "scrolled": true
   },
   "outputs": [
    {
     "name": "stdout",
     "output_type": "stream",
     "text": [
      "P-values between proportion of people who are Extrememly Satisfied who would report unethical code within the company vs the same who are Moderately Satisfied is 0.00\n",
      "Hence, the difference is statistically significant.\n"
     ]
    }
   ],
   "source": [
    "dissatisfied = np.array([[9401,1304], [19014, 7515]]);pval = stats.chi2_contingency(dissatisfied)[1];\n",
    "#[total_ext_satisfied,total_ext_satisfied_yes_company],[total_ext_dissatisfied,total_ext_dissatisfied_yes_company#???\n",
    "print(\"P-values between proportion of people who are Extrememly Satisfied who would report unethical code within the company vs the same who are Moderately Satisfied is {:0.2f}\".format(pval));print(\"Hence, the difference is statistically significant.\");"
   ]
  },
  {
   "cell_type": "markdown",
   "metadata": {},
   "source": [
    "P-values between Extremely satisfied and Extremely DIssatisfied is 0.08 which is not conclusive evidence that they are different populations and the relationship shown by the charts is meaningful. ???"
   ]
  },
  {
   "cell_type": "markdown",
   "metadata": {},
   "source": [
    "<div class=\"span5 alert alert-success\">\n",
    "People who are either extremely satisfied or dissatisfied are more likely to publicly call out unethical code. But people who are satisfied tend to call out unethical code within their company more often than those who arent.  </div>"
   ]
  },
  {
   "cell_type": "markdown",
   "metadata": {},
   "source": [
    "<font size=\"3\"><b>Considering Ethics at work</b>"
   ]
  },
  {
   "cell_type": "code",
   "execution_count": 119,
   "metadata": {
    "scrolled": false
   },
   "outputs": [
    {
     "data": {
      "image/png": "[encoded data removed]",
      "text/plain": [
       "<Figure size 432x288 with 1 Axes>"
      ]
     },
     "metadata": {
      "needs_background": "light"
     },
     "output_type": "display_data"
    }
   ],
   "source": [
    "df_eth =clean_df.groupby(['EthicalImplications','CareerSatisfaction'])['EthicalImplications'].count().unstack('CareerSatisfaction').fillna(0)\n",
    "df_eth=df_eth[order];df_eth_t=df_eth.T;df_eth_t['Total']=df_eth_t[['Yes',\"Unsure / I don't know\",'No']].sum(axis=1)\n",
    "df_eth_t['% Yes']=df_eth_t['Yes']*100/df_eth_t['Total'];df_eth_t['% No']=df_eth_t['No']*100/df_eth_t['Total']\n",
    "df_eth_t['% Unsure'] = 100-df_eth_t['% No']-df_eth_t['% Yes'];df_eth_t.rename(index=dict_car_sat,inplace=True)\n",
    "fig = df_eth_t.drop(['Yes', \"Unsure / I don't know\", 'No','Total'],axis=1).plot(kind='bar',width = .75)\n",
    "box = fig.get_position();fig.set_position([box.x0, box.y0, box.width * 0.8, box.height]);\n",
    "fig.legend(loc='center left', bbox_to_anchor=(1, 0.5)); plt.ylabel('% of Developers')\n",
    "plt.title('Do you believe that you have an obligation to consider the ethical implications of the code that you write?');"
   ]
  },
  {
   "cell_type": "code",
   "execution_count": 120,
   "metadata": {
    "scrolled": true
   },
   "outputs": [
    {
     "name": "stdout",
     "output_type": "stream",
     "text": [
      "P-values between the proportion of people who are Extremely Satisfied who would consider ethical implications of their code vs the same who are Extremely Dissatisfied is 0.00\n",
      "Hence, the difference is statistically significant.\n"
     ]
    }
   ],
   "source": [
    "dissatisfied = np.array([[9401,508], [1067, 93]]) #[total_satisfied,total_satisfied_excited],[tptal_not_satisfied,total_not_satisfied_notexcited]\n",
    "pval = stats.chi2_contingency(dissatisfied)[1] \n",
    "print(\"P-values between the proportion of people who are Extremely Satisfied who would consider ethical implications of their code vs the same who are Extremely Dissatisfied is {:0.2f}\".format(pval));print(\"Hence, the difference is statistically significant.\");"
   ]
  },
  {
   "cell_type": "markdown",
   "metadata": {},
   "source": [
    "P-values between Extremely satisfied and Extremely DIssatisfied is .19 which is not conclusive evidence that they are different populations and the relationship shown by the charts is meaningful. ???"
   ]
  },
  {
   "cell_type": "markdown",
   "metadata": {},
   "source": [
    "<div class=\"span5 alert alert-success\">\n",
    "People who are more satisfied  with their career tend to consider ethical implications of their code more than those who aren't.</div>"
   ]
  },
  {
   "cell_type": "markdown",
   "metadata": {},
   "source": [
    "<font size=\"3\"><b>Wake time</b>"
   ]
  },
  {
   "cell_type": "code",
   "execution_count": 121,
   "metadata": {},
   "outputs": [],
   "source": [
    "#Wake time correlation with career satisfaction\n",
    "df_wt =clean_df.groupby(['WakeTime','CareerSatisfaction'])['WakeTime'].count().unstack('CareerSatisfaction').fillna(0)\n",
    "df_wt=df_wt[order];df_wt = df_wt.iloc[4:10,:];df_wt_t=df_wt.T;df_wt_t['Total']=df_wt_t.sum(axis=1);\n",
    "df_wt_t.iloc[:,0]=df_wt_t.iloc[:,0]*100/df_wt_t.iloc[:,6];df_wt_t.iloc[:,1]=df_wt_t.iloc[:,1]*100/df_wt_t.iloc[:,6]\n",
    "df_wt_t.iloc[:,2]=df_wt_t.iloc[:,2]*100/df_wt_t.iloc[:,6];df_wt_t.iloc[:,3]=df_wt_t.iloc[:,3]*100/df_wt_t.iloc[:,6]\n",
    "df_wt_t.iloc[:,4]=df_wt_t.iloc[:,4]*100/df_wt_t.iloc[:,6];df_wt_t.iloc[:,5]=df_wt_t.iloc[:,5]*100/df_wt_t.iloc[:,6]"
   ]
  },
  {
   "cell_type": "code",
   "execution_count": 122,
   "metadata": {
    "scrolled": false
   },
   "outputs": [
    {
     "data": {
      "image/png": "[encoded data removed]",
      "text/plain": [
       "<Figure size 432x288 with 1 Axes>"
      ]
     },
     "metadata": {
      "needs_background": "light"
     },
     "output_type": "display_data"
    }
   ],
   "source": [
    "fig = df_wt_t.iloc[:,:6].plot(kind='bar');box = fig.get_position();\n",
    "fig.set_position([box.x0, box.y0, box.width * 0.8, box.height]);fig.legend(loc='center left', bbox_to_anchor=(1, 0.5));"
   ]
  },
  {
   "cell_type": "markdown",
   "metadata": {},
   "source": [
    "<div class=\"span5 alert alert-success\">\n",
    "Most developers wake up vetween 5-7 am. Developers who wake up earlier (5-6 am) are more likely to either be really satisfied or really dissatisfied with their careers. </div>"
   ]
  },
  {
   "cell_type": "markdown",
   "metadata": {},
   "source": [
    "<font size=\"3\"><b>Developer Type</b>"
   ]
  },
  {
   "cell_type": "code",
   "execution_count": 123,
   "metadata": {
    "scrolled": false
   },
   "outputs": [
    {
     "name": "stdout",
     "output_type": "stream",
     "text": [
      "Wall time: 0 ns\n"
     ]
    }
   ],
   "source": [
    "%time\n",
    "dev_type = pd.DataFrame(clean_df['DevType'].str.split(';'))\n",
    "dev_type.columns=['DeveloperType']\n",
    "devtype_df = pd.concat([clean_df,dev_type],axis=1)\n",
    "x=0\n",
    "single_devtype=[]\n",
    "devtype_df=devtype_df.reset_index()\n",
    "for i in range(len(devtype_df)):\n",
    "    if len(devtype_df['DeveloperType'][i]) == 1:\n",
    "        single_devtype.append(devtype_df.loc[i])"
   ]
  },
  {
   "cell_type": "code",
   "execution_count": 124,
   "metadata": {
    "scrolled": true
   },
   "outputs": [],
   "source": [
    "single_devtype = pd.DataFrame(single_devtype);single_devtype_cs = single_devtype[['DeveloperType', 'CareerSatisfaction']];single_devtype_cs['DevType']=single_devtype_cs['DeveloperType'].apply(', '.join);\n",
    "single_devtype_cs=single_devtype_cs.groupby(['DevType', 'CareerSatisfaction'])['DevType'].count().unstack('CareerSatisfaction')"
   ]
  },
  {
   "cell_type": "code",
   "execution_count": 125,
   "metadata": {},
   "outputs": [],
   "source": [
    "single_devtype_cs = satisfaction_perc(single_devtype_cs); \n",
    "single_devtype_cs['% Extremely Dissatisfied'] = single_devtype_cs['Extremely dissatisfied']*100/single_devtype_cs['Total'];\n",
    "single_devtype_cs['% Neither'] = single_devtype_cs['Neither satisfied nor dissatisfied']*100/single_devtype_cs['Total'];"
   ]
  },
  {
   "cell_type": "code",
   "execution_count": 126,
   "metadata": {},
   "outputs": [],
   "source": [
    "single_devtype_cs.drop(['Marketing or sales professional'],inplace=True)"
   ]
  },
  {
   "cell_type": "code",
   "execution_count": 127,
   "metadata": {
    "scrolled": false
   },
   "outputs": [
    {
     "data": {
      "image/png": "[encoded data removed]",
      "text/plain": [
       "<Figure size 864x576 with 1 Axes>"
      ]
     },
     "metadata": {
      "needs_background": "light"
     },
     "output_type": "display_data"
    }
   ],
   "source": [
    "#Shorten developer type to make plot look better\n",
    "#single_devtype_cs.index=(['Back-end developer', 'CEO, CTO, etc.',  'Data or business analyst',       'Data scientist or ML specialist',       'Desktop/enterprise app. dev.', 'DevOps specialist',       'Embedded app./devices dev.', 'Engineering manager', 'Front-end developer', 'Full-stack developer', 'Mobile developer', 'QA or test developer', 'System administrator'])\n",
    "fig = single_devtype_cs[['% Extremely Satisfied','% Extremely Dissatisfied']].sort_values('% Extremely Satisfied',ascending=False).plot(kind='bar', stacked=False ,figsize=(12,8)) ;\n",
    "box = fig.get_position();fig.set_position([box.x0, box.y0, box.width, box.height]);plt.title('Satisfaction % by Developer Type');plt.xlabel('Developer Type');"
   ]
  },
  {
   "cell_type": "code",
   "execution_count": 128,
   "metadata": {
    "scrolled": true
   },
   "outputs": [
    {
     "data": {
      "text/plain": [
       "0.0025759663714043225"
      ]
     },
     "execution_count": 128,
     "metadata": {},
     "output_type": "execute_result"
    }
   ],
   "source": [
    "# Proportion of CEOs who are Extremely Satisfied vs that of others who are Extremely Satisfied\n",
    "satisfied = np.array([[118,39], [13602, 2534]]); #??? which numbers should I use\n",
    "stats.chi2_contingency(satisfied)[1]"
   ]
  },
  {
   "cell_type": "markdown",
   "metadata": {},
   "source": [
    "<div class=\"span5 alert alert-success\">\n",
    "Among non-managerial roles, data scientist or ML specialists are the most satisfied with their jobs whereas data/business analysts are the least satisfied. This is interesting because to many people, they're very similar jobs, but in fact they work with data very differently and do very different things with it.</div>"
   ]
  },
  {
   "cell_type": "markdown",
   "metadata": {},
   "source": [
    "<font size=\"5\"><a id='MachineLearning'></a> <b>5 Machine Learning (In Progress)</b><br>\n",
    "<font size=\"2.5\">[5.1 Logistic Regression](#logreg)<br>\n",
    "    [5.2 Random Forest](#rf)<br>\n",
    "    [5.3 KNN](#knn)<br>\n",
    "    "
   ]
  },
  {
   "cell_type": "code",
   "execution_count": null,
   "metadata": {
    "scrolled": true
   },
   "outputs": [],
   "source": []
  },
  {
   "cell_type": "code",
   "execution_count": 129,
   "metadata": {
    "scrolled": true
   },
   "outputs": [],
   "source": [
    "#df = df[df.Country == 'United States']\n",
    "df_no_dev = pd.concat([df.iloc[:,13:26]],axis=1) #feature variable DF without devtype and career satisfaction . ****\n",
    "df_dev = df.iloc[:,18:-1] #pd.concat([df_no_dev,df.iloc[:,26:]],axis=1)\n",
    "target = df.iloc[:,-1:]"
   ]
  },
  {
   "cell_type": "code",
   "execution_count": 130,
   "metadata": {},
   "outputs": [],
   "source": [
    "df_car_sat_y = df['CareerSatisfaction_n'] #target var career sat"
   ]
  },
  {
   "cell_type": "code",
   "execution_count": 131,
   "metadata": {
    "scrolled": true
   },
   "outputs": [],
   "source": [
    "df_total = df_dev#pd.concat([df_dev,df_car_sat_y],axis=1)#Data frame to test ML  ***"
   ]
  },
  {
   "cell_type": "code",
   "execution_count": 132,
   "metadata": {},
   "outputs": [
    {
     "data": {
      "text/plain": [
       "(30043, 95)"
      ]
     },
     "execution_count": 132,
     "metadata": {},
     "output_type": "execute_result"
    }
   ],
   "source": [
    "df_dev.shape"
   ]
  },
  {
   "cell_type": "code",
   "execution_count": 133,
   "metadata": {},
   "outputs": [],
   "source": [
    "###-------------- defining variables with STANDARD SCALAR --------------\n",
    "from sklearn.preprocessing import StandardScaler\n",
    "#Career Satisfaction variables\n",
    "dflr = df_dev.copy();#dflr.drop(columns=['Continent'],inplace=True);\n",
    "target.replace([3,0,-1,2,1,-2,-3] ,[0,0,0,0,0,0,1] ,inplace=True) \n",
    "val0lr = df_dev.iloc[:,:-1].values #returns a numpy array\n",
    "\n",
    "scaler = StandardScaler();val0lr = scaler.fit_transform(val0lr);dflr_norm0 = pd.DataFrame(val0lr)\n",
    "\n",
    "X = dflr_norm0;y = target;\n",
    "X_train, X_test, y_train, y_test = train_test_split(X,y,test_size=0.2,random_state=42)"
   ]
  },
  {
   "cell_type": "code",
   "execution_count": 134,
   "metadata": {},
   "outputs": [],
   "source": [
    "from xgboost import XGBClassifier"
   ]
  },
  {
   "cell_type": "code",
   "execution_count": 135,
   "metadata": {},
   "outputs": [
    {
     "name": "stdout",
     "output_type": "stream",
     "text": [
      "Accuracy: 97.59%\n"
     ]
    }
   ],
   "source": [
    "model = XGBClassifier()#*****gridsearch\n",
    "model.fit(X_train, y_train)\n",
    "y_pred = model.predict(X_test)\n",
    "# evaluate predictions\n",
    "from sklearn.metrics import accuracy_score\n",
    "accuracy = accuracy_score(y_test, y_pred)\n",
    "print(\"Accuracy: %.2f%%\" % (accuracy * 100.0))"
   ]
  },
  {
   "cell_type": "code",
   "execution_count": 136,
   "metadata": {},
   "outputs": [
    {
     "data": {
      "text/plain": [
       "array([[5864,    0],\n",
       "       [ 145,    0]], dtype=int64)"
      ]
     },
     "execution_count": 136,
     "metadata": {},
     "output_type": "execute_result"
    }
   ],
   "source": [
    "confusion_matrix(y_test, y_pred)"
   ]
  },
  {
   "cell_type": "code",
   "execution_count": 137,
   "metadata": {},
   "outputs": [
    {
     "name": "stdout",
     "output_type": "stream",
     "text": [
      "Logistic Regression Score: 97.59%\n"
     ]
    }
   ],
   "source": [
    "X_train, X_test, y_train, y_test = train_test_split(X,y,test_size=0.2,random_state=42)\n",
    "logistic = LogisticRegression(C=1,penalty='l1').fit(X_train, y_train)\n",
    "y_pred = logistic.predict(X_test)\n",
    "pp = logistic.predict_proba(X_test)\n",
    "accuracy = logistic.score(X_test,y_test)\n",
    "print('Logistic Regression Score: {:0.2f}%'.format(accuracy*100)) "
   ]
  },
  {
   "cell_type": "code",
   "execution_count": 138,
   "metadata": {},
   "outputs": [
    {
     "data": {
      "text/plain": [
       "array([0, 0, 0, ..., 0, 0, 0], dtype=int64)"
      ]
     },
     "execution_count": 138,
     "metadata": {},
     "output_type": "execute_result"
    }
   ],
   "source": [
    "y_pred"
   ]
  },
  {
   "cell_type": "code",
   "execution_count": 139,
   "metadata": {},
   "outputs": [
    {
     "data": {
      "text/plain": [
       "array([[5864,    0],\n",
       "       [ 145,    0]], dtype=int64)"
      ]
     },
     "execution_count": 139,
     "metadata": {},
     "output_type": "execute_result"
    }
   ],
   "source": [
    "confusion_matrix(y_test, y_pred)"
   ]
  },
  {
   "cell_type": "code",
   "execution_count": 140,
   "metadata": {},
   "outputs": [],
   "source": [
    "vif = pd.DataFrame()\n",
    "vif[\"VIF Factor\"] = [variance_inflation_factor(X.values, i) for i in range(X.shape[1])]\n",
    "vif[\"features\"] = dflr.iloc[:,:-1].columns"
   ]
  },
  {
   "cell_type": "code",
   "execution_count": 141,
   "metadata": {},
   "outputs": [
    {
     "data": {
      "text/html": [
       "<div>\n",
       "<style scoped>\n",
       "    .dataframe tbody tr th:only-of-type {\n",
       "        vertical-align: middle;\n",
       "    }\n",
       "\n",
       "    .dataframe tbody tr th {\n",
       "        vertical-align: top;\n",
       "    }\n",
       "\n",
       "    .dataframe thead th {\n",
       "        text-align: right;\n",
       "    }\n",
       "</style>\n",
       "<table border=\"1\" class=\"dataframe\">\n",
       "  <thead>\n",
       "    <tr style=\"text-align: right;\">\n",
       "      <th></th>\n",
       "      <th>VIF Factor</th>\n",
       "      <th>features</th>\n",
       "    </tr>\n",
       "  </thead>\n",
       "  <tbody>\n",
       "    <tr>\n",
       "      <td>81</td>\n",
       "      <td>118.225327</td>\n",
       "      <td>Bachelors</td>\n",
       "    </tr>\n",
       "    <tr>\n",
       "      <td>82</td>\n",
       "      <td>87.725244</td>\n",
       "      <td>Masters</td>\n",
       "    </tr>\n",
       "    <tr>\n",
       "      <td>87</td>\n",
       "      <td>50.949702</td>\n",
       "      <td>Some college</td>\n",
       "    </tr>\n",
       "    <tr>\n",
       "      <td>21</td>\n",
       "      <td>47.173188</td>\n",
       "      <td>My job status or other personal status changed</td>\n",
       "    </tr>\n",
       "    <tr>\n",
       "      <td>18</td>\n",
       "      <td>24.331194</td>\n",
       "      <td>I had a negative experience or interaction at ...</td>\n",
       "    </tr>\n",
       "    <tr>\n",
       "      <td>...</td>\n",
       "      <td>...</td>\n",
       "      <td>...</td>\n",
       "    </tr>\n",
       "    <tr>\n",
       "      <td>49</td>\n",
       "      <td>1.022471</td>\n",
       "      <td>Cobol</td>\n",
       "    </tr>\n",
       "    <tr>\n",
       "      <td>7</td>\n",
       "      <td>1.022356</td>\n",
       "      <td>AIFuture_n</td>\n",
       "    </tr>\n",
       "    <tr>\n",
       "      <td>9</td>\n",
       "      <td>1.017423</td>\n",
       "      <td>TimeFullyProductive_n</td>\n",
       "    </tr>\n",
       "    <tr>\n",
       "      <td>10</td>\n",
       "      <td>1.011790</td>\n",
       "      <td>HoursComputer_n</td>\n",
       "    </tr>\n",
       "    <tr>\n",
       "      <td>57</td>\n",
       "      <td>1.010862</td>\n",
       "      <td>Hack</td>\n",
       "    </tr>\n",
       "  </tbody>\n",
       "</table>\n",
       "<p>94 rows × 2 columns</p>\n",
       "</div>"
      ],
      "text/plain": [
       "    VIF Factor                                           features\n",
       "81  118.225327                                          Bachelors\n",
       "82   87.725244                                            Masters\n",
       "87   50.949702                                       Some college\n",
       "21   47.173188     My job status or other personal status changed\n",
       "18   24.331194  I had a negative experience or interaction at ...\n",
       "..         ...                                                ...\n",
       "49    1.022471                                              Cobol\n",
       "7     1.022356                                         AIFuture_n\n",
       "9     1.017423                              TimeFullyProductive_n\n",
       "10    1.011790                                    HoursComputer_n\n",
       "57    1.010862                                               Hack\n",
       "\n",
       "[94 rows x 2 columns]"
      ]
     },
     "execution_count": 141,
     "metadata": {},
     "output_type": "execute_result"
    }
   ],
   "source": [
    "vif.sort_values(by='VIF Factor',ascending=False) #**** ??? "
   ]
  },
  {
   "cell_type": "code",
   "execution_count": 142,
   "metadata": {},
   "outputs": [
    {
     "name": "stdout",
     "output_type": "stream",
     "text": [
      "first decile: 19\n",
      "2nd decile: 17\n",
      "3rd decile: 19\n",
      "4th decile: 19\n",
      "last decile: 0\n"
     ]
    }
   ],
   "source": [
    "pp = pd.DataFrame(pp).iloc[:,:2];y_testdf = pd.DataFrame(y_test);y_testdf.reset_index(inplace=True)\n",
    "ppdf = pd.concat([pp,y_testdf],axis=1);ppdf.columns=['1', 'level_0', 'index', 'CareerSatisfaction_n'];ppdf = ppdf[['1', 'CareerSatisfaction_n']]\n",
    "ppdf.sort_values(by='1',ascending=False,inplace=True)\n",
    "#Top Deciles \n",
    "t10 = ppdf.iloc[:980,:];t10_20 = ppdf.iloc[980:1960,:];t20_30 = ppdf.iloc[1960:2940,:];t30_40 = ppdf.iloc[2940:3920,:];\n",
    "t_last = ppdf.iloc[8820:,:];\n",
    "print('first decile: ' + str(len(t10[t10.CareerSatisfaction_n == 1].index)))\n",
    "print('2nd decile: ' + str(len(t10_20[t10_20.CareerSatisfaction_n == 1].index)))\n",
    "print('3rd decile: ' + str(len(t20_30[t20_30.CareerSatisfaction_n == 1].index)))\n",
    "print('4th decile: ' + str(len(t30_40[t30_40.CareerSatisfaction_n == 1].index)))\n",
    "print('last decile: ' + str(len(t_last[t_last.CareerSatisfaction_n == 1].index)))"
   ]
  },
  {
   "cell_type": "code",
   "execution_count": 143,
   "metadata": {},
   "outputs": [
    {
     "data": {
      "text/plain": [
       "array([[5864,    0],\n",
       "       [ 145,    0]], dtype=int64)"
      ]
     },
     "execution_count": 143,
     "metadata": {},
     "output_type": "execute_result"
    }
   ],
   "source": [
    "confusion_matrix(y_test[['CareerSatisfaction_n']], y_pred)"
   ]
  },
  {
   "cell_type": "code",
   "execution_count": 144,
   "metadata": {},
   "outputs": [],
   "source": [
    "###########################      VARIABLE DEFINITIONS         #################################\n",
    "#x0 = CompanySize_n,YearsCoding_n,HoursOutside_n,Exercise_n,AIFuture_n,WakeTime_n,Hobby_Yes,OpenSource_Yes,EthicalImplications_n,EthicsReport_n\n",
    "#y0 = CareerSatisfaction_n\n",
    "#***xgboost, analytical logistical regression,vif scores, followerwonk,wine quality"
   ]
  },
  {
   "cell_type": "markdown",
   "metadata": {},
   "source": [
    "<div class=\"span5 alert alert-success\">\n",
    "<b>Precision vs Recall</b><br>\n",
    "Since it's crucial to detect all dissatisfied employees, and it's better to take action to increase satisfaction of someone who's already satisfied, rather than miss someone who is dissatisfied, recall is more important. If we miss some dissatisfied employees, it could affect the entire the team the employee works with and hence have a higher cost to the business than taking steps towards increasing satisfaction of an employee who is alreasy satisfied.  </div>"
   ]
  },
  {
   "cell_type": "markdown",
   "metadata": {},
   "source": [
    "<div class=\"span5 alert alert-success\">\n",
    "<b>Logistic Regression</b>  <a id='logreg'></a>\n",
    "    </div>"
   ]
  },
  {
   "cell_type": "code",
   "execution_count": 145,
   "metadata": {},
   "outputs": [
    {
     "data": {
      "text/plain": [
       "94"
      ]
     },
     "execution_count": 145,
     "metadata": {},
     "output_type": "execute_result"
    }
   ],
   "source": [
    "len(X.columns)"
   ]
  },
  {
   "cell_type": "code",
   "execution_count": 146,
   "metadata": {},
   "outputs": [
    {
     "name": "stdout",
     "output_type": "stream",
     "text": [
      "Logistic Regression Score: 97.59%\n"
     ]
    }
   ],
   "source": [
    "################# LOGISTIC REGRESSION for Career Dissatisfaction #################\n",
    "X_train, X_test, y_train, y_test = train_test_split(X,y,test_size=0.2,random_state=42)\n",
    "logistic = LogisticRegression(C=1200,penalty='l2').fit(X_train, y_train)\n",
    "y_pred = logistic.predict(X_test)\n",
    "accuracy = logistic.score(X_test,y_test)\n",
    "print('Logistic Regression Score: {:0.2f}%'.format(accuracy*100)) "
   ]
  },
  {
   "cell_type": "code",
   "execution_count": 147,
   "metadata": {},
   "outputs": [
    {
     "data": {
      "text/plain": [
       "array([[5864,    0],\n",
       "       [ 145,    0]], dtype=int64)"
      ]
     },
     "execution_count": 147,
     "metadata": {},
     "output_type": "execute_result"
    }
   ],
   "source": [
    "confusion_matrix(y_test, y_pred)"
   ]
  },
  {
   "cell_type": "code",
   "execution_count": 148,
   "metadata": {},
   "outputs": [
    {
     "data": {
      "text/plain": [
       "LogisticRegression(C=1200, class_weight=None, dual=False, fit_intercept=True,\n",
       "                   intercept_scaling=1, l1_ratio=None, max_iter=100,\n",
       "                   multi_class='warn', n_jobs=None, penalty='l2',\n",
       "                   random_state=None, solver='warn', tol=0.0001, verbose=0,\n",
       "                   warm_start=False)"
      ]
     },
     "execution_count": 148,
     "metadata": {},
     "output_type": "execute_result"
    }
   ],
   "source": [
    "logistic"
   ]
  },
  {
   "cell_type": "code",
   "execution_count": 149,
   "metadata": {},
   "outputs": [],
   "source": [
    "'''#Tune and find best hyperparamteres\n",
    "logistic = linear_model.LogisticRegression()\n",
    "# Create regularization penalty space\n",
    "penalty = ['l1', 'l2']\n",
    "# Create regularization hyperparameter space\n",
    "C = np.logspace(0, 4, 10)\n",
    "# Create hyperparameter options\n",
    "hyperparameters = dict(C=C, penalty=penalty)\n",
    "clf = GridSearchCV(logistic, hyperparameters, cv=5, verbose=0,scoring='roc_auc')\n",
    "# Fit grid search\n",
    "best_model = clf.fit(X_train,y_train)\n",
    "print('Best Penalty:', best_model.best_estimator_.get_params()['penalty'])\n",
    "print('Best C:', best_model.best_estimator_.get_params()['C'])\n",
    "# Predict target vector\n",
    "#best_model.predict(X_testlr)''';"
   ]
  },
  {
   "cell_type": "markdown",
   "metadata": {},
   "source": [
    "Best Penalty: l1\n",
    "Best C: 1.0\n",
    "clf.best_score_: 0.55"
   ]
  },
  {
   "cell_type": "code",
   "execution_count": 150,
   "metadata": {},
   "outputs": [
    {
     "ename": "NameError",
     "evalue": "name 'clf' is not defined",
     "output_type": "error",
     "traceback": [
      "\u001b[1;31m---------------------------------------------------------------------------\u001b[0m",
      "\u001b[1;31mNameError\u001b[0m                                 Traceback (most recent call last)",
      "\u001b[1;32m<ipython-input-150-c29642668001>\u001b[0m in \u001b[0;36m<module>\u001b[1;34m\u001b[0m\n\u001b[1;32m----> 1\u001b[1;33m \u001b[0mclf\u001b[0m\u001b[1;33m.\u001b[0m\u001b[0mbest_score_\u001b[0m\u001b[1;33m\u001b[0m\u001b[1;33m\u001b[0m\u001b[0m\n\u001b[0m",
      "\u001b[1;31mNameError\u001b[0m: name 'clf' is not defined"
     ]
    }
   ],
   "source": [
    "clf.best_score_"
   ]
  },
  {
   "cell_type": "code",
   "execution_count": null,
   "metadata": {},
   "outputs": [],
   "source": []
  },
  {
   "cell_type": "code",
   "execution_count": null,
   "metadata": {},
   "outputs": [],
   "source": [
    "y_test.mean()"
   ]
  },
  {
   "cell_type": "code",
   "execution_count": null,
   "metadata": {},
   "outputs": [],
   "source": []
  },
  {
   "cell_type": "code",
   "execution_count": null,
   "metadata": {},
   "outputs": [],
   "source": [
    "print('Results: Best Penalty: l2, Best C: 7.74')"
   ]
  },
  {
   "cell_type": "code",
   "execution_count": null,
   "metadata": {
    "scrolled": true
   },
   "outputs": [],
   "source": [
    "#ROC curve\n",
    "# calculate the fpr and tpr for all thresholds of the classification\n",
    "X_train, X_test, y_train, y_test = train_test_split(X,y,test_size=0.2,random_state=42)\n",
    "logistic.fit(X_train, y_train)\n",
    "probs = logistic.predict_proba(X_test);preds = probs[:,1]\n",
    "y_pred = logistic.predict(X_test)\n",
    "fpr, tpr, threshold = metrics.roc_curve(y_test, preds);roc_auc = metrics.auc(fpr, tpr)\n",
    "# method I: plt\n",
    "plt.title('Receiver Operating Characteristic');plt.plot(fpr, tpr, 'b', label = 'AUC = %0.2f' % roc_auc);plt.legend(loc = 'lower right')\n",
    "plt.plot([0, 1], [0, 1],'r--');plt.xlim([0, 1]);plt.ylim([0, 1]);\n",
    "plt.ylabel('True Positive Rate');plt.xlabel('False Positive Rate');plt.show()"
   ]
  },
  {
   "cell_type": "code",
   "execution_count": null,
   "metadata": {},
   "outputs": [],
   "source": [
    "y_pred = pd.DataFrame(y_pred);"
   ]
  },
  {
   "cell_type": "code",
   "execution_count": null,
   "metadata": {},
   "outputs": [],
   "source": [
    "confusion_matrix = confusion_matrix(y_test, logistic.predict(x_test))#***\n",
    "print(confusion_matrix)"
   ]
  },
  {
   "cell_type": "code",
   "execution_count": null,
   "metadata": {},
   "outputs": [],
   "source": [
    "#F-beta score\n",
    "from sklearn.metrics import fbeta_score;\n",
    "print('F-beta score average macro: ' + str(fbeta_score(y_test, y_pred, average='macro', beta=0.5)))\n",
    "print('F-beta score average weighted: ' + str(fbeta_score(y_test, y_pred, average='weighted', beta=0.5)))     \n",
    "print('F-beta score average micro: ' + str(fbeta_score(y_test, y_pred, average='micro', beta=0.5)))  "
   ]
  },
  {
   "cell_type": "code",
   "execution_count": null,
   "metadata": {
    "scrolled": true
   },
   "outputs": [],
   "source": [
    "confusion_matrix(y_test, y_pred)"
   ]
  },
  {
   "cell_type": "code",
   "execution_count": null,
   "metadata": {},
   "outputs": [],
   "source": [
    "'''#Tune and find best hyperparamteres\n",
    "logistic = linear_model.LogisticRegression()\n",
    "# Create regularization penalty space\n",
    "penalty = ['l1', 'l2']\n",
    "# Create regularization hyperparameter space\n",
    "C = np.logspace(0, 4, 10)\n",
    "# Create hyperparameter options\n",
    "hyperparameters = dict(C=C, penalty=penalty)\n",
    "clf = GridSearchCV(logistic, hyperparameters, cv=5, verbose=0)\n",
    "# Fit grid search\n",
    "best_model = clf.fit(X_train,y_train)\n",
    "print('Best Penalty:', best_model.best_estimator_.get_params()['penalty'])\n",
    "print('Best C:', best_model.best_estimator_.get_params()['C'])\n",
    "# Predict target vector\n",
    "#best_model.predict(X_testlr)''';"
   ]
  },
  {
   "cell_type": "markdown",
   "metadata": {},
   "source": [
    "Best Penalty: l1 <br>\n",
    "Best C: 1.0"
   ]
  },
  {
   "cell_type": "code",
   "execution_count": null,
   "metadata": {},
   "outputs": [],
   "source": [
    "################# FEATURE SELECTION Satisfaction #################****\n",
    "features = sklearn.feature_selection.f_regression(X_train, y_train, center=True);featuresdf = pd.DataFrame(features[0]); #F value, higher the better\n",
    "featuresdf.index =df_total.iloc[:,:-1].columns;featuresdf.columns=['Importance']; featuresdf.sort_values(by='Importance',ascending=False)\n",
    "#Most influential features"
   ]
  },
  {
   "cell_type": "markdown",
   "metadata": {},
   "source": [
    "<div class=\"span5 alert alert-success\">\n",
    "Most important features contributing to dissatisfaction: <br>\n",
    "1. Job search status <br>\n",
    "2. Ethical Implications<br>\n",
    "3. Contributing to Open source projects <br>\n",
    "4. Coding as a Hobby <br>\n",
    "5. AIFuture </div>\n",
    "  "
   ]
  },
  {
   "cell_type": "markdown",
   "metadata": {},
   "source": [
    "<div class=\"span5 alert alert-success\">\n",
    "<b>Random Forest Classifier </b><a id='rf'></a>\n",
    "    </div>"
   ]
  },
  {
   "cell_type": "code",
   "execution_count": null,
   "metadata": {},
   "outputs": [],
   "source": [
    "#**** use 5K sample to gridsearch"
   ]
  },
  {
   "cell_type": "code",
   "execution_count": null,
   "metadata": {
    "scrolled": false
   },
   "outputs": [],
   "source": [
    "################# Career Satisfaction ################# \n",
    "X_train, X_test, y_train, y_test = train_test_split(X,y,test_size=0.2,random_state=42)\n",
    "clf = RandomForestClassifier(max_depth=3, random_state=42,max_features= 'log2', n_estimators= 700)\n",
    "clf.fit(X_train, y_train);y_pred = clf.predict(X_test)\n",
    "print('Random Forest Score: {:0.2f}%'.format(clf.score(X_test, y_test)*100))"
   ]
  },
  {
   "cell_type": "code",
   "execution_count": null,
   "metadata": {},
   "outputs": [],
   "source": [
    "#gridsearch for AUC***\n",
    "model = RandomForestClassifier(n_jobs=-1, oob_score = True) \n",
    "param_grid = {'n_estimators': [200, 700],'max_features': ['auto','log2'],'max_depth' = [3,5,11]} \n",
    "#*** max_depth,in sample split ****\n",
    "#***maximize for roc auc\n",
    "#***maybe predict career dissatisfaction\n",
    "#***precison vs recall in terms of $\n",
    "#switch to extremely dissatisfied\n",
    "CV_model = GridSearchCV(estimator=model, param_grid=param_grid, cv= 5,scoring='roc_auc')\n",
    "CV_model.fit(X_train,y_train);print(CV_model.best_params_)"
   ]
  },
  {
   "cell_type": "code",
   "execution_count": null,
   "metadata": {},
   "outputs": [],
   "source": [
    "print('Results: max_features: log2, n_estimators : 700')"
   ]
  },
  {
   "cell_type": "code",
   "execution_count": null,
   "metadata": {},
   "outputs": [],
   "source": [
    "#ROC Curve Random Forest Classifier \n",
    "# calculate the fpr and tpr for all thresholds of the classification \n",
    "probs = clf.predict_proba(X_test);preds = probs[:,1];fpr, tpr, threshold = metrics.roc_curve(y_test, y_pred)\n",
    "roc_auc = metrics.auc(fpr, tpr)\n",
    "# method I: plt\n",
    "plt.title('Receiver Operating Characteristic');plt.plot(fpr, tpr, 'b', label = 'AUC = %0.2f' % roc_auc);\n",
    "plt.legend(loc = 'lower right');plt.plot([0, 1], [0, 1],'r--');plt.xlim([0, 1]);plt.ylim([0, 1]);\n",
    "plt.ylabel('True Positive Rate');plt.xlabel('False Positive Rate');plt.show();"
   ]
  },
  {
   "cell_type": "code",
   "execution_count": null,
   "metadata": {
    "scrolled": true
   },
   "outputs": [],
   "source": [
    "feat = pd.concat([pd.DataFrame(X.columns), pd.DataFrame(clf.feature_importances_)],axis=1);\n",
    "feat.columns=['Feature','Score']; feat.sort_values(by='Score',ascending=False);"
   ]
  },
  {
   "cell_type": "code",
   "execution_count": null,
   "metadata": {},
   "outputs": [],
   "source": [
    "confusion_matrix(y_test, y_pred)"
   ]
  },
  {
   "cell_type": "code",
   "execution_count": null,
   "metadata": {
    "scrolled": false
   },
   "outputs": [],
   "source": [
    "################# Career Dissatisfaction ################# \n",
    "X_traind, X_testd, y_traind, y_testd = train_test_split(X,y,test_size=0.2,random_state=42)\n",
    "clf = RandomForestClassifier(max_depth=2, random_state =42,max_features = 'auto', n_estimators = 700)\n",
    "clf.fit(X_traind, y_traind);print('Random Forest Score: {:0.2f}%'.format(clf.score(X_testd, y_testd)*100))"
   ]
  },
  {
   "cell_type": "code",
   "execution_count": null,
   "metadata": {
    "scrolled": false
   },
   "outputs": [],
   "source": [
    "feat = pd.concat([pd.DataFrame(X.columns), pd.DataFrame(clf.feature_importances_)],axis=1)\n",
    "feat.columns=['Feature','Score'];feat.sort_values(by='Score',ascending=False);"
   ]
  },
  {
   "cell_type": "markdown",
   "metadata": {},
   "source": [
    "<div class=\"span5 alert alert-success\">\n",
    "Most important features contributing to Dissatisfaction: <br>\n",
    "1. EthicsReport <br>\n",
    "2. Waketime<br>\n",
    "3. Years Coding <br>\n",
    "4. Hours Outside <br>\n",
    "5. Exercise </div>\n",
    "  "
   ]
  },
  {
   "cell_type": "markdown",
   "metadata": {},
   "source": [
    "<div class=\"span5 alert alert-success\">\n",
    "  <b> KNN<a id='knn'></b></a>\n",
    "</div> "
   ]
  },
  {
   "cell_type": "code",
   "execution_count": null,
   "metadata": {
    "scrolled": true
   },
   "outputs": [],
   "source": [
    "############# Career Dissatisfaction ##############\n",
    "#y0_job =conc1[['JobSatisfaction']]\n",
    "#y0_job=np.ravel(y0_job)\n",
    "X_train, X_test, y_train, y_test = train_test_split(X,y,test_size=0.2,random_state=42)\n",
    "knn = KNeighborsClassifier(n_neighbors=29,leaf_size=35,p=2);knn.fit(X_train, y_train)\n",
    "y_pred = knn.predict(X_test)\n",
    "#Tune neighbors\n",
    "#print(prediction[0:10]) #y_test.head(10)\n",
    "#print('KNN score: '+str(knn.score(y_test, prediction))) ???how to use gridsearchcv for params\n",
    "#rms = mean_squared_error(X_test,y_test)\n",
    "#print('KNN RMS: '+str(np.sqrt(rms)))\n",
    "print('KNN score is: {:0.2f}%'.format(knn.score(X_test,y_test)*100))"
   ]
  },
  {
   "cell_type": "markdown",
   "metadata": {},
   "source": [
    "#List Hyperparameters to tune. \n",
    "leaf_size = list(range(1,50))\n",
    "n_neighbors = list(range(1,30))\n",
    "p=[1,2]\n",
    "#Convert to dictionary\n",
    "hyperparameters = dict(leaf_size=leaf_size, n_neighbors=n_neighbors, p=p)\n",
    "#Create new KNN object\n",
    "knn_2 = KNeighborsClassifier()\n",
    "#Use GridSearch\n",
    "clf = GridSearchCV(estimator=knn_2, param_grid= hyperparameters, cv=10,scoring='roc_auc')\n",
    "#Fit the model\n",
    "best_model = clf.fit(X_train,y_train)\n",
    "#Print The value of best Hyperparameters\n",
    "print('Best leaf_size:', best_model.best_estimator_.get_params()['leaf_size'])\n",
    "print('Best p:', best_model.best_estimator_.get_params()['p'])\n",
    "print('Best n_neighbors:', best_model.best_estimator_.get_params()['n_neighbors'])"
   ]
  },
  {
   "cell_type": "code",
   "execution_count": null,
   "metadata": {},
   "outputs": [],
   "source": [
    "print('Results: Best leaf_size: 35, Best p: 2, Best n_neighbors: 29')"
   ]
  },
  {
   "cell_type": "code",
   "execution_count": null,
   "metadata": {},
   "outputs": [],
   "source": [
    "confusion_matrix(y_test, y_pred)"
   ]
  },
  {
   "cell_type": "code",
   "execution_count": null,
   "metadata": {
    "scrolled": true
   },
   "outputs": [],
   "source": [
    "################ ROC curve #######################\n",
    "# calculate the fpr and tpr for all thresholds of the classification\n",
    "probs = knn.predict_proba(X_test)\n",
    "preds = probs[:,1]\n",
    "fpr, tpr, threshold = metrics.roc_curve(y_test, y_pred)\n",
    "roc_auc = metrics.auc(fpr, tpr)\n",
    "# method I: plt\n",
    "plt.title('Receiver Operating Characteristic');plt.plot(fpr, tpr, 'b', label = 'AUC = %0.2f' % roc_auc)\n",
    "plt.legend(loc = 'lower right');plt.plot([0, 1], [0, 1],'r--');plt.xlim([0, 1]);plt.ylim([0, 1])\n",
    "plt.ylabel('True Positive Rate');plt.xlabel('False Positive Rate');plt.show()"
   ]
  },
  {
   "cell_type": "code",
   "execution_count": null,
   "metadata": {},
   "outputs": [],
   "source": []
  },
  {
   "cell_type": "code",
   "execution_count": null,
   "metadata": {},
   "outputs": [],
   "source": []
  },
  {
   "cell_type": "code",
   "execution_count": null,
   "metadata": {},
   "outputs": [],
   "source": []
  },
  {
   "cell_type": "code",
   "execution_count": null,
   "metadata": {},
   "outputs": [],
   "source": []
  },
  {
   "cell_type": "code",
   "execution_count": null,
   "metadata": {},
   "outputs": [],
   "source": []
  },
  {
   "cell_type": "code",
   "execution_count": null,
   "metadata": {},
   "outputs": [],
   "source": []
  }
 ],
 "metadata": {
  "kernelspec": {
   "display_name": "Python 3",
   "language": "python",
   "name": "python3"
  },
  "language_info": {
   "codemirror_mode": {
    "name": "ipython",
    "version": 3
   },
   "file_extension": ".py",
   "mimetype": "text/x-python",
   "name": "python",
   "nbconvert_exporter": "python",
   "pygments_lexer": "ipython3",
   "version": "3.7.4"
  }
 },
 "nbformat": 4,
 "nbformat_minor": 2
}
