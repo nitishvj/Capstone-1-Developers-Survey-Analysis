{
 "cells": [
  {
   "cell_type": "markdown",
   "metadata": {},
   "source": [
    "<font size=\"5\"> Capstone Project: 2018 Stackoverflow Developer Survey analysis<br> "
   ]
  },
  {
   "cell_type": "markdown",
   "metadata": {},
   "source": [
    "<font size=\"4\">Table of Contents <br> \n",
    "<br> <font size=\"2.5\">\n",
    "[1 DataWrangling](#DataWrangling)<br> \n",
    "<br>\n",
    "[2 Data Preprocessing](#DataPreprocessing) <br> \n",
    "<br>\n",
    "[3 Data Exploration/ Statistical Analysis](#DataExploration) <br> \n",
    "[3.1 Correlation between variables](#Correlation) <br>\n",
    "[3.2 T-test between populations](#T-test) <br>\n",
    "[3.3 Data by Country/Continent](#DatabyCountry/Continent) <br>\n",
    "<br>\n",
    "[4 Data Visualization](#DataViz) <br> \n",
    "[4.1 Variables affecting Career Satisfaction](#Carsatvsother) <br> \n",
    "<br>\n",
    "[5 Machine Learning (In progress)](#MachineLearning)\n"
   ]
  },
  {
   "cell_type": "code",
   "execution_count": 150,
   "metadata": {
    "scrolled": true
   },
   "outputs": [
    {
     "data": {
      "application/javascript": [
       "IPython.notebook.set_autosave_interval(30000)"
      ]
     },
     "metadata": {},
     "output_type": "display_data"
    },
    {
     "name": "stdout",
     "output_type": "stream",
     "text": [
      "Autosaving every 30 seconds\n"
     ]
    }
   ],
   "source": [
    "#https://www.kaggle.com/stackoverflow/stack-overflow-2018-developer-survey\n",
    "%matplotlib inline\n",
    "%autosave 30\n",
    "import pandas as pd\n",
    "import numpy as np\n",
    "import seaborn as sns\n",
    "import researchpy as rp\n",
    "from scipy import stats\n",
    "import matplotlib.pyplot as plt\n",
    "from sklearn import preprocessing\n",
    "from sklearn.preprocessing import MultiLabelBinarizer\n",
    "from sklearn.preprocessing import MinMaxScaler\n",
    "from sklearn.model_selection import train_test_split\n",
    "from sklearn.linear_model import LinearRegression\n",
    "from sklearn.model_selection import cross_val_score\n",
    "from sklearn.metrics import mean_squared_error\n",
    "from sklearn.neighbors import KNeighborsClassifier\n",
    "from sklearn.model_selection import GridSearchCV\n",
    "from sklearn import linear_model\n",
    "from sklearn.linear_model import Lasso\n",
    "from sklearn.linear_model import LogisticRegression\n",
    "from sklearn import svm\n",
    "from sklearn.svm import LinearSVR\n",
    "from sklearn.datasets import make_regression\n",
    "from sklearn.ensemble import RandomForestRegressor\n",
    "from sklearn.ensemble import RandomForestClassifier\n",
    "from sklearn.naive_bayes import MultinomialNB\n",
    "from sklearn.preprocessing import LabelEncoder\n",
    "from sklearn.preprocessing import OneHotEncoder\n",
    "import sklearn.feature_selection \n",
    "import warnings\n",
    "from pandas.core.common import SettingWithCopyWarning\n",
    "warnings.simplefilter(action=\"ignore\")#, category=SettingWithCopyWarning)"
   ]
  },
  {
   "cell_type": "code",
   "execution_count": 2,
   "metadata": {},
   "outputs": [],
   "source": [
    "############################## FUNCTIONS TO NUMERICIZE VARIABLES #################################\n",
    "def seriesify(df,strd,numd,colname):\n",
    "    ziptemp = zip(strd,numd)\n",
    "    dictemp = dict(ziptemp)\n",
    "    return df[colname].replace(dictemp)\n",
    "def dummify(df,colname,ser):\n",
    "    ser = ser.rename(colname+'_n')\n",
    "    df = pd.concat([df,ser],axis=1)\n",
    "    df = df.drop(colname,axis=1)\n",
    "    return df\n",
    "def satisfaction_perc(df_c):\n",
    "    df_c['Total'] = df_c[['Extremely satisfied','Moderately satisfied','Slightly satisfied','Neither satisfied nor dissatisfied','Slightly dissatisfied', 'Moderately dissatisfied','Extremely dissatisfied']].sum(axis=1)\n",
    "    df_c['Satisfied']=df_c[['Extremely satisfied','Moderately satisfied','Slightly satisfied']].sum(axis=1)\n",
    "    df_c['% Satisfied'] =  df_c['Satisfied']*100/df_c['Total']  \n",
    "    df_c['% Ext. Satisfied'] =  df_c['Extremely satisfied']*100/df_c['Total']  \n",
    "    df_c['% Mod. Satisfied'] =  df_c['Moderately satisfied']*100/df_c['Total'] \n",
    "    df_c['% Sl. Satisfied'] =  df_c['Slightly satisfied']*100/df_c['Total'] \n",
    "    df_c['% Dissatisfied'] = 100-df_c['% Satisfied']-(df_c['Neither satisfied nor dissatisfied']*100/df_c['Total'])\n",
    "    return df_c"
   ]
  },
  {
   "cell_type": "markdown",
   "metadata": {},
   "source": [
    "<a id='DataWrangling'></a> <font size=\"5\"><b>Data Wrangling</b>"
   ]
  },
  {
   "cell_type": "code",
   "execution_count": 3,
   "metadata": {
    "scrolled": false
   },
   "outputs": [
    {
     "name": "stdout",
     "output_type": "stream",
     "text": [
      "Wall time: 21.3 s\n"
     ]
    }
   ],
   "source": [
    "%%time\n",
    "survey_questions = pd.read_csv('survey_results_schema.csv')\n",
    "data = pd.read_excel('survey_results_public_filtered.xlsx')"
   ]
  },
  {
   "cell_type": "code",
   "execution_count": 4,
   "metadata": {},
   "outputs": [
    {
     "data": {
      "text/plain": [
       "(98855, 20)"
      ]
     },
     "execution_count": 4,
     "metadata": {},
     "output_type": "execute_result"
    }
   ],
   "source": [
    "data.shape"
   ]
  },
  {
   "cell_type": "code",
   "execution_count": 5,
   "metadata": {
    "scrolled": true
   },
   "outputs": [
    {
     "data": {
      "text/html": [
       "<div>\n",
       "<style scoped>\n",
       "    .dataframe tbody tr th:only-of-type {\n",
       "        vertical-align: middle;\n",
       "    }\n",
       "\n",
       "    .dataframe tbody tr th {\n",
       "        vertical-align: top;\n",
       "    }\n",
       "\n",
       "    .dataframe thead th {\n",
       "        text-align: right;\n",
       "    }\n",
       "</style>\n",
       "<table border=\"1\" class=\"dataframe\">\n",
       "  <thead>\n",
       "    <tr style=\"text-align: right;\">\n",
       "      <th></th>\n",
       "      <th>0</th>\n",
       "    </tr>\n",
       "  </thead>\n",
       "  <tbody>\n",
       "    <tr>\n",
       "      <td>ConvertedSalary</td>\n",
       "      <td>51153</td>\n",
       "    </tr>\n",
       "    <tr>\n",
       "      <td>SelfTaughtTypes</td>\n",
       "      <td>41501</td>\n",
       "    </tr>\n",
       "    <tr>\n",
       "      <td>EducationTypes</td>\n",
       "      <td>30895</td>\n",
       "    </tr>\n",
       "    <tr>\n",
       "      <td>JobSatisfaction</td>\n",
       "      <td>29579</td>\n",
       "    </tr>\n",
       "    <tr>\n",
       "      <td>EthicalImplications</td>\n",
       "      <td>29546</td>\n",
       "    </tr>\n",
       "    <tr>\n",
       "      <td>AIFuture</td>\n",
       "      <td>29127</td>\n",
       "    </tr>\n",
       "    <tr>\n",
       "      <td>EthicsReport</td>\n",
       "      <td>28429</td>\n",
       "    </tr>\n",
       "    <tr>\n",
       "      <td>EthicsChoice</td>\n",
       "      <td>28073</td>\n",
       "    </tr>\n",
       "    <tr>\n",
       "      <td>CompanySize</td>\n",
       "      <td>27324</td>\n",
       "    </tr>\n",
       "    <tr>\n",
       "      <td>HoursOutside</td>\n",
       "      <td>26831</td>\n",
       "    </tr>\n",
       "    <tr>\n",
       "      <td>Exercise</td>\n",
       "      <td>26747</td>\n",
       "    </tr>\n",
       "    <tr>\n",
       "      <td>WakeTime</td>\n",
       "      <td>26709</td>\n",
       "    </tr>\n",
       "    <tr>\n",
       "      <td>CareerSatisfaction</td>\n",
       "      <td>22351</td>\n",
       "    </tr>\n",
       "    <tr>\n",
       "      <td>UndergradMajor</td>\n",
       "      <td>19819</td>\n",
       "    </tr>\n",
       "    <tr>\n",
       "      <td>DevType</td>\n",
       "      <td>6757</td>\n",
       "    </tr>\n",
       "    <tr>\n",
       "      <td>YearsCoding</td>\n",
       "      <td>5020</td>\n",
       "    </tr>\n",
       "    <tr>\n",
       "      <td>Employment</td>\n",
       "      <td>3534</td>\n",
       "    </tr>\n",
       "    <tr>\n",
       "      <td>Country</td>\n",
       "      <td>412</td>\n",
       "    </tr>\n",
       "    <tr>\n",
       "      <td>OpenSource</td>\n",
       "      <td>0</td>\n",
       "    </tr>\n",
       "    <tr>\n",
       "      <td>Hobby</td>\n",
       "      <td>0</td>\n",
       "    </tr>\n",
       "  </tbody>\n",
       "</table>\n",
       "</div>"
      ],
      "text/plain": [
       "                         0\n",
       "ConvertedSalary      51153\n",
       "SelfTaughtTypes      41501\n",
       "EducationTypes       30895\n",
       "JobSatisfaction      29579\n",
       "EthicalImplications  29546\n",
       "AIFuture             29127\n",
       "EthicsReport         28429\n",
       "EthicsChoice         28073\n",
       "CompanySize          27324\n",
       "HoursOutside         26831\n",
       "Exercise             26747\n",
       "WakeTime             26709\n",
       "CareerSatisfaction   22351\n",
       "UndergradMajor       19819\n",
       "DevType               6757\n",
       "YearsCoding           5020\n",
       "Employment            3534\n",
       "Country                412\n",
       "OpenSource               0\n",
       "Hobby                    0"
      ]
     },
     "execution_count": 5,
     "metadata": {},
     "output_type": "execute_result"
    }
   ],
   "source": [
    "pd.DataFrame(data.isnull().sum().sort_values(ascending=False)) # Num of null values in each column"
   ]
  },
  {
   "cell_type": "markdown",
   "metadata": {},
   "source": [
    "<div class=\"span5 alert alert-success\">\n",
    "22,000 missing CareerSatisfaction responses and 51,153 missing ConvertedSalary responses are some of the biggest features with missing variables.    \n",
    "</div> "
   ]
  },
  {
   "cell_type": "code",
   "execution_count": 6,
   "metadata": {
    "scrolled": true
   },
   "outputs": [],
   "source": [
    "## Drop NaN values from certain columns\n",
    "clean_df = data.dropna(subset=['EthicalImplications','AIFuture','YearsCoding','EthicsReport','EthicsChoice',\\\n",
    "                              'CompanySize','HoursOutside','Exercise','CareerSatisfaction','DevType'])"
   ]
  },
  {
   "cell_type": "code",
   "execution_count": 7,
   "metadata": {},
   "outputs": [
    {
     "data": {
      "text/plain": [
       "(48943, 20)"
      ]
     },
     "execution_count": 7,
     "metadata": {},
     "output_type": "execute_result"
    }
   ],
   "source": [
    "clean_df.shape"
   ]
  },
  {
   "cell_type": "code",
   "execution_count": 8,
   "metadata": {
    "scrolled": true
   },
   "outputs": [],
   "source": [
    "# Num of null values in each column where salary is not Null\n",
    "pd.DataFrame(data[data.ConvertedSalary.isnull()==False].isnull().sum().sort_values(ascending=False)).head(10);"
   ]
  },
  {
   "cell_type": "code",
   "execution_count": 9,
   "metadata": {},
   "outputs": [
    {
     "data": {
      "text/plain": [
       "(48943, 20)"
      ]
     },
     "execution_count": 9,
     "metadata": {},
     "output_type": "execute_result"
    }
   ],
   "source": [
    "clean_df.shape"
   ]
  },
  {
   "cell_type": "code",
   "execution_count": 10,
   "metadata": {},
   "outputs": [],
   "source": [
    "clean_df.head();"
   ]
  },
  {
   "cell_type": "code",
   "execution_count": 11,
   "metadata": {
    "scrolled": true
   },
   "outputs": [],
   "source": [
    "countries = clean_df['Country'].value_counts();top_countries = countries[0:10] #top 10 countries with most respondents; \n",
    "top_20_countries = countries[0:20];last_20_countries=countries[-20:];countries_100_resp = countries[0:55]"
   ]
  },
  {
   "cell_type": "markdown",
   "metadata": {},
   "source": [
    "<font size=\"5\"><a id='DataPreprocessing'></a> <b>Data Preprocessing</b>"
   ]
  },
  {
   "cell_type": "code",
   "execution_count": 12,
   "metadata": {},
   "outputs": [],
   "source": [
    "df = clean_df.copy()\n",
    "dfd = clean_df.copy() #dataframe for dissatisfaction\n",
    "dflr = clean_df.copy() #dataframe for logreg\n",
    "dflrd = clean_df.copy() #dataframe for logreg dissatisfaction"
   ]
  },
  {
   "cell_type": "code",
   "execution_count": 13,
   "metadata": {
    "scrolled": true
   },
   "outputs": [
    {
     "data": {
      "text/plain": [
       "array(['Extremely satisfied', 'Neither satisfied nor dissatisfied',\n",
       "       'Slightly dissatisfied', 'Moderately satisfied',\n",
       "       'Slightly satisfied', 'Moderately dissatisfied',\n",
       "       'Extremely dissatisfied'], dtype=object)"
      ]
     },
     "execution_count": 13,
     "metadata": {},
     "output_type": "execute_result"
    }
   ],
   "source": [
    "clean_df.CareerSatisfaction.unique()"
   ]
  },
  {
   "cell_type": "code",
   "execution_count": 14,
   "metadata": {},
   "outputs": [],
   "source": [
    "#Replace AIFuture values with shorter terms\n",
    "clean_df['AIFuture'].replace([\"I'm excited about the possibilities more than worried about the dangers.\",\"I'm worried about the dangers more than I'm excited about the possibilities.\",       \"I don't care about it, or I haven't thought about it.\"],['Excited','Worried','DontCare'],inplace=True) "
   ]
  },
  {
   "cell_type": "code",
   "execution_count": 15,
   "metadata": {},
   "outputs": [],
   "source": [
    "#NUMERICIZE VARIABLES\n",
    "#Replace employed full time/part time with FT/PT\n",
    "df['Employment'].replace(['Employed full-time','Employed part-time'],['FT','PT'],inplace=True) \n",
    "#Numericize CareerSatisfaction\n",
    "if 'CareerSatisfaction' in df.columns:\n",
    "    cs_str=df['CareerSatisfaction'].unique()\n",
    "    cs_num = [3,0,-1,2,1,-2,-3] \n",
    "    cs_ser = seriesify(df,cs_str,cs_num,'CareerSatisfaction')\n",
    "    df=dummify(df,'CareerSatisfaction',cs_ser)\n",
    "#Numericize CompanySize\n",
    "if 'CompanySize' in df.columns:\n",
    "    comp_str=df['CompanySize'].unique()\n",
    "    comp_num = [10000,15,300,1250,60,750,7500,5]\n",
    "    comp_ser = seriesify(df,comp_str,comp_num,'CompanySize')\n",
    "    df=dummify(df,'CompanySize',comp_ser)\n",
    "#Convert Years of Coding to numeric variable\n",
    "if 'YearsCoding' in df.columns:\n",
    "    years = df['YearsCoding'].unique()\n",
    "    yrs_num =[30,7,10,16,13,4,1,19,25,22,28]\n",
    "    yrs_cod_ser = seriesify(df,years,yrs_num,'YearsCoding')\n",
    "    df=dummify(df,'YearsCoding',yrs_cod_ser)\n",
    "#Numericize HoursOutside\n",
    "if 'HoursOutside' in df.columns:\n",
    "    hrsout_str = df['HoursOutside'].unique()\n",
    "    hrsout_num = [.75,1.5,.25,3.5,4.5]\n",
    "    hrsout_ser = seriesify(df,hrsout_str,hrsout_num,'HoursOutside')\n",
    "    df=dummify(df,'HoursOutside',hrsout_ser)\n",
    "#Numericize Exercise\n",
    "if 'Exercise' in df.columns:\n",
    "    ex_str=df['Exercise'].unique()\n",
    "    ex_num = [6,3.5,1.5,0]\n",
    "    ex_ser = seriesify(df,ex_str,ex_num,'Exercise')\n",
    "    df=dummify(df,'Exercise',ex_ser)\n",
    "#Numericize AIFuture\n",
    "if 'AIFuture' in df.columns:\n",
    "    aifuturestr=df['AIFuture'].unique()\n",
    "    aifuturenum = [1,-1,0]\n",
    "    ai_ser = seriesify(df,aifuturestr,aifuturenum,'AIFuture')\n",
    "    df=dummify(df,'AIFuture',ai_ser)\n",
    "#Numericize waketime\n",
    "if 'WakeTime' in df.columns:\n",
    "    wtstr=df['WakeTime'].unique()\n",
    "    wtnum = [530,630,430,730,930,0,830,1030,1130,1230,0,-1]\n",
    "    wt_ser = seriesify(df,wtstr,wtnum,'WakeTime')\n",
    "    df=dummify(df,'WakeTime',wt_ser)"
   ]
  },
  {
   "cell_type": "code",
   "execution_count": 16,
   "metadata": {},
   "outputs": [],
   "source": [
    "#DUMMIFY VARIABLES\n",
    "#Dummify Hobby columns\n",
    "if 'Hobby' in df.columns:\n",
    "    df = pd.get_dummies(data=df, columns=['Hobby'])\n",
    "    df = df.drop('Hobby_No',axis=1)\n",
    "#Dummify OpenSource\n",
    "if 'OpenSource' in df.columns:\n",
    "    df = pd.get_dummies(data=df, columns=['OpenSource'])\n",
    "    df = df.drop('OpenSource_No',axis=1)\n",
    "#Dummify EthicalImplications\n",
    "if 'EthicalImplications' in df.columns:\n",
    "    ethimpstr=df['EthicalImplications'].unique()\n",
    "    ethimpnum=[3,2,1]\n",
    "    ethimp_ser = seriesify(df,ethimpstr,ethimpnum,'EthicalImplications')\n",
    "    df=dummify(df,'EthicalImplications',ethimp_ser)\n",
    "#Dummify EthicsReport\n",
    "if 'EthicsReport' in df.columns:\n",
    "    ethrepstr=df['EthicsReport'].unique()\n",
    "    ethrepnum=[0,1,2,-1]\n",
    "    ethrep_ser = seriesify(df,ethrepstr,ethrepnum,'EthicsReport')\n",
    "    df=dummify(df,'EthicsReport',ethrep_ser)"
   ]
  },
  {
   "cell_type": "code",
   "execution_count": 17,
   "metadata": {
    "scrolled": true
   },
   "outputs": [],
   "source": [
    "#Dummify DevType\n",
    "mlb = MultiLabelBinarizer()\n",
    "dev_types = clean_df['DevType'].unique()\n",
    "devtypelist = df['DevType'].str.split(';')\n",
    "devtypelist.rename('NewDevType',inplace=True)\n",
    "df_dev_type = pd.concat([df,devtypelist],axis=1)\n",
    "df_dev_type = df_dev_type.drop('DevType',axis=1)\n",
    "dev_type_num=pd.DataFrame(mlb.fit_transform(df_dev_type['NewDevType']),columns=mlb.classes_, index=df_dev_type.index)#.head()\n",
    "if 'DevType' in df.columns:   #concatenate DevType dummified to df\n",
    "    df = df.drop('DevType',axis=1)\n",
    "    df = pd.concat([df,dev_type_num],axis=1)"
   ]
  },
  {
   "cell_type": "code",
   "execution_count": 18,
   "metadata": {},
   "outputs": [],
   "source": [
    "df.iloc[:,9:120].head(1);"
   ]
  },
  {
   "cell_type": "code",
   "execution_count": 19,
   "metadata": {
    "scrolled": true
   },
   "outputs": [],
   "source": [
    "df_no_dev = pd.concat([df.iloc[:,9:19]],axis=1) #feature variable DF without devtype and career satisfaction \n",
    "df_no_dev.head(2);"
   ]
  },
  {
   "cell_type": "code",
   "execution_count": 20,
   "metadata": {},
   "outputs": [],
   "source": [
    "df.iloc[:,8:19]; #Feature variables\n",
    "df_car_sat_y = df.iloc[:,8] #target var career sat"
   ]
  },
  {
   "cell_type": "code",
   "execution_count": 21,
   "metadata": {
    "scrolled": true
   },
   "outputs": [],
   "source": [
    "df_total = pd.concat([df_no_dev,df_car_sat_y],axis=1)#Data frame to test ML "
   ]
  },
  {
   "cell_type": "code",
   "execution_count": 22,
   "metadata": {
    "scrolled": true
   },
   "outputs": [],
   "source": [
    "df_total.head();"
   ]
  },
  {
   "cell_type": "code",
   "execution_count": 23,
   "metadata": {},
   "outputs": [],
   "source": [
    "#Add continents to the DF\n",
    "continents =pd.read_csv('Countries-Continents.csv')\n",
    "continents['Country'].replace(['Burma (Myanmar)','Iran','Venezuela',\n",
    "                               'Congo, Democratic Republic of','Congo','Ivory Coast','US','Vietnam','Korea, South','Macedonia',\n",
    "                              'Tanzania','Syria','Moldova'],\n",
    "                              ['Myanmar','Iran, Islamic Republic of...','Venezuela, Bolivarian Republic of...',\n",
    "                               'Democratic Republic of the Congo','Congo, Republic of the...',\"CÃ´te d'Ivoire\",'United States',\n",
    "                               'Viet Nam','South Korea','The former Yugoslav Republic of Macedonia',\n",
    "                              'United Republic of Tanzania','Syrian Arab Republic','Republic of Moldova'],inplace=True) \n",
    "added = pd.DataFrame({'Continent':['Asia','Asia','Asia','Europe'],'Country':['Hong Kong (S.A.R.)','Taiwan','Republic of Korea','Czech Republic']})\n",
    "continents = continents.append(added,ignore_index = True);"
   ]
  },
  {
   "cell_type": "code",
   "execution_count": 24,
   "metadata": {},
   "outputs": [
    {
     "name": "stdout",
     "output_type": "stream",
     "text": [
      "Wall time: 21 s\n"
     ]
    }
   ],
   "source": [
    "%%time\n",
    "african = continents[continents.Continent =='Africa']#.loc[:,'Country']\n",
    "asian = continents[continents.Continent =='Asia']\n",
    "NAmerican = continents[continents.Continent =='North America']\n",
    "SAmerican = continents[continents.Continent =='South America']\n",
    "oceania = continents[continents.Continent =='Oceania']\n",
    "european = continents[continents.Continent =='Europe']\n",
    "countries=(pd.DataFrame(countries))\n",
    "def get_continent(d):\n",
    "    continent = []\n",
    "    for row in d:\n",
    "        if row in asian.Country.unique():\n",
    "            continent.append('Asia') \n",
    "        elif row in NAmerican.Country.unique():\n",
    "            continent.append('North America') \n",
    "        elif row in (SAmerican.Country).unique():\n",
    "            continent.append('Sount America') \n",
    "        elif row in (oceania.Country.unique()):\n",
    "            continent.append('Oceania') \n",
    "        elif row in (european.Country.unique()):\n",
    "            continent.append('Europe') \n",
    "        elif row in (african.Country.unique()):  \n",
    "            continent.append('Africa')\n",
    "        else:\n",
    "            continent.append('Other')\n",
    "    return continent\n",
    "\n",
    "continent = get_continent(df['Country'])\n",
    "df['Continent'] = continent"
   ]
  },
  {
   "cell_type": "markdown",
   "metadata": {},
   "source": [
    "<a id='DataExploration'></a> <font size=\"5\"><b>Data Exploration/Statistical Analysis</b>"
   ]
  },
  {
   "cell_type": "markdown",
   "metadata": {},
   "source": [
    "<a id='Correlation'></a> <font size=\"4\"><b>Correlation</b>"
   ]
  },
  {
   "cell_type": "code",
   "execution_count": 25,
   "metadata": {
    "scrolled": true
   },
   "outputs": [
    {
     "data": {
      "image/png": "[encoded data removed]",
      "text/plain": [
       "<Figure size 432x288 with 2 Axes>"
      ]
     },
     "metadata": {
      "needs_background": "light"
     },
     "output_type": "display_data"
    }
   ],
   "source": [
    "corr = df.iloc[:,9:19].corr()\n",
    "ax = sns.heatmap(\n",
    "    corr, \n",
    "    vmin=-1, vmax=1, center=0,\n",
    "    cmap=sns.diverging_palette(20, 220, n=200),\n",
    "    square=True\n",
    ")\n",
    "ax.set_xticklabels(\n",
    "    ax.get_xticklabels(),\n",
    "    rotation=45,\n",
    "    horizontalalignment='right'\n",
    ");"
   ]
  },
  {
   "cell_type": "code",
   "execution_count": 26,
   "metadata": {},
   "outputs": [
    {
     "data": {
      "text/html": [
       "<div>\n",
       "<style scoped>\n",
       "    .dataframe tbody tr th:only-of-type {\n",
       "        vertical-align: middle;\n",
       "    }\n",
       "\n",
       "    .dataframe tbody tr th {\n",
       "        vertical-align: top;\n",
       "    }\n",
       "\n",
       "    .dataframe thead th {\n",
       "        text-align: right;\n",
       "    }\n",
       "</style>\n",
       "<table border=\"1\" class=\"dataframe\">\n",
       "  <thead>\n",
       "    <tr style=\"text-align: right;\">\n",
       "      <th></th>\n",
       "      <th>CareerSatisfaction_n</th>\n",
       "      <th>CompanySize_n</th>\n",
       "      <th>YearsCoding_n</th>\n",
       "      <th>HoursOutside_n</th>\n",
       "      <th>Exercise_n</th>\n",
       "      <th>AIFuture_n</th>\n",
       "      <th>WakeTime_n</th>\n",
       "      <th>Hobby_Yes</th>\n",
       "      <th>OpenSource_Yes</th>\n",
       "      <th>EthicalImplications_n</th>\n",
       "      <th>EthicsReport_n</th>\n",
       "    </tr>\n",
       "  </thead>\n",
       "  <tbody>\n",
       "    <tr>\n",
       "      <td>CareerSatisfaction_n</td>\n",
       "      <td>1.000000</td>\n",
       "      <td>-0.016657</td>\n",
       "      <td>-0.000273</td>\n",
       "      <td>-0.014543</td>\n",
       "      <td>0.022787</td>\n",
       "      <td>0.048146</td>\n",
       "      <td>-0.006721</td>\n",
       "      <td>0.048823</td>\n",
       "      <td>0.061609</td>\n",
       "      <td>0.055937</td>\n",
       "      <td>0.035417</td>\n",
       "    </tr>\n",
       "    <tr>\n",
       "      <td>CompanySize_n</td>\n",
       "      <td>-0.016657</td>\n",
       "      <td>1.000000</td>\n",
       "      <td>0.026201</td>\n",
       "      <td>0.014505</td>\n",
       "      <td>-0.011839</td>\n",
       "      <td>-0.011968</td>\n",
       "      <td>0.033755</td>\n",
       "      <td>0.009607</td>\n",
       "      <td>0.025492</td>\n",
       "      <td>-0.025880</td>\n",
       "      <td>-0.016952</td>\n",
       "    </tr>\n",
       "    <tr>\n",
       "      <td>YearsCoding_n</td>\n",
       "      <td>-0.000273</td>\n",
       "      <td>0.026201</td>\n",
       "      <td>1.000000</td>\n",
       "      <td>0.024941</td>\n",
       "      <td>0.002318</td>\n",
       "      <td>0.018079</td>\n",
       "      <td>0.020485</td>\n",
       "      <td>-0.002014</td>\n",
       "      <td>-0.039559</td>\n",
       "      <td>-0.038202</td>\n",
       "      <td>0.002775</td>\n",
       "    </tr>\n",
       "    <tr>\n",
       "      <td>HoursOutside_n</td>\n",
       "      <td>-0.014543</td>\n",
       "      <td>0.014505</td>\n",
       "      <td>0.024941</td>\n",
       "      <td>1.000000</td>\n",
       "      <td>0.040306</td>\n",
       "      <td>-0.008483</td>\n",
       "      <td>-0.021993</td>\n",
       "      <td>0.007255</td>\n",
       "      <td>0.025180</td>\n",
       "      <td>-0.034360</td>\n",
       "      <td>-0.026416</td>\n",
       "    </tr>\n",
       "    <tr>\n",
       "      <td>Exercise_n</td>\n",
       "      <td>0.022787</td>\n",
       "      <td>-0.011839</td>\n",
       "      <td>0.002318</td>\n",
       "      <td>0.040306</td>\n",
       "      <td>1.000000</td>\n",
       "      <td>0.009595</td>\n",
       "      <td>-0.048047</td>\n",
       "      <td>-0.008045</td>\n",
       "      <td>-0.006122</td>\n",
       "      <td>0.013695</td>\n",
       "      <td>-0.009417</td>\n",
       "    </tr>\n",
       "    <tr>\n",
       "      <td>AIFuture_n</td>\n",
       "      <td>0.048146</td>\n",
       "      <td>-0.011968</td>\n",
       "      <td>0.018079</td>\n",
       "      <td>-0.008483</td>\n",
       "      <td>0.009595</td>\n",
       "      <td>1.000000</td>\n",
       "      <td>0.015511</td>\n",
       "      <td>0.064187</td>\n",
       "      <td>0.011790</td>\n",
       "      <td>0.042229</td>\n",
       "      <td>0.045369</td>\n",
       "    </tr>\n",
       "    <tr>\n",
       "      <td>WakeTime_n</td>\n",
       "      <td>-0.006721</td>\n",
       "      <td>0.033755</td>\n",
       "      <td>0.020485</td>\n",
       "      <td>-0.021993</td>\n",
       "      <td>-0.048047</td>\n",
       "      <td>0.015511</td>\n",
       "      <td>1.000000</td>\n",
       "      <td>-0.009489</td>\n",
       "      <td>0.009694</td>\n",
       "      <td>-0.032390</td>\n",
       "      <td>-0.009406</td>\n",
       "    </tr>\n",
       "    <tr>\n",
       "      <td>Hobby_Yes</td>\n",
       "      <td>0.048823</td>\n",
       "      <td>0.009607</td>\n",
       "      <td>-0.002014</td>\n",
       "      <td>0.007255</td>\n",
       "      <td>-0.008045</td>\n",
       "      <td>0.064187</td>\n",
       "      <td>-0.009489</td>\n",
       "      <td>1.000000</td>\n",
       "      <td>0.219958</td>\n",
       "      <td>0.024029</td>\n",
       "      <td>-0.006088</td>\n",
       "    </tr>\n",
       "    <tr>\n",
       "      <td>OpenSource_Yes</td>\n",
       "      <td>0.061609</td>\n",
       "      <td>0.025492</td>\n",
       "      <td>-0.039559</td>\n",
       "      <td>0.025180</td>\n",
       "      <td>-0.006122</td>\n",
       "      <td>0.011790</td>\n",
       "      <td>0.009694</td>\n",
       "      <td>0.219958</td>\n",
       "      <td>1.000000</td>\n",
       "      <td>0.031500</td>\n",
       "      <td>-0.030134</td>\n",
       "    </tr>\n",
       "    <tr>\n",
       "      <td>EthicalImplications_n</td>\n",
       "      <td>0.055937</td>\n",
       "      <td>-0.025880</td>\n",
       "      <td>-0.038202</td>\n",
       "      <td>-0.034360</td>\n",
       "      <td>0.013695</td>\n",
       "      <td>0.042229</td>\n",
       "      <td>-0.032390</td>\n",
       "      <td>0.024029</td>\n",
       "      <td>0.031500</td>\n",
       "      <td>1.000000</td>\n",
       "      <td>0.098079</td>\n",
       "    </tr>\n",
       "    <tr>\n",
       "      <td>EthicsReport_n</td>\n",
       "      <td>0.035417</td>\n",
       "      <td>-0.016952</td>\n",
       "      <td>0.002775</td>\n",
       "      <td>-0.026416</td>\n",
       "      <td>-0.009417</td>\n",
       "      <td>0.045369</td>\n",
       "      <td>-0.009406</td>\n",
       "      <td>-0.006088</td>\n",
       "      <td>-0.030134</td>\n",
       "      <td>0.098079</td>\n",
       "      <td>1.000000</td>\n",
       "    </tr>\n",
       "  </tbody>\n",
       "</table>\n",
       "</div>"
      ],
      "text/plain": [
       "                       CareerSatisfaction_n  CompanySize_n  YearsCoding_n  \\\n",
       "CareerSatisfaction_n               1.000000      -0.016657      -0.000273   \n",
       "CompanySize_n                     -0.016657       1.000000       0.026201   \n",
       "YearsCoding_n                     -0.000273       0.026201       1.000000   \n",
       "HoursOutside_n                    -0.014543       0.014505       0.024941   \n",
       "Exercise_n                         0.022787      -0.011839       0.002318   \n",
       "AIFuture_n                         0.048146      -0.011968       0.018079   \n",
       "WakeTime_n                        -0.006721       0.033755       0.020485   \n",
       "Hobby_Yes                          0.048823       0.009607      -0.002014   \n",
       "OpenSource_Yes                     0.061609       0.025492      -0.039559   \n",
       "EthicalImplications_n              0.055937      -0.025880      -0.038202   \n",
       "EthicsReport_n                     0.035417      -0.016952       0.002775   \n",
       "\n",
       "                       HoursOutside_n  Exercise_n  AIFuture_n  WakeTime_n  \\\n",
       "CareerSatisfaction_n        -0.014543    0.022787    0.048146   -0.006721   \n",
       "CompanySize_n                0.014505   -0.011839   -0.011968    0.033755   \n",
       "YearsCoding_n                0.024941    0.002318    0.018079    0.020485   \n",
       "HoursOutside_n               1.000000    0.040306   -0.008483   -0.021993   \n",
       "Exercise_n                   0.040306    1.000000    0.009595   -0.048047   \n",
       "AIFuture_n                  -0.008483    0.009595    1.000000    0.015511   \n",
       "WakeTime_n                  -0.021993   -0.048047    0.015511    1.000000   \n",
       "Hobby_Yes                    0.007255   -0.008045    0.064187   -0.009489   \n",
       "OpenSource_Yes               0.025180   -0.006122    0.011790    0.009694   \n",
       "EthicalImplications_n       -0.034360    0.013695    0.042229   -0.032390   \n",
       "EthicsReport_n              -0.026416   -0.009417    0.045369   -0.009406   \n",
       "\n",
       "                       Hobby_Yes  OpenSource_Yes  EthicalImplications_n  \\\n",
       "CareerSatisfaction_n    0.048823        0.061609               0.055937   \n",
       "CompanySize_n           0.009607        0.025492              -0.025880   \n",
       "YearsCoding_n          -0.002014       -0.039559              -0.038202   \n",
       "HoursOutside_n          0.007255        0.025180              -0.034360   \n",
       "Exercise_n             -0.008045       -0.006122               0.013695   \n",
       "AIFuture_n              0.064187        0.011790               0.042229   \n",
       "WakeTime_n             -0.009489        0.009694              -0.032390   \n",
       "Hobby_Yes               1.000000        0.219958               0.024029   \n",
       "OpenSource_Yes          0.219958        1.000000               0.031500   \n",
       "EthicalImplications_n   0.024029        0.031500               1.000000   \n",
       "EthicsReport_n         -0.006088       -0.030134               0.098079   \n",
       "\n",
       "                       EthicsReport_n  \n",
       "CareerSatisfaction_n         0.035417  \n",
       "CompanySize_n               -0.016952  \n",
       "YearsCoding_n                0.002775  \n",
       "HoursOutside_n              -0.026416  \n",
       "Exercise_n                  -0.009417  \n",
       "AIFuture_n                   0.045369  \n",
       "WakeTime_n                  -0.009406  \n",
       "Hobby_Yes                   -0.006088  \n",
       "OpenSource_Yes              -0.030134  \n",
       "EthicalImplications_n        0.098079  \n",
       "EthicsReport_n               1.000000  "
      ]
     },
     "execution_count": 26,
     "metadata": {},
     "output_type": "execute_result"
    }
   ],
   "source": [
    "df.iloc[:,8:19].corr()"
   ]
  },
  {
   "cell_type": "markdown",
   "metadata": {},
   "source": [
    "<div class=\"span5 alert alert-success\">\n",
    "None of the variables seem to be correlated strongly. The only 2 variables which are at least slightly correlated (0.26) are \"Open source\" and \"Hobby\". This makes sense because people who program as a hobby are also more likely to contribute to open source projects as a part of that hobby.\n",
    " </div> "
   ]
  },
  {
   "cell_type": "markdown",
   "metadata": {},
   "source": [
    "<a id='T-test'></a> <font size=\"4\"><b>T-test</b> <br>\n",
    "<font size=\"3\">T-test to see if populations who filled out all of the survey vs who left some fields blank are different. "
   ]
  },
  {
   "cell_type": "code",
   "execution_count": 27,
   "metadata": {},
   "outputs": [],
   "source": [
    "df_empty_cs = data[(data.ConvertedSalary.isnull()) & (data.CareerSatisfaction.isnull()==False)]; #dataframe with empty salary\n",
    "df_not_empty_cs =  data[(data.ConvertedSalary.isnull() == False) & (data.CareerSatisfaction.isnull()==False)];#dataframe with filled salary"
   ]
  },
  {
   "cell_type": "code",
   "execution_count": 28,
   "metadata": {},
   "outputs": [
    {
     "data": {
      "text/plain": [
       "(46965, 20)"
      ]
     },
     "execution_count": 28,
     "metadata": {},
     "output_type": "execute_result"
    }
   ],
   "source": [
    "df_not_empty_cs.shape"
   ]
  },
  {
   "cell_type": "code",
   "execution_count": 29,
   "metadata": {},
   "outputs": [],
   "source": [
    "df_empty_cs.shape;"
   ]
  },
  {
   "cell_type": "code",
   "execution_count": 30,
   "metadata": {
    "scrolled": true
   },
   "outputs": [],
   "source": [
    "df_not_empty_cs.shape;"
   ]
  },
  {
   "cell_type": "code",
   "execution_count": 31,
   "metadata": {},
   "outputs": [],
   "source": [
    "data.dropna().shape;"
   ]
  },
  {
   "cell_type": "code",
   "execution_count": 32,
   "metadata": {
    "scrolled": true
   },
   "outputs": [
    {
     "data": {
      "text/plain": [
       "array(['Extremely satisfied', 'Neither satisfied nor dissatisfied',\n",
       "       'Moderately satisfied', 'Slightly dissatisfied',\n",
       "       'Slightly satisfied', 'Moderately dissatisfied',\n",
       "       'Extremely dissatisfied'], dtype=object)"
      ]
     },
     "execution_count": 32,
     "metadata": {},
     "output_type": "execute_result"
    }
   ],
   "source": [
    "data_ttest = data.copy()\n",
    "data_ttest.dropna(subset=['CareerSatisfaction'],inplace=True)\n",
    "data_ttest.CareerSatisfaction.unique()"
   ]
  },
  {
   "cell_type": "code",
   "execution_count": 33,
   "metadata": {},
   "outputs": [],
   "source": [
    "if 'CareerSatisfaction' in df_empty_cs.columns:\n",
    "    cs_str=df_empty_cs['CareerSatisfaction'].unique()\n",
    "    cs_num = [3,2,-1,-2,-3,0,1]\n",
    "    cs_ser = seriesify(df_empty_cs,cs_str,cs_num,'CareerSatisfaction')\n",
    "    df_empty_cs=dummify(df_empty_cs,'CareerSatisfaction',cs_ser)\n",
    "if 'CareerSatisfaction' in df_not_empty_cs.columns:\n",
    "    cs_str=df_not_empty_cs['CareerSatisfaction'].unique()\n",
    "    cs_num = [0,2,1,-2,-1,3,-3] \n",
    "    cs_ser = seriesify(df_not_empty_cs,cs_str,cs_num,'CareerSatisfaction')\n",
    "    df_not_empty_cs=dummify(df_not_empty_cs,'CareerSatisfaction',cs_ser)\n",
    "if 'CareerSatisfaction' in data_ttest.columns:\n",
    "    cs_str=data_ttest['CareerSatisfaction'].unique()\n",
    "    cs_num = [3,0,2,-1,1,-2,-3] \n",
    "    cs_ser = seriesify(data_ttest,cs_str,cs_num,'CareerSatisfaction')\n",
    "    data_ttest=dummify(data_ttest,'CareerSatisfaction',cs_ser)"
   ]
  },
  {
   "cell_type": "markdown",
   "metadata": {},
   "source": [
    "Career Sat. on a scale from -3 to 3."
   ]
  },
  {
   "cell_type": "code",
   "execution_count": 34,
   "metadata": {
    "scrolled": true
   },
   "outputs": [
    {
     "name": "stdout",
     "output_type": "stream",
     "text": [
      "Mean Career Sat. of people with empty Salary: 1.00 \n"
     ]
    }
   ],
   "source": [
    "print('Mean Career Sat. of people with empty Salary: {:0.2f} '.format(df_empty_cs.CareerSatisfaction_n.mean())) "
   ]
  },
  {
   "cell_type": "code",
   "execution_count": 35,
   "metadata": {},
   "outputs": [
    {
     "name": "stdout",
     "output_type": "stream",
     "text": [
      "Mean Career Sat. of people with filled Salary: 1.23 \n"
     ]
    }
   ],
   "source": [
    "print('Mean Career Sat. of people with filled Salary: {:0.2f} '.format(df_not_empty_cs.CareerSatisfaction_n.mean()))"
   ]
  },
  {
   "cell_type": "code",
   "execution_count": 36,
   "metadata": {},
   "outputs": [
    {
     "name": "stdout",
     "output_type": "stream",
     "text": [
      "Mean Career Sat. of people with multiple empty responses: 1.24 \n"
     ]
    }
   ],
   "source": [
    "print('Mean Career Sat. of people with multiple empty responses: {:0.2f} '.format(df.CareerSatisfaction_n.mean()))"
   ]
  },
  {
   "cell_type": "code",
   "execution_count": 37,
   "metadata": {},
   "outputs": [
    {
     "name": "stdout",
     "output_type": "stream",
     "text": [
      "Mean Career Sat. of people with all filled responses: 1.14 \n"
     ]
    }
   ],
   "source": [
    "print('Mean Career Sat. of people with all filled responses: {:0.2f} '.format(data_ttest.CareerSatisfaction_n.mean()))"
   ]
  },
  {
   "cell_type": "code",
   "execution_count": 38,
   "metadata": {},
   "outputs": [
    {
     "data": {
      "text/plain": [
       "1.6814715696253375"
      ]
     },
     "execution_count": 38,
     "metadata": {},
     "output_type": "execute_result"
    }
   ],
   "source": [
    "np.std(df_empty_cs.CareerSatisfaction_n)"
   ]
  },
  {
   "cell_type": "code",
   "execution_count": 39,
   "metadata": {},
   "outputs": [
    {
     "data": {
      "text/plain": [
       "1.6051041035377622"
      ]
     },
     "execution_count": 39,
     "metadata": {},
     "output_type": "execute_result"
    }
   ],
   "source": [
    "np.std(df_not_empty_cs.CareerSatisfaction_n)"
   ]
  },
  {
   "cell_type": "code",
   "execution_count": 40,
   "metadata": {},
   "outputs": [
    {
     "data": {
      "text/plain": [
       "1.6388906979881948"
      ]
     },
     "execution_count": 40,
     "metadata": {},
     "output_type": "execute_result"
    }
   ],
   "source": [
    "np.std(data_ttest.CareerSatisfaction_n)"
   ]
  },
  {
   "cell_type": "code",
   "execution_count": 41,
   "metadata": {
    "scrolled": true
   },
   "outputs": [
    {
     "data": {
      "image/png": "[encoded data removed]",
      "text/plain": [
       "<Figure size 432x288 with 1 Axes>"
      ]
     },
     "metadata": {
      "needs_background": "light"
     },
     "output_type": "display_data"
    }
   ],
   "source": [
    "df_not_empty_cs.CareerSatisfaction_n.plot(kind='hist',bins=7);\n",
    "plt.title('Career Sat. of respondents with filled in Salary responses');"
   ]
  },
  {
   "cell_type": "code",
   "execution_count": 42,
   "metadata": {
    "scrolled": true
   },
   "outputs": [
    {
     "data": {
      "image/png": "[encoded data removed]",
      "text/plain": [
       "<Figure size 432x288 with 1 Axes>"
      ]
     },
     "metadata": {
      "needs_background": "light"
     },
     "output_type": "display_data"
    }
   ],
   "source": [
    "df_empty_cs.CareerSatisfaction_n.plot(kind='hist',bins=7);\n",
    "plt.title('Career Sat. of respondents with empty Salary responses');"
   ]
  },
  {
   "cell_type": "code",
   "execution_count": 43,
   "metadata": {},
   "outputs": [
    {
     "name": "stdout",
     "output_type": "stream",
     "text": [
      "Stats for population with filled vs empty salary response: \n",
      "Ttest_indResult(statistic=-19.060104640254124, pvalue=8.345891344835878e-81)\n"
     ]
    }
   ],
   "source": [
    "print('Stats for population with filled vs empty salary response: ')\n",
    "print(stats.ttest_ind(df_empty_cs.CareerSatisfaction_n, df_not_empty_cs.CareerSatisfaction_n))"
   ]
  },
  {
   "cell_type": "code",
   "execution_count": 44,
   "metadata": {},
   "outputs": [
    {
     "name": "stdout",
     "output_type": "stream",
     "text": [
      "Stats for population with everything filled vs multiple unfilled responses: \n",
      "Ttest_indResult(statistic=10.054379685199006, pvalue=8.971604673330457e-24)\n"
     ]
    }
   ],
   "source": [
    "print('Stats for population with everything filled vs multiple unfilled responses: ')\n",
    "print(stats.ttest_ind(df.CareerSatisfaction_n, data_ttest.CareerSatisfaction_n)) "
   ]
  },
  {
   "cell_type": "markdown",
   "metadata": {},
   "source": [
    "<div class=\"span5 alert alert-success\">\n",
    "Using the T-Test, we can say that among the populations, ones who didn't reply to the salary or other questions and the ones who did, are different. The ones who answer more questions tend to be more satisfied with their career on average. "
   ]
  },
  {
   "cell_type": "markdown",
   "metadata": {},
   "source": [
    "<a id='DatabyCountry/Continent'></a> <font size=\"3\"><b>Data by Country/Continent</b> <br>\n",
    "<font size=\"2\">"
   ]
  },
  {
   "cell_type": "code",
   "execution_count": 45,
   "metadata": {
    "scrolled": false
   },
   "outputs": [
    {
     "data": {
      "text/plain": [
       "(98855, 20)"
      ]
     },
     "execution_count": 45,
     "metadata": {},
     "output_type": "execute_result"
    }
   ],
   "source": [
    "data.shape"
   ]
  },
  {
   "cell_type": "code",
   "execution_count": 46,
   "metadata": {
    "scrolled": true
   },
   "outputs": [
    {
     "name": "stdout",
     "output_type": "stream",
     "text": [
      "Total responses from 10 most respresented countries: 32423\n"
     ]
    }
   ],
   "source": [
    "#Number of respondents from each country\n",
    "counts = clean_df.Country.value_counts().reset_index(name='NumResponses')\n",
    "continent_c= get_continent(counts.iloc[:,0]);\n",
    "counts['Continent'] = continent_c\n",
    "print('Total responses from 10 most respresented countries: '+ str(counts.iloc[:10,1:2].sum()[0]))"
   ]
  },
  {
   "cell_type": "markdown",
   "metadata": {},
   "source": [
    "<div class=\"span5 alert alert-success\">\n",
    "    Two thirds of the responses come from the 10 most represented countries"
   ]
  },
  {
   "cell_type": "code",
   "execution_count": 47,
   "metadata": {},
   "outputs": [
    {
     "data": {
      "text/html": [
       "<div>\n",
       "<style scoped>\n",
       "    .dataframe tbody tr th:only-of-type {\n",
       "        vertical-align: middle;\n",
       "    }\n",
       "\n",
       "    .dataframe tbody tr th {\n",
       "        vertical-align: top;\n",
       "    }\n",
       "\n",
       "    .dataframe thead th {\n",
       "        text-align: right;\n",
       "    }\n",
       "</style>\n",
       "<table border=\"1\" class=\"dataframe\">\n",
       "  <thead>\n",
       "    <tr style=\"text-align: right;\">\n",
       "      <th></th>\n",
       "      <th>NumResponses</th>\n",
       "    </tr>\n",
       "    <tr>\n",
       "      <th>Continent</th>\n",
       "      <th></th>\n",
       "    </tr>\n",
       "  </thead>\n",
       "  <tbody>\n",
       "    <tr>\n",
       "      <td>Europe</td>\n",
       "      <td>18995</td>\n",
       "    </tr>\n",
       "    <tr>\n",
       "      <td>North America</td>\n",
       "      <td>15063</td>\n",
       "    </tr>\n",
       "    <tr>\n",
       "      <td>Asia</td>\n",
       "      <td>10497</td>\n",
       "    </tr>\n",
       "    <tr>\n",
       "      <td>Sount America</td>\n",
       "      <td>1945</td>\n",
       "    </tr>\n",
       "    <tr>\n",
       "      <td>Oceania</td>\n",
       "      <td>1481</td>\n",
       "    </tr>\n",
       "    <tr>\n",
       "      <td>Africa</td>\n",
       "      <td>926</td>\n",
       "    </tr>\n",
       "    <tr>\n",
       "      <td>Other</td>\n",
       "      <td>36</td>\n",
       "    </tr>\n",
       "  </tbody>\n",
       "</table>\n",
       "</div>"
      ],
      "text/plain": [
       "               NumResponses\n",
       "Continent                  \n",
       "Europe                18995\n",
       "North America         15063\n",
       "Asia                  10497\n",
       "Sount America          1945\n",
       "Oceania                1481\n",
       "Africa                  926\n",
       "Other                    36"
      ]
     },
     "execution_count": 47,
     "metadata": {},
     "output_type": "execute_result"
    }
   ],
   "source": [
    "pd.DataFrame(counts.groupby('Continent')['NumResponses'].sum().sort_values(ascending=False))#.style.set_caption(\"Number of responses by Continent\")"
   ]
  },
  {
   "cell_type": "code",
   "execution_count": 48,
   "metadata": {
    "scrolled": false
   },
   "outputs": [
    {
     "data": {
      "text/html": [
       "<style  type=\"text/css\" >\n",
       "</style><table id=\"T_638747b0_62f9_11ea_af05_c8f75008f8f4\" ><caption>10 most represented countries</caption><thead>    <tr>        <th class=\"blank level0\" ></th>        <th class=\"col_heading level0 col0\" >Country</th>        <th class=\"col_heading level0 col1\" >NumResponses</th>        <th class=\"col_heading level0 col2\" >Continent</th>    </tr></thead><tbody>\n",
       "                <tr>\n",
       "                        <th id=\"T_638747b0_62f9_11ea_af05_c8f75008f8f4level0_row0\" class=\"row_heading level0 row0\" >1</th>\n",
       "                        <td id=\"T_638747b0_62f9_11ea_af05_c8f75008f8f4row0_col0\" class=\"data row0 col0\" >United States</td>\n",
       "                        <td id=\"T_638747b0_62f9_11ea_af05_c8f75008f8f4row0_col1\" class=\"data row0 col1\" >12626</td>\n",
       "                        <td id=\"T_638747b0_62f9_11ea_af05_c8f75008f8f4row0_col2\" class=\"data row0 col2\" >North America</td>\n",
       "            </tr>\n",
       "            <tr>\n",
       "                        <th id=\"T_638747b0_62f9_11ea_af05_c8f75008f8f4level0_row1\" class=\"row_heading level0 row1\" >2</th>\n",
       "                        <td id=\"T_638747b0_62f9_11ea_af05_c8f75008f8f4row1_col0\" class=\"data row1 col0\" >India</td>\n",
       "                        <td id=\"T_638747b0_62f9_11ea_af05_c8f75008f8f4row1_col1\" class=\"data row1 col1\" >4932</td>\n",
       "                        <td id=\"T_638747b0_62f9_11ea_af05_c8f75008f8f4row1_col2\" class=\"data row1 col2\" >Asia</td>\n",
       "            </tr>\n",
       "            <tr>\n",
       "                        <th id=\"T_638747b0_62f9_11ea_af05_c8f75008f8f4level0_row2\" class=\"row_heading level0 row2\" >3</th>\n",
       "                        <td id=\"T_638747b0_62f9_11ea_af05_c8f75008f8f4row2_col0\" class=\"data row2 col0\" >United Kingdom</td>\n",
       "                        <td id=\"T_638747b0_62f9_11ea_af05_c8f75008f8f4row2_col1\" class=\"data row2 col1\" >3588</td>\n",
       "                        <td id=\"T_638747b0_62f9_11ea_af05_c8f75008f8f4row2_col2\" class=\"data row2 col2\" >Europe</td>\n",
       "            </tr>\n",
       "            <tr>\n",
       "                        <th id=\"T_638747b0_62f9_11ea_af05_c8f75008f8f4level0_row3\" class=\"row_heading level0 row3\" >4</th>\n",
       "                        <td id=\"T_638747b0_62f9_11ea_af05_c8f75008f8f4row3_col0\" class=\"data row3 col0\" >Germany</td>\n",
       "                        <td id=\"T_638747b0_62f9_11ea_af05_c8f75008f8f4row3_col1\" class=\"data row3 col1\" >3507</td>\n",
       "                        <td id=\"T_638747b0_62f9_11ea_af05_c8f75008f8f4row3_col2\" class=\"data row3 col2\" >Europe</td>\n",
       "            </tr>\n",
       "            <tr>\n",
       "                        <th id=\"T_638747b0_62f9_11ea_af05_c8f75008f8f4level0_row4\" class=\"row_heading level0 row4\" >5</th>\n",
       "                        <td id=\"T_638747b0_62f9_11ea_af05_c8f75008f8f4row4_col0\" class=\"data row4 col0\" >Canada</td>\n",
       "                        <td id=\"T_638747b0_62f9_11ea_af05_c8f75008f8f4row4_col1\" class=\"data row4 col1\" >1862</td>\n",
       "                        <td id=\"T_638747b0_62f9_11ea_af05_c8f75008f8f4row4_col2\" class=\"data row4 col2\" >North America</td>\n",
       "            </tr>\n",
       "            <tr>\n",
       "                        <th id=\"T_638747b0_62f9_11ea_af05_c8f75008f8f4level0_row5\" class=\"row_heading level0 row5\" >6</th>\n",
       "                        <td id=\"T_638747b0_62f9_11ea_af05_c8f75008f8f4row5_col0\" class=\"data row5 col0\" >France</td>\n",
       "                        <td id=\"T_638747b0_62f9_11ea_af05_c8f75008f8f4row5_col1\" class=\"data row5 col1\" >1312</td>\n",
       "                        <td id=\"T_638747b0_62f9_11ea_af05_c8f75008f8f4row5_col2\" class=\"data row5 col2\" >Europe</td>\n",
       "            </tr>\n",
       "            <tr>\n",
       "                        <th id=\"T_638747b0_62f9_11ea_af05_c8f75008f8f4level0_row6\" class=\"row_heading level0 row6\" >7</th>\n",
       "                        <td id=\"T_638747b0_62f9_11ea_af05_c8f75008f8f4row6_col0\" class=\"data row6 col0\" >Russian Federation</td>\n",
       "                        <td id=\"T_638747b0_62f9_11ea_af05_c8f75008f8f4row6_col1\" class=\"data row6 col1\" >1279</td>\n",
       "                        <td id=\"T_638747b0_62f9_11ea_af05_c8f75008f8f4row6_col2\" class=\"data row6 col2\" >Asia</td>\n",
       "            </tr>\n",
       "            <tr>\n",
       "                        <th id=\"T_638747b0_62f9_11ea_af05_c8f75008f8f4level0_row7\" class=\"row_heading level0 row7\" >8</th>\n",
       "                        <td id=\"T_638747b0_62f9_11ea_af05_c8f75008f8f4row7_col0\" class=\"data row7 col0\" >Australia</td>\n",
       "                        <td id=\"T_638747b0_62f9_11ea_af05_c8f75008f8f4row7_col1\" class=\"data row7 col1\" >1170</td>\n",
       "                        <td id=\"T_638747b0_62f9_11ea_af05_c8f75008f8f4row7_col2\" class=\"data row7 col2\" >Oceania</td>\n",
       "            </tr>\n",
       "            <tr>\n",
       "                        <th id=\"T_638747b0_62f9_11ea_af05_c8f75008f8f4level0_row8\" class=\"row_heading level0 row8\" >9</th>\n",
       "                        <td id=\"T_638747b0_62f9_11ea_af05_c8f75008f8f4row8_col0\" class=\"data row8 col0\" >Brazil</td>\n",
       "                        <td id=\"T_638747b0_62f9_11ea_af05_c8f75008f8f4row8_col1\" class=\"data row8 col1\" >1169</td>\n",
       "                        <td id=\"T_638747b0_62f9_11ea_af05_c8f75008f8f4row8_col2\" class=\"data row8 col2\" >Sount America</td>\n",
       "            </tr>\n",
       "            <tr>\n",
       "                        <th id=\"T_638747b0_62f9_11ea_af05_c8f75008f8f4level0_row9\" class=\"row_heading level0 row9\" >10</th>\n",
       "                        <td id=\"T_638747b0_62f9_11ea_af05_c8f75008f8f4row9_col0\" class=\"data row9 col0\" >Netherlands</td>\n",
       "                        <td id=\"T_638747b0_62f9_11ea_af05_c8f75008f8f4row9_col1\" class=\"data row9 col1\" >978</td>\n",
       "                        <td id=\"T_638747b0_62f9_11ea_af05_c8f75008f8f4row9_col2\" class=\"data row9 col2\" >Europe</td>\n",
       "            </tr>\n",
       "    </tbody></table>"
      ],
      "text/plain": [
       "<pandas.io.formats.style.Styler at 0x1f0f77e63c8>"
      ]
     },
     "execution_count": 48,
     "metadata": {},
     "output_type": "execute_result"
    }
   ],
   "source": [
    "counts.columns = ['Country', 'NumResponses', 'Continent'];\n",
    "counts.index = range(1,len(counts)+1);\n",
    "counts.head(10);counts.head(10).style.set_caption(\"10 most represented countries\")"
   ]
  },
  {
   "cell_type": "code",
   "execution_count": 49,
   "metadata": {
    "scrolled": true
   },
   "outputs": [
    {
     "name": "stdout",
     "output_type": "stream",
     "text": [
      "Number of countries with at least 100 responses: 57\n"
     ]
    }
   ],
   "source": [
    "#Num countries with at least 100 respondents\n",
    "print('Number of countries with at least 100 responses: '+str(counts[counts.NumResponses>=100].shape[0]))"
   ]
  },
  {
   "cell_type": "code",
   "execution_count": 50,
   "metadata": {},
   "outputs": [
    {
     "data": {
      "text/html": [
       "<style  type=\"text/css\" >\n",
       "</style><table id=\"T_638bb190_62f9_11ea_98ba_c8f75008f8f4\" ><caption>% of countries by continent</caption><thead>    <tr>        <th class=\"blank level0\" ></th>        <th class=\"col_heading level0 col0\" >NumResponses</th>        <th class=\"col_heading level0 col1\" >%</th>    </tr>    <tr>        <th class=\"index_name level0\" >Continent</th>        <th class=\"blank\" ></th>        <th class=\"blank\" ></th>    </tr></thead><tbody>\n",
       "                <tr>\n",
       "                        <th id=\"T_638bb190_62f9_11ea_98ba_c8f75008f8f4level0_row0\" class=\"row_heading level0 row0\" >Africa</th>\n",
       "                        <td id=\"T_638bb190_62f9_11ea_98ba_c8f75008f8f4row0_col0\" class=\"data row0 col0\" >33</td>\n",
       "                        <td id=\"T_638bb190_62f9_11ea_98ba_c8f75008f8f4row0_col1\" class=\"data row0 col1\" >21.4286</td>\n",
       "            </tr>\n",
       "            <tr>\n",
       "                        <th id=\"T_638bb190_62f9_11ea_98ba_c8f75008f8f4level0_row1\" class=\"row_heading level0 row1\" >Asia</th>\n",
       "                        <td id=\"T_638bb190_62f9_11ea_98ba_c8f75008f8f4row1_col0\" class=\"data row1 col0\" >43</td>\n",
       "                        <td id=\"T_638bb190_62f9_11ea_98ba_c8f75008f8f4row1_col1\" class=\"data row1 col1\" >27.9221</td>\n",
       "            </tr>\n",
       "            <tr>\n",
       "                        <th id=\"T_638bb190_62f9_11ea_98ba_c8f75008f8f4level0_row2\" class=\"row_heading level0 row2\" >Europe</th>\n",
       "                        <td id=\"T_638bb190_62f9_11ea_98ba_c8f75008f8f4row2_col0\" class=\"data row2 col0\" >44</td>\n",
       "                        <td id=\"T_638bb190_62f9_11ea_98ba_c8f75008f8f4row2_col1\" class=\"data row2 col1\" >28.5714</td>\n",
       "            </tr>\n",
       "            <tr>\n",
       "                        <th id=\"T_638bb190_62f9_11ea_98ba_c8f75008f8f4level0_row3\" class=\"row_heading level0 row3\" >North America</th>\n",
       "                        <td id=\"T_638bb190_62f9_11ea_98ba_c8f75008f8f4row3_col0\" class=\"data row3 col0\" >18</td>\n",
       "                        <td id=\"T_638bb190_62f9_11ea_98ba_c8f75008f8f4row3_col1\" class=\"data row3 col1\" >11.6883</td>\n",
       "            </tr>\n",
       "            <tr>\n",
       "                        <th id=\"T_638bb190_62f9_11ea_98ba_c8f75008f8f4level0_row4\" class=\"row_heading level0 row4\" >Oceania</th>\n",
       "                        <td id=\"T_638bb190_62f9_11ea_98ba_c8f75008f8f4row4_col0\" class=\"data row4 col0\" >3</td>\n",
       "                        <td id=\"T_638bb190_62f9_11ea_98ba_c8f75008f8f4row4_col1\" class=\"data row4 col1\" >1.94805</td>\n",
       "            </tr>\n",
       "            <tr>\n",
       "                        <th id=\"T_638bb190_62f9_11ea_98ba_c8f75008f8f4level0_row5\" class=\"row_heading level0 row5\" >Other</th>\n",
       "                        <td id=\"T_638bb190_62f9_11ea_98ba_c8f75008f8f4row5_col0\" class=\"data row5 col0\" >2</td>\n",
       "                        <td id=\"T_638bb190_62f9_11ea_98ba_c8f75008f8f4row5_col1\" class=\"data row5 col1\" >1.2987</td>\n",
       "            </tr>\n",
       "            <tr>\n",
       "                        <th id=\"T_638bb190_62f9_11ea_98ba_c8f75008f8f4level0_row6\" class=\"row_heading level0 row6\" >Sount America</th>\n",
       "                        <td id=\"T_638bb190_62f9_11ea_98ba_c8f75008f8f4row6_col0\" class=\"data row6 col0\" >11</td>\n",
       "                        <td id=\"T_638bb190_62f9_11ea_98ba_c8f75008f8f4row6_col1\" class=\"data row6 col1\" >7.14286</td>\n",
       "            </tr>\n",
       "    </tbody></table>"
      ],
      "text/plain": [
       "<pandas.io.formats.style.Styler at 0x1f0f85b9ac8>"
      ]
     },
     "execution_count": 50,
     "metadata": {},
     "output_type": "execute_result"
    }
   ],
   "source": [
    "counts_perc = pd.DataFrame(counts.groupby('Continent').count()['NumResponses']);counts_perc['%']= counts_perc['NumResponses']*100/counts_perc['NumResponses'].sum()\n",
    "counts_perc;counts_perc.style.set_caption(\"% of countries by continent\")"
   ]
  },
  {
   "cell_type": "code",
   "execution_count": 51,
   "metadata": {
    "scrolled": false
   },
   "outputs": [
    {
     "data": {
      "text/html": [
       "<style  type=\"text/css\" >\n",
       "</style><table id=\"T_638ee3a8_62f9_11ea_9e26_c8f75008f8f4\" ><caption>% of countries (with at least 100 respondents) by continent</caption><thead>    <tr>        <th class=\"blank level0\" ></th>        <th class=\"col_heading level0 col0\" >NumResponses</th>        <th class=\"col_heading level0 col1\" >%</th>    </tr>    <tr>        <th class=\"index_name level0\" >Continent</th>        <th class=\"blank\" ></th>        <th class=\"blank\" ></th>    </tr></thead><tbody>\n",
       "                <tr>\n",
       "                        <th id=\"T_638ee3a8_62f9_11ea_9e26_c8f75008f8f4level0_row0\" class=\"row_heading level0 row0\" >Africa</th>\n",
       "                        <td id=\"T_638ee3a8_62f9_11ea_9e26_c8f75008f8f4row0_col0\" class=\"data row0 col0\" >3</td>\n",
       "                        <td id=\"T_638ee3a8_62f9_11ea_9e26_c8f75008f8f4row0_col1\" class=\"data row0 col1\" >5.26316</td>\n",
       "            </tr>\n",
       "            <tr>\n",
       "                        <th id=\"T_638ee3a8_62f9_11ea_9e26_c8f75008f8f4level0_row1\" class=\"row_heading level0 row1\" >Asia</th>\n",
       "                        <td id=\"T_638ee3a8_62f9_11ea_9e26_c8f75008f8f4row1_col0\" class=\"data row1 col0\" >17</td>\n",
       "                        <td id=\"T_638ee3a8_62f9_11ea_9e26_c8f75008f8f4row1_col1\" class=\"data row1 col1\" >29.8246</td>\n",
       "            </tr>\n",
       "            <tr>\n",
       "                        <th id=\"T_638ee3a8_62f9_11ea_9e26_c8f75008f8f4level0_row2\" class=\"row_heading level0 row2\" >Europe</th>\n",
       "                        <td id=\"T_638ee3a8_62f9_11ea_9e26_c8f75008f8f4row2_col0\" class=\"data row2 col0\" >28</td>\n",
       "                        <td id=\"T_638ee3a8_62f9_11ea_9e26_c8f75008f8f4row2_col1\" class=\"data row2 col1\" >49.1228</td>\n",
       "            </tr>\n",
       "            <tr>\n",
       "                        <th id=\"T_638ee3a8_62f9_11ea_9e26_c8f75008f8f4level0_row3\" class=\"row_heading level0 row3\" >North America</th>\n",
       "                        <td id=\"T_638ee3a8_62f9_11ea_9e26_c8f75008f8f4row3_col0\" class=\"data row3 col0\" >3</td>\n",
       "                        <td id=\"T_638ee3a8_62f9_11ea_9e26_c8f75008f8f4row3_col1\" class=\"data row3 col1\" >5.26316</td>\n",
       "            </tr>\n",
       "            <tr>\n",
       "                        <th id=\"T_638ee3a8_62f9_11ea_9e26_c8f75008f8f4level0_row4\" class=\"row_heading level0 row4\" >Oceania</th>\n",
       "                        <td id=\"T_638ee3a8_62f9_11ea_9e26_c8f75008f8f4row4_col0\" class=\"data row4 col0\" >2</td>\n",
       "                        <td id=\"T_638ee3a8_62f9_11ea_9e26_c8f75008f8f4row4_col1\" class=\"data row4 col1\" >3.50877</td>\n",
       "            </tr>\n",
       "            <tr>\n",
       "                        <th id=\"T_638ee3a8_62f9_11ea_9e26_c8f75008f8f4level0_row5\" class=\"row_heading level0 row5\" >Sount America</th>\n",
       "                        <td id=\"T_638ee3a8_62f9_11ea_9e26_c8f75008f8f4row5_col0\" class=\"data row5 col0\" >4</td>\n",
       "                        <td id=\"T_638ee3a8_62f9_11ea_9e26_c8f75008f8f4row5_col1\" class=\"data row5 col1\" >7.01754</td>\n",
       "            </tr>\n",
       "    </tbody></table>"
      ],
      "text/plain": [
       "<pandas.io.formats.style.Styler at 0x1f0f77dc308>"
      ]
     },
     "execution_count": 51,
     "metadata": {},
     "output_type": "execute_result"
    }
   ],
   "source": [
    "count100 = counts[(counts.NumResponses>=100)]\n",
    "count100_perc = pd.DataFrame(count100.groupby('Continent').count()['NumResponses'])\n",
    "count100_perc['%']= count100_perc['NumResponses']*100/count100_perc['NumResponses'].sum()\n",
    "count100_perc\n",
    "count100_perc.style.set_caption(\"% of countries (with at least 100 respondents) by continent\")"
   ]
  },
  {
   "cell_type": "markdown",
   "metadata": {},
   "source": [
    "<div class=\"span5 alert alert-success\">\n",
    "After comparing the 2 tables above, we can see that Asian, African and poorer North American countries are underrespresented in the data."
   ]
  },
  {
   "cell_type": "code",
   "execution_count": 52,
   "metadata": {
    "scrolled": true
   },
   "outputs": [
    {
     "data": {
      "text/html": [
       "<style  type=\"text/css\" >\n",
       "</style><table id=\"T_639e6962_62f9_11ea_85cb_c8f75008f8f4\" ><caption>Countries with highest salary</caption><thead>    <tr>        <th class=\"blank level0\" ></th>        <th class=\"col_heading level0 col0\" >ConvertedSalary</th>    </tr>    <tr>        <th class=\"index_name level0\" >Country</th>        <th class=\"blank\" ></th>    </tr></thead><tbody>\n",
       "                <tr>\n",
       "                        <th id=\"T_639e6962_62f9_11ea_85cb_c8f75008f8f4level0_row0\" class=\"row_heading level0 row0\" >Liechtenstein</th>\n",
       "                        <td id=\"T_639e6962_62f9_11ea_85cb_c8f75008f8f4row0_col0\" class=\"data row0 col0\" >426042</td>\n",
       "            </tr>\n",
       "            <tr>\n",
       "                        <th id=\"T_639e6962_62f9_11ea_85cb_c8f75008f8f4level0_row1\" class=\"row_heading level0 row1\" >Botswana</th>\n",
       "                        <td id=\"T_639e6962_62f9_11ea_85cb_c8f75008f8f4row1_col0\" class=\"data row1 col0\" >140000</td>\n",
       "            </tr>\n",
       "            <tr>\n",
       "                        <th id=\"T_639e6962_62f9_11ea_85cb_c8f75008f8f4level0_row2\" class=\"row_heading level0 row2\" >Sierra Leone</th>\n",
       "                        <td id=\"T_639e6962_62f9_11ea_85cb_c8f75008f8f4row2_col0\" class=\"data row2 col0\" >120000</td>\n",
       "            </tr>\n",
       "            <tr>\n",
       "                        <th id=\"T_639e6962_62f9_11ea_85cb_c8f75008f8f4level0_row3\" class=\"row_heading level0 row3\" >United States</th>\n",
       "                        <td id=\"T_639e6962_62f9_11ea_85cb_c8f75008f8f4row3_col0\" class=\"data row3 col0\" >100000</td>\n",
       "            </tr>\n",
       "            <tr>\n",
       "                        <th id=\"T_639e6962_62f9_11ea_85cb_c8f75008f8f4level0_row4\" class=\"row_heading level0 row4\" >Switzerland</th>\n",
       "                        <td id=\"T_639e6962_62f9_11ea_85cb_c8f75008f8f4row4_col0\" class=\"data row4 col0\" >93842</td>\n",
       "            </tr>\n",
       "            <tr>\n",
       "                        <th id=\"T_639e6962_62f9_11ea_85cb_c8f75008f8f4level0_row5\" class=\"row_heading level0 row5\" >Israel</th>\n",
       "                        <td id=\"T_639e6962_62f9_11ea_85cb_c8f75008f8f4row5_col0\" class=\"data row5 col0\" >91284</td>\n",
       "            </tr>\n",
       "            <tr>\n",
       "                        <th id=\"T_639e6962_62f9_11ea_85cb_c8f75008f8f4level0_row6\" class=\"row_heading level0 row6\" >Bahamas</th>\n",
       "                        <td id=\"T_639e6962_62f9_11ea_85cb_c8f75008f8f4row6_col0\" class=\"data row6 col0\" >88500</td>\n",
       "            </tr>\n",
       "            <tr>\n",
       "                        <th id=\"T_639e6962_62f9_11ea_85cb_c8f75008f8f4level0_row7\" class=\"row_heading level0 row7\" >Norway</th>\n",
       "                        <td id=\"T_639e6962_62f9_11ea_85cb_c8f75008f8f4row7_col0\" class=\"data row7 col0\" >82890</td>\n",
       "            </tr>\n",
       "            <tr>\n",
       "                        <th id=\"T_639e6962_62f9_11ea_85cb_c8f75008f8f4level0_row8\" class=\"row_heading level0 row8\" >Denmark</th>\n",
       "                        <td id=\"T_639e6962_62f9_11ea_85cb_c8f75008f8f4row8_col0\" class=\"data row8 col0\" >82452</td>\n",
       "            </tr>\n",
       "            <tr>\n",
       "                        <th id=\"T_639e6962_62f9_11ea_85cb_c8f75008f8f4level0_row9\" class=\"row_heading level0 row9\" >Australia</th>\n",
       "                        <td id=\"T_639e6962_62f9_11ea_85cb_c8f75008f8f4row9_col0\" class=\"data row9 col0\" >79973</td>\n",
       "            </tr>\n",
       "    </tbody></table>"
      ],
      "text/plain": [
       "<pandas.io.formats.style.Styler at 0x1f0f76007c8>"
      ]
     },
     "execution_count": 52,
     "metadata": {},
     "output_type": "execute_result"
    }
   ],
   "source": [
    "salaries_median = clean_df.groupby('Country')['ConvertedSalary'].median() #Median salary by country. # for specific: [clean_df['Country'].isin(last_20_countries.index)]\n",
    "salaries_mean = pd.DataFrame(clean_df.groupby('Country')['ConvertedSalary'].mean()) #Mean of salaries by country\n",
    "salaries_diff = salaries_median - salaries_mean;salaries_mean = pd.DataFrame(salaries_mean)\n",
    "salaries_median = pd.DataFrame(salaries_median.sort_values(ascending=False))\n",
    "salaries_median.head(10)\n",
    "salaries_median.head(10).style.set_caption(\"Countries with highest salary\")"
   ]
  },
  {
   "cell_type": "markdown",
   "metadata": {},
   "source": [
    "<div class=\"span5 alert alert-success\">\n",
    "Checking the countries with the highest salary, we can see that there are definitely a few countries with poor or non-existing data."
   ]
  },
  {
   "cell_type": "code",
   "execution_count": 53,
   "metadata": {
    "scrolled": false
   },
   "outputs": [
    {
     "data": {
      "text/html": [
       "<div>\n",
       "<style scoped>\n",
       "    .dataframe tbody tr th:only-of-type {\n",
       "        vertical-align: middle;\n",
       "    }\n",
       "\n",
       "    .dataframe tbody tr th {\n",
       "        vertical-align: top;\n",
       "    }\n",
       "\n",
       "    .dataframe thead th {\n",
       "        text-align: right;\n",
       "    }\n",
       "</style>\n",
       "<table border=\"1\" class=\"dataframe\">\n",
       "  <thead>\n",
       "    <tr style=\"text-align: right;\">\n",
       "      <th></th>\n",
       "      <th>ConvertedSalary</th>\n",
       "    </tr>\n",
       "    <tr>\n",
       "      <th>Country</th>\n",
       "      <th></th>\n",
       "    </tr>\n",
       "  </thead>\n",
       "  <tbody>\n",
       "    <tr>\n",
       "      <td>United States</td>\n",
       "      <td>100000.0</td>\n",
       "    </tr>\n",
       "    <tr>\n",
       "      <td>Australia</td>\n",
       "      <td>79973.0</td>\n",
       "    </tr>\n",
       "    <tr>\n",
       "      <td>Canada</td>\n",
       "      <td>64417.0</td>\n",
       "    </tr>\n",
       "    <tr>\n",
       "      <td>United Kingdom</td>\n",
       "      <td>62507.0</td>\n",
       "    </tr>\n",
       "    <tr>\n",
       "      <td>Germany</td>\n",
       "      <td>62412.0</td>\n",
       "    </tr>\n",
       "    <tr>\n",
       "      <td>Netherlands</td>\n",
       "      <td>55075.0</td>\n",
       "    </tr>\n",
       "    <tr>\n",
       "      <td>France</td>\n",
       "      <td>48955.0</td>\n",
       "    </tr>\n",
       "    <tr>\n",
       "      <td>Russian Federation</td>\n",
       "      <td>21228.0</td>\n",
       "    </tr>\n",
       "    <tr>\n",
       "      <td>Brazil</td>\n",
       "      <td>19350.0</td>\n",
       "    </tr>\n",
       "    <tr>\n",
       "      <td>India</td>\n",
       "      <td>10175.0</td>\n",
       "    </tr>\n",
       "  </tbody>\n",
       "</table>\n",
       "</div>"
      ],
      "text/plain": [
       "                    ConvertedSalary\n",
       "Country                            \n",
       "United States              100000.0\n",
       "Australia                   79973.0\n",
       "Canada                      64417.0\n",
       "United Kingdom              62507.0\n",
       "Germany                     62412.0\n",
       "Netherlands                 55075.0\n",
       "France                      48955.0\n",
       "Russian Federation          21228.0\n",
       "Brazil                      19350.0\n",
       "India                       10175.0"
      ]
     },
     "execution_count": 53,
     "metadata": {},
     "output_type": "execute_result"
    }
   ],
   "source": [
    "#Median salary in countries with at lease 100  respondents\n",
    "pd.DataFrame(clean_df[clean_df['Country'].isin(top_countries.index)].groupby('Country')['ConvertedSalary'].median().sort_values(ascending=False))"
   ]
  },
  {
   "cell_type": "markdown",
   "metadata": {},
   "source": [
    "<div class=\"span5 alert alert-success\">\n",
    "After removing countries with less than 100 datapoints, we find cleaner data. Not surprisingly, western countries have a much higher median income than developing countries. Developers in the US make 9X as much as those in India (where many IT jobs are outsourced). "
   ]
  },
  {
   "cell_type": "code",
   "execution_count": 54,
   "metadata": {},
   "outputs": [
    {
     "data": {
      "text/plain": [
       "(48943, 20)"
      ]
     },
     "execution_count": 54,
     "metadata": {},
     "output_type": "execute_result"
    }
   ],
   "source": [
    "clean_df.shape"
   ]
  },
  {
   "cell_type": "markdown",
   "metadata": {},
   "source": [
    "<div class=\"span5 alert alert-success\">Mean hours of exercise by country."
   ]
  },
  {
   "cell_type": "markdown",
   "metadata": {},
   "source": [
    "<a id='DataViz'></a> <font size=\"5\"><b>Data Visualization</b>"
   ]
  },
  {
   "cell_type": "code",
   "execution_count": 55,
   "metadata": {
    "scrolled": true
   },
   "outputs": [
    {
     "data": {
      "text/html": [
       "<div>\n",
       "<style scoped>\n",
       "    .dataframe tbody tr th:only-of-type {\n",
       "        vertical-align: middle;\n",
       "    }\n",
       "\n",
       "    .dataframe tbody tr th {\n",
       "        vertical-align: top;\n",
       "    }\n",
       "\n",
       "    .dataframe thead th {\n",
       "        text-align: right;\n",
       "    }\n",
       "</style>\n",
       "<table border=\"1\" class=\"dataframe\">\n",
       "  <thead>\n",
       "    <tr style=\"text-align: right;\">\n",
       "      <th></th>\n",
       "      <th>Percentage</th>\n",
       "    </tr>\n",
       "  </thead>\n",
       "  <tbody>\n",
       "    <tr>\n",
       "      <td>Computer science, computer engineering, or software engineering</td>\n",
       "      <td>63.7</td>\n",
       "    </tr>\n",
       "    <tr>\n",
       "      <td>Another engineering discipline (ex. civil, electrical, mechanical)</td>\n",
       "      <td>8.8</td>\n",
       "    </tr>\n",
       "    <tr>\n",
       "      <td>Information systems, information technology, or system administration</td>\n",
       "      <td>8.2</td>\n",
       "    </tr>\n",
       "    <tr>\n",
       "      <td>A natural science (ex. biology, chemistry, physics)</td>\n",
       "      <td>3.9</td>\n",
       "    </tr>\n",
       "    <tr>\n",
       "      <td>Mathematics or statistics</td>\n",
       "      <td>3.6</td>\n",
       "    </tr>\n",
       "    <tr>\n",
       "      <td>Web development or web design</td>\n",
       "      <td>3.1</td>\n",
       "    </tr>\n",
       "    <tr>\n",
       "      <td>A business discipline (ex. accounting, finance, marketing)</td>\n",
       "      <td>2.4</td>\n",
       "    </tr>\n",
       "    <tr>\n",
       "      <td>A humanities discipline (ex. literature, history, philosophy)</td>\n",
       "      <td>2.0</td>\n",
       "    </tr>\n",
       "    <tr>\n",
       "      <td>A social science (ex. anthropology, psychology, political science)</td>\n",
       "      <td>1.7</td>\n",
       "    </tr>\n",
       "    <tr>\n",
       "      <td>Fine arts or performing arts (ex. graphic design, music, studio art)</td>\n",
       "      <td>1.4</td>\n",
       "    </tr>\n",
       "    <tr>\n",
       "      <td>I never declared a major</td>\n",
       "      <td>0.9</td>\n",
       "    </tr>\n",
       "    <tr>\n",
       "      <td>A health science (ex. nursing, pharmacy, radiology)</td>\n",
       "      <td>0.3</td>\n",
       "    </tr>\n",
       "  </tbody>\n",
       "</table>\n",
       "</div>"
      ],
      "text/plain": [
       "                                                    Percentage\n",
       "Computer science, computer engineering, or soft...        63.7\n",
       "Another engineering discipline (ex. civil, elec...         8.8\n",
       "Information systems, information technology, or...         8.2\n",
       "A natural science (ex. biology, chemistry, phys...         3.9\n",
       "Mathematics or statistics                                  3.6\n",
       "Web development or web design                              3.1\n",
       "A business discipline (ex. accounting, finance,...         2.4\n",
       "A humanities discipline (ex. literature, histor...         2.0\n",
       "A social science (ex. anthropology, psychology,...         1.7\n",
       "Fine arts or performing arts (ex. graphic desig...         1.4\n",
       "I never declared a major                                   0.9\n",
       "A health science (ex. nursing, pharmacy, radiol...         0.3"
      ]
     },
     "execution_count": 55,
     "metadata": {},
     "output_type": "execute_result"
    }
   ],
   "source": [
    "df_dropped_majors = data.dropna(subset=['UndergradMajor'])\n",
    "ugrad_majors = pd.DataFrame(df_dropped_majors['UndergradMajor'].value_counts(normalize=True)*100).round(1)\n",
    "ugrad_majors.columns=['Percentage'];ugrad_majors"
   ]
  },
  {
   "cell_type": "markdown",
   "metadata": {},
   "source": [
    "<div class=\"span5 alert alert-success\">\n",
    "A lot of people from non-CS related backgrounds tend to switch to programming as a career. About 36% of developers didn't major in CS as undergraduates. With the rise of programming bootcamps, it is getting easier to switch to programming regardless of your background. Health science majors are least likely to switch to programming whereas STEM majors were much more likely to do the same. </div> "
   ]
  },
  {
   "cell_type": "code",
   "execution_count": 56,
   "metadata": {
    "scrolled": false
   },
   "outputs": [
    {
     "data": {
      "image/png": "[encoded data removed]",
      "text/plain": [
       "<Figure size 432x288 with 1 Axes>"
      ]
     },
     "metadata": {
      "needs_background": "light"
     },
     "output_type": "display_data"
    }
   ],
   "source": [
    "clean_df[clean_df['Country'].isin(top_countries.index)]['Country'].value_counts().plot(kind='bar');\n",
    "_=plt.ylabel('Number of respondents')\n",
    "_=plt.xlabel('Country')\n",
    "_=plt.title('No. of respondednts by country',fontsize=16);"
   ]
  },
  {
   "cell_type": "markdown",
   "metadata": {},
   "source": [
    "<div class=\"span5 alert alert-success\">\n",
    "Most of the respondents are from the US and many of the rest are from other western countries so we'd expect this dataset to heavily represent people living in Western democracies."
   ]
  },
  {
   "cell_type": "markdown",
   "metadata": {},
   "source": [
    "<a id='Carsatvsother'></a> <font size=\"4\"><b>Variables affecting Career Satisfaction </b>"
   ]
  },
  {
   "cell_type": "code",
   "execution_count": 57,
   "metadata": {
    "scrolled": true
   },
   "outputs": [
    {
     "data": {
      "image/png": "[encoded data removed]",
      "text/plain": [
       "<Figure size 432x288 with 1 Axes>"
      ]
     },
     "metadata": {
      "needs_background": "light"
     },
     "output_type": "display_data"
    }
   ],
   "source": [
    "df_car_sat = pd.DataFrame(clean_df['CareerSatisfaction'].value_counts())\n",
    "df_car_sat['% of Respondents'] = df_car_sat['CareerSatisfaction']*100/df_car_sat['CareerSatisfaction'].sum()\n",
    "career_sat_order = ['Extremely satisfied','Moderately satisfied','Slightly satisfied','Neither satisfied nor dissatisfied','Slightly dissatisfied', 'Moderately dissatisfied','Extremely dissatisfied']#replace by car sat list\n",
    "career_sat_order_short = [ 'Extremely satisfied','Moderately satisfied','Slightly satisfied','Neither','Slightly dissatisfied', 'Moderately dissatisfied','Extremely dissatisfied']#replace by car sat list\n",
    "dict_car_sat = {'Extremely satisfied':'Extremely satisfied','Moderately satisfied':'Moderately satisfied','Slightly satisfied':'Slightly satisfied','Neither satisfied nor dissatisfied':'Neither','Slightly dissatisfied':'Slightly dissatisfied', 'Moderately dissatisfied':'Moderately dissatisfied','Extremely dissatisfied':'Extremely dissatisfied'}\n",
    "df_car_sat = df_car_sat.reindex(career_sat_order)\n",
    "df_car_sat.rename(index=dict_car_sat,inplace=True)\n",
    "df_car_sat_perc = df_car_sat[['% of Respondents']]\n",
    "fig = df_car_sat_perc.plot(kind='bar');\n",
    "plt.ylabel('% of Respondents');plt.xlabel('Career Satisfaction');\n",
    "fig.get_legend().remove()\n",
    "plt.title('% of Respondents by Career Satisfaction');"
   ]
  },
  {
   "cell_type": "markdown",
   "metadata": {},
   "source": [
    "<div class=\"span5 alert alert-success\">\n",
    "About 40% of the people surveyed were moderatly satisfied, and on a whole, about 75% of the people were satisfied to some extent with their jobs. About 17% were dissatisfied and the rest were neither. "
   ]
  },
  {
   "cell_type": "code",
   "execution_count": 58,
   "metadata": {
    "scrolled": true
   },
   "outputs": [],
   "source": [
    "df_c = clean_df[clean_df['Country'].isin(countries_100_resp.index)];\n",
    "df_c =df_c.groupby(['Country', 'CareerSatisfaction'])['Country'].count().unstack('CareerSatisfaction').fillna(0);"
   ]
  },
  {
   "cell_type": "code",
   "execution_count": 59,
   "metadata": {
    "scrolled": true
   },
   "outputs": [
    {
     "data": {
      "image/png": "[encoded data removed]",
      "text/plain": [
       "<Figure size 432x288 with 1 Axes>"
      ]
     },
     "metadata": {
      "needs_background": "light"
     },
     "output_type": "display_data"
    }
   ],
   "source": [
    "df_c = satisfaction_perc(df_c);df_c['Country1']=df_c.index\n",
    "df_c_sat = df_c.sort_values(by='% Satisfied',ascending=False).head(15)\n",
    "df_c_dis = df_c.sort_values(by='% Satisfied',ascending=False).tail(15)\n",
    "fig =df_c_sat[['Country1','% Satisfied']].sort_values('% Satisfied',ascending=False).plot(kind='bar');\n",
    "fig.get_legend().remove();plt.ylabel('% Satisfied');plt.title('Most satisfied Developers by Country');"
   ]
  },
  {
   "cell_type": "code",
   "execution_count": 60,
   "metadata": {},
   "outputs": [
    {
     "data": {
      "image/png": "[encoded data removed]",
      "text/plain": [
       "<Figure size 432x288 with 1 Axes>"
      ]
     },
     "metadata": {
      "needs_background": "light"
     },
     "output_type": "display_data"
    }
   ],
   "source": [
    "fig =df_c_dis[['Country1','% Satisfied']].sort_values('% Satisfied',ascending=False).plot(kind='bar');\n",
    "fig.get_legend().remove();plt.ylabel('% Satisfied'); plt.title('Least satisfied Developers by Country');"
   ]
  },
  {
   "cell_type": "code",
   "execution_count": 63,
   "metadata": {
    "scrolled": true
   },
   "outputs": [
    {
     "data": {
      "image/png": "[encoded data removed]",
      "text/plain": [
       "<Figure size 432x288 with 1 Axes>"
      ]
     },
     "metadata": {
      "needs_background": "light"
     },
     "output_type": "display_data"
    }
   ],
   "source": [
    "df_c_sorted =df_c.sort_values('% Satisfied',ascending=False);\n",
    "fig = df_c_sorted[['% Mod. Satisfied','% Ext. Satisfied', '% Sl. Satisfied']].sort_values('% Ext. Satisfied',ascending=True).head(10).plot(kind='bar',width=.75) ;\n",
    "box = fig.get_position();fig.set_position([box.x0, box.y0, box.width * 0.8, box.height]);fig.legend(loc='center left', bbox_to_anchor=(1, 0.5));plt.title('Extent of satisfaction by Country');"
   ]
  },
  {
   "cell_type": "markdown",
   "metadata": {},
   "source": [
    "<div class=\"span5 alert alert-success\">\n",
    "Developers from non-western countries like Russia, Brazil and India are more likely to be sliglty satisfied whereas developers in western countries tend to be moderately or extremely satisfied by their jobs. We see an inverse relationship with Slight satisfaction and extreme satisfaction with the job. "
   ]
  },
  {
   "cell_type": "code",
   "execution_count": 64,
   "metadata": {
    "scrolled": true
   },
   "outputs": [
    {
     "data": {
      "image/png": "[encoded data removed]",
      "text/plain": [
       "<Figure size 432x288 with 1 Axes>"
      ]
     },
     "metadata": {
      "needs_background": "light"
     },
     "output_type": "display_data"
    }
   ],
   "source": [
    "#Plotting satisfaction in BRICS countries\n",
    "df_brics = clean_df[clean_df['Country'].isin(['Brazil','Russian Federation','India','China','South Africa'])]\n",
    "df_brics =df_brics.groupby(['Country', 'CareerSatisfaction'])['Country'].count().unstack('CareerSatisfaction').fillna(0)\n",
    "df_brics['Total'] = df_brics[['Extremely satisfied','Moderately satisfied','Slightly satisfied','Neither satisfied nor dissatisfied','Slightly dissatisfied', 'Moderately dissatisfied','Extremely dissatisfied']].sum(axis=1)\n",
    "df_brics['Satisfied']=df_brics[['Extremely satisfied','Moderately satisfied','Slightly satisfied']].sum(axis=1)\n",
    "df_brics['% Satisfied'] =  df_brics['Satisfied']*100/df_brics['Total'];df_brics['Country1']=df_brics.index\n",
    "fig =df_brics[['Country1','% Satisfied']].sort_values('% Satisfied',ascending=False).plot(kind='bar');\n",
    "fig.get_legend().remove();plt.ylabel('% Satisfied');plt.title('% Satisfaction in BRICS countries');"
   ]
  },
  {
   "cell_type": "markdown",
   "metadata": {},
   "source": [
    "<div class=\"span5 alert alert-success\">\n",
    "China has a much lower career satisfaction compared to other BRICS countries."
   ]
  },
  {
   "cell_type": "code",
   "execution_count": 65,
   "metadata": {},
   "outputs": [
    {
     "data": {
      "text/html": [
       "<div>\n",
       "<style scoped>\n",
       "    .dataframe tbody tr th:only-of-type {\n",
       "        vertical-align: middle;\n",
       "    }\n",
       "\n",
       "    .dataframe tbody tr th {\n",
       "        vertical-align: top;\n",
       "    }\n",
       "\n",
       "    .dataframe thead th {\n",
       "        text-align: right;\n",
       "    }\n",
       "</style>\n",
       "<table border=\"1\" class=\"dataframe\">\n",
       "  <thead>\n",
       "    <tr style=\"text-align: right;\">\n",
       "      <th></th>\n",
       "      <th>% Satisfied</th>\n",
       "    </tr>\n",
       "    <tr>\n",
       "      <th>Country</th>\n",
       "      <th></th>\n",
       "    </tr>\n",
       "  </thead>\n",
       "  <tbody>\n",
       "    <tr>\n",
       "      <td>Denmark</td>\n",
       "      <td>83.522727</td>\n",
       "    </tr>\n",
       "    <tr>\n",
       "      <td>United States</td>\n",
       "      <td>82.361793</td>\n",
       "    </tr>\n",
       "    <tr>\n",
       "      <td>Serbia</td>\n",
       "      <td>81.645570</td>\n",
       "    </tr>\n",
       "    <tr>\n",
       "      <td>Sweden</td>\n",
       "      <td>80.835735</td>\n",
       "    </tr>\n",
       "    <tr>\n",
       "      <td>Australia</td>\n",
       "      <td>80.769231</td>\n",
       "    </tr>\n",
       "    <tr>\n",
       "      <td>South Africa</td>\n",
       "      <td>79.840849</td>\n",
       "    </tr>\n",
       "    <tr>\n",
       "      <td>Switzerland</td>\n",
       "      <td>79.663866</td>\n",
       "    </tr>\n",
       "    <tr>\n",
       "      <td>Israel</td>\n",
       "      <td>79.476861</td>\n",
       "    </tr>\n",
       "    <tr>\n",
       "      <td>Canada</td>\n",
       "      <td>79.377014</td>\n",
       "    </tr>\n",
       "    <tr>\n",
       "      <td>Netherlands</td>\n",
       "      <td>79.345603</td>\n",
       "    </tr>\n",
       "  </tbody>\n",
       "</table>\n",
       "</div>"
      ],
      "text/plain": [
       "               % Satisfied\n",
       "Country                   \n",
       "Denmark          83.522727\n",
       "United States    82.361793\n",
       "Serbia           81.645570\n",
       "Sweden           80.835735\n",
       "Australia        80.769231\n",
       "South Africa     79.840849\n",
       "Switzerland      79.663866\n",
       "Israel           79.476861\n",
       "Canada           79.377014\n",
       "Netherlands      79.345603"
      ]
     },
     "execution_count": 65,
     "metadata": {},
     "output_type": "execute_result"
    }
   ],
   "source": [
    "df_c_100 = clean_df[clean_df['Country'].isin(countries_100_resp.index)];#***\n",
    "df_c_100 =df_c_100.groupby(['Country', 'CareerSatisfaction'])['Country'].count().unstack('CareerSatisfaction').fillna(0);\n",
    "df_c_100 = satisfaction_perc(df_c_100)\n",
    "pd.DataFrame(df_c_100.iloc[:,9].sort_values(ascending=False)).head(10)"
   ]
  },
  {
   "cell_type": "code",
   "execution_count": 66,
   "metadata": {
    "scrolled": false
   },
   "outputs": [
    {
     "data": {
      "text/html": [
       "<div>\n",
       "<style scoped>\n",
       "    .dataframe tbody tr th:only-of-type {\n",
       "        vertical-align: middle;\n",
       "    }\n",
       "\n",
       "    .dataframe tbody tr th {\n",
       "        vertical-align: top;\n",
       "    }\n",
       "\n",
       "    .dataframe thead th {\n",
       "        text-align: right;\n",
       "    }\n",
       "</style>\n",
       "<table border=\"1\" class=\"dataframe\">\n",
       "  <thead>\n",
       "    <tr style=\"text-align: right;\">\n",
       "      <th></th>\n",
       "      <th>% Satisfied</th>\n",
       "    </tr>\n",
       "    <tr>\n",
       "      <th>Country</th>\n",
       "      <th></th>\n",
       "    </tr>\n",
       "  </thead>\n",
       "  <tbody>\n",
       "    <tr>\n",
       "      <td>Spain</td>\n",
       "      <td>69.616205</td>\n",
       "    </tr>\n",
       "    <tr>\n",
       "      <td>Nepal</td>\n",
       "      <td>69.523810</td>\n",
       "    </tr>\n",
       "    <tr>\n",
       "      <td>Brazil</td>\n",
       "      <td>67.835757</td>\n",
       "    </tr>\n",
       "    <tr>\n",
       "      <td>Turkey</td>\n",
       "      <td>62.735849</td>\n",
       "    </tr>\n",
       "    <tr>\n",
       "      <td>Italy</td>\n",
       "      <td>62.690707</td>\n",
       "    </tr>\n",
       "    <tr>\n",
       "      <td>Indonesia</td>\n",
       "      <td>61.971831</td>\n",
       "    </tr>\n",
       "    <tr>\n",
       "      <td>Japan</td>\n",
       "      <td>61.081081</td>\n",
       "    </tr>\n",
       "    <tr>\n",
       "      <td>Malaysia</td>\n",
       "      <td>59.627329</td>\n",
       "    </tr>\n",
       "    <tr>\n",
       "      <td>Hong Kong (S.A.R.)</td>\n",
       "      <td>59.459459</td>\n",
       "    </tr>\n",
       "    <tr>\n",
       "      <td>China</td>\n",
       "      <td>48.148148</td>\n",
       "    </tr>\n",
       "  </tbody>\n",
       "</table>\n",
       "</div>"
      ],
      "text/plain": [
       "                    % Satisfied\n",
       "Country                        \n",
       "Spain                 69.616205\n",
       "Nepal                 69.523810\n",
       "Brazil                67.835757\n",
       "Turkey                62.735849\n",
       "Italy                 62.690707\n",
       "Indonesia             61.971831\n",
       "Japan                 61.081081\n",
       "Malaysia              59.627329\n",
       "Hong Kong (S.A.R.)    59.459459\n",
       "China                 48.148148"
      ]
     },
     "execution_count": 66,
     "metadata": {},
     "output_type": "execute_result"
    }
   ],
   "source": [
    "pd.DataFrame(df_c_100.iloc[:,9].sort_values(ascending=False)).tail(10)"
   ]
  },
  {
   "cell_type": "markdown",
   "metadata": {},
   "source": [
    "<a id='Carsatvsother'></a> <font size=\"4\"><b>Exercise </b>"
   ]
  },
  {
   "cell_type": "code",
   "execution_count": 67,
   "metadata": {
    "scrolled": false
   },
   "outputs": [
    {
     "data": {
      "image/png": "[encoded data removed]",
      "text/plain": [
       "<Figure size 432x288 with 1 Axes>"
      ]
     },
     "metadata": {
      "needs_background": "light"
     },
     "output_type": "display_data"
    }
   ],
   "source": [
    "df_hr = clean_df.groupby(['Exercise', 'CareerSatisfaction'])['Exercise'].count().unstack('CareerSatisfaction').fillna(0);\n",
    "df_hr = satisfaction_perc(df_hr)\n",
    "df_hr = satisfaction_perc(df_hr);df_hr['Exercise1']=df_hr.index\n",
    "fig =df_hr[['% Satisfied']].sort_values('% Satisfied',ascending=False).plot(kind='bar');\n",
    "fig.get_legend().remove();plt.ylabel('% Satisfied');plt.xlabel('Exercise Frequency');plt.title('Satisfaction vs Exercise Frequency');"
   ]
  },
  {
   "cell_type": "code",
   "execution_count": 68,
   "metadata": {
    "scrolled": true
   },
   "outputs": [
    {
     "data": {
      "image/png": "[encoded data removed]",
      "text/plain": [
       "<Figure size 432x288 with 1 Axes>"
      ]
     },
     "metadata": {
      "needs_background": "light"
     },
     "output_type": "display_data"
    },
    {
     "data": {
      "image/png": "[encoded data removed]",
      "text/plain": [
       "<Figure size 432x288 with 1 Axes>"
      ]
     },
     "metadata": {
      "needs_background": "light"
     },
     "output_type": "display_data"
    }
   ],
   "source": [
    "#??? how to plot\n",
    "df_total_w_countries = pd.concat([df.Country,df_total],axis=1)\n",
    "exercisedf = pd.DataFrame(df_total_w_countries[df_total_w_countries.Country.isin(countries_100_resp.index)].groupby('Country')['Exercise_n'].mean().sort_values(ascending=False))\n",
    "#fig, (ax1, ax2) = plt.subplots(nrows=1, ncols=2) \n",
    "#??? how to plit up horizontally\n",
    "fig = exercisedf.head(20).plot(kind='bar');fig.get_legend().remove();plt.title('Exercise frequency by country');\n",
    "fig = exercisedf.tail(20).plot(kind='bar');fig.get_legend().remove();plt.title('Exercise frequency by country');"
   ]
  },
  {
   "cell_type": "markdown",
   "metadata": {},
   "source": [
    "<a id='Carsatvsother'></a> <font size=\"4\"><b>Undergrad Major </b>"
   ]
  },
  {
   "cell_type": "code",
   "execution_count": 69,
   "metadata": {
    "scrolled": true
   },
   "outputs": [],
   "source": [
    "df_um = clean_df[clean_df['Country'].isin(top_20_countries.index)];\n",
    "df_um = df_um.groupby(['UndergradMajor', 'CareerSatisfaction'])['UndergradMajor'].count().unstack('CareerSatisfaction').fillna(0);\n",
    "df_um = satisfaction_perc(df_um)"
   ]
  },
  {
   "cell_type": "code",
   "execution_count": 70,
   "metadata": {
    "scrolled": true
   },
   "outputs": [
    {
     "data": {
      "image/png": "[encoded data removed]",
      "text/plain": [
       "<Figure size 432x288 with 1 Axes>"
      ]
     },
     "metadata": {
      "needs_background": "light"
     },
     "output_type": "display_data"
    }
   ],
   "source": [
    "df_um = satisfaction_perc(df_um)\n",
    "df_um['UndergradMajor1']=df_um.index\n",
    "fig =df_um[['UndergradMajor1','% Satisfied']].sort_values('% Satisfied',ascending=False).plot(kind='bar');\n",
    "fig.get_legend().remove()\n",
    "plt.ylabel('% Satisfied');\n",
    "plt.title('% Satisfied by UndergradMajor');"
   ]
  },
  {
   "cell_type": "markdown",
   "metadata": {},
   "source": [
    "<div class=\"span5 alert alert-success\">\n",
    "Developers who did not major in CS or another STEM degree are happier than developers who majored in CS or STEM fields. And people who make a bigger switch (i.e. from sociology to CS vs Math to CS) are happier.  "
   ]
  },
  {
   "cell_type": "markdown",
   "metadata": {},
   "source": [
    "<font size=\"3\"><b>Hobby </b>"
   ]
  },
  {
   "cell_type": "code",
   "execution_count": 71,
   "metadata": {
    "scrolled": true
   },
   "outputs": [
    {
     "data": {
      "image/png": "[encoded data removed]",
      "text/plain": [
       "<Figure size 432x288 with 1 Axes>"
      ]
     },
     "metadata": {
      "needs_background": "light"
     },
     "output_type": "display_data"
    }
   ],
   "source": [
    "df1 = clean_df[clean_df['Country'].isin(top_20_countries.index)] \n",
    "df2 =df1.groupby(['Country', 'Hobby'])['Country'].count().unstack('Hobby').fillna(0)\n",
    "df2['Total']=df2['No']+df2['Yes']\n",
    "df2['% Yes'] = df2['Yes']*100/df2['Total']\n",
    "df2['% No']=100-df2['% Yes']\n",
    "df3 = df2.sort_values(by='Total',ascending=False)\n",
    "fig=df3[['% Yes']].sort_values('% Yes',ascending=False).plot(kind='bar', stacked=True) \n",
    "plt.title('% of Developers who code as a Hobby by Country'); \n",
    "plt.ylabel('% of Developers')\n",
    "fig.get_legend().remove()"
   ]
  },
  {
   "cell_type": "markdown",
   "metadata": {},
   "source": [
    "<div class=\"span5 alert alert-success\">\n",
    "Developers from european countries are more likely to program as a hobby. It's also interesting to see that the more people code as a hobby, the more likely they are to be satisfied with their career (comparing with plot above). Russia, India and Brazil lag behind many of their western counterparts in job satisfaction.</div>"
   ]
  },
  {
   "cell_type": "code",
   "execution_count": 72,
   "metadata": {
    "scrolled": true
   },
   "outputs": [
    {
     "data": {
      "image/png": "[encoded data removed]",
      "text/plain": [
       "<Figure size 432x288 with 1 Axes>"
      ]
     },
     "metadata": {
      "needs_background": "light"
     },
     "output_type": "display_data"
    }
   ],
   "source": [
    "df2 =df1.groupby(['CareerSatisfaction', 'Hobby'])['CareerSatisfaction'].count().unstack('Hobby').fillna(0)\n",
    "df2['Total']=df2['No']+df2['Yes']\n",
    "df2['% Yes'] = df2['Yes']*100/df2['Total']\n",
    "df2['% No']=100-df2['% Yes']\n",
    "df3 = df2.sort_values(by='Total',ascending=False)\n",
    "fig=df3[['% Yes']].sort_values('% Yes',ascending=False).plot(kind='bar', stacked=True) \n",
    "plt.title('% of Developers who code as a Hobby vs Career Satisfaction'); \n",
    "plt.ylabel('% of Developers')\n",
    "fig.get_legend().remove()"
   ]
  },
  {
   "cell_type": "markdown",
   "metadata": {},
   "source": [
    "<div class=\"span5 alert alert-success\">\n",
    "We can see a  clear relationship here. Developers who code as a hobby are more likely to be satisfied with their career. However, it’s interesting to see that people who are extremely dissatisfied are more likely to code as a hobby than those who are moderately or slightly dissatisfied.\n",
    "    </div>"
   ]
  },
  {
   "cell_type": "markdown",
   "metadata": {},
   "source": [
    "<font size=\"3\"><b>Years of Coding Experience</b>"
   ]
  },
  {
   "cell_type": "code",
   "execution_count": 73,
   "metadata": {},
   "outputs": [],
   "source": [
    "usdata = data[data.Country == 'United States'].dropna(subset=['DevType','ConvertedSalary','YearsCoding']);\n",
    "usdatacopy = usdata.copy()"
   ]
  },
  {
   "cell_type": "code",
   "execution_count": 74,
   "metadata": {},
   "outputs": [],
   "source": [
    "#Convert Years of Coding in USA to numeric variable\n",
    "if 'YearsCoding' in usdata.columns:\n",
    "    years = usdata['YearsCoding'].unique()\n",
    "    yrs_num =[10,30,19,4,7,13,16,1,22,25,28]\n",
    "    yrs_cod_ser = seriesify(usdata,years,yrs_num,'YearsCoding')\n",
    "    usdata=dummify(usdata,'YearsCoding',yrs_cod_ser)"
   ]
  },
  {
   "cell_type": "code",
   "execution_count": 75,
   "metadata": {
    "scrolled": false
   },
   "outputs": [
    {
     "data": {
      "image/png": "[encoded data removed]",
      "text/plain": [
       "<Figure size 432x288 with 1 Axes>"
      ]
     },
     "metadata": {
      "needs_background": "light"
     },
     "output_type": "display_data"
    }
   ],
   "source": [
    "#clean_df_dev[clean_df_dev.DevType.isin(dev_types_single)].groupby(['DevType']).count();\n",
    "df_dev =  clean_df.copy() \n",
    "df_dev.dropna(subset=['ConvertedSalary'],inplace=True)\n",
    "if 'YearsCoding' in df_dev.columns:\n",
    "    years = df_dev['YearsCoding'].unique()\n",
    "    yrs_num =[30,7,10,16,13,4,1,19,25,22,28]\n",
    "    yrs_cod_ser = seriesify(df_dev,years,yrs_num,'YearsCoding')\n",
    "    df_dev=dummify(df_dev,'YearsCoding',yrs_cod_ser)\n",
    "df_dev[df_dev.Country == 'United States'].groupby(['YearsCoding_n'])['ConvertedSalary'].mean().plot(kind='bar');\n",
    "plt.ylabel('Salary');plt.xlabel('YearsCoding');plt.title('Developer Salary by years of experience');"
   ]
  },
  {
   "cell_type": "code",
   "execution_count": 145,
   "metadata": {
    "scrolled": false
   },
   "outputs": [
    {
     "data": {
      "image/png": "[encoded data removed]",
      "text/plain": [
       "<Figure size 432x288 with 1 Axes>"
      ]
     },
     "metadata": {
      "needs_background": "light"
     },
     "output_type": "display_data"
    }
   ],
   "source": [
    "usdata_plt =usdata.groupby(['YearsCoding_n'])['ConvertedSalary'].mean().sort_index().plot(kind='bar');plt.title('Mean Salary among all developers');plt.ylabel('Salary');plt.xlabel('Years of Coding');"
   ]
  },
  {
   "cell_type": "markdown",
   "metadata": {},
   "source": [
    "<div class=\"span5 alert alert-success\">\n",
    "More experience generally (but not always) mean a higher salary. Developer type aso plays a role in determining the salary."
   ]
  },
  {
   "cell_type": "code",
   "execution_count": 77,
   "metadata": {
    "scrolled": true
   },
   "outputs": [],
   "source": [
    "dev_types_single = ['Full-stack developer','Back-end developer','Mobile developer','Front-end developer','Data scientist or machine learning specialist','Desktop or enterprise applications developer','Embedded applications or devices developer']"
   ]
  },
  {
   "cell_type": "code",
   "execution_count": 127,
   "metadata": {
    "scrolled": true
   },
   "outputs": [
    {
     "data": {
      "image/png": "[encoded data removed]",
      "text/plain": [
       "<Figure size 432x288 with 1 Axes>"
      ]
     },
     "metadata": {
      "needs_background": "light"
     },
     "output_type": "display_data"
    }
   ],
   "source": [
    "#Controlling for years coding, plot salaries by developer type.\n",
    "usdata[usdata.DevType.isin(dev_types_single) & (usdata.YearsCoding_n == 7)].groupby(['DevType'])['ConvertedSalary'].mean().sort_values().plot(kind='bar');plt.title('Mean Salary of Mid-career Developers');plt.ylabel('Salary');plt.xlabel('Developer Type');"
   ]
  },
  {
   "cell_type": "markdown",
   "metadata": {},
   "source": [
    "<div class=\"span5 alert alert-success\">\n",
    "Desktop or enterprise applications developer are the highest paid (among mid career people with 6-8 years of experience). "
   ]
  },
  {
   "cell_type": "code",
   "execution_count": 143,
   "metadata": {},
   "outputs": [
    {
     "data": {
      "image/png": "[encoded data removed]",
      "text/plain": [
       "<Figure size 432x288 with 1 Axes>"
      ]
     },
     "metadata": {
      "needs_background": "light"
     },
     "output_type": "display_data"
    }
   ],
   "source": [
    "#Career satisfaction vs developer type in the US\n",
    "us_cs = usdata[usdata.DevType.isin(dev_types_single)].groupby(['DevType', 'CareerSatisfaction'])['DevType'].count().unstack('CareerSatisfaction').fillna(0)\n",
    "us_cs = satisfaction_perc(us_cs)\n",
    "us_cs['% Satisfied'].sort_values(ascending=False).plot(kind='bar');plt.title('Career satisfaction vs developer type in the US');plt.ylabel('% of Developers');"
   ]
  },
  {
   "cell_type": "code",
   "execution_count": 79,
   "metadata": {
    "scrolled": true
   },
   "outputs": [
    {
     "data": {
      "image/png": "[encoded data removed]",
      "text/plain": [
       "<Figure size 432x288 with 1 Axes>"
      ]
     },
     "metadata": {
      "needs_background": "light"
     },
     "output_type": "display_data"
    }
   ],
   "source": [
    "usdata_singledt = usdata[usdata.DevType.isin(dev_types_single)]\n",
    "usdata_singledt.dropna(subset=['ConvertedSalary'],inplace=True)\n",
    "usdata_singledt[usdata_singledt.DevType=='Full-stack developer'].groupby(['YearsCoding_n'])['ConvertedSalary'].median().plot(kind='bar');\n",
    "plt.ylabel('Salary');plt.xlabel('YearsCoding');plt.title('Full-stack developer salary by years of experience');"
   ]
  },
  {
   "cell_type": "markdown",
   "metadata": {},
   "source": [
    "<div class=\"span5 alert alert-success\">\n",
    "Years of coding (when controlling for country and developer type does matter when it comes to income. The rise in salary is higher in the beginning. "
   ]
  },
  {
   "cell_type": "code",
   "execution_count": 80,
   "metadata": {
    "scrolled": true
   },
   "outputs": [
    {
     "data": {
      "image/png": "[encoded data removed]",
      "text/plain": [
       "<Figure size 432x288 with 1 Axes>"
      ]
     },
     "metadata": {
      "needs_background": "light"
     },
     "output_type": "display_data"
    }
   ],
   "source": [
    "df_yc = pd.concat([df.iloc[:,0:19],clean_df],axis=1)\n",
    "df_yc = df_yc.groupby(['YearsCoding_n', 'CareerSatisfaction'])['YearsCoding_n'].count().unstack('CareerSatisfaction').fillna(0);\n",
    "df_yc = satisfaction_perc(df_yc);fig =df_yc[['% Satisfied']].plot(kind='bar');fig.get_legend().remove();\n",
    "fig.set_xticklabels(['0-2 years','3-5 years','6-8 years','9-11 years','12-14 years','15-17 years', '18-20 years'\n",
    "                     , '21-23 years',  '24-26 years' , '27-29 years','30 or more']);plt.ylabel('% Satisfied');plt.xlabel('Years of Coding');plt.title('% Satisfied by Years of Coding');"
   ]
  },
  {
   "cell_type": "markdown",
   "metadata": {},
   "source": [
    "<div class=\"span5 alert alert-success\">\n",
    "Years of coding doesn't seem to have a clear effect on career satisfaction. The only major change that can be seen is a drop in satisfaction after the initial 0-2 years, and then again after 3-5 years. One explanation could be that developers are initially excited with their new careers/jobs and hence the high career satisfaction."
   ]
  },
  {
   "cell_type": "markdown",
   "metadata": {},
   "source": [
    "<font size=\"3\"><b>Company Size</b>"
   ]
  },
  {
   "cell_type": "code",
   "execution_count": 81,
   "metadata": {
    "scrolled": true
   },
   "outputs": [
    {
     "data": {
      "image/png": "[encoded data removed]",
      "text/plain": [
       "<Figure size 432x288 with 1 Axes>"
      ]
     },
     "metadata": {
      "needs_background": "light"
     },
     "output_type": "display_data"
    }
   ],
   "source": [
    "df_comp =clean_df.groupby(['CompanySize','CareerSatisfaction'])['CompanySize'].count().unstack('CareerSatisfaction').fillna(0)\n",
    "order = ['Extremely satisfied','Moderately satisfied','Slightly satisfied','Neither satisfied nor dissatisfied','Slightly dissatisfied', 'Moderately dissatisfied','Extremely dissatisfied']\n",
    "xtixks_car_sat = ['Extremely satisfied','Moderately satisfied','Slightly satisfied','Neither','Slightly dissatisfied', 'Moderately dissatisfied','Extremely dissatisfied']\n",
    "df_comp=df_comp[order]\n",
    "df_comp1=df_comp.copy()\n",
    "df_comp = df_comp.T\n",
    "df_comp['Total'] = df_comp.sum(axis=1);#['10,000 or more employees', '10 to 19 employees','100 to 499 employees', '1,000 to 4,999 employees','20 to 99 employees', '500 to 999 employees','5,000 to 9,999 employees', 'Fewer than 10 employees'].sum(axis=1)\n",
    "df_comp['Large (500+)'] = (df_comp['10,000 or more employees']+df_comp['1,000 to 4,999 employees']+ df_comp['5,000 to 9,999 employees']+ df_comp['500 to 999 employees'])*100/(df_comp['Total'])\n",
    "#df_comp['Medium (500-10,000 employees)'] = (df_comp['1,000 to 4,999 employees']+ df_comp['5,000 to 9,999 employees']+ df_comp['500 to 999 employees']*100)/df_comp['Total']\n",
    "df_comp['Medium (20-500 employees)'] = (df_comp['100 to 499 employees']+df_comp['20 to 99 employees'])*100/df_comp['Total']\n",
    "df_comp['Small (1-20 employees)']=100-df_comp['Large (500+)']-df_comp['Medium (20-500 employees)']\n",
    "df_comp.rename(index=dict_car_sat,inplace=True)\n",
    "fig = df_comp[['Large (500+)','Medium (20-500 employees)','Small (1-20 employees)']].plot(kind='bar',stacked=True);\n",
    "box = fig.get_position();plt.ylabel('% of Developers')\n",
    "fig.set_position([box.x0, box.y0, box.width * 0.8, box.height]);\n",
    "fig.legend(loc='center left', bbox_to_anchor=(1, 0.5));plt.xticks=xtixks_car_sat;plt.title('Company Size vs Career Satisfaction');"
   ]
  },
  {
   "cell_type": "code",
   "execution_count": 82,
   "metadata": {},
   "outputs": [
    {
     "data": {
      "text/html": [
       "<div>\n",
       "<style scoped>\n",
       "    .dataframe tbody tr th:only-of-type {\n",
       "        vertical-align: middle;\n",
       "    }\n",
       "\n",
       "    .dataframe tbody tr th {\n",
       "        vertical-align: top;\n",
       "    }\n",
       "\n",
       "    .dataframe thead th {\n",
       "        text-align: right;\n",
       "    }\n",
       "</style>\n",
       "<table border=\"1\" class=\"dataframe\">\n",
       "  <thead>\n",
       "    <tr style=\"text-align: right;\">\n",
       "      <th></th>\n",
       "      <th>% Satisfied</th>\n",
       "      <th>% Ext. Satisfied</th>\n",
       "      <th>% Mod. Satisfied</th>\n",
       "      <th>% Sl. Satisfied</th>\n",
       "      <th>% Dissatisfied</th>\n",
       "    </tr>\n",
       "    <tr>\n",
       "      <th>CompanySize</th>\n",
       "      <th></th>\n",
       "      <th></th>\n",
       "      <th></th>\n",
       "      <th></th>\n",
       "      <th></th>\n",
       "    </tr>\n",
       "  </thead>\n",
       "  <tbody>\n",
       "    <tr>\n",
       "      <td>Large (500+)</td>\n",
       "      <td>43.390481</td>\n",
       "      <td>14.775412</td>\n",
       "      <td>14.928295</td>\n",
       "      <td>13.686774</td>\n",
       "      <td>42.777432</td>\n",
       "    </tr>\n",
       "    <tr>\n",
       "      <td>Medium (20-500 employees)</td>\n",
       "      <td>43.634357</td>\n",
       "      <td>14.151735</td>\n",
       "      <td>14.542219</td>\n",
       "      <td>14.940403</td>\n",
       "      <td>42.304536</td>\n",
       "    </tr>\n",
       "    <tr>\n",
       "      <td>Small (1-20 employees)</td>\n",
       "      <td>40.464418</td>\n",
       "      <td>13.765189</td>\n",
       "      <td>12.747640</td>\n",
       "      <td>13.951589</td>\n",
       "      <td>44.077975</td>\n",
       "    </tr>\n",
       "  </tbody>\n",
       "</table>\n",
       "</div>"
      ],
      "text/plain": [
       "                           % Satisfied  % Ext. Satisfied  % Mod. Satisfied  \\\n",
       "CompanySize                                                                  \n",
       "Large (500+)                 43.390481         14.775412         14.928295   \n",
       "Medium (20-500 employees)    43.634357         14.151735         14.542219   \n",
       "Small (1-20 employees)       40.464418         13.765189         12.747640   \n",
       "\n",
       "                           % Sl. Satisfied  % Dissatisfied  \n",
       "CompanySize                                                 \n",
       "Large (500+)                     13.686774       42.777432  \n",
       "Medium (20-500 employees)        14.940403       42.304536  \n",
       "Small (1-20 employees)           13.951589       44.077975  "
      ]
     },
     "execution_count": 82,
     "metadata": {},
     "output_type": "execute_result"
    }
   ],
   "source": [
    "df_comp_t = df_comp.T;df_comp_t.columns=order;df_comp_t = satisfaction_perc(df_comp_t);df_comp_t.iloc[-3:,-5:]"
   ]
  },
  {
   "cell_type": "markdown",
   "metadata": {},
   "source": [
    "<div class=\"span5 alert alert-success\">\n",
    "Company size doesn't seem to play a major role in career satisfaction."
   ]
  },
  {
   "cell_type": "markdown",
   "metadata": {},
   "source": [
    "<font size=\"3\"><b>Views on AI's future</b>"
   ]
  },
  {
   "cell_type": "code",
   "execution_count": 83,
   "metadata": {
    "scrolled": false
   },
   "outputs": [
    {
     "data": {
      "image/png": "[encoded data removed]",
      "text/plain": [
       "<Figure size 432x288 with 1 Axes>"
      ]
     },
     "metadata": {
      "needs_background": "light"
     },
     "output_type": "display_data"
    }
   ],
   "source": [
    "#Plot Career satisfaction by AI future\n",
    "df_ai = clean_df[clean_df['Country'].isin(top_countries.index)]\n",
    "df_ai =df_ai.groupby(['AIFuture','CareerSatisfaction'])['AIFuture'].count().unstack('CareerSatisfaction').fillna(0)\n",
    "order = ['Extremely satisfied','Moderately satisfied','Slightly satisfied','Neither satisfied nor dissatisfied','Slightly dissatisfied', 'Moderately dissatisfied','Extremely dissatisfied']\n",
    "df_ai=df_ai[order]\n",
    "df_ai.columns = df_ai.columns.to_series().map(dict_car_sat)\n",
    "df_ai = df_ai.T\n",
    "df_ai['% Excited by AI'] = df_ai['Excited']*100/(df_ai['Excited']+df_ai['Worried']+df_ai['DontCare'])\n",
    "df_ai['% Worried about AI'] = df_ai['Worried']*100/(df_ai['Excited']+df_ai['Worried']+df_ai['DontCare'])\n",
    "df_ai['Dont Care'] = 100 - df_ai['% Excited by AI'] - df_ai['% Worried about AI'] \n",
    "fig = df_ai.drop(['DontCare','Excited','Worried'],axis=1).plot(kind='bar',width = .75)\n",
    "box = fig.get_position()\n",
    "fig.set_position([box.x0, box.y0, box.width * 0.8, box.height]);plt.ylabel('% of Developers')\n",
    "fig.legend(loc='center left', bbox_to_anchor=(1, 0.5));\n",
    "plt.title('Career Satisfaction and thoughts about AI');"
   ]
  },
  {
   "cell_type": "code",
   "execution_count": 84,
   "metadata": {
    "scrolled": true
   },
   "outputs": [
    {
     "data": {
      "text/html": [
       "<div>\n",
       "<style scoped>\n",
       "    .dataframe tbody tr th:only-of-type {\n",
       "        vertical-align: middle;\n",
       "    }\n",
       "\n",
       "    .dataframe tbody tr th {\n",
       "        vertical-align: top;\n",
       "    }\n",
       "\n",
       "    .dataframe thead th {\n",
       "        text-align: right;\n",
       "    }\n",
       "</style>\n",
       "<table border=\"1\" class=\"dataframe\">\n",
       "  <thead>\n",
       "    <tr style=\"text-align: right;\">\n",
       "      <th></th>\n",
       "      <th>% Excited by AI</th>\n",
       "    </tr>\n",
       "    <tr>\n",
       "      <th>CareerSatisfaction</th>\n",
       "      <th></th>\n",
       "    </tr>\n",
       "  </thead>\n",
       "  <tbody>\n",
       "    <tr>\n",
       "      <td>Extremely satisfied</td>\n",
       "      <td>76.376317</td>\n",
       "    </tr>\n",
       "    <tr>\n",
       "      <td>Moderately satisfied</td>\n",
       "      <td>74.764187</td>\n",
       "    </tr>\n",
       "    <tr>\n",
       "      <td>Slightly satisfied</td>\n",
       "      <td>72.000728</td>\n",
       "    </tr>\n",
       "    <tr>\n",
       "      <td>Neither</td>\n",
       "      <td>66.666667</td>\n",
       "    </tr>\n",
       "    <tr>\n",
       "      <td>Slightly dissatisfied</td>\n",
       "      <td>70.265079</td>\n",
       "    </tr>\n",
       "    <tr>\n",
       "      <td>Moderately dissatisfied</td>\n",
       "      <td>70.624360</td>\n",
       "    </tr>\n",
       "    <tr>\n",
       "      <td>Extremely dissatisfied</td>\n",
       "      <td>68.414482</td>\n",
       "    </tr>\n",
       "  </tbody>\n",
       "</table>\n",
       "</div>"
      ],
      "text/plain": [
       "                         % Excited by AI\n",
       "CareerSatisfaction                      \n",
       "Extremely satisfied            76.376317\n",
       "Moderately satisfied           74.764187\n",
       "Slightly satisfied             72.000728\n",
       "Neither                        66.666667\n",
       "Slightly dissatisfied          70.265079\n",
       "Moderately dissatisfied        70.624360\n",
       "Extremely dissatisfied         68.414482"
      ]
     },
     "execution_count": 84,
     "metadata": {},
     "output_type": "execute_result"
    }
   ],
   "source": [
    "pd.DataFrame(df_ai['% Excited by AI'])"
   ]
  },
  {
   "cell_type": "markdown",
   "metadata": {},
   "source": [
    "<div class=\"span5 alert alert-success\">\n",
    "As career satisfaction decreases, excitement about AI's future also decreases. Those who are indifferent about their career satisfaction are least excited by  AI."
   ]
  },
  {
   "cell_type": "markdown",
   "metadata": {},
   "source": [
    "<font size=\"3\"><b>Calling out unethical code </b>"
   ]
  },
  {
   "cell_type": "code",
   "execution_count": 85,
   "metadata": {
    "scrolled": true
   },
   "outputs": [
    {
     "data": {
      "image/png": "[encoded data removed]",
      "text/plain": [
       "<Figure size 432x288 with 1 Axes>"
      ]
     },
     "metadata": {
      "needs_background": "light"
     },
     "output_type": "display_data"
    }
   ],
   "source": [
    "df_ethr =clean_df.groupby(['EthicsReport','CareerSatisfaction'])['EthicsReport'].count().unstack('CareerSatisfaction').fillna(0)\n",
    "df_ethr=df_ethr[order]\n",
    "df_ethr.rename(index=dict_car_sat,inplace=True)\n",
    "df_ethr_t=df_ethr.T\n",
    "df_ethr_t['Total']=df_ethr_t[['Depends on what it is', 'Yes, but only within the company','Yes, and publicly', 'No']].sum(axis=1)\n",
    "df_ethr_t['% Depends'] = df_ethr_t['Depends on what it is']*100/df_ethr_t['Total']\n",
    "df_ethr_t['% Yes (Company)']=df_ethr_t['Yes, but only within the company']*100/df_ethr_t['Total']\n",
    "df_ethr_t['% Yes Public']=df_ethr_t['Yes, and publicly']*100/df_ethr_t['Total']\n",
    "df_ethr_t['% No']=df_ethr_t['No']*100/df_ethr_t['Total']\n",
    "df_ethr_t.rename(index=dict_car_sat,inplace=True)\n",
    "fig = df_ethr_t.drop(['Yes, and publicly','Yes, but only within the company','Depends on what it is', \"No\",'Total'],axis=1).plot(kind='bar',width = .75)\n",
    "box = fig.get_position()\n",
    "fig.set_position([box.x0, box.y0, box.width * 0.8, box.height]);\n",
    "fig.legend(loc='center left', bbox_to_anchor=(1, 0.5));plt.ylabel('% of Developers');\n",
    "plt.title('Do you report or otherwise call out the unethical code in question?');\n",
    "#error bars - z test or t test**"
   ]
  },
  {
   "cell_type": "markdown",
   "metadata": {},
   "source": [
    "<div class=\"span5 alert alert-success\">\n",
    "People who are either extremely satisfied or dissatisfied are more likely to publicly call out unethical code. But people who are satisfied tend to call out unethical code within their company more often than those who arent.  "
   ]
  },
  {
   "cell_type": "markdown",
   "metadata": {},
   "source": [
    "<font size=\"3\"><b>Considering Ethics at work</b>"
   ]
  },
  {
   "cell_type": "code",
   "execution_count": 86,
   "metadata": {},
   "outputs": [
    {
     "data": {
      "image/png": "[encoded data removed]",
      "text/plain": [
       "<Figure size 432x288 with 1 Axes>"
      ]
     },
     "metadata": {
      "needs_background": "light"
     },
     "output_type": "display_data"
    }
   ],
   "source": [
    "df_eth =clean_df.groupby(['EthicalImplications','CareerSatisfaction'])['EthicalImplications'].count().unstack('CareerSatisfaction').fillna(0)\n",
    "df_eth=df_eth[order]\n",
    "df_eth_t=df_eth.T\n",
    "df_eth_t['Total']=df_eth_t[['Yes',\"Unsure / I don't know\",'No']].sum(axis=1)\n",
    "df_eth_t['% Yes']=df_eth_t['Yes']*100/df_eth_t['Total']\n",
    "df_eth_t['% No']=df_eth_t['No']*100/df_eth_t['Total']\n",
    "df_eth_t['% Unsure'] = 100-df_eth_t['% No']-df_eth_t['% Yes']\n",
    "df_eth_t.rename(index=dict_car_sat,inplace=True)\n",
    "fig = df_eth_t.drop(['Yes', \"Unsure / I don't know\", 'No','Total'],axis=1).plot(kind='bar',width = .75)\n",
    "box = fig.get_position()\n",
    "fig.set_position([box.x0, box.y0, box.width * 0.8, box.height]);\n",
    "fig.legend(loc='center left', bbox_to_anchor=(1, 0.5)); plt.ylabel('% of Developers')\n",
    "plt.title('Do you believe that you have an obligation to consider the ethical implications of the code that you write?');"
   ]
  },
  {
   "cell_type": "markdown",
   "metadata": {},
   "source": [
    "<div class=\"span5 alert alert-success\">\n",
    "People who are more satisfied  with their career tend to consider ethical implications of their code more than those who aren't."
   ]
  },
  {
   "cell_type": "markdown",
   "metadata": {},
   "source": [
    "<font size=\"3\"><b>Wake time</b>"
   ]
  },
  {
   "cell_type": "code",
   "execution_count": 87,
   "metadata": {},
   "outputs": [],
   "source": [
    "#Wake time correlation with career satisfaction\n",
    "df_wt =clean_df.groupby(['WakeTime','CareerSatisfaction'])['WakeTime'].count().unstack('CareerSatisfaction').fillna(0)\n",
    "df_wt=df_wt[order]\n",
    "df_wt = df_wt.iloc[4:10,:]\n",
    "df_wt_t=df_wt.T\n",
    "df_wt_t['Total']=df_wt_t.sum(axis=1)\n",
    "df_wt_t.iloc[:,0]=df_wt_t.iloc[:,0]*100/df_wt_t.iloc[:,6]\n",
    "df_wt_t.iloc[:,1]=df_wt_t.iloc[:,1]*100/df_wt_t.iloc[:,6]\n",
    "df_wt_t.iloc[:,2]=df_wt_t.iloc[:,2]*100/df_wt_t.iloc[:,6]\n",
    "df_wt_t.iloc[:,3]=df_wt_t.iloc[:,3]*100/df_wt_t.iloc[:,6]\n",
    "df_wt_t.iloc[:,4]=df_wt_t.iloc[:,4]*100/df_wt_t.iloc[:,6]\n",
    "df_wt_t.iloc[:,5]=df_wt_t.iloc[:,5]*100/df_wt_t.iloc[:,6]"
   ]
  },
  {
   "cell_type": "code",
   "execution_count": 88,
   "metadata": {
    "scrolled": true
   },
   "outputs": [
    {
     "data": {
      "image/png": "[encoded data removed]",
      "text/plain": [
       "<Figure size 432x288 with 1 Axes>"
      ]
     },
     "metadata": {
      "needs_background": "light"
     },
     "output_type": "display_data"
    }
   ],
   "source": [
    "fig = df_wt_t.iloc[:,:6].plot(kind='bar');\n",
    "box = fig.get_position()\n",
    "fig.set_position([box.x0, box.y0, box.width * 0.8, box.height]);\n",
    "fig.legend(loc='center left', bbox_to_anchor=(1, 0.5));"
   ]
  },
  {
   "cell_type": "markdown",
   "metadata": {},
   "source": [
    "<div class=\"span5 alert alert-success\">\n",
    "Most developers wake up vetween 5-7 am. Developers who wake up earlier (5-6 am) are more likely to either be really satisfied or really dissatisfied with their careers. "
   ]
  },
  {
   "cell_type": "markdown",
   "metadata": {},
   "source": [
    "<font size=\"3\"><b>Developer Type</b>"
   ]
  },
  {
   "cell_type": "code",
   "execution_count": 89,
   "metadata": {
    "scrolled": false
   },
   "outputs": [
    {
     "name": "stdout",
     "output_type": "stream",
     "text": [
      "Wall time: 0 ns\n"
     ]
    }
   ],
   "source": [
    "%time\n",
    "dev_type = pd.DataFrame(clean_df['DevType'].str.split(';'))\n",
    "dev_type.columns=['DeveloperType']\n",
    "devtype_df = pd.concat([clean_df,dev_type],axis=1)\n",
    "x=0\n",
    "single_devtype=[]\n",
    "devtype_df=devtype_df.reset_index()\n",
    "for i in range(len(devtype_df)):\n",
    "    if len(devtype_df['DeveloperType'][i]) == 1:\n",
    "        single_devtype.append(devtype_df.loc[i])"
   ]
  },
  {
   "cell_type": "code",
   "execution_count": 90,
   "metadata": {
    "scrolled": true
   },
   "outputs": [],
   "source": [
    "single_devtype = pd.DataFrame(single_devtype)\n",
    "single_devtype_cs = single_devtype[['DeveloperType', 'CareerSatisfaction']]\n",
    "single_devtype_cs['DevType']=single_devtype_cs['DeveloperType'].apply(', '.join)\n",
    "single_devtype_cs=single_devtype_cs.groupby(['DevType', 'CareerSatisfaction'])['DevType'].count().unstack('CareerSatisfaction')"
   ]
  },
  {
   "cell_type": "code",
   "execution_count": 91,
   "metadata": {},
   "outputs": [],
   "source": [
    "single_devtype_cs['Total'] = single_devtype_cs[['Extremely satisfied','Moderately satisfied','Slightly satisfied','Neither satisfied nor dissatisfied','Slightly dissatisfied', 'Moderately dissatisfied','Extremely dissatisfied']].sum(axis=1)\n",
    "single_devtype_cs=single_devtype_cs[single_devtype_cs['Total']>100]\n",
    "single_devtype_cs['Satisfied']=single_devtype_cs[['Extremely satisfied','Moderately satisfied','Slightly satisfied']].sum(axis=1)\n",
    "single_devtype_cs['Neutral']=single_devtype_cs[['Neither satisfied nor dissatisfied']].sum(axis=1)\n",
    "single_devtype_cs['Dissatisfied']=single_devtype_cs[['Slightly dissatisfied', 'Moderately dissatisfied','Extremely dissatisfied']].sum(axis=1)\n",
    "single_devtype_cs['% Satisfied'] =  single_devtype_cs['Satisfied']*100/single_devtype_cs['Total']  \n",
    "single_devtype_cs['% Neutral'] =single_devtype_cs['Neutral']*100/single_devtype_cs['Total']  \n",
    "single_devtype_cs['% Dissatisfied'] =  single_devtype_cs['Dissatisfied']*100/single_devtype_cs['Total'] \n",
    "single_devtype_cs.sort_values('% Satisfied');"
   ]
  },
  {
   "cell_type": "code",
   "execution_count": 92,
   "metadata": {
    "scrolled": true
   },
   "outputs": [
    {
     "data": {
      "image/png": "[encoded data removed]",
      "text/plain": [
       "<Figure size 432x288 with 1 Axes>"
      ]
     },
     "metadata": {
      "needs_background": "light"
     },
     "output_type": "display_data"
    }
   ],
   "source": [
    "#Shorten developer type to make plot look better\n",
    "single_devtype_cs.index=(['Back-end developer', 'CEO, CTO, etc.',  'Data or business analyst',       'Data scientist or ML specialist',       'Desktop/enterprise app. dev.', 'DevOps specialist',       'Embedded app./devices dev.', 'Engineering manager', 'Front-end developer', 'Full-stack developer', 'Mobile developer', 'QA or test developer', 'System administrator'])\n",
    "fig = single_devtype_cs[['% Satisfied','% Neutral', '% Dissatisfied']].sort_values('% Satisfied',ascending=False).plot(kind='bar', stacked=True) ;\n",
    "box = fig.get_position()\n",
    "fig.set_position([box.x0, box.y0, box.width * 0.8, box.height]);\n",
    "fig.legend(loc='center left', bbox_to_anchor=(1, 0.5));\n",
    "plt.title('Satisfaction % by Developer Type');plt.xlabel('Developer Type');"
   ]
  },
  {
   "cell_type": "code",
   "execution_count": 149,
   "metadata": {
    "scrolled": true
   },
   "outputs": [
    {
     "data": {
      "text/html": [
       "<style  type=\"text/css\" >\n",
       "</style><table id=\"T_08814ed8_62fe_11ea_9b61_c8f75008f8f4\" ><caption>Satisfaction rates by Developer Type</caption><thead>    <tr>        <th class=\"index_name level0\" >CareerSatisfaction</th>        <th class=\"col_heading level0 col0\" >% Satisfied</th>        <th class=\"col_heading level0 col1\" >% Neutral</th>        <th class=\"col_heading level0 col2\" >% Dissatisfied</th>    </tr></thead><tbody>\n",
       "                <tr>\n",
       "                        <th id=\"T_08814ed8_62fe_11ea_9b61_c8f75008f8f4level0_row0\" class=\"row_heading level0 row0\" >Data or business analyst</th>\n",
       "                        <td id=\"T_08814ed8_62fe_11ea_9b61_c8f75008f8f4row0_col0\" class=\"data row0 col0\" >61.6667</td>\n",
       "                        <td id=\"T_08814ed8_62fe_11ea_9b61_c8f75008f8f4row0_col1\" class=\"data row0 col1\" >11.6667</td>\n",
       "                        <td id=\"T_08814ed8_62fe_11ea_9b61_c8f75008f8f4row0_col2\" class=\"data row0 col2\" >26.6667</td>\n",
       "            </tr>\n",
       "            <tr>\n",
       "                        <th id=\"T_08814ed8_62fe_11ea_9b61_c8f75008f8f4level0_row1\" class=\"row_heading level0 row1\" >System administrator</th>\n",
       "                        <td id=\"T_08814ed8_62fe_11ea_9b61_c8f75008f8f4row1_col0\" class=\"data row1 col0\" >64.3312</td>\n",
       "                        <td id=\"T_08814ed8_62fe_11ea_9b61_c8f75008f8f4row1_col1\" class=\"data row1 col1\" >10.1911</td>\n",
       "                        <td id=\"T_08814ed8_62fe_11ea_9b61_c8f75008f8f4row1_col2\" class=\"data row1 col2\" >25.4777</td>\n",
       "            </tr>\n",
       "            <tr>\n",
       "                        <th id=\"T_08814ed8_62fe_11ea_9b61_c8f75008f8f4level0_row2\" class=\"row_heading level0 row2\" >Desktop/enterprise app. dev.</th>\n",
       "                        <td id=\"T_08814ed8_62fe_11ea_9b61_c8f75008f8f4row2_col0\" class=\"data row2 col0\" >67.2727</td>\n",
       "                        <td id=\"T_08814ed8_62fe_11ea_9b61_c8f75008f8f4row2_col1\" class=\"data row2 col1\" >7.09091</td>\n",
       "                        <td id=\"T_08814ed8_62fe_11ea_9b61_c8f75008f8f4row2_col2\" class=\"data row2 col2\" >25.6364</td>\n",
       "            </tr>\n",
       "            <tr>\n",
       "                        <th id=\"T_08814ed8_62fe_11ea_9b61_c8f75008f8f4level0_row3\" class=\"row_heading level0 row3\" >QA or test developer</th>\n",
       "                        <td id=\"T_08814ed8_62fe_11ea_9b61_c8f75008f8f4row3_col0\" class=\"data row3 col0\" >71.2991</td>\n",
       "                        <td id=\"T_08814ed8_62fe_11ea_9b61_c8f75008f8f4row3_col1\" class=\"data row3 col1\" >6.34441</td>\n",
       "                        <td id=\"T_08814ed8_62fe_11ea_9b61_c8f75008f8f4row3_col2\" class=\"data row3 col2\" >22.3565</td>\n",
       "            </tr>\n",
       "            <tr>\n",
       "                        <th id=\"T_08814ed8_62fe_11ea_9b61_c8f75008f8f4level0_row4\" class=\"row_heading level0 row4\" >Embedded app./devices dev.</th>\n",
       "                        <td id=\"T_08814ed8_62fe_11ea_9b61_c8f75008f8f4row4_col0\" class=\"data row4 col0\" >73.9224</td>\n",
       "                        <td id=\"T_08814ed8_62fe_11ea_9b61_c8f75008f8f4row4_col1\" class=\"data row4 col1\" >6.03448</td>\n",
       "                        <td id=\"T_08814ed8_62fe_11ea_9b61_c8f75008f8f4row4_col2\" class=\"data row4 col2\" >20.0431</td>\n",
       "            </tr>\n",
       "            <tr>\n",
       "                        <th id=\"T_08814ed8_62fe_11ea_9b61_c8f75008f8f4level0_row5\" class=\"row_heading level0 row5\" >Back-end developer</th>\n",
       "                        <td id=\"T_08814ed8_62fe_11ea_9b61_c8f75008f8f4row5_col0\" class=\"data row5 col0\" >75.304</td>\n",
       "                        <td id=\"T_08814ed8_62fe_11ea_9b61_c8f75008f8f4row5_col1\" class=\"data row5 col1\" >6.18752</td>\n",
       "                        <td id=\"T_08814ed8_62fe_11ea_9b61_c8f75008f8f4row5_col2\" class=\"data row5 col2\" >18.5085</td>\n",
       "            </tr>\n",
       "            <tr>\n",
       "                        <th id=\"T_08814ed8_62fe_11ea_9b61_c8f75008f8f4level0_row6\" class=\"row_heading level0 row6\" >Full-stack developer</th>\n",
       "                        <td id=\"T_08814ed8_62fe_11ea_9b61_c8f75008f8f4row6_col0\" class=\"data row6 col0\" >76.1251</td>\n",
       "                        <td id=\"T_08814ed8_62fe_11ea_9b61_c8f75008f8f4row6_col1\" class=\"data row6 col1\" >5.84523</td>\n",
       "                        <td id=\"T_08814ed8_62fe_11ea_9b61_c8f75008f8f4row6_col2\" class=\"data row6 col2\" >18.0296</td>\n",
       "            </tr>\n",
       "            <tr>\n",
       "                        <th id=\"T_08814ed8_62fe_11ea_9b61_c8f75008f8f4level0_row7\" class=\"row_heading level0 row7\" >Mobile developer</th>\n",
       "                        <td id=\"T_08814ed8_62fe_11ea_9b61_c8f75008f8f4row7_col0\" class=\"data row7 col0\" >76.4215</td>\n",
       "                        <td id=\"T_08814ed8_62fe_11ea_9b61_c8f75008f8f4row7_col1\" class=\"data row7 col1\" >5.11215</td>\n",
       "                        <td id=\"T_08814ed8_62fe_11ea_9b61_c8f75008f8f4row7_col2\" class=\"data row7 col2\" >18.4664</td>\n",
       "            </tr>\n",
       "            <tr>\n",
       "                        <th id=\"T_08814ed8_62fe_11ea_9b61_c8f75008f8f4level0_row8\" class=\"row_heading level0 row8\" >Front-end developer</th>\n",
       "                        <td id=\"T_08814ed8_62fe_11ea_9b61_c8f75008f8f4row8_col0\" class=\"data row8 col0\" >77.7699</td>\n",
       "                        <td id=\"T_08814ed8_62fe_11ea_9b61_c8f75008f8f4row8_col1\" class=\"data row8 col1\" >5.64573</td>\n",
       "                        <td id=\"T_08814ed8_62fe_11ea_9b61_c8f75008f8f4row8_col2\" class=\"data row8 col2\" >16.5843</td>\n",
       "            </tr>\n",
       "            <tr>\n",
       "                        <th id=\"T_08814ed8_62fe_11ea_9b61_c8f75008f8f4level0_row9\" class=\"row_heading level0 row9\" >DevOps specialist</th>\n",
       "                        <td id=\"T_08814ed8_62fe_11ea_9b61_c8f75008f8f4row9_col0\" class=\"data row9 col0\" >77.9116</td>\n",
       "                        <td id=\"T_08814ed8_62fe_11ea_9b61_c8f75008f8f4row9_col1\" class=\"data row9 col1\" >5.22088</td>\n",
       "                        <td id=\"T_08814ed8_62fe_11ea_9b61_c8f75008f8f4row9_col2\" class=\"data row9 col2\" >16.8675</td>\n",
       "            </tr>\n",
       "            <tr>\n",
       "                        <th id=\"T_08814ed8_62fe_11ea_9b61_c8f75008f8f4level0_row10\" class=\"row_heading level0 row10\" >Data scientist or ML specialist</th>\n",
       "                        <td id=\"T_08814ed8_62fe_11ea_9b61_c8f75008f8f4row10_col0\" class=\"data row10 col0\" >81.5642</td>\n",
       "                        <td id=\"T_08814ed8_62fe_11ea_9b61_c8f75008f8f4row10_col1\" class=\"data row10 col1\" >4.84171</td>\n",
       "                        <td id=\"T_08814ed8_62fe_11ea_9b61_c8f75008f8f4row10_col2\" class=\"data row10 col2\" >13.594</td>\n",
       "            </tr>\n",
       "            <tr>\n",
       "                        <th id=\"T_08814ed8_62fe_11ea_9b61_c8f75008f8f4level0_row11\" class=\"row_heading level0 row11\" >CEO, CTO, etc.</th>\n",
       "                        <td id=\"T_08814ed8_62fe_11ea_9b61_c8f75008f8f4row11_col0\" class=\"data row11 col0\" >86.4407</td>\n",
       "                        <td id=\"T_08814ed8_62fe_11ea_9b61_c8f75008f8f4row11_col1\" class=\"data row11 col1\" >3.38983</td>\n",
       "                        <td id=\"T_08814ed8_62fe_11ea_9b61_c8f75008f8f4row11_col2\" class=\"data row11 col2\" >10.1695</td>\n",
       "            </tr>\n",
       "            <tr>\n",
       "                        <th id=\"T_08814ed8_62fe_11ea_9b61_c8f75008f8f4level0_row12\" class=\"row_heading level0 row12\" >Engineering manager</th>\n",
       "                        <td id=\"T_08814ed8_62fe_11ea_9b61_c8f75008f8f4row12_col0\" class=\"data row12 col0\" >88.4956</td>\n",
       "                        <td id=\"T_08814ed8_62fe_11ea_9b61_c8f75008f8f4row12_col1\" class=\"data row12 col1\" >3.53982</td>\n",
       "                        <td id=\"T_08814ed8_62fe_11ea_9b61_c8f75008f8f4row12_col2\" class=\"data row12 col2\" >7.9646</td>\n",
       "            </tr>\n",
       "    </tbody></table>"
      ],
      "text/plain": [
       "<pandas.io.formats.style.Styler at 0x1f098ed9e08>"
      ]
     },
     "execution_count": 149,
     "metadata": {},
     "output_type": "execute_result"
    }
   ],
   "source": [
    "single_devtype_cs[['% Satisfied','% Neutral','% Dissatisfied']].sort_values('% Satisfied',ascending=False);single_devtype_cs[['% Satisfied','% Neutral','% Dissatisfied']].sort_values('% Satisfied').style.set_caption(\"Satisfaction rates by Developer Type\")"
   ]
  },
  {
   "cell_type": "markdown",
   "metadata": {},
   "source": [
    "<div class=\"span5 alert alert-success\">\n",
    "Among non-managerial roles, data scientist or ML specialists are the most satisfied with their jobs whereas data/business analysts are the least satisfied. This is interesting because to many people, they're very similar jobs, but in fact they work with data very differently and do very different things with it."
   ]
  },
  {
   "cell_type": "markdown",
   "metadata": {},
   "source": [
    "<font size=\"5\"><a id='MachineLearning'></a> <b>Machine Learning (In Progress)</b>"
   ]
  },
  {
   "cell_type": "code",
   "execution_count": 94,
   "metadata": {
    "scrolled": true
   },
   "outputs": [],
   "source": [
    "#Normalizing variables to use in ML Algorithms\n",
    "val0 = df_total.values #returns a numpy array\n",
    "min_max_scaler0 = preprocessing.MinMaxScaler()\n",
    "x_scaled0 = min_max_scaler0.fit_transform(val0)\n",
    "df_total_norm0 = pd.DataFrame(x_scaled0)\n",
    "X0 = df_total_norm0.iloc[:,:-1]\n",
    "y0 = df_total_norm0.iloc[:,-1:]"
   ]
  },
  {
   "cell_type": "code",
   "execution_count": 95,
   "metadata": {},
   "outputs": [
    {
     "data": {
      "text/html": [
       "<div>\n",
       "<style scoped>\n",
       "    .dataframe tbody tr th:only-of-type {\n",
       "        vertical-align: middle;\n",
       "    }\n",
       "\n",
       "    .dataframe tbody tr th {\n",
       "        vertical-align: top;\n",
       "    }\n",
       "\n",
       "    .dataframe thead th {\n",
       "        text-align: right;\n",
       "    }\n",
       "</style>\n",
       "<table border=\"1\" class=\"dataframe\">\n",
       "  <thead>\n",
       "    <tr style=\"text-align: right;\">\n",
       "      <th></th>\n",
       "      <th>CompanySize_n</th>\n",
       "      <th>YearsCoding_n</th>\n",
       "      <th>HoursOutside_n</th>\n",
       "      <th>Exercise_n</th>\n",
       "      <th>AIFuture_n</th>\n",
       "      <th>WakeTime_n</th>\n",
       "      <th>Hobby_Yes</th>\n",
       "      <th>OpenSource_Yes</th>\n",
       "      <th>EthicalImplications_n</th>\n",
       "      <th>EthicsReport_n</th>\n",
       "      <th>CareerSatisfaction_n</th>\n",
       "    </tr>\n",
       "  </thead>\n",
       "  <tbody>\n",
       "    <tr>\n",
       "      <td>0</td>\n",
       "      <td>10000</td>\n",
       "      <td>30</td>\n",
       "      <td>0.75</td>\n",
       "      <td>6.0</td>\n",
       "      <td>1</td>\n",
       "      <td>530</td>\n",
       "      <td>1</td>\n",
       "      <td>0</td>\n",
       "      <td>3</td>\n",
       "      <td>0</td>\n",
       "      <td>3</td>\n",
       "    </tr>\n",
       "    <tr>\n",
       "      <td>1</td>\n",
       "      <td>15</td>\n",
       "      <td>7</td>\n",
       "      <td>1.50</td>\n",
       "      <td>3.5</td>\n",
       "      <td>1</td>\n",
       "      <td>630</td>\n",
       "      <td>1</td>\n",
       "      <td>1</td>\n",
       "      <td>3</td>\n",
       "      <td>1</td>\n",
       "      <td>0</td>\n",
       "    </tr>\n",
       "    <tr>\n",
       "      <td>3</td>\n",
       "      <td>300</td>\n",
       "      <td>10</td>\n",
       "      <td>0.25</td>\n",
       "      <td>1.5</td>\n",
       "      <td>-1</td>\n",
       "      <td>630</td>\n",
       "      <td>0</td>\n",
       "      <td>0</td>\n",
       "      <td>3</td>\n",
       "      <td>2</td>\n",
       "      <td>-1</td>\n",
       "    </tr>\n",
       "    <tr>\n",
       "      <td>4</td>\n",
       "      <td>15</td>\n",
       "      <td>16</td>\n",
       "      <td>0.75</td>\n",
       "      <td>6.0</td>\n",
       "      <td>1</td>\n",
       "      <td>430</td>\n",
       "      <td>1</td>\n",
       "      <td>0</td>\n",
       "      <td>3</td>\n",
       "      <td>2</td>\n",
       "      <td>2</td>\n",
       "    </tr>\n",
       "    <tr>\n",
       "      <td>5</td>\n",
       "      <td>1250</td>\n",
       "      <td>16</td>\n",
       "      <td>1.50</td>\n",
       "      <td>0.0</td>\n",
       "      <td>1</td>\n",
       "      <td>730</td>\n",
       "      <td>1</td>\n",
       "      <td>0</td>\n",
       "      <td>2</td>\n",
       "      <td>1</td>\n",
       "      <td>1</td>\n",
       "    </tr>\n",
       "  </tbody>\n",
       "</table>\n",
       "</div>"
      ],
      "text/plain": [
       "   CompanySize_n  YearsCoding_n  HoursOutside_n  Exercise_n  AIFuture_n  \\\n",
       "0          10000             30            0.75         6.0           1   \n",
       "1             15              7            1.50         3.5           1   \n",
       "3            300             10            0.25         1.5          -1   \n",
       "4             15             16            0.75         6.0           1   \n",
       "5           1250             16            1.50         0.0           1   \n",
       "\n",
       "   WakeTime_n  Hobby_Yes  OpenSource_Yes  EthicalImplications_n  \\\n",
       "0         530          1               0                      3   \n",
       "1         630          1               1                      3   \n",
       "3         630          0               0                      3   \n",
       "4         430          1               0                      3   \n",
       "5         730          1               0                      2   \n",
       "\n",
       "   EthicsReport_n  CareerSatisfaction_n  \n",
       "0               0                     3  \n",
       "1               1                     0  \n",
       "3               2                    -1  \n",
       "4               2                     2  \n",
       "5               1                     1  "
      ]
     },
     "execution_count": 95,
     "metadata": {},
     "output_type": "execute_result"
    }
   ],
   "source": [
    "df_total.head()"
   ]
  },
  {
   "cell_type": "code",
   "execution_count": 96,
   "metadata": {
    "scrolled": true
   },
   "outputs": [
    {
     "data": {
      "text/html": [
       "<div>\n",
       "<style scoped>\n",
       "    .dataframe tbody tr th:only-of-type {\n",
       "        vertical-align: middle;\n",
       "    }\n",
       "\n",
       "    .dataframe tbody tr th {\n",
       "        vertical-align: top;\n",
       "    }\n",
       "\n",
       "    .dataframe thead th {\n",
       "        text-align: right;\n",
       "    }\n",
       "</style>\n",
       "<table border=\"1\" class=\"dataframe\">\n",
       "  <thead>\n",
       "    <tr style=\"text-align: right;\">\n",
       "      <th></th>\n",
       "      <th>10</th>\n",
       "    </tr>\n",
       "  </thead>\n",
       "  <tbody>\n",
       "    <tr>\n",
       "      <td>0</td>\n",
       "      <td>1.000000</td>\n",
       "    </tr>\n",
       "    <tr>\n",
       "      <td>1</td>\n",
       "      <td>0.500000</td>\n",
       "    </tr>\n",
       "    <tr>\n",
       "      <td>2</td>\n",
       "      <td>0.333333</td>\n",
       "    </tr>\n",
       "    <tr>\n",
       "      <td>3</td>\n",
       "      <td>0.833333</td>\n",
       "    </tr>\n",
       "    <tr>\n",
       "      <td>4</td>\n",
       "      <td>0.666667</td>\n",
       "    </tr>\n",
       "  </tbody>\n",
       "</table>\n",
       "</div>"
      ],
      "text/plain": [
       "         10\n",
       "0  1.000000\n",
       "1  0.500000\n",
       "2  0.333333\n",
       "3  0.833333\n",
       "4  0.666667"
      ]
     },
     "execution_count": 96,
     "metadata": {},
     "output_type": "execute_result"
    }
   ],
   "source": [
    "y0.head()"
   ]
  },
  {
   "cell_type": "code",
   "execution_count": 97,
   "metadata": {},
   "outputs": [],
   "source": [
    "###########################      VARIABLE DEFINITIONS         #################################\n",
    "#x0 = CompanySize_n,YearsCoding_n,HoursOutside_n,Exercise_n,AIFuture_n,WakeTime_n,Hobby_Yes,OpenSource_Yes,EthicalImplications_n,EthicsReport_n\n",
    "#y0 = CareerSatisfaction_n"
   ]
  },
  {
   "cell_type": "code",
   "execution_count": 98,
   "metadata": {
    "scrolled": true
   },
   "outputs": [],
   "source": [
    "#One hot encoding country values \n",
    "#https://github.com/codebasics/py/blob/master/ML/5_one_hot_encoding/one_hot_encoding.ipynb\n",
    "le = LabelEncoder()\n",
    "df_countries_salary = df[['Country','ConvertedSalary']]\n",
    "df_countries_salary.Country = le.fit_transform(df_countries_salary.Country)\n",
    "X_ohe = df_countries_salary[['Country']].values\n",
    "y_ohe = df_countries_salary[['ConvertedSalary']]\n",
    "ohe = OneHotEncoder(categorical_features=[0])\n",
    "X_ohe = ohe.fit_transform(X_ohe).toarray()"
   ]
  },
  {
   "cell_type": "code",
   "execution_count": 99,
   "metadata": {
    "scrolled": false
   },
   "outputs": [],
   "source": [
    "pd.DataFrame(x_scaled0).head();"
   ]
  },
  {
   "cell_type": "code",
   "execution_count": 100,
   "metadata": {
    "scrolled": true
   },
   "outputs": [
    {
     "name": "stdout",
     "output_type": "stream",
     "text": [
      "Linear Regression R^2: 0.009162137393863179\n"
     ]
    }
   ],
   "source": [
    "############ Linear Regression for career satisfaction ############\n",
    "X_train, X_test, y_train, y_test = train_test_split(X0,y0,test_size=0.2,random_state=42)\n",
    "#sklearn.feature_selection.chi2(X0, y0)\n",
    "reg = LinearRegression().fit(X_train, y_train)\n",
    "accuracy = reg.score(X_test,reg.predict(X_test))\n",
    "prediction = reg.predict(X_test)\n",
    "print('Linear Regression R^2: '+ str(reg.score(X_test,y_test)))\n",
    "#rms = mean_squared_error(X_test,reg.predict(X_test))\n",
    "#print('Linear Regression RMS: '+str(np.sqrt(rms)))"
   ]
  },
  {
   "cell_type": "code",
   "execution_count": 101,
   "metadata": {},
   "outputs": [
    {
     "data": {
      "text/plain": [
       "(9789, 1)"
      ]
     },
     "execution_count": 101,
     "metadata": {},
     "output_type": "execute_result"
    }
   ],
   "source": [
    "prediction.shape"
   ]
  },
  {
   "cell_type": "code",
   "execution_count": 102,
   "metadata": {},
   "outputs": [
    {
     "data": {
      "text/plain": [
       "0.5667832941060469"
      ]
     },
     "execution_count": 102,
     "metadata": {},
     "output_type": "execute_result"
    }
   ],
   "source": [
    "prediction.min()"
   ]
  },
  {
   "cell_type": "code",
   "execution_count": 103,
   "metadata": {},
   "outputs": [
    {
     "data": {
      "text/plain": [
       "(9789, 1)"
      ]
     },
     "execution_count": 103,
     "metadata": {},
     "output_type": "execute_result"
    }
   ],
   "source": [
    "y_test.shape"
   ]
  },
  {
   "cell_type": "code",
   "execution_count": 104,
   "metadata": {
    "scrolled": true
   },
   "outputs": [
    {
     "data": {
      "text/plain": [
       "10    0.0\n",
       "dtype: float64"
      ]
     },
     "execution_count": 104,
     "metadata": {},
     "output_type": "execute_result"
    }
   ],
   "source": [
    "y_test.min()"
   ]
  },
  {
   "cell_type": "code",
   "execution_count": 170,
   "metadata": {
    "scrolled": true
   },
   "outputs": [
    {
     "name": "stdout",
     "output_type": "stream",
     "text": [
      "Best Penalty: l1\n",
      "Best C: 1.0\n"
     ]
    }
   ],
   "source": [
    "################# LOGISTIC REGRESSION for career satisfaction #################\n",
    "#tune and find best hyperparamteres\n",
    "logistic = linear_model.LogisticRegression()\n",
    "# Create regularization penalty space\n",
    "penalty = ['l1', 'l2']\n",
    "# Create regularization hyperparameter space\n",
    "C = np.logspace(0, 4, 10)\n",
    "# Create hyperparameter options\n",
    "hyperparameters = dict(C=C, penalty=penalty)\n",
    "clf = GridSearchCV(logistic, hyperparameters, cv=5, verbose=0)\n",
    "# Fit grid search\n",
    "best_model = clf.fit(X_trainlr,y_trainlr)\n",
    "print('Best Penalty:', best_model.best_estimator_.get_params()['penalty'])\n",
    "print('Best C:', best_model.best_estimator_.get_params()['C'])\n",
    "# Predict target vector\n",
    "#best_model.predict(X_testlr)"
   ]
  },
  {
   "cell_type": "code",
   "execution_count": 176,
   "metadata": {
    "scrolled": true
   },
   "outputs": [
    {
     "name": "stdout",
     "output_type": "stream",
     "text": [
      "Logistic Regression Score:0.7755102040816326\n"
     ]
    }
   ],
   "source": [
    "dflr = df_total.copy()\n",
    "dflr['CareerSatisfaction_n'].replace([3,0,-1,2,1,-2,-3] ,[1,0,0,0,0,0,0] ,inplace=True) \n",
    "val0lr = dflr.values #returns a numpy array\n",
    "min_max_scaler0 = preprocessing.MinMaxScaler()\n",
    "x_scaled0lr = min_max_scaler0.fit_transform(val0lr)\n",
    "dflr_norm0 = pd.DataFrame(x_scaled0lr)\n",
    "X0lr = dflr_norm0.iloc[:,:-1]\n",
    "y0lr = dflr_norm0.iloc[:,-1:]\n",
    "X_trainlr, X_testlr, y_trainlr, y_testlr = train_test_split(X0lr,y0lr,test_size=0.01,random_state=42)\n",
    "logistic = LogisticRegression(C=1,penalty='l1').fit(X_trainlr, y_trainlr)\n",
    "#prediction = logreg.predict(X_test)\n",
    "accuracy = logistic.score(X_testlr,y_testlr)\n",
    "print('Logistic Regression Score:'+str(accuracy)) "
   ]
  },
  {
   "cell_type": "code",
   "execution_count": 177,
   "metadata": {
    "scrolled": true
   },
   "outputs": [
    {
     "name": "stdout",
     "output_type": "stream",
     "text": [
      "Logistic Regression Score:0.9721115537848606\n"
     ]
    }
   ],
   "source": [
    "################# LOGISTIC REGRESSION for career dissatisfaction #################\n",
    "#Career dissatisfaction variables\n",
    "dflrd = df_total.copy()\n",
    "dflrd['CareerSatisfaction_n'].replace([3,0,-1,2,1,-2,-3] ,[0,0,0,0,0,0,1] ,inplace=True) \n",
    "val = dflrd.values #returns a numpy array\n",
    "min_max_scaler = preprocessing.MinMaxScaler()\n",
    "x_scaled = min_max_scaler.fit_transform(val)\n",
    "dflrd_norm0 = pd.DataFrame(x_scaled)\n",
    "Xd = dflrd_norm0.iloc[:,:-1]\n",
    "yd = dflrd_norm0.iloc[:,-1:]\n",
    "X_traind, X_testd, y_traind, y_testd = train_test_split(Xd,yd,test_size=0.2,random_state=42)\n",
    "logreg = LogisticRegression().fit(X_traind, y_traind)\n",
    "accuracy = logreg.score(X_testd,y_testd)\n",
    "print('Logistic Regression Score:'+str(accuracy)) "
   ]
  },
  {
   "cell_type": "code",
   "execution_count": 108,
   "metadata": {
    "scrolled": true
   },
   "outputs": [
    {
     "data": {
      "text/html": [
       "<div>\n",
       "<style scoped>\n",
       "    .dataframe tbody tr th:only-of-type {\n",
       "        vertical-align: middle;\n",
       "    }\n",
       "\n",
       "    .dataframe tbody tr th {\n",
       "        vertical-align: top;\n",
       "    }\n",
       "\n",
       "    .dataframe thead th {\n",
       "        text-align: right;\n",
       "    }\n",
       "</style>\n",
       "<table border=\"1\" class=\"dataframe\">\n",
       "  <thead>\n",
       "    <tr style=\"text-align: right;\">\n",
       "      <th></th>\n",
       "      <th>Importance</th>\n",
       "    </tr>\n",
       "  </thead>\n",
       "  <tbody>\n",
       "    <tr>\n",
       "      <td>EthicalImplications_n</td>\n",
       "      <td>141.165859</td>\n",
       "    </tr>\n",
       "    <tr>\n",
       "      <td>OpenSource_Yes</td>\n",
       "      <td>141.028034</td>\n",
       "    </tr>\n",
       "    <tr>\n",
       "      <td>Hobby_Yes</td>\n",
       "      <td>104.815413</td>\n",
       "    </tr>\n",
       "    <tr>\n",
       "      <td>AIFuture_n</td>\n",
       "      <td>97.094544</td>\n",
       "    </tr>\n",
       "    <tr>\n",
       "      <td>EthicsReport_n</td>\n",
       "      <td>49.254106</td>\n",
       "    </tr>\n",
       "    <tr>\n",
       "      <td>Exercise_n</td>\n",
       "      <td>20.365530</td>\n",
       "    </tr>\n",
       "    <tr>\n",
       "      <td>CompanySize_n</td>\n",
       "      <td>13.105429</td>\n",
       "    </tr>\n",
       "    <tr>\n",
       "      <td>HoursOutside_n</td>\n",
       "      <td>9.303728</td>\n",
       "    </tr>\n",
       "    <tr>\n",
       "      <td>WakeTime_n</td>\n",
       "      <td>1.143772</td>\n",
       "    </tr>\n",
       "    <tr>\n",
       "      <td>YearsCoding_n</td>\n",
       "      <td>0.023404</td>\n",
       "    </tr>\n",
       "  </tbody>\n",
       "</table>\n",
       "</div>"
      ],
      "text/plain": [
       "                       Importance\n",
       "EthicalImplications_n  141.165859\n",
       "OpenSource_Yes         141.028034\n",
       "Hobby_Yes              104.815413\n",
       "AIFuture_n              97.094544\n",
       "EthicsReport_n          49.254106\n",
       "Exercise_n              20.365530\n",
       "CompanySize_n           13.105429\n",
       "HoursOutside_n           9.303728\n",
       "WakeTime_n               1.143772\n",
       "YearsCoding_n            0.023404"
      ]
     },
     "execution_count": 108,
     "metadata": {},
     "output_type": "execute_result"
    }
   ],
   "source": [
    "################# FEATURE SELECTION Satisfaction #################\n",
    "features = sklearn.feature_selection.f_regression(X_train, y_train, center=True)\n",
    "featuresdf = pd.DataFrame(features[0]) #F value, higher the better\n",
    "featuresdf.index =df_no_dev.columns;featuresdf.columns=['Importance'];\n",
    "featuresdf.sort_values(by='Importance',ascending=False)#Most influential features"
   ]
  },
  {
   "cell_type": "markdown",
   "metadata": {},
   "source": [
    "<div class=\"span5 alert alert-success\">\n",
    "Most important features contributing to satisfaction: <br>\n",
    "1. Ethical Implications <br>\n",
    "2. Open Source<br>\n",
    "3. Hobby <br>\n",
    "4. AIFuture <br>\n",
    "5. EthicsReport </div>\n",
    "  "
   ]
  },
  {
   "cell_type": "code",
   "execution_count": 107,
   "metadata": {
    "scrolled": false
   },
   "outputs": [
    {
     "data": {
      "text/html": [
       "<div>\n",
       "<style scoped>\n",
       "    .dataframe tbody tr th:only-of-type {\n",
       "        vertical-align: middle;\n",
       "    }\n",
       "\n",
       "    .dataframe tbody tr th {\n",
       "        vertical-align: top;\n",
       "    }\n",
       "\n",
       "    .dataframe thead th {\n",
       "        text-align: right;\n",
       "    }\n",
       "</style>\n",
       "<table border=\"1\" class=\"dataframe\">\n",
       "  <thead>\n",
       "    <tr style=\"text-align: right;\">\n",
       "      <th></th>\n",
       "      <th>Importance</th>\n",
       "    </tr>\n",
       "  </thead>\n",
       "  <tbody>\n",
       "    <tr>\n",
       "      <td>HoursOutside_n</td>\n",
       "      <td>10.136137</td>\n",
       "    </tr>\n",
       "    <tr>\n",
       "      <td>WakeTime_n</td>\n",
       "      <td>9.917759</td>\n",
       "    </tr>\n",
       "    <tr>\n",
       "      <td>AIFuture_n</td>\n",
       "      <td>9.304626</td>\n",
       "    </tr>\n",
       "    <tr>\n",
       "      <td>EthicsReport_n</td>\n",
       "      <td>6.537795</td>\n",
       "    </tr>\n",
       "    <tr>\n",
       "      <td>EthicalImplications_n</td>\n",
       "      <td>5.009310</td>\n",
       "    </tr>\n",
       "    <tr>\n",
       "      <td>Hobby_Yes</td>\n",
       "      <td>2.597710</td>\n",
       "    </tr>\n",
       "    <tr>\n",
       "      <td>OpenSource_Yes</td>\n",
       "      <td>2.447647</td>\n",
       "    </tr>\n",
       "    <tr>\n",
       "      <td>CompanySize_n</td>\n",
       "      <td>1.673017</td>\n",
       "    </tr>\n",
       "    <tr>\n",
       "      <td>YearsCoding_n</td>\n",
       "      <td>1.423983</td>\n",
       "    </tr>\n",
       "    <tr>\n",
       "      <td>Exercise_n</td>\n",
       "      <td>0.367267</td>\n",
       "    </tr>\n",
       "  </tbody>\n",
       "</table>\n",
       "</div>"
      ],
      "text/plain": [
       "                       Importance\n",
       "HoursOutside_n          10.136137\n",
       "WakeTime_n               9.917759\n",
       "AIFuture_n               9.304626\n",
       "EthicsReport_n           6.537795\n",
       "EthicalImplications_n    5.009310\n",
       "Hobby_Yes                2.597710\n",
       "OpenSource_Yes           2.447647\n",
       "CompanySize_n            1.673017\n",
       "YearsCoding_n            1.423983\n",
       "Exercise_n               0.367267"
      ]
     },
     "execution_count": 107,
     "metadata": {},
     "output_type": "execute_result"
    }
   ],
   "source": [
    "################# FEATURE SELECTION Dissatisfaction #################\n",
    "features = sklearn.feature_selection.f_regression(X_traind, y_traind, center=True)\n",
    "featuresdfd = pd.DataFrame(features[0]) #F value, higher the better\n",
    "featuresdfd.index =df_no_dev.columns;featuresdfd.columns=['Importance'];\n",
    "featuresdfd.sort_values(by='Importance',ascending=False)#Most influential features"
   ]
  },
  {
   "cell_type": "markdown",
   "metadata": {},
   "source": [
    "<div class=\"span5 alert alert-success\">\n",
    "Most important features contributing to dissatisfaction: <br>\n",
    "1. HoursOutside <br>\n",
    "2. WakeTime<br>\n",
    "3. AIFuture <br>\n",
    "4. EthicsReport <br>\n",
    "5. EthicalImplications  \n",
    "    </div>"
   ]
  },
  {
   "cell_type": "code",
   "execution_count": 109,
   "metadata": {},
   "outputs": [
    {
     "name": "stdout",
     "output_type": "stream",
     "text": [
      "1.3.1\n"
     ]
    },
    {
     "data": {
      "text/plain": [
       "(                                         CareerSatisfaction  \\\n",
       "                                      Extremely dissatisfied   \n",
       " Country                                                       \n",
       " Afghanistan                                               2   \n",
       " Albania                                                   1   \n",
       " Algeria                                                   2   \n",
       " Andorra                                                   0   \n",
       " Argentina                                                10   \n",
       " ...                                                     ...   \n",
       " Venezuela, Bolivarian Republic of...                      4   \n",
       " Viet Nam                                                  5   \n",
       " Yemen                                                     0   \n",
       " Zimbabwe                                                  0   \n",
       " All                                                    1350   \n",
       " \n",
       "                                                           \\\n",
       "                                      Extremely satisfied   \n",
       " Country                                                    \n",
       " Afghanistan                                            3   \n",
       " Albania                                                3   \n",
       " Algeria                                                2   \n",
       " Andorra                                                0   \n",
       " Argentina                                             57   \n",
       " ...                                                  ...   \n",
       " Venezuela, Bolivarian Republic of...                  11   \n",
       " Viet Nam                                               7   \n",
       " Yemen                                                  0   \n",
       " Zimbabwe                                               3   \n",
       " All                                                 9401   \n",
       " \n",
       "                                                               \\\n",
       "                                      Moderately dissatisfied   \n",
       " Country                                                        \n",
       " Afghanistan                                                1   \n",
       " Albania                                                    4   \n",
       " Algeria                                                    3   \n",
       " Andorra                                                    0   \n",
       " Argentina                                                 22   \n",
       " ...                                                      ...   \n",
       " Venezuela, Bolivarian Republic of...                       3   \n",
       " Viet Nam                                                   5   \n",
       " Yemen                                                      0   \n",
       " Zimbabwe                                                   1   \n",
       " All                                                     3182   \n",
       " \n",
       "                                                            \\\n",
       "                                      Moderately satisfied   \n",
       " Country                                                     \n",
       " Afghanistan                                             1   \n",
       " Albania                                                 8   \n",
       " Algeria                                                 3   \n",
       " Andorra                                                 1   \n",
       " Argentina                                             117   \n",
       " ...                                                   ...   \n",
       " Venezuela, Bolivarian Republic of...                   12   \n",
       " Viet Nam                                               30   \n",
       " Yemen                                                   1   \n",
       " Zimbabwe                                                4   \n",
       " All                                                 19014   \n",
       " \n",
       "                                                                          \\\n",
       "                                      Neither satisfied nor dissatisfied   \n",
       " Country                                                                   \n",
       " Afghanistan                                                           0   \n",
       " Albania                                                               5   \n",
       " Algeria                                                               5   \n",
       " Andorra                                                               0   \n",
       " Argentina                                                            16   \n",
       " ...                                                                 ...   \n",
       " Venezuela, Bolivarian Republic of...                                  3   \n",
       " Viet Nam                                                              8   \n",
       " Yemen                                                                 0   \n",
       " Zimbabwe                                                              0   \n",
       " All                                                                3015   \n",
       " \n",
       "                                                                                \\\n",
       "                                      Slightly dissatisfied Slightly satisfied   \n",
       " Country                                                                         \n",
       " Afghanistan                                              0                  1   \n",
       " Albania                                                  3                  9   \n",
       " Algeria                                                  2                  6   \n",
       " Andorra                                                  0                  1   \n",
       " Argentina                                               27                 59   \n",
       " ...                                                    ...                ...   \n",
       " Venezuela, Bolivarian Republic of...                     3                  3   \n",
       " Viet Nam                                                20                 25   \n",
       " Yemen                                                    0                  2   \n",
       " Zimbabwe                                                 1                  4   \n",
       " All                                                   4156               8825   \n",
       " \n",
       "                                              \n",
       "                                         All  \n",
       " Country                                      \n",
       " Afghanistan                               8  \n",
       " Albania                                  33  \n",
       " Algeria                                  23  \n",
       " Andorra                                   2  \n",
       " Argentina                               308  \n",
       " ...                                     ...  \n",
       " Venezuela, Bolivarian Republic of...     39  \n",
       " Viet Nam                                100  \n",
       " Yemen                                     3  \n",
       " Zimbabwe                                 13  \n",
       " All                                   48943  \n",
       " \n",
       " [155 rows x 8 columns],                   Chi-square test    results\n",
       " 0  Pearson Chi-square ( 918.0) =   3409.6259\n",
       " 1                      p-value =      0.0000\n",
       " 2                   Cramer's V =      0.1078)"
      ]
     },
     "execution_count": 109,
     "metadata": {},
     "output_type": "execute_result"
    }
   ],
   "source": [
    "import scipy\n",
    "print(scipy.__version__)\n",
    "rp.crosstab(clean_df['Country'], clean_df['CareerSatisfaction'], prop= None, test= \"chi-square\", margins= True, correction = None, exact = False, expected_freqs= False)"
   ]
  },
  {
   "cell_type": "code",
   "execution_count": 110,
   "metadata": {
    "scrolled": true
   },
   "outputs": [
    {
     "data": {
      "text/plain": [
       "(                               CareerSatisfaction                      \\\n",
       "                            Extremely dissatisfied Extremely satisfied   \n",
       " Exercise                                                                \n",
       " 1 - 2 times per week                          358                2678   \n",
       " 3 - 4 times per week                          260                2039   \n",
       " Daily or almost every day                     183                1384   \n",
       " I don't typically exercise                    549                3300   \n",
       " All                                          1350                9401   \n",
       " \n",
       "                                                                          \\\n",
       "                            Moderately dissatisfied Moderately satisfied   \n",
       " Exercise                                                                  \n",
       " 1 - 2 times per week                           910                 5674   \n",
       " 3 - 4 times per week                           626                 4024   \n",
       " Daily or almost every day                      402                 2501   \n",
       " I don't typically exercise                    1244                 6815   \n",
       " All                                           3182                19014   \n",
       " \n",
       "                                                                \\\n",
       "                            Neither satisfied nor dissatisfied   \n",
       " Exercise                                                        \n",
       " 1 - 2 times per week                                      859   \n",
       " 3 - 4 times per week                                      553   \n",
       " Daily or almost every day                                 373   \n",
       " I don't typically exercise                               1230   \n",
       " All                                                      3015   \n",
       " \n",
       "                                                                             \n",
       "                            Slightly dissatisfied Slightly satisfied    All  \n",
       " Exercise                                                                    \n",
       " 1 - 2 times per week                        1204               2673  14356  \n",
       " 3 - 4 times per week                         798               1706  10006  \n",
       " Daily or almost every day                    451                968   6262  \n",
       " I don't typically exercise                  1703               3478  18319  \n",
       " All                                         4156               8825  48943  ,\n",
       "                  Chi-square test   results\n",
       " 0  Pearson Chi-square ( 18.0) =   171.1145\n",
       " 1                     p-value =     0.0000\n",
       " 2                  Cramer's V =     0.0341)"
      ]
     },
     "execution_count": 110,
     "metadata": {},
     "output_type": "execute_result"
    }
   ],
   "source": [
    "rp.crosstab(clean_df['Exercise'], clean_df['CareerSatisfaction'], prop= None, test= \"chi-square\", margins= True, correction = None, exact = False, expected_freqs= False)"
   ]
  },
  {
   "cell_type": "markdown",
   "metadata": {},
   "source": [
    " 0  Pearson Chi-square ( 18.0) =   171.1145\n",
    " 1                     p-value =     0.0000\n",
    " 2                  Cramer's V =     0.0341)"
   ]
  },
  {
   "cell_type": "code",
   "execution_count": 111,
   "metadata": {},
   "outputs": [],
   "source": [
    "'''features = df_total.iloc[:,:-1] #\n",
    "clf = MultinomialNB()\n",
    "clf.fit(X_train, y_train)\n",
    "x = np.eye(X_test.shape[1])\n",
    "probs = clf.predict_log_proba(x)[:, 0]\n",
    "ind = np.argsort(probs)''';\n",
    "'''good_features = features[ind[:5]]\n",
    "bad_features = features[ind[-5:]]\n",
    "good_prob = probs[ind[:5]]\n",
    "bad_prob = probs[ind[-5:]]''';"
   ]
  },
  {
   "cell_type": "code",
   "execution_count": 112,
   "metadata": {},
   "outputs": [],
   "source": [
    "#https://scikit-learn.org/stable/modules/generated/sklearn.feature_selection.SelectKBest.html\n",
    "#https://scikit-learn.org/stable/modules/generated/sklearn.feature_selection.f_regression.html#sklearn.feature_selection.f_regression\n",
    "#https://scikit-learn.org/stable/modules/feature_selection.html\n",
    "#from sklearn.feature_selection import SelectKBest, chi2;\n",
    "#X_new = SelectKBest(chi2, k=4).fit_transform(X0, y0)"
   ]
  },
  {
   "cell_type": "code",
   "execution_count": 179,
   "metadata": {
    "scrolled": true
   },
   "outputs": [
    {
     "name": "stdout",
     "output_type": "stream",
     "text": [
      "SGDRegressor Score: -9.156939651533413e-05\n",
      "SGDRegressor RMS: 0.2671964958724932\n"
     ]
    }
   ],
   "source": [
    "################# SGDREGRESSOR ################# \n",
    "#https://scikit-learn.org/stable/modules/generated/sklearn.linear_model.SGDRegressor.html#sklearn.linear_model.SGDRegressor\n",
    "clf = linear_model.SGDRegressor(max_iter=1000, tol=1e-3)\n",
    "y_train=np.ravel(y_train)\n",
    "clf.fit(X_train, y_train)\n",
    "rms = mean_squared_error(y_test, clf.predict(X_test))\n",
    "prediction = clf.predict(X_test)\n",
    "print('SGDRegressor Score: '+ str(clf.score(X_test,y_test)))\n",
    "print('SGDRegressor RMS: '+str(np.sqrt(rms)))"
   ]
  },
  {
   "cell_type": "code",
   "execution_count": 114,
   "metadata": {
    "scrolled": false
   },
   "outputs": [
    {
     "name": "stdout",
     "output_type": "stream",
     "text": [
      "Random Forest RMS: 0.07085704241651948\n"
     ]
    }
   ],
   "source": [
    "################# RANDOM FOREST REGRESSOR ################# \n",
    "#https://github.com/NathanEpstein/pydata-london\n",
    "model = RandomForestRegressor()\n",
    "model = model.fit(X_train, y_train)\n",
    "#rms = mean_squared_error(X_test, model.predict(X_test))\n",
    "##BEST\n",
    "prediction = model.predict(X_test)\n",
    "#print('Random Forest score: '+str(model.score(y_test,prediction))) ???\n",
    "print('Random Forest RMS: '+str(rms))"
   ]
  },
  {
   "cell_type": "code",
   "execution_count": 115,
   "metadata": {
    "scrolled": true
   },
   "outputs": [
    {
     "data": {
      "text/plain": [
       "[('CompanySize_n', 0.1939464483310938),\n",
       " ('YearsCoding_n', 0.20907393899085797),\n",
       " ('HoursOutside_n', 0.11546172987555772),\n",
       " ('Exercise_n', 0.11301537316969079),\n",
       " ('AIFuture_n', 0.03390433244572376),\n",
       " ('WakeTime_n', 0.16927533703324005),\n",
       " ('Hobby_Yes', 0.03209494822133978),\n",
       " ('OpenSource_Yes', 0.00772109820751714),\n",
       " ('EthicalImplications_n', 0.018798244502917696),\n",
       " ('EthicsReport_n', 0.10670854922206126)]"
      ]
     },
     "execution_count": 115,
     "metadata": {},
     "output_type": "execute_result"
    }
   ],
   "source": [
    "####### RANDOM FOREST REGRESSOR important features #########\n",
    "importances = model.feature_importances_\n",
    "X_columns = df_total.iloc[:,:-1].columns\n",
    "list(zip(X_columns, model.feature_importances_))"
   ]
  },
  {
   "cell_type": "code",
   "execution_count": 116,
   "metadata": {
    "scrolled": true
   },
   "outputs": [
    {
     "name": "stdout",
     "output_type": "stream",
     "text": [
      "Random Forest model score is: 0.27285728879354376\n"
     ]
    }
   ],
   "source": [
    "################# RANDOM FOREST CLASSIFIER #################  \n",
    "y0_job =df[['CareerSatisfaction_n']]\n",
    "y0_job=np.ravel(y0_job)\n",
    "#change number of trees?\n",
    "X_train, X_test, y_train, y_test = train_test_split(X0,y0_job,test_size=0.2,random_state=42)\n",
    "model = RandomForestClassifier()\n",
    "model = model.fit(X_train, y_train)\n",
    "prediction = model.predict(X_test)\n",
    "print('Random Forest model score is: '+str(model.score(X_test,y_test))) #???\n",
    "#print('Random Forest model RMS is: '+str(model.score(X_test,y_test)))"
   ]
  },
  {
   "cell_type": "code",
   "execution_count": 117,
   "metadata": {
    "scrolled": true
   },
   "outputs": [
    {
     "data": {
      "text/plain": [
       "array([0.19253837, 0.21143279, 0.12025335, 0.09031193, 0.04106395,\n",
       "       0.207268  , 0.02412139, 0.00595155, 0.0174315 , 0.08962717])"
      ]
     },
     "execution_count": 117,
     "metadata": {},
     "output_type": "execute_result"
    }
   ],
   "source": [
    "importances = model.feature_importances_\n",
    "importances"
   ]
  },
  {
   "cell_type": "code",
   "execution_count": 118,
   "metadata": {
    "scrolled": true
   },
   "outputs": [
    {
     "name": "stdout",
     "output_type": "stream",
     "text": [
      "Ridge regression model score is: 0.009236334955706083\n"
     ]
    }
   ],
   "source": [
    "################ Ridge #################\n",
    "reg = linear_model.RidgeCV(alphas=np.logspace(-6, 6, 13))\n",
    "reg.fit(X_train, y_train)\n",
    "reg.alpha_ #gives value of 10\n",
    "score = reg.score(X_test, y_test) #suspicious of scores??\n",
    "#Maybe bad model\n",
    "print('Ridge regression model score is: '+str(score)) #R^2"
   ]
  },
  {
   "cell_type": "code",
   "execution_count": 119,
   "metadata": {
    "scrolled": true
   },
   "outputs": [
    {
     "data": {
      "text/plain": [
       "0.28378792522218815"
      ]
     },
     "execution_count": 119,
     "metadata": {},
     "output_type": "execute_result"
    }
   ],
   "source": [
    "############################### KNN model #######################################\n",
    "#y0_job =conc1[['JobSatisfaction']]\n",
    "#y0_job=np.ravel(y0_job)\n",
    "X_train, X_test, y_train, y_test = train_test_split(X0,y0_job,test_size=0.2,random_state=42)\n",
    "knn = KNeighborsClassifier(n_neighbors=6)\n",
    "knn.fit(X_train, y_train)\n",
    "prediction = knn.predict(X_test)\n",
    "#Tune neighbors\n",
    "#print(prediction[0:10]) #y_test.head(10)\n",
    "#print('KNN score: '+str(knn.score(y_test, prediction)))???\n",
    "#rms = mean_squared_error(X_test,y_test)\n",
    "#print('KNN RMS: '+str(np.sqrt(rms)))\n",
    "knn.score(X_test,y_test)"
   ]
  },
  {
   "cell_type": "code",
   "execution_count": 120,
   "metadata": {},
   "outputs": [
    {
     "data": {
      "text/html": [
       "<div>\n",
       "<style scoped>\n",
       "    .dataframe tbody tr th:only-of-type {\n",
       "        vertical-align: middle;\n",
       "    }\n",
       "\n",
       "    .dataframe tbody tr th {\n",
       "        vertical-align: top;\n",
       "    }\n",
       "\n",
       "    .dataframe thead th {\n",
       "        text-align: right;\n",
       "    }\n",
       "</style>\n",
       "<table border=\"1\" class=\"dataframe\">\n",
       "  <thead>\n",
       "    <tr style=\"text-align: right;\">\n",
       "      <th></th>\n",
       "      <th>0</th>\n",
       "      <th>1</th>\n",
       "      <th>2</th>\n",
       "      <th>3</th>\n",
       "      <th>4</th>\n",
       "      <th>5</th>\n",
       "      <th>6</th>\n",
       "      <th>7</th>\n",
       "      <th>8</th>\n",
       "      <th>9</th>\n",
       "      <th>...</th>\n",
       "      <th>9779</th>\n",
       "      <th>9780</th>\n",
       "      <th>9781</th>\n",
       "      <th>9782</th>\n",
       "      <th>9783</th>\n",
       "      <th>9784</th>\n",
       "      <th>9785</th>\n",
       "      <th>9786</th>\n",
       "      <th>9787</th>\n",
       "      <th>9788</th>\n",
       "    </tr>\n",
       "  </thead>\n",
       "  <tbody>\n",
       "    <tr>\n",
       "      <td>0</td>\n",
       "      <td>2.000000</td>\n",
       "      <td>3.000000</td>\n",
       "      <td>2.000000</td>\n",
       "      <td>1.00000</td>\n",
       "      <td>3.000000</td>\n",
       "      <td>-2.000000</td>\n",
       "      <td>1.000000</td>\n",
       "      <td>3.000000</td>\n",
       "      <td>2.000000</td>\n",
       "      <td>3.000000</td>\n",
       "      <td>...</td>\n",
       "      <td>1.000000</td>\n",
       "      <td>3.000000</td>\n",
       "      <td>1.000000</td>\n",
       "      <td>2.000000</td>\n",
       "      <td>1.000000</td>\n",
       "      <td>2.000000</td>\n",
       "      <td>3.000000</td>\n",
       "      <td>0.000000</td>\n",
       "      <td>3.00000</td>\n",
       "      <td>2.000000</td>\n",
       "    </tr>\n",
       "    <tr>\n",
       "      <td>1</td>\n",
       "      <td>1.372552</td>\n",
       "      <td>1.432366</td>\n",
       "      <td>1.221441</td>\n",
       "      <td>1.33277</td>\n",
       "      <td>1.361773</td>\n",
       "      <td>1.253241</td>\n",
       "      <td>1.328182</td>\n",
       "      <td>1.186954</td>\n",
       "      <td>1.088747</td>\n",
       "      <td>1.389502</td>\n",
       "      <td>...</td>\n",
       "      <td>1.334579</td>\n",
       "      <td>1.259739</td>\n",
       "      <td>0.829014</td>\n",
       "      <td>1.219402</td>\n",
       "      <td>1.122866</td>\n",
       "      <td>1.419392</td>\n",
       "      <td>1.235171</td>\n",
       "      <td>1.165978</td>\n",
       "      <td>0.66166</td>\n",
       "      <td>1.325995</td>\n",
       "    </tr>\n",
       "  </tbody>\n",
       "</table>\n",
       "<p>2 rows × 9789 columns</p>\n",
       "</div>"
      ],
      "text/plain": [
       "       0         1         2        3         4         5         6     \\\n",
       "0  2.000000  3.000000  2.000000  1.00000  3.000000 -2.000000  1.000000   \n",
       "1  1.372552  1.432366  1.221441  1.33277  1.361773  1.253241  1.328182   \n",
       "\n",
       "       7         8         9     ...      9779      9780      9781      9782  \\\n",
       "0  3.000000  2.000000  3.000000  ...  1.000000  3.000000  1.000000  2.000000   \n",
       "1  1.186954  1.088747  1.389502  ...  1.334579  1.259739  0.829014  1.219402   \n",
       "\n",
       "       9783      9784      9785      9786     9787      9788  \n",
       "0  1.000000  2.000000  3.000000  0.000000  3.00000  2.000000  \n",
       "1  1.122866  1.419392  1.235171  1.165978  0.66166  1.325995  \n",
       "\n",
       "[2 rows x 9789 columns]"
      ]
     },
     "execution_count": 120,
     "metadata": {},
     "output_type": "execute_result"
    }
   ],
   "source": [
    "pd.DataFrame([y_test, reg.predict(X_test)])"
   ]
  },
  {
   "cell_type": "code",
   "execution_count": 121,
   "metadata": {
    "scrolled": true
   },
   "outputs": [
    {
     "name": "stdout",
     "output_type": "stream",
     "text": [
      "Lasso score: -2.4150082166940482e-05\n",
      "RMS: 0.26718748944312815\n"
     ]
    }
   ],
   "source": [
    "################ Lasso #################\n",
    "X_train, X_test, y_train, y_test = train_test_split(X0,y0,test_size=0.2,random_state=42)\n",
    "lasso = Lasso(alpha=0.1, normalize=True)\n",
    "lasso.fit(X_train, y_train)\n",
    "lasso_pred = lasso.predict(X_test)\n",
    "print('Lasso score: '+str(lasso.score(X_test, y_test))) #R^2\n",
    "rms = mean_squared_error(y_test, lasso.predict(X_test))\n",
    "print('RMS: '+str(np.sqrt(rms))) #not much rms difference b/w this and linear regression\n",
    "#-ve but really close to 0 means good https://scikit-learn.org/stable/modules/generated/sklearn.linear_model.Lasso.html\n",
    "#########Look up lasso plot file:///Users/alphajaiswal/Google%20Drive/1Courses/4%20Springboard/DataCamp/Supervised%20Learning/chapter2.pdf\n",
    "#lasso.score(X_test,y_test)"
   ]
  },
  {
   "cell_type": "code",
   "execution_count": 122,
   "metadata": {
    "scrolled": true
   },
   "outputs": [
    {
     "name": "stdout",
     "output_type": "stream",
     "text": [
      "Linear Regression RMS: 0.2668955976748441\n",
      "Linear Regression accuracy: 1.0\n"
     ]
    }
   ],
   "source": [
    "#Linear Regression with DevType added\n",
    "#X0_dev =pd.concat([X0,dev_type_num],axis=1)# X0.join(dev_type_num)#\n",
    "#X0_dev.fillna(0)\n",
    "X_train, X_test, y_train, y_test = train_test_split(dev_type_num,y0,test_size=0.2,random_state=42)\n",
    "################# LINEAR REGRESSION with DevType#################\n",
    "reg = LinearRegression().fit(X_train, y_train)\n",
    "accuracy = reg.score(X_train, reg.predict(X_train))\n",
    "#print(accuracy*100,'%')\n",
    "#conc1['AIFuture'].unique()\n",
    "rms = mean_squared_error(y_test, reg.predict(X_test))\n",
    "print('Linear Regression RMS: '+str(np.sqrt(rms)))\n",
    "print('Linear Regression accuracy: '+str(accuracy))"
   ]
  },
  {
   "cell_type": "code",
   "execution_count": 123,
   "metadata": {},
   "outputs": [],
   "source": [
    "#*** gradient boosting regressor\n",
    "#*** cross validate training data"
   ]
  },
  {
   "cell_type": "code",
   "execution_count": 124,
   "metadata": {},
   "outputs": [],
   "source": [
    "#iterate through the dataframe with devtypes row of the riginal DF\n",
    "'''conc2 = conc1['DevType'].str.split(';')\n",
    "conc2.rename('NewDevType',inplace=True)\n",
    "conc3=pd.concat([conc1,conc2],axis=1)\n",
    "conc3=conc3.drop('DevType',axis=1)\n",
    "conc3\n",
    "conc4=conc3[['EducationTypes','NewDevType']] \n",
    "############### Only Devtype dummified ############### dev_type_num\n",
    "dev_type_num=pd.DataFrame(mlb.fit_transform(conc4['NewDevType']),columns=mlb.classes_, index=conc4.index)#.head()\n",
    "conc6=conc3.drop('NewDevType',axis=1) ############### it has all columns except dev type ################\n",
    "dev_type_num.head()\n",
    "trialdf = pd.concat([conc6[['CareerSatisf','Yrs_num']],dev_type_num],axis=1)\n",
    "########### NORMALIZE ##############\n",
    "val = trialdf.values #returns a numpy array\n",
    "min_max_scaler = preprocessing.MinMaxScaler()\n",
    "x_scaled = min_max_scaler.fit_transform(val)\n",
    "trialdf_norm = pd.DataFrame(x_scaled)\n",
    "X = trialdf_norm.iloc[:,1:]\n",
    "y = trialdf_norm.iloc[:,0:1]\n",
    "X_train, X_test, y_train, y_test = train_test_split(X,y,test_size=0.2,random_state=42)\n",
    "reg = LinearRegression().fit(X, y)\n",
    "reg.score(X, y)\n",
    "accuracy = reg.score(X_test,y_test)\n",
    "rms = mean_squared_error(y_test, reg.predict(X_test))\n",
    "np.sqrt(rms)''';"
   ]
  }
 ],
 "metadata": {
  "kernelspec": {
   "display_name": "Python 3",
   "language": "python",
   "name": "python3"
  },
  "language_info": {
   "codemirror_mode": {
    "name": "ipython",
    "version": 3
   },
   "file_extension": ".py",
   "mimetype": "text/x-python",
   "name": "python",
   "nbconvert_exporter": "python",
   "pygments_lexer": "ipython3",
   "version": "3.7.4"
  }
 },
 "nbformat": 4,
 "nbformat_minor": 2
}
